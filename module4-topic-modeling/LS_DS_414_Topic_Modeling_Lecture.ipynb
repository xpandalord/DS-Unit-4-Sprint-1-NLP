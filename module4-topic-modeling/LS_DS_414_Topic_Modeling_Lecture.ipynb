{
 "cells": [
  {
   "cell_type": "markdown",
   "metadata": {},
   "source": [
    "Lambda School Data Science\n",
    "\n",
    "*Unit 4, Sprint 1, Module 4*\n",
    "\n",
    "---"
   ]
  },
  {
   "cell_type": "markdown",
   "metadata": {},
   "source": [
    "# Topic Modeling (Prepare)\n",
    "\n",
    "On Monday we talked about summarizing your documents using just token counts. Today, we're going to learn about a much more sophisticated approach - learning 'topics' from documents. Topics are a latent structure. They are not directly observable in the data, but we know they're there by reading them.\n",
    "\n",
    "> **latent**: existing but not yet developed or manifest; hidden or concealed.\n",
    "\n",
    "## Use Cases\n",
    "Primary use case: what the hell are your documents about? Who might want to know that in industry - \n",
    "* Identifying common themes in customer reviews\n",
    "* Discovering the needle in a haystack \n",
    "* Monitoring communications (Email - State Department) \n",
    "\n",
    "## Learning Objectives\n",
    "*At the end of the lesson you should be able to:*\n",
    "* <a href=\"#p1\">Part 1</a>: Describe how an LDA Model works\n",
    "* <a href=\"#p2\">Part 2</a>: Estimate a LDA Model with Gensim\n",
    "* <a href=\"#p3\">Part 3</a>: Interpret LDA results\n",
    "* <a href=\"#p4\">Part 4</a>: Select the appropriate number of topics\n"
   ]
  },
  {
   "cell_type": "markdown",
   "metadata": {},
   "source": [
    "# Latent Dirchilet Allocation Models (Learn)\n",
    "<a id=\"#p1\"></a>"
   ]
  },
  {
   "cell_type": "markdown",
   "metadata": {},
   "source": [
    "## Overview\n",
    "LDA is a \"generative probabilistic model\". \n",
    "\n",
    "Let's play with a model available [here](https://lettier.com/projects/lda-topic-modeling/)"
   ]
  },
  {
   "cell_type": "markdown",
   "metadata": {},
   "source": [
    "## Follow Along"
   ]
  },
  {
   "cell_type": "markdown",
   "metadata": {},
   "source": [
    "## Challenge "
   ]
  },
  {
   "cell_type": "markdown",
   "metadata": {},
   "source": [
    "# Estimating LDA Models with Gensim (Learn)\n",
    "<a id=\"#p1\"></a>"
   ]
  },
  {
   "cell_type": "markdown",
   "metadata": {
    "toc-hr-collapsed": true
   },
   "source": [
    "## Overview\n",
    "### A Literary Introduction: *Jane Austen V. Charlotte Bronte*\n",
    "Despite being born nearly forty years apart, modern fans often pit Jane Austen & Charlotte Bronte against one another in a battle for literary  supremacy. The battle centers around the topics of education for women, courting, and marriage. The authors' similar backgrounds naturally draw comparisons, but the modern fascination is probably due to novelty of British women publishing novels during the early 19th century. \n",
    "\n",
    "Can we help close a literary battle for supremacy and simply acknowledge that the authors addressed different topics and deserve to be acknowledged as excellent authors each in their own right?\n",
    "\n",
    "We're going to apply Latent Dirichlet Allocation a machine learning algorithm for topic modeling to each of the author's novels to compare the distribution of topics in their novels."
   ]
  },
  {
   "cell_type": "code",
   "execution_count": 1,
   "metadata": {},
   "outputs": [],
   "source": [
    "import numpy as np\n",
    "import gensim\n",
    "import os\n",
    "import re\n",
    "\n",
    "from gensim.utils import simple_preprocess\n",
    "from gensim.parsing.preprocessing import STOPWORDS\n",
    "from gensim import corpora\n",
    "\n",
    "from gensim.models.ldamulticore import LdaMulticore\n",
    "\n",
    "import pandas as pd"
   ]
  },
  {
   "cell_type": "code",
   "execution_count": 2,
   "metadata": {},
   "outputs": [
    {
     "data": {
      "text/plain": [
       "'3.8.1'"
      ]
     },
     "execution_count": 2,
     "metadata": {},
     "output_type": "execute_result"
    }
   ],
   "source": [
    "gensim.__version__"
   ]
  },
  {
   "cell_type": "markdown",
   "metadata": {},
   "source": [
    "### Novel Data\n",
    "I grabbed the novel data pre-split into a bunch of smaller chunks"
   ]
  },
  {
   "cell_type": "code",
   "execution_count": 6,
   "metadata": {},
   "outputs": [],
   "source": [
    "path = './data/austen-brontë-split'"
   ]
  },
  {
   "cell_type": "markdown",
   "metadata": {},
   "source": [
    "### Text Preprocessing\n",
    "**Activity**: update the function `tokenize` with any technique you have learned so far this week. "
   ]
  },
  {
   "cell_type": "code",
   "execution_count": 12,
   "metadata": {},
   "outputs": [],
   "source": [
    "# 1) Plain Python - ''.split command\n",
    "# 2) Spacy - just the lemmas from the document\n",
    "# 3) Gensim - simple_preprocess\n",
    "\n",
    "STOPWORDS = set(STOPWORDS).union(set(['said', 'mr', 'mrs']))\n",
    "\n",
    "def tokenize(text):\n",
    "    return [token for token in simple_preprocess(text) if token not in STOPWORDS]"
   ]
  },
  {
   "cell_type": "code",
   "execution_count": 13,
   "metadata": {},
   "outputs": [],
   "source": [
    "import os\n",
    "\n",
    "def gather_data(path_to_data): \n",
    "    data = []\n",
    "    for f in os.listdir(path):\n",
    "        if os.path.isdir(f) == False:\n",
    "            if f[-3:] == 'txt':\n",
    "                with open(os.path.join(path,f)) as t:\n",
    "                    text = t.read().strip('\\n')\n",
    "                    data.append(tokenize(str(text)))       \n",
    "    return data"
   ]
  },
  {
   "cell_type": "code",
   "execution_count": 14,
   "metadata": {},
   "outputs": [],
   "source": [
    "tokens = gather_data(path)"
   ]
  },
  {
   "cell_type": "code",
   "execution_count": 15,
   "metadata": {},
   "outputs": [
    {
     "data": {
      "text/plain": [
       "['giving',\n",
       " 'fair',\n",
       " 'companion',\n",
       " 'account',\n",
       " 'yesterday',\n",
       " 'party',\n",
       " 'friend',\n",
       " 'cole',\n",
       " 'come',\n",
       " 'stilton']"
      ]
     },
     "execution_count": 15,
     "metadata": {},
     "output_type": "execute_result"
    }
   ],
   "source": [
    "tokens[0][0:10]"
   ]
  },
  {
   "cell_type": "code",
   "execution_count": 16,
   "metadata": {},
   "outputs": [
    {
     "data": {
      "text/plain": [
       "'this is a sample string with a  newline character'"
      ]
     },
     "execution_count": 16,
     "metadata": {},
     "output_type": "execute_result"
    }
   ],
   "source": [
    "\"this is a sample string with a \\n newline character\".replace('\\n', '')"
   ]
  },
  {
   "cell_type": "markdown",
   "metadata": {
    "toc-hr-collapsed": true
   },
   "source": [
    "## Follow Along"
   ]
  },
  {
   "cell_type": "code",
   "execution_count": 17,
   "metadata": {},
   "outputs": [],
   "source": [
    "titles = [t[:-4] for t in os.listdir(path) if os.path.isdir(t) == False]"
   ]
  },
  {
   "cell_type": "code",
   "execution_count": 18,
   "metadata": {},
   "outputs": [
    {
     "data": {
      "text/plain": [
       "813"
      ]
     },
     "execution_count": 18,
     "metadata": {},
     "output_type": "execute_result"
    }
   ],
   "source": [
    "len(titles)"
   ]
  },
  {
   "cell_type": "code",
   "execution_count": 20,
   "metadata": {},
   "outputs": [
    {
     "data": {
      "text/plain": [
       "813"
      ]
     },
     "execution_count": 20,
     "metadata": {},
     "output_type": "execute_result"
    }
   ],
   "source": [
    "len(tokens)"
   ]
  },
  {
   "cell_type": "markdown",
   "metadata": {},
   "source": [
    "### Author DataFrame\n"
   ]
  },
  {
   "cell_type": "code",
   "execution_count": 21,
   "metadata": {},
   "outputs": [],
   "source": [
    "df = pd.DataFrame(index=titles, data={'tokens':tokens})"
   ]
  },
  {
   "cell_type": "code",
   "execution_count": 22,
   "metadata": {},
   "outputs": [
    {
     "data": {
      "text/html": [
       "<div>\n",
       "<style scoped>\n",
       "    .dataframe tbody tr th:only-of-type {\n",
       "        vertical-align: middle;\n",
       "    }\n",
       "\n",
       "    .dataframe tbody tr th {\n",
       "        vertical-align: top;\n",
       "    }\n",
       "\n",
       "    .dataframe thead th {\n",
       "        text-align: right;\n",
       "    }\n",
       "</style>\n",
       "<table border=\"1\" class=\"dataframe\">\n",
       "  <thead>\n",
       "    <tr style=\"text-align: right;\">\n",
       "      <th></th>\n",
       "      <th>tokens</th>\n",
       "    </tr>\n",
       "  </thead>\n",
       "  <tbody>\n",
       "    <tr>\n",
       "      <th>Austen_Emma0026</th>\n",
       "      <td>[giving, fair, companion, account, yesterday, ...</td>\n",
       "    </tr>\n",
       "    <tr>\n",
       "      <th>Austen_Emma0032</th>\n",
       "      <td>[feels, like, snow, place, party, try, day, di...</td>\n",
       "    </tr>\n",
       "    <tr>\n",
       "      <th>CBronte_Villette0086</th>\n",
       "      <td>[pierced, opaque, blackness, stood, bougie, qu...</td>\n",
       "    </tr>\n",
       "    <tr>\n",
       "      <th>CBronte_Jane0099</th>\n",
       "      <td>[joke, queer, looks, tell, thing, specially, s...</td>\n",
       "    </tr>\n",
       "    <tr>\n",
       "      <th>CBronte_Villette0092</th>\n",
       "      <td>[second, landing, floor, comprising, abode, kn...</td>\n",
       "    </tr>\n",
       "  </tbody>\n",
       "</table>\n",
       "</div>"
      ],
      "text/plain": [
       "                                                                 tokens\n",
       "Austen_Emma0026       [giving, fair, companion, account, yesterday, ...\n",
       "Austen_Emma0032       [feels, like, snow, place, party, try, day, di...\n",
       "CBronte_Villette0086  [pierced, opaque, blackness, stood, bougie, qu...\n",
       "CBronte_Jane0099      [joke, queer, looks, tell, thing, specially, s...\n",
       "CBronte_Villette0092  [second, landing, floor, comprising, abode, kn..."
      ]
     },
     "execution_count": 22,
     "metadata": {},
     "output_type": "execute_result"
    }
   ],
   "source": [
    "df.head()"
   ]
  },
  {
   "cell_type": "code",
   "execution_count": 23,
   "metadata": {},
   "outputs": [],
   "source": [
    "df['author'] = df.reset_index()['index'].apply(lambda x: x.split('_')[0]).tolist()\n",
    "df['book'] = df.reset_index()['index'].apply(lambda x: x.split('_')[1][:-4]).tolist()\n",
    "df['section'] = df.reset_index()['index'].apply(lambda x: x[-4:]).tolist()\n",
    "df['section'] = df['section'].astype('int')"
   ]
  },
  {
   "cell_type": "code",
   "execution_count": 24,
   "metadata": {},
   "outputs": [],
   "source": [
    "df['author'] = df['author'].map({'Austen':1, 'CBronte':0})"
   ]
  },
  {
   "cell_type": "code",
   "execution_count": 25,
   "metadata": {},
   "outputs": [
    {
     "data": {
      "text/plain": [
       "0    441\n",
       "1    372\n",
       "Name: author, dtype: int64"
      ]
     },
     "execution_count": 25,
     "metadata": {},
     "output_type": "execute_result"
    }
   ],
   "source": [
    "df.author.value_counts()"
   ]
  },
  {
   "cell_type": "code",
   "execution_count": 26,
   "metadata": {},
   "outputs": [
    {
     "data": {
      "text/html": [
       "<div>\n",
       "<style scoped>\n",
       "    .dataframe tbody tr th:only-of-type {\n",
       "        vertical-align: middle;\n",
       "    }\n",
       "\n",
       "    .dataframe tbody tr th {\n",
       "        vertical-align: top;\n",
       "    }\n",
       "\n",
       "    .dataframe thead th {\n",
       "        text-align: right;\n",
       "    }\n",
       "</style>\n",
       "<table border=\"1\" class=\"dataframe\">\n",
       "  <thead>\n",
       "    <tr style=\"text-align: right;\">\n",
       "      <th></th>\n",
       "      <th>tokens</th>\n",
       "      <th>author</th>\n",
       "      <th>book</th>\n",
       "      <th>section</th>\n",
       "    </tr>\n",
       "  </thead>\n",
       "  <tbody>\n",
       "    <tr>\n",
       "      <th>Austen_Emma0026</th>\n",
       "      <td>[giving, fair, companion, account, yesterday, ...</td>\n",
       "      <td>1</td>\n",
       "      <td>Emma</td>\n",
       "      <td>26</td>\n",
       "    </tr>\n",
       "    <tr>\n",
       "      <th>Austen_Emma0032</th>\n",
       "      <td>[feels, like, snow, place, party, try, day, di...</td>\n",
       "      <td>1</td>\n",
       "      <td>Emma</td>\n",
       "      <td>32</td>\n",
       "    </tr>\n",
       "    <tr>\n",
       "      <th>CBronte_Villette0086</th>\n",
       "      <td>[pierced, opaque, blackness, stood, bougie, qu...</td>\n",
       "      <td>0</td>\n",
       "      <td>Villette</td>\n",
       "      <td>86</td>\n",
       "    </tr>\n",
       "    <tr>\n",
       "      <th>CBronte_Jane0099</th>\n",
       "      <td>[joke, queer, looks, tell, thing, specially, s...</td>\n",
       "      <td>0</td>\n",
       "      <td>Jane</td>\n",
       "      <td>99</td>\n",
       "    </tr>\n",
       "    <tr>\n",
       "      <th>CBronte_Villette0092</th>\n",
       "      <td>[second, landing, floor, comprising, abode, kn...</td>\n",
       "      <td>0</td>\n",
       "      <td>Villette</td>\n",
       "      <td>92</td>\n",
       "    </tr>\n",
       "  </tbody>\n",
       "</table>\n",
       "</div>"
      ],
      "text/plain": [
       "                                                                 tokens  \\\n",
       "Austen_Emma0026       [giving, fair, companion, account, yesterday, ...   \n",
       "Austen_Emma0032       [feels, like, snow, place, party, try, day, di...   \n",
       "CBronte_Villette0086  [pierced, opaque, blackness, stood, bougie, qu...   \n",
       "CBronte_Jane0099      [joke, queer, looks, tell, thing, specially, s...   \n",
       "CBronte_Villette0092  [second, landing, floor, comprising, abode, kn...   \n",
       "\n",
       "                      author      book  section  \n",
       "Austen_Emma0026            1      Emma       26  \n",
       "Austen_Emma0032            1      Emma       32  \n",
       "CBronte_Villette0086       0  Villette       86  \n",
       "CBronte_Jane0099           0      Jane       99  \n",
       "CBronte_Villette0092       0  Villette       92  "
      ]
     },
     "execution_count": 26,
     "metadata": {},
     "output_type": "execute_result"
    }
   ],
   "source": [
    "df.head()"
   ]
  },
  {
   "cell_type": "markdown",
   "metadata": {},
   "source": [
    "### Streaming Documents\n",
    "Here we use a new pythonic thingy: the `yield` statement in our function. This allows us to iterate over a bunch of documents without actually reading them into memory. You can see how we use this function later on. "
   ]
  },
  {
   "cell_type": "code",
   "execution_count": 27,
   "metadata": {},
   "outputs": [],
   "source": [
    "def doc_stream(path):\n",
    "    for f in os.listdir(path):\n",
    "        if os.path.isdir(f) == False:\n",
    "            if f[-3:] == 'txt':\n",
    "                with open(os.path.join(path,f)) as t:\n",
    "                    text = t.read().strip('\\n')\n",
    "                    tokens = tokenize(text)\n",
    "                yield tokens"
   ]
  },
  {
   "cell_type": "code",
   "execution_count": 28,
   "metadata": {},
   "outputs": [],
   "source": [
    "streaming_data = doc_stream(path)"
   ]
  },
  {
   "cell_type": "code",
   "execution_count": 29,
   "metadata": {},
   "outputs": [
    {
     "data": {
      "text/plain": [
       "generator"
      ]
     },
     "execution_count": 29,
     "metadata": {},
     "output_type": "execute_result"
    }
   ],
   "source": [
    "type(streaming_data)"
   ]
  },
  {
   "cell_type": "code",
   "execution_count": null,
   "metadata": {},
   "outputs": [],
   "source": [
    "# gather_data => returns a list\n",
    "# doc_stream => returns a generator"
   ]
  },
  {
   "cell_type": "code",
   "execution_count": 30,
   "metadata": {},
   "outputs": [
    {
     "data": {
      "text/plain": [
       "['giving',\n",
       " 'fair',\n",
       " 'companion',\n",
       " 'account',\n",
       " 'yesterday',\n",
       " 'party',\n",
       " 'friend',\n",
       " 'cole',\n",
       " 'come',\n",
       " 'stilton',\n",
       " 'cheese',\n",
       " 'north',\n",
       " 'wiltshire',\n",
       " 'butter',\n",
       " 'cellery',\n",
       " 'beet',\n",
       " 'root',\n",
       " 'dessert',\n",
       " 'soon',\n",
       " 'led',\n",
       " 'better',\n",
       " 'course',\n",
       " 'consoling',\n",
       " 'reflection',\n",
       " 'thing',\n",
       " 'interests',\n",
       " 'love',\n",
       " 'thing',\n",
       " 'serve',\n",
       " 'introduction',\n",
       " 'near',\n",
       " 'heart',\n",
       " 'kept',\n",
       " 'longer',\n",
       " 'away',\n",
       " 'walked',\n",
       " 'quietly',\n",
       " 'till',\n",
       " 'view',\n",
       " 'vicarage',\n",
       " 'pales',\n",
       " 'sudden',\n",
       " 'resolution',\n",
       " 'getting',\n",
       " 'harriet',\n",
       " 'house',\n",
       " 'amiss',\n",
       " 'boot',\n",
       " 'fall',\n",
       " 'arrange',\n",
       " 'broke',\n",
       " 'lace',\n",
       " 'short',\n",
       " 'dexterously',\n",
       " 'throwing',\n",
       " 'ditch',\n",
       " 'presently',\n",
       " 'obliged',\n",
       " 'entreat',\n",
       " 'stop',\n",
       " 'acknowledged',\n",
       " 'inability',\n",
       " 'rights',\n",
       " 'able',\n",
       " 'walk',\n",
       " 'home',\n",
       " 'tolerable',\n",
       " 'comfort',\n",
       " 'lace',\n",
       " 'gone',\n",
       " 'know',\n",
       " 'contrive',\n",
       " 'troublesome',\n",
       " 'companion',\n",
       " 'hope',\n",
       " 'ill',\n",
       " 'equipped',\n",
       " 'elton',\n",
       " 'beg',\n",
       " 'leave',\n",
       " 'stop',\n",
       " 'house',\n",
       " 'ask',\n",
       " 'housekeeper',\n",
       " 'bit',\n",
       " 'ribband',\n",
       " 'string',\n",
       " 'thing',\n",
       " 'boot',\n",
       " 'elton',\n",
       " 'looked',\n",
       " 'happiness',\n",
       " 'proposition',\n",
       " 'exceed',\n",
       " 'alertness',\n",
       " 'attention',\n",
       " 'conducting',\n",
       " 'house',\n",
       " 'endeavouring',\n",
       " 'thing',\n",
       " 'appear',\n",
       " 'advantage',\n",
       " 'room',\n",
       " 'taken',\n",
       " 'chiefly',\n",
       " 'occupied',\n",
       " 'looking',\n",
       " 'forwards',\n",
       " 'immediately',\n",
       " 'communicated',\n",
       " 'door',\n",
       " 'open',\n",
       " 'emma',\n",
       " 'passed',\n",
       " 'housekeeper',\n",
       " 'receive',\n",
       " 'assistance',\n",
       " 'comfortable',\n",
       " 'manner',\n",
       " 'obliged',\n",
       " 'leave',\n",
       " 'door',\n",
       " 'ajar',\n",
       " 'fully',\n",
       " 'intended',\n",
       " 'elton',\n",
       " 'close',\n",
       " 'closed',\n",
       " 'remained',\n",
       " 'ajar',\n",
       " 'engaging',\n",
       " 'housekeeper',\n",
       " 'incessant',\n",
       " 'conversation',\n",
       " 'hoped',\n",
       " 'practicable',\n",
       " 'chuse',\n",
       " 'subject',\n",
       " 'adjoining',\n",
       " 'room',\n",
       " 'minutes',\n",
       " 'hear',\n",
       " 'protracted',\n",
       " 'longer',\n",
       " 'obliged',\n",
       " 'finished',\n",
       " 'appearance',\n",
       " 'lovers',\n",
       " 'standing',\n",
       " 'windows',\n",
       " 'favourable',\n",
       " 'aspect',\n",
       " 'half',\n",
       " 'minute',\n",
       " 'emma',\n",
       " 'felt',\n",
       " 'glory',\n",
       " 'having',\n",
       " 'schemed',\n",
       " 'successfully',\n",
       " 'come',\n",
       " 'point',\n",
       " 'agreeable',\n",
       " 'delightful',\n",
       " 'told',\n",
       " 'harriet',\n",
       " 'seen',\n",
       " 'purposely',\n",
       " 'followed',\n",
       " 'little',\n",
       " 'gallantries',\n",
       " 'allusions',\n",
       " 'dropt',\n",
       " 'cautious',\n",
       " 'cautious',\n",
       " 'thought',\n",
       " 'emma',\n",
       " 'advances',\n",
       " 'inch',\n",
       " 'inch',\n",
       " 'hazard',\n",
       " 'till',\n",
       " 'believes',\n",
       " 'secure',\n",
       " 'thing',\n",
       " 'accomplished',\n",
       " 'ingenious',\n",
       " 'device',\n",
       " 'flatter',\n",
       " 'occasion',\n",
       " 'present',\n",
       " 'enjoyment',\n",
       " 'leading',\n",
       " 'forward',\n",
       " 'great',\n",
       " 'event',\n",
       " 'chapter',\n",
       " 'xi',\n",
       " 'elton',\n",
       " 'left',\n",
       " 'longer',\n",
       " 'emma',\n",
       " 'power',\n",
       " 'superintend',\n",
       " 'happiness',\n",
       " 'quicken',\n",
       " 'measures',\n",
       " 'coming',\n",
       " 'sister',\n",
       " 'family',\n",
       " 'near',\n",
       " 'hand',\n",
       " 'anticipation',\n",
       " 'reality',\n",
       " 'henceforth',\n",
       " 'prime',\n",
       " 'object',\n",
       " 'days',\n",
       " 'stay',\n",
       " 'hartfield',\n",
       " 'expected',\n",
       " 'expect',\n",
       " 'thing',\n",
       " 'occasional',\n",
       " 'fortuitous',\n",
       " 'assistance',\n",
       " 'afforded',\n",
       " 'lovers',\n",
       " 'advance',\n",
       " 'rapidly',\n",
       " 'advance',\n",
       " 'hardly',\n",
       " 'wished',\n",
       " 'leisure',\n",
       " 'people',\n",
       " 'john',\n",
       " 'knightley',\n",
       " 'having',\n",
       " 'longer',\n",
       " 'usual',\n",
       " 'absent',\n",
       " 'surry',\n",
       " 'exciting',\n",
       " 'course',\n",
       " 'usual',\n",
       " 'till',\n",
       " 'year',\n",
       " 'long',\n",
       " 'vacation',\n",
       " 'marriage',\n",
       " 'divided',\n",
       " 'hartfield',\n",
       " 'donwell',\n",
       " 'abbey',\n",
       " 'holidays',\n",
       " 'autumn',\n",
       " 'given',\n",
       " 'sea',\n",
       " 'bathing',\n",
       " 'children',\n",
       " 'months',\n",
       " 'seen',\n",
       " 'regular',\n",
       " 'way',\n",
       " 'surry',\n",
       " 'connexions',\n",
       " 'seen',\n",
       " 'woodhouse',\n",
       " 'induced',\n",
       " 'far',\n",
       " 'london',\n",
       " 'poor',\n",
       " 'isabella',\n",
       " 'sake',\n",
       " 'consequently',\n",
       " 'nervously',\n",
       " 'apprehensively',\n",
       " 'happy',\n",
       " 'forestalling',\n",
       " 'short',\n",
       " 'visit',\n",
       " 'thought',\n",
       " 'evils',\n",
       " 'journey',\n",
       " 'little',\n",
       " 'fatigues',\n",
       " 'horses',\n",
       " 'coachman',\n",
       " 'bring',\n",
       " 'party',\n",
       " 'half',\n",
       " 'way',\n",
       " 'alarms',\n",
       " 'needless',\n",
       " 'sixteen',\n",
       " 'miles',\n",
       " 'happily',\n",
       " 'accomplished',\n",
       " 'john',\n",
       " 'knightley',\n",
       " 'children',\n",
       " 'competent',\n",
       " 'number',\n",
       " 'nursery',\n",
       " 'maids',\n",
       " 'reaching',\n",
       " 'hartfield',\n",
       " 'safety',\n",
       " 'bustle',\n",
       " 'joy',\n",
       " 'arrival',\n",
       " 'talked',\n",
       " 'welcomed',\n",
       " 'encouraged',\n",
       " 'variously',\n",
       " 'dispersed',\n",
       " 'disposed',\n",
       " 'produced',\n",
       " 'noise',\n",
       " 'confusion',\n",
       " 'nerves',\n",
       " 'borne',\n",
       " 'cause',\n",
       " 'endured',\n",
       " 'longer',\n",
       " 'ways',\n",
       " 'hartfield',\n",
       " 'feelings',\n",
       " 'father',\n",
       " 'respected',\n",
       " 'john',\n",
       " 'knightley',\n",
       " 'spite',\n",
       " 'maternal',\n",
       " 'solicitude',\n",
       " 'immediate',\n",
       " 'enjoyment',\n",
       " 'little',\n",
       " 'ones',\n",
       " 'having',\n",
       " 'instantly',\n",
       " 'liberty',\n",
       " 'attendance',\n",
       " 'eating',\n",
       " 'drinking',\n",
       " 'sleeping',\n",
       " 'playing',\n",
       " 'possibly',\n",
       " 'wish',\n",
       " 'smallest',\n",
       " 'delay',\n",
       " 'children',\n",
       " 'allowed',\n",
       " 'long',\n",
       " 'disturbance',\n",
       " 'restless',\n",
       " 'attendance',\n",
       " 'john',\n",
       " 'knightley',\n",
       " 'pretty',\n",
       " 'elegant',\n",
       " 'little',\n",
       " 'woman',\n",
       " 'gentle',\n",
       " 'quiet',\n",
       " 'manners',\n",
       " 'disposition',\n",
       " 'remarkably',\n",
       " 'amiable',\n",
       " 'affectionate',\n",
       " 'wrapt',\n",
       " 'family',\n",
       " 'devoted',\n",
       " 'wife',\n",
       " 'doating',\n",
       " 'mother',\n",
       " 'tenderly',\n",
       " 'attached',\n",
       " 'father',\n",
       " 'sister',\n",
       " 'higher',\n",
       " 'ties',\n",
       " 'warmer',\n",
       " 'love',\n",
       " 'impossible',\n",
       " 'fault',\n",
       " 'woman',\n",
       " 'strong',\n",
       " 'understanding',\n",
       " 'quickness',\n",
       " 'resemblance',\n",
       " 'father',\n",
       " 'inherited',\n",
       " 'constitution',\n",
       " 'delicate',\n",
       " 'health',\n",
       " 'careful',\n",
       " 'children',\n",
       " 'fears',\n",
       " 'nerves',\n",
       " 'fond',\n",
       " 'wingfield',\n",
       " 'town']"
      ]
     },
     "execution_count": 30,
     "metadata": {},
     "output_type": "execute_result"
    }
   ],
   "source": [
    "next(streaming_data) # Returns one document at a time from the generator"
   ]
  },
  {
   "cell_type": "markdown",
   "metadata": {},
   "source": [
    "### Gensim LDA Topic Modeling"
   ]
  },
  {
   "cell_type": "code",
   "execution_count": 31,
   "metadata": {},
   "outputs": [],
   "source": [
    "# A Dictionary Representation of all the words in our corpus\n",
    "id2word = corpora.Dictionary(doc_stream(path))"
   ]
  },
  {
   "cell_type": "code",
   "execution_count": 32,
   "metadata": {},
   "outputs": [
    {
     "data": {
      "text/plain": [
       "869"
      ]
     },
     "execution_count": 32,
     "metadata": {},
     "output_type": "execute_result"
    }
   ],
   "source": [
    "id2word.token2id['england']"
   ]
  },
  {
   "cell_type": "code",
   "execution_count": 33,
   "metadata": {},
   "outputs": [
    {
     "data": {
      "text/plain": [
       "[(869, 3), (1254, 1), (2485, 1), (16850, 1)]"
      ]
     },
     "execution_count": 33,
     "metadata": {},
     "output_type": "execute_result"
    }
   ],
   "source": [
    "id2word.doc2bow(tokenize(\"This is a sample message Darcy England England England\"))"
   ]
  },
  {
   "cell_type": "code",
   "execution_count": 36,
   "metadata": {},
   "outputs": [
    {
     "name": "stdout",
     "output_type": "stream",
     "text": [
      "56\n",
      "7056\n"
     ]
    }
   ],
   "source": [
    "import sys\n",
    "print(sys.getsizeof(id2word))\n",
    "print(sys.getsizeof(tokens))"
   ]
  },
  {
   "cell_type": "code",
   "execution_count": 37,
   "metadata": {},
   "outputs": [
    {
     "data": {
      "text/plain": [
       "22095"
      ]
     },
     "execution_count": 37,
     "metadata": {},
     "output_type": "execute_result"
    }
   ],
   "source": [
    "len(id2word.keys())"
   ]
  },
  {
   "cell_type": "code",
   "execution_count": 38,
   "metadata": {},
   "outputs": [],
   "source": [
    "# Let's remove extreme values from the dataset\n",
    "id2word.filter_extremes(no_below=5, no_above=0.95)"
   ]
  },
  {
   "cell_type": "code",
   "execution_count": 39,
   "metadata": {},
   "outputs": [
    {
     "data": {
      "text/plain": [
       "8102"
      ]
     },
     "execution_count": 39,
     "metadata": {},
     "output_type": "execute_result"
    }
   ],
   "source": [
    "len(id2word.keys())"
   ]
  },
  {
   "cell_type": "code",
   "execution_count": 40,
   "metadata": {},
   "outputs": [],
   "source": [
    "# a bag of words(bow) representation of our corpus\n",
    "# Note: we haven't actually read any text into memory here\n",
    "# Although abstracted away - tokenization IS happening in the doc_stream f(x)\n",
    "corpus = [id2word.doc2bow(text) for text in doc_stream(path)]"
   ]
  },
  {
   "cell_type": "code",
   "execution_count": 41,
   "metadata": {},
   "outputs": [
    {
     "data": {
      "text/plain": [
       "[(4, 1),\n",
       " (17, 1),\n",
       " (28, 1),\n",
       " (30, 1),\n",
       " (31, 2),\n",
       " (40, 1),\n",
       " (46, 1),\n",
       " (51, 1),\n",
       " (55, 1),\n",
       " (71, 1)]"
      ]
     },
     "execution_count": 41,
     "metadata": {},
     "output_type": "execute_result"
    }
   ],
   "source": [
    "corpus[345][:10]"
   ]
  },
  {
   "cell_type": "code",
   "execution_count": 42,
   "metadata": {},
   "outputs": [],
   "source": [
    "lda = LdaMulticore(corpus=corpus,\n",
    "                   id2word=id2word,\n",
    "                   random_state=723812,\n",
    "                   num_topics = 15,\n",
    "                   passes=10,\n",
    "                   workers=12\n",
    "                  )"
   ]
  },
  {
   "cell_type": "code",
   "execution_count": 65,
   "metadata": {},
   "outputs": [
    {
     "data": {
      "text/plain": [
       "[(0,\n",
       "  '0.009*\"pounds\" + 0.007*\"mother\" + 0.006*\"sure\" + 0.006*\"think\" + 0.006*\"year\" + 0.004*\"rochester\" + 0.004*\"certainly\" + 0.004*\"thornfield\" + 0.004*\"fairfax\" + 0.004*\"live\"'),\n",
       " (1,\n",
       "  '0.008*\"pelet\" + 0.005*\"thought\" + 0.005*\"like\" + 0.004*\"little\" + 0.004*\"man\" + 0.004*\"hunsden\" + 0.004*\"time\" + 0.003*\"having\" + 0.003*\"pupils\" + 0.003*\"crimsworth\"'),\n",
       " (2,\n",
       "  '0.008*\"madame\" + 0.006*\"little\" + 0.006*\"like\" + 0.004*\"day\" + 0.004*\"vous\" + 0.004*\"thought\" + 0.003*\"know\" + 0.003*\"beck\" + 0.003*\"good\" + 0.003*\"paul\"'),\n",
       " (3,\n",
       "  '0.005*\"night\" + 0.005*\"look\" + 0.005*\"like\" + 0.004*\"old\" + 0.004*\"est\" + 0.004*\"looked\" + 0.003*\"sir\" + 0.003*\"thought\" + 0.003*\"house\" + 0.003*\"hunsden\"'),\n",
       " (4,\n",
       "  '0.007*\"little\" + 0.005*\"madame\" + 0.005*\"like\" + 0.004*\"thought\" + 0.004*\"know\" + 0.004*\"hand\" + 0.004*\"good\" + 0.004*\"night\" + 0.003*\"day\" + 0.003*\"dr\"'),\n",
       " (5,\n",
       "  '0.017*\"elizabeth\" + 0.013*\"darcy\" + 0.010*\"miss\" + 0.010*\"bingley\" + 0.010*\"bennet\" + 0.009*\"jane\" + 0.007*\"know\" + 0.007*\"think\" + 0.006*\"wickham\" + 0.005*\"sister\"'),\n",
       " (6,\n",
       "  '0.006*\"know\" + 0.006*\"jane\" + 0.006*\"life\" + 0.005*\"like\" + 0.005*\"long\" + 0.005*\"love\" + 0.005*\"thought\" + 0.005*\"heart\" + 0.005*\"shall\" + 0.005*\"good\"'),\n",
       " (7,\n",
       "  '0.011*\"frances\" + 0.009*\"monsieur\" + 0.007*\"hunsden\" + 0.007*\"little\" + 0.006*\"english\" + 0.005*\"mdlle\" + 0.004*\"long\" + 0.004*\"time\" + 0.004*\"mademoiselle\" + 0.004*\"shall\"'),\n",
       " (8,\n",
       "  '0.008*\"good\" + 0.006*\"little\" + 0.006*\"like\" + 0.006*\"emma\" + 0.005*\"elton\" + 0.005*\"thought\" + 0.005*\"miss\" + 0.004*\"think\" + 0.004*\"great\" + 0.004*\"woman\"'),\n",
       " (9,\n",
       "  '0.012*\"sir\" + 0.006*\"long\" + 0.006*\"jane\" + 0.006*\"rochester\" + 0.005*\"little\" + 0.005*\"yes\" + 0.005*\"adele\" + 0.004*\"come\" + 0.004*\"life\" + 0.004*\"pounds\"'),\n",
       " (10,\n",
       "  '0.007*\"like\" + 0.005*\"little\" + 0.005*\"rochester\" + 0.005*\"miss\" + 0.004*\"room\" + 0.004*\"time\" + 0.004*\"thought\" + 0.003*\"sir\" + 0.003*\"day\" + 0.003*\"come\"'),\n",
       " (11,\n",
       "  '0.015*\"emma\" + 0.012*\"miss\" + 0.009*\"harriet\" + 0.008*\"thing\" + 0.008*\"weston\" + 0.008*\"think\" + 0.007*\"know\" + 0.007*\"knightley\" + 0.006*\"elton\" + 0.006*\"good\"'),\n",
       " (12,\n",
       "  '0.010*\"jane\" + 0.009*\"emma\" + 0.009*\"little\" + 0.008*\"thing\" + 0.008*\"miss\" + 0.008*\"dear\" + 0.007*\"fairfax\" + 0.006*\"shall\" + 0.006*\"know\" + 0.006*\"like\"'),\n",
       " (13,\n",
       "  '0.011*\"elinor\" + 0.010*\"marianne\" + 0.007*\"sister\" + 0.006*\"mother\" + 0.005*\"time\" + 0.004*\"soon\" + 0.004*\"jennings\" + 0.004*\"willoughby\" + 0.004*\"good\" + 0.004*\"dashwood\"'),\n",
       " (14,\n",
       "  '0.006*\"monsieur\" + 0.004*\"henri\" + 0.004*\"georgiana\" + 0.004*\"mdlle\" + 0.004*\"little\" + 0.003*\"know\" + 0.003*\"good\" + 0.003*\"asked\" + 0.003*\"time\" + 0.003*\"course\"')]"
      ]
     },
     "execution_count": 65,
     "metadata": {},
     "output_type": "execute_result"
    }
   ],
   "source": [
    "lda.print_topics()"
   ]
  },
  {
   "cell_type": "code",
   "execution_count": null,
   "metadata": {},
   "outputs": [],
   "source": []
  },
  {
   "cell_type": "code",
   "execution_count": 43,
   "metadata": {},
   "outputs": [],
   "source": [
    "words = [re.findall(r'\"([^\"]*)\"',t[1]) for t in lda.print_topics()]"
   ]
  },
  {
   "cell_type": "code",
   "execution_count": 44,
   "metadata": {},
   "outputs": [],
   "source": [
    "topics = [' '.join(t[0:5]) for t in words]"
   ]
  },
  {
   "cell_type": "code",
   "execution_count": 45,
   "metadata": {},
   "outputs": [
    {
     "name": "stdout",
     "output_type": "stream",
     "text": [
      "------ Topic 0 ------\n",
      "pounds mother sure think year\n",
      "\n",
      "------ Topic 1 ------\n",
      "pelet thought like little man\n",
      "\n",
      "------ Topic 2 ------\n",
      "madame little like day vous\n",
      "\n",
      "------ Topic 3 ------\n",
      "night look like old est\n",
      "\n",
      "------ Topic 4 ------\n",
      "little madame like thought know\n",
      "\n",
      "------ Topic 5 ------\n",
      "elizabeth darcy miss bingley bennet\n",
      "\n",
      "------ Topic 6 ------\n",
      "know jane life like long\n",
      "\n",
      "------ Topic 7 ------\n",
      "frances monsieur hunsden little english\n",
      "\n",
      "------ Topic 8 ------\n",
      "good little like emma elton\n",
      "\n",
      "------ Topic 9 ------\n",
      "sir long jane rochester little\n",
      "\n",
      "------ Topic 10 ------\n",
      "like little rochester miss room\n",
      "\n",
      "------ Topic 11 ------\n",
      "emma miss harriet thing weston\n",
      "\n",
      "------ Topic 12 ------\n",
      "jane emma little thing miss\n",
      "\n",
      "------ Topic 13 ------\n",
      "elinor marianne sister mother time\n",
      "\n",
      "------ Topic 14 ------\n",
      "monsieur henri georgiana mdlle little\n",
      "\n"
     ]
    }
   ],
   "source": [
    "for id, t in enumerate(topics): \n",
    "    print(f\"------ Topic {id} ------\")\n",
    "    print(t, end=\"\\n\\n\")"
   ]
  },
  {
   "cell_type": "markdown",
   "metadata": {},
   "source": [
    "## Challenge \n",
    "\n",
    "You will apply an LDA model to a customer review dataset to practice the fitting and estimation of LDA. "
   ]
  },
  {
   "cell_type": "markdown",
   "metadata": {},
   "source": [
    "# Interpret LDA Results (Learn)\n",
    "<a id=\"#p3\"></a>"
   ]
  },
  {
   "cell_type": "markdown",
   "metadata": {},
   "source": [
    "## Overview"
   ]
  },
  {
   "cell_type": "markdown",
   "metadata": {
    "toc-hr-collapsed": true
   },
   "source": [
    "## Follow Along"
   ]
  },
  {
   "cell_type": "markdown",
   "metadata": {},
   "source": [
    "### Topic Distance Visualization"
   ]
  },
  {
   "cell_type": "code",
   "execution_count": 46,
   "metadata": {},
   "outputs": [],
   "source": [
    "import pyLDAvis.gensim\n",
    "\n",
    "pyLDAvis.enable_notebook()"
   ]
  },
  {
   "cell_type": "code",
   "execution_count": 47,
   "metadata": {},
   "outputs": [
    {
     "name": "stderr",
     "output_type": "stream",
     "text": [
      "/Users/jonathansokoll/anaconda3/envs/U4-S1-NLP-DS10/lib/python3.7/site-packages/pyLDAvis/_prepare.py:257: FutureWarning: Sorting because non-concatenation axis is not aligned. A future version\n",
      "of pandas will change to not sort by default.\n",
      "\n",
      "To accept the future behavior, pass 'sort=False'.\n",
      "\n",
      "To retain the current behavior and silence the warning, pass 'sort=True'.\n",
      "\n",
      "  return pd.concat([default_term_info] + list(topic_dfs))\n"
     ]
    },
    {
     "data": {
      "text/html": [
       "\n",
       "<link rel=\"stylesheet\" type=\"text/css\" href=\"https://cdn.rawgit.com/bmabey/pyLDAvis/files/ldavis.v1.0.0.css\">\n",
       "\n",
       "\n",
       "<div id=\"ldavis_el24251406905405593604412797033\"></div>\n",
       "<script type=\"text/javascript\">\n",
       "\n",
       "var ldavis_el24251406905405593604412797033_data = {\"mdsDat\": {\"x\": [-0.04559434101829295, -0.07766584647808855, 0.14128816812220413, 0.10404219933368944, 0.15221009622869527, -0.013860511923195084, -0.07765729277123115, -0.03380962387657687, -0.07173063503704025, 0.09536552742783198, 0.05250741728862916, 0.0064619002882642385, -0.09942811868275224, -0.04603602407655839, -0.08609291482557925], \"y\": [-0.020554818137063523, -0.055242075631416115, -0.008635106167327041, -0.01442413552232888, -0.012565242690342204, -0.05111726209464449, -0.07266949563333015, -0.047089001605900536, -0.05392855597118336, 0.03160386097158199, 0.0038838996321335986, 0.050561347572979434, 0.027439745159202538, 0.14862013450159325, 0.07411670561604637], \"topics\": [1, 2, 3, 4, 5, 6, 7, 8, 9, 10, 11, 12, 13, 14, 15], \"cluster\": [1, 1, 1, 1, 1, 1, 1, 1, 1, 1, 1, 1, 1, 1, 1], \"Freq\": [21.411949157714844, 17.607440948486328, 16.2606143951416, 16.003267288208008, 10.043391227722168, 6.805908679962158, 3.625784397125244, 2.3282315731048584, 1.5559215545654297, 1.2824627161026, 1.2248213291168213, 0.8663619756698608, 0.4587831497192383, 0.262592077255249, 0.26246407628059387]}, \"tinfo\": {\"Category\": [\"Default\", \"Default\", \"Default\", \"Default\", \"Default\", \"Default\", \"Default\", \"Default\", \"Default\", \"Default\", \"Default\", \"Default\", \"Default\", \"Default\", \"Default\", \"Default\", \"Default\", \"Default\", \"Default\", \"Default\", \"Default\", \"Default\", \"Default\", \"Default\", \"Default\", \"Default\", \"Default\", \"Default\", \"Default\", \"Default\", \"Topic1\", \"Topic1\", \"Topic1\", \"Topic1\", \"Topic1\", \"Topic1\", \"Topic1\", \"Topic1\", \"Topic1\", \"Topic1\", \"Topic1\", \"Topic1\", \"Topic1\", \"Topic1\", \"Topic1\", \"Topic1\", \"Topic1\", \"Topic1\", \"Topic1\", \"Topic1\", \"Topic1\", \"Topic1\", \"Topic1\", \"Topic1\", \"Topic1\", \"Topic1\", \"Topic1\", \"Topic1\", \"Topic1\", \"Topic1\", \"Topic1\", \"Topic1\", \"Topic1\", \"Topic1\", \"Topic1\", \"Topic1\", \"Topic1\", \"Topic1\", \"Topic1\", \"Topic1\", \"Topic1\", \"Topic1\", \"Topic1\", \"Topic1\", \"Topic1\", \"Topic1\", \"Topic1\", \"Topic1\", \"Topic1\", \"Topic1\", \"Topic1\", \"Topic1\", \"Topic1\", \"Topic1\", \"Topic1\", \"Topic1\", \"Topic1\", \"Topic1\", \"Topic1\", \"Topic1\", \"Topic1\", \"Topic1\", \"Topic1\", \"Topic1\", \"Topic1\", \"Topic1\", \"Topic1\", \"Topic1\", \"Topic1\", \"Topic1\", \"Topic1\", \"Topic1\", \"Topic1\", \"Topic1\", \"Topic1\", \"Topic1\", \"Topic1\", \"Topic1\", \"Topic1\", \"Topic1\", \"Topic1\", \"Topic1\", \"Topic1\", \"Topic1\", \"Topic2\", \"Topic2\", \"Topic2\", \"Topic2\", \"Topic2\", \"Topic2\", \"Topic2\", \"Topic2\", \"Topic2\", \"Topic2\", \"Topic2\", \"Topic2\", \"Topic2\", \"Topic2\", \"Topic2\", \"Topic2\", \"Topic2\", \"Topic2\", \"Topic2\", \"Topic2\", \"Topic2\", \"Topic2\", \"Topic2\", \"Topic2\", \"Topic2\", \"Topic2\", \"Topic2\", \"Topic2\", \"Topic2\", \"Topic2\", \"Topic2\", \"Topic2\", \"Topic2\", \"Topic2\", \"Topic2\", \"Topic2\", \"Topic2\", \"Topic2\", \"Topic2\", \"Topic2\", \"Topic2\", \"Topic2\", \"Topic2\", \"Topic2\", \"Topic2\", \"Topic2\", \"Topic2\", \"Topic2\", \"Topic2\", \"Topic2\", \"Topic2\", \"Topic2\", \"Topic2\", \"Topic2\", \"Topic2\", \"Topic2\", \"Topic2\", \"Topic2\", \"Topic2\", \"Topic2\", \"Topic2\", \"Topic2\", \"Topic2\", \"Topic2\", \"Topic2\", \"Topic2\", \"Topic2\", \"Topic2\", \"Topic2\", \"Topic2\", \"Topic2\", \"Topic2\", \"Topic2\", \"Topic2\", \"Topic2\", \"Topic2\", \"Topic2\", \"Topic2\", \"Topic2\", \"Topic2\", \"Topic2\", \"Topic2\", \"Topic2\", \"Topic2\", \"Topic2\", \"Topic2\", \"Topic2\", \"Topic2\", \"Topic2\", \"Topic3\", \"Topic3\", \"Topic3\", \"Topic3\", \"Topic3\", \"Topic3\", \"Topic3\", \"Topic3\", \"Topic3\", \"Topic3\", \"Topic3\", \"Topic3\", \"Topic3\", \"Topic3\", \"Topic3\", \"Topic3\", \"Topic3\", \"Topic3\", \"Topic3\", \"Topic3\", \"Topic3\", \"Topic3\", \"Topic3\", \"Topic3\", \"Topic3\", \"Topic3\", \"Topic3\", \"Topic3\", \"Topic3\", \"Topic3\", \"Topic3\", \"Topic3\", \"Topic3\", \"Topic3\", \"Topic3\", \"Topic3\", \"Topic3\", \"Topic3\", \"Topic3\", \"Topic3\", \"Topic3\", \"Topic3\", \"Topic3\", \"Topic3\", \"Topic3\", \"Topic3\", \"Topic3\", \"Topic3\", \"Topic3\", \"Topic3\", \"Topic3\", \"Topic3\", \"Topic3\", \"Topic3\", \"Topic3\", \"Topic3\", \"Topic3\", \"Topic3\", \"Topic3\", \"Topic3\", \"Topic3\", \"Topic3\", \"Topic4\", \"Topic4\", \"Topic4\", \"Topic4\", \"Topic4\", \"Topic4\", \"Topic4\", \"Topic4\", \"Topic4\", \"Topic4\", \"Topic4\", \"Topic4\", \"Topic4\", \"Topic4\", \"Topic4\", \"Topic4\", \"Topic4\", \"Topic4\", \"Topic4\", \"Topic4\", \"Topic4\", \"Topic4\", \"Topic4\", \"Topic4\", \"Topic4\", \"Topic4\", \"Topic4\", \"Topic4\", \"Topic4\", \"Topic4\", \"Topic4\", \"Topic4\", \"Topic4\", \"Topic4\", \"Topic4\", \"Topic4\", \"Topic4\", \"Topic4\", \"Topic4\", \"Topic4\", \"Topic4\", \"Topic4\", \"Topic4\", \"Topic4\", \"Topic4\", \"Topic4\", \"Topic4\", \"Topic4\", \"Topic4\", \"Topic4\", \"Topic4\", \"Topic4\", \"Topic4\", \"Topic4\", \"Topic4\", \"Topic4\", \"Topic4\", \"Topic4\", \"Topic4\", \"Topic4\", \"Topic4\", \"Topic4\", \"Topic4\", \"Topic4\", \"Topic4\", \"Topic4\", \"Topic4\", \"Topic4\", \"Topic4\", \"Topic4\", \"Topic4\", \"Topic4\", \"Topic4\", \"Topic5\", \"Topic5\", \"Topic5\", \"Topic5\", \"Topic5\", \"Topic5\", \"Topic5\", \"Topic5\", \"Topic5\", \"Topic5\", \"Topic5\", \"Topic5\", \"Topic5\", \"Topic5\", \"Topic5\", \"Topic5\", \"Topic5\", \"Topic5\", \"Topic5\", \"Topic5\", \"Topic5\", \"Topic5\", \"Topic5\", \"Topic5\", \"Topic5\", \"Topic5\", \"Topic5\", \"Topic5\", \"Topic5\", \"Topic5\", \"Topic5\", \"Topic5\", \"Topic5\", \"Topic5\", \"Topic5\", \"Topic5\", \"Topic5\", \"Topic5\", \"Topic5\", \"Topic5\", \"Topic5\", \"Topic5\", \"Topic5\", \"Topic5\", \"Topic5\", \"Topic5\", \"Topic5\", \"Topic5\", \"Topic5\", \"Topic5\", \"Topic5\", \"Topic5\", \"Topic5\", \"Topic5\", \"Topic5\", \"Topic5\", \"Topic5\", \"Topic5\", \"Topic5\", \"Topic5\", \"Topic5\", \"Topic5\", \"Topic5\", \"Topic5\", \"Topic5\", \"Topic5\", \"Topic6\", \"Topic6\", \"Topic6\", \"Topic6\", \"Topic6\", \"Topic6\", \"Topic6\", \"Topic6\", \"Topic6\", \"Topic6\", \"Topic6\", \"Topic6\", \"Topic6\", \"Topic6\", \"Topic6\", \"Topic6\", \"Topic6\", \"Topic6\", \"Topic6\", \"Topic6\", \"Topic6\", \"Topic6\", \"Topic6\", \"Topic6\", \"Topic6\", \"Topic6\", \"Topic6\", \"Topic6\", \"Topic6\", \"Topic6\", \"Topic6\", \"Topic6\", \"Topic6\", \"Topic6\", \"Topic6\", \"Topic6\", \"Topic6\", \"Topic6\", \"Topic6\", \"Topic6\", \"Topic6\", \"Topic6\", \"Topic6\", \"Topic6\", \"Topic6\", \"Topic6\", \"Topic6\", \"Topic6\", \"Topic6\", \"Topic6\", \"Topic6\", \"Topic6\", \"Topic6\", \"Topic6\", \"Topic6\", \"Topic6\", \"Topic6\", \"Topic6\", \"Topic6\", \"Topic6\", \"Topic6\", \"Topic6\", \"Topic6\", \"Topic6\", \"Topic6\", \"Topic6\", \"Topic6\", \"Topic6\", \"Topic6\", \"Topic6\", \"Topic6\", \"Topic6\", \"Topic6\", \"Topic6\", \"Topic6\", \"Topic6\", \"Topic6\", \"Topic7\", \"Topic7\", \"Topic7\", \"Topic7\", \"Topic7\", \"Topic7\", \"Topic7\", \"Topic7\", \"Topic7\", \"Topic7\", \"Topic7\", \"Topic7\", \"Topic7\", \"Topic7\", \"Topic7\", \"Topic7\", \"Topic7\", \"Topic7\", \"Topic7\", \"Topic7\", \"Topic7\", \"Topic7\", \"Topic7\", \"Topic7\", \"Topic7\", \"Topic7\", \"Topic7\", \"Topic7\", \"Topic7\", \"Topic7\", \"Topic7\", \"Topic7\", \"Topic7\", \"Topic7\", \"Topic7\", \"Topic7\", \"Topic7\", \"Topic7\", \"Topic7\", \"Topic7\", \"Topic7\", \"Topic7\", \"Topic7\", \"Topic7\", \"Topic7\", \"Topic7\", \"Topic7\", \"Topic7\", \"Topic7\", \"Topic7\", \"Topic7\", \"Topic7\", \"Topic7\", \"Topic7\", \"Topic7\", \"Topic7\", \"Topic7\", \"Topic7\", \"Topic7\", \"Topic7\", \"Topic7\", \"Topic7\", \"Topic7\", \"Topic7\", \"Topic7\", \"Topic7\", \"Topic7\", \"Topic7\", \"Topic7\", \"Topic7\", \"Topic7\", \"Topic7\", \"Topic7\", \"Topic7\", \"Topic7\", \"Topic7\", \"Topic8\", \"Topic8\", \"Topic8\", \"Topic8\", \"Topic8\", \"Topic8\", \"Topic8\", \"Topic8\", \"Topic8\", \"Topic8\", \"Topic8\", \"Topic8\", \"Topic8\", \"Topic8\", \"Topic8\", \"Topic8\", \"Topic8\", \"Topic8\", \"Topic8\", \"Topic8\", \"Topic8\", \"Topic8\", \"Topic8\", \"Topic8\", \"Topic8\", \"Topic8\", \"Topic8\", \"Topic8\", \"Topic8\", \"Topic8\", \"Topic8\", \"Topic8\", \"Topic8\", \"Topic8\", \"Topic8\", \"Topic8\", \"Topic8\", \"Topic8\", \"Topic8\", \"Topic8\", \"Topic8\", \"Topic8\", \"Topic8\", \"Topic8\", \"Topic8\", \"Topic8\", \"Topic8\", \"Topic8\", \"Topic8\", \"Topic8\", \"Topic8\", \"Topic8\", \"Topic8\", \"Topic8\", \"Topic8\", \"Topic8\", \"Topic8\", \"Topic8\", \"Topic8\", \"Topic8\", \"Topic8\", \"Topic8\", \"Topic8\", \"Topic8\", \"Topic8\", \"Topic8\", \"Topic8\", \"Topic8\", \"Topic8\", \"Topic8\", \"Topic8\", \"Topic8\", \"Topic9\", \"Topic9\", \"Topic9\", \"Topic9\", \"Topic9\", \"Topic9\", \"Topic9\", \"Topic9\", \"Topic9\", \"Topic9\", \"Topic9\", \"Topic9\", \"Topic9\", \"Topic9\", \"Topic9\", \"Topic9\", \"Topic9\", \"Topic9\", \"Topic9\", \"Topic9\", \"Topic9\", \"Topic9\", \"Topic9\", \"Topic9\", \"Topic9\", \"Topic9\", \"Topic9\", \"Topic9\", \"Topic9\", \"Topic9\", \"Topic9\", \"Topic9\", \"Topic9\", \"Topic9\", \"Topic9\", \"Topic9\", \"Topic9\", \"Topic9\", \"Topic9\", \"Topic9\", \"Topic9\", \"Topic9\", \"Topic9\", \"Topic9\", \"Topic9\", \"Topic9\", \"Topic9\", \"Topic9\", \"Topic9\", \"Topic9\", \"Topic9\", \"Topic9\", \"Topic9\", \"Topic9\", \"Topic9\", \"Topic9\", \"Topic9\", \"Topic9\", \"Topic9\", \"Topic9\", \"Topic9\", \"Topic9\", \"Topic9\", \"Topic9\", \"Topic9\", \"Topic9\", \"Topic9\", \"Topic9\", \"Topic9\", \"Topic9\", \"Topic9\", \"Topic10\", \"Topic10\", \"Topic10\", \"Topic10\", \"Topic10\", \"Topic10\", \"Topic10\", \"Topic10\", \"Topic10\", \"Topic10\", \"Topic10\", \"Topic10\", \"Topic10\", \"Topic10\", \"Topic10\", \"Topic10\", \"Topic10\", \"Topic10\", \"Topic10\", \"Topic10\", \"Topic10\", \"Topic10\", \"Topic10\", \"Topic10\", \"Topic10\", \"Topic10\", \"Topic10\", \"Topic10\", \"Topic10\", \"Topic10\", \"Topic10\", \"Topic10\", \"Topic10\", \"Topic10\", \"Topic10\", \"Topic10\", \"Topic10\", \"Topic10\", \"Topic10\", \"Topic10\", \"Topic10\", \"Topic10\", \"Topic10\", \"Topic10\", \"Topic10\", \"Topic10\", \"Topic10\", \"Topic10\", \"Topic10\", \"Topic10\", \"Topic10\", \"Topic10\", \"Topic10\", \"Topic10\", \"Topic10\", \"Topic10\", \"Topic10\", \"Topic10\", \"Topic10\", \"Topic10\", \"Topic10\", \"Topic10\", \"Topic10\", \"Topic10\", \"Topic10\", \"Topic10\", \"Topic10\", \"Topic10\", \"Topic10\", \"Topic10\", \"Topic10\", \"Topic11\", \"Topic11\", \"Topic11\", \"Topic11\", \"Topic11\", \"Topic11\", \"Topic11\", \"Topic11\", \"Topic11\", \"Topic11\", \"Topic11\", \"Topic11\", \"Topic11\", \"Topic11\", \"Topic11\", \"Topic11\", \"Topic11\", \"Topic11\", \"Topic11\", \"Topic11\", \"Topic11\", \"Topic11\", \"Topic11\", \"Topic11\", \"Topic11\", \"Topic11\", \"Topic11\", \"Topic11\", \"Topic11\", \"Topic11\", \"Topic11\", \"Topic11\", \"Topic11\", \"Topic11\", \"Topic11\", \"Topic11\", \"Topic11\", \"Topic11\", \"Topic11\", \"Topic11\", \"Topic11\", \"Topic11\", \"Topic11\", \"Topic11\", \"Topic11\", \"Topic11\", \"Topic11\", \"Topic11\", \"Topic11\", \"Topic11\", \"Topic11\", \"Topic11\", \"Topic11\", \"Topic11\", \"Topic11\", \"Topic11\", \"Topic11\", \"Topic11\", \"Topic11\", \"Topic11\", \"Topic11\", \"Topic11\", \"Topic11\", \"Topic11\", \"Topic11\", \"Topic11\", \"Topic11\", \"Topic11\", \"Topic12\", \"Topic12\", \"Topic12\", \"Topic12\", \"Topic12\", \"Topic12\", \"Topic12\", \"Topic12\", \"Topic12\", \"Topic12\", \"Topic12\", \"Topic12\", \"Topic12\", \"Topic12\", \"Topic12\", \"Topic12\", \"Topic12\", \"Topic12\", \"Topic12\", \"Topic12\", \"Topic12\", \"Topic12\", \"Topic12\", \"Topic12\", \"Topic12\", \"Topic12\", \"Topic12\", \"Topic12\", \"Topic12\", \"Topic12\", \"Topic12\", \"Topic12\", \"Topic12\", \"Topic12\", \"Topic12\", \"Topic12\", \"Topic12\", \"Topic12\", \"Topic12\", \"Topic12\", \"Topic12\", \"Topic12\", \"Topic12\", \"Topic12\", \"Topic12\", \"Topic12\", \"Topic12\", \"Topic12\", \"Topic12\", \"Topic12\", \"Topic12\", \"Topic12\", \"Topic12\", \"Topic12\", \"Topic12\", \"Topic12\", \"Topic12\", \"Topic12\", \"Topic12\", \"Topic12\", \"Topic12\", \"Topic12\", \"Topic12\", \"Topic12\", \"Topic12\", \"Topic12\", \"Topic12\", \"Topic12\", \"Topic12\", \"Topic12\", \"Topic12\", \"Topic12\", \"Topic12\", \"Topic12\", \"Topic12\", \"Topic12\", \"Topic12\", \"Topic13\", \"Topic13\", \"Topic13\", \"Topic13\", \"Topic13\", \"Topic13\", \"Topic13\", \"Topic13\", \"Topic13\", \"Topic13\", \"Topic13\", \"Topic13\", \"Topic13\", \"Topic13\", \"Topic13\", \"Topic13\", \"Topic13\", \"Topic13\", \"Topic13\", \"Topic13\", \"Topic13\", \"Topic13\", \"Topic13\", \"Topic13\", \"Topic13\", \"Topic13\", \"Topic13\", \"Topic13\", \"Topic13\", \"Topic13\", \"Topic13\", \"Topic13\", \"Topic13\", \"Topic13\", \"Topic13\", \"Topic13\", \"Topic13\", \"Topic13\", \"Topic13\", \"Topic13\", \"Topic13\", \"Topic13\", \"Topic13\", \"Topic13\", \"Topic13\", \"Topic13\", \"Topic13\", \"Topic13\", \"Topic13\", \"Topic13\", \"Topic13\", \"Topic13\", \"Topic13\", \"Topic13\", \"Topic13\", \"Topic13\", \"Topic13\", \"Topic13\", \"Topic13\", \"Topic13\", \"Topic13\", \"Topic13\", \"Topic13\", \"Topic13\", \"Topic13\", \"Topic13\", \"Topic13\", \"Topic13\", \"Topic14\", \"Topic14\", \"Topic14\", \"Topic14\", \"Topic14\", \"Topic14\", \"Topic14\", \"Topic14\", \"Topic14\", \"Topic14\", \"Topic14\", \"Topic14\", \"Topic14\", \"Topic14\", \"Topic14\", \"Topic14\", \"Topic14\", \"Topic14\", \"Topic14\", \"Topic14\", \"Topic14\", \"Topic14\", \"Topic14\", \"Topic14\", \"Topic14\", \"Topic14\", \"Topic14\", \"Topic14\", \"Topic14\", \"Topic14\", \"Topic14\", \"Topic14\", \"Topic14\", \"Topic14\", \"Topic14\", \"Topic14\", \"Topic14\", \"Topic14\", \"Topic14\", \"Topic14\", \"Topic14\", \"Topic14\", \"Topic14\", \"Topic14\", \"Topic14\", \"Topic14\", \"Topic14\", \"Topic14\", \"Topic14\", \"Topic14\", \"Topic14\", \"Topic14\", \"Topic14\", \"Topic14\", \"Topic14\", \"Topic14\", \"Topic14\", \"Topic14\", \"Topic14\", \"Topic14\", \"Topic14\", \"Topic14\", \"Topic14\", \"Topic14\", \"Topic14\", \"Topic14\", \"Topic14\", \"Topic14\", \"Topic15\", \"Topic15\", \"Topic15\", \"Topic15\", \"Topic15\", \"Topic15\", \"Topic15\", \"Topic15\", \"Topic15\", \"Topic15\", \"Topic15\", \"Topic15\", \"Topic15\", \"Topic15\", \"Topic15\", \"Topic15\", \"Topic15\", \"Topic15\", \"Topic15\", \"Topic15\", \"Topic15\", \"Topic15\", \"Topic15\", \"Topic15\", \"Topic15\", \"Topic15\", \"Topic15\", \"Topic15\", \"Topic15\", \"Topic15\", \"Topic15\", \"Topic15\", \"Topic15\", \"Topic15\", \"Topic15\", \"Topic15\", \"Topic15\", \"Topic15\", \"Topic15\", \"Topic15\", \"Topic15\", \"Topic15\", \"Topic15\", \"Topic15\", \"Topic15\", \"Topic15\", \"Topic15\", \"Topic15\", \"Topic15\", \"Topic15\", \"Topic15\", \"Topic15\", \"Topic15\", \"Topic15\", \"Topic15\", \"Topic15\", \"Topic15\", \"Topic15\", \"Topic15\", \"Topic15\", \"Topic15\", \"Topic15\", \"Topic15\", \"Topic15\", \"Topic15\", \"Topic15\", \"Topic15\", \"Topic15\", \"Topic15\", \"Topic15\", \"Topic15\", \"Topic15\", \"Topic15\"], \"Freq\": [836.0, 1711.0, 931.0, 1535.0, 1318.0, 1312.0, 657.0, 596.0, 1349.0, 776.0, 1437.0, 357.0, 672.0, 1136.0, 920.0, 510.0, 361.0, 424.0, 614.0, 370.0, 1315.0, 695.0, 576.0, 934.0, 427.0, 1058.0, 587.0, 622.0, 272.0, 753.0, 28.874778747558594, 28.86370849609375, 31.619497299194336, 19.92133140563965, 85.88289642333984, 22.756336212158203, 19.747173309326172, 53.23917007446289, 16.761600494384766, 13.93416976928711, 13.885050773620605, 11.91382884979248, 23.00533103942871, 121.43513488769531, 10.91530990600586, 9.995409965515137, 119.3139419555664, 93.3168716430664, 9.84390926361084, 50.033870697021484, 11.555618286132812, 68.387451171875, 29.48914337158203, 39.2459602355957, 10.613767623901367, 13.228947639465332, 9.691600799560547, 7.9059295654296875, 6.993532657623291, 6.984935283660889, 314.4256286621094, 15.893099784851074, 11.39182186126709, 81.94587707519531, 35.715084075927734, 110.69357299804688, 21.136743545532227, 128.486328125, 48.98418045043945, 39.685516357421875, 50.7208251953125, 22.791515350341797, 99.97608184814453, 51.717689514160156, 22.503820419311523, 108.0389175415039, 44.20789337158203, 465.2649841308594, 217.23605346679688, 100.46730041503906, 230.08380126953125, 113.81905364990234, 298.76763916015625, 206.9467315673828, 166.6344451904297, 99.56584930419922, 140.8860321044922, 101.537109375, 221.2894744873047, 82.04934692382812, 206.29876708984375, 141.18382263183594, 358.7524719238281, 194.85699462890625, 193.35179138183594, 225.75656127929688, 314.3820495605469, 209.39080810546875, 181.3434295654297, 246.14697265625, 226.52894592285156, 212.4087677001953, 246.9994354248047, 206.1100616455078, 172.8916778564453, 187.514892578125, 223.6670684814453, 175.44300842285156, 207.5596466064453, 182.7459259033203, 188.07969665527344, 146.0265655517578, 150.01853942871094, 146.04556274414062, 36.877994537353516, 9.952476501464844, 8.998369216918945, 8.985001564025879, 13.351461410522461, 7.9331278800964355, 9.6980619430542, 10.506280899047852, 6.98610782623291, 7.829035758972168, 6.940527439117432, 7.832887649536133, 6.93073844909668, 13.892755508422852, 6.021342754364014, 11.184945106506348, 6.009202003479004, 6.0095086097717285, 6.842509746551514, 5.987033367156982, 10.31397533416748, 5.907580852508545, 5.9070868492126465, 8.4935302734375, 9.324634552001953, 5.022131443023682, 5.838098526000977, 4.986379623413086, 4.986834526062012, 5.83048677444458, 53.48796463012695, 30.16461181640625, 41.02717590332031, 181.97471618652344, 17.606653213500977, 279.8028259277344, 131.6878204345703, 116.30216217041016, 77.81842803955078, 53.6070442199707, 60.12738800048828, 27.095552444458008, 165.8251953125, 95.26995086669922, 14.220633506774902, 66.9416732788086, 56.7477912902832, 31.461580276489258, 129.92745971679688, 34.91276168823242, 37.31999969482422, 49.41885757446289, 25.094240188598633, 47.99882888793945, 44.945125579833984, 123.72879028320312, 62.55997848510742, 111.69879150390625, 62.758304595947266, 44.505374908447266, 62.33867645263672, 155.90362548828125, 208.54537963867188, 201.88839721679688, 408.61572265625, 138.49209594726562, 81.27494812011719, 176.14222717285156, 95.76293182373047, 238.5326385498047, 154.72299194335938, 253.89016723632812, 150.3067169189453, 106.44253540039062, 220.4058380126953, 189.6075897216797, 131.07774353027344, 207.16619873046875, 130.71536254882812, 156.77882385253906, 167.59275817871094, 147.3170166015625, 132.30780029296875, 170.5546875, 135.43260192871094, 163.8805694580078, 130.49339294433594, 133.5972442626953, 128.45199584960938, 29.71371841430664, 207.46133422851562, 359.2690734863281, 18.46485137939453, 82.91464233398438, 30.098068237304688, 400.1017761230469, 34.54963302612305, 12.6548490524292, 45.62834548950195, 15.216470718383789, 12.494536399841309, 9.76832103729248, 766.3001098632812, 32.57822036743164, 61.62871551513672, 55.267459869384766, 11.397658348083496, 7.836362838745117, 43.319515228271484, 456.2375793457031, 74.99467468261719, 137.7168731689453, 7.723228454589844, 50.88849639892578, 325.733154296875, 5.902985572814941, 262.4088439941406, 5.761038303375244, 11.600118637084961, 125.9040298461914, 198.95977783203125, 64.9342269897461, 98.365234375, 40.83986282348633, 60.65937805175781, 182.07911682128906, 81.39012145996094, 405.33673095703125, 197.48155212402344, 84.35709381103516, 595.7511596679688, 396.68341064453125, 233.35211181640625, 220.3170166015625, 261.5606384277344, 361.9935607910156, 322.85626220703125, 191.6315155029297, 284.7923583984375, 155.4095001220703, 306.557373046875, 165.92904663085938, 217.0575714111328, 212.8136749267578, 212.87838745117188, 218.12542724609375, 198.4479217529297, 171.51336669921875, 171.56875610351562, 177.66690063476562, 182.73617553710938, 214.5315399169922, 26.760997772216797, 18.032821655273438, 16.068984985351562, 12.161109924316406, 84.33393096923828, 10.177323341369629, 215.8464813232422, 526.1517944335938, 10.980238914489746, 10.960902214050293, 132.3945770263672, 8.957444190979004, 8.048118591308594, 7.1232805252075195, 70.63893127441406, 6.143003940582275, 13.1554536819458, 6.059091567993164, 6.04577112197876, 6.042442798614502, 23.68613052368164, 90.56729888916016, 26.88499641418457, 17.291318893432617, 5.098544120788574, 32.05636978149414, 5.005817890167236, 11.052055358886719, 4.9073262214660645, 568.3949584960938, 201.8526611328125, 43.3195915222168, 28.69145965576172, 59.66032791137695, 193.32887268066406, 348.0003662109375, 82.41324615478516, 283.25994873046875, 66.84260559082031, 138.8097686767578, 113.46995544433594, 64.2365951538086, 38.56569290161133, 58.0884895324707, 44.22542953491211, 95.92347717285156, 183.0288543701172, 127.62065887451172, 225.52496337890625, 273.7348327636719, 133.30038452148438, 184.4153289794922, 165.71099853515625, 87.00279998779297, 76.07231140136719, 135.3557586669922, 189.16287231445312, 110.92987823486328, 208.8805389404297, 134.93026733398438, 134.50376892089844, 198.27354431152344, 139.66041564941406, 190.8350830078125, 137.15452575683594, 133.1764678955078, 163.00294494628906, 143.60528564453125, 142.0247802734375, 140.59898376464844, 137.60675048828125, 134.75416564941406, 302.0017395019531, 71.96050262451172, 35.22021484375, 67.19418334960938, 14.067911148071289, 394.27239990234375, 301.102783203125, 34.06655502319336, 53.18611145019531, 13.510759353637695, 174.15643310546875, 28.062110900878906, 5.033236980438232, 35.632362365722656, 27.96101951599121, 9.226734161376953, 9.980293273925781, 13.684399604797363, 8.05859088897705, 72.6028823852539, 524.7803955078125, 78.33470916748047, 7.784021854400635, 7.615144729614258, 141.41061401367188, 30.87830352783203, 11.064037322998047, 4.964023590087891, 6.013107776641846, 6.318754196166992, 38.24164581298828, 117.59902954101562, 86.31904602050781, 59.49794006347656, 17.965579986572266, 18.45682144165039, 25.727582931518555, 17.961477279663086, 37.410099029541016, 295.3708190917969, 55.029335021972656, 65.0478744506836, 73.92792510986328, 320.20794677734375, 119.73666381835938, 158.67105102539062, 70.23104858398438, 151.42295837402344, 217.12857055664062, 227.25790405273438, 158.608642578125, 125.59217834472656, 116.05854034423828, 105.97413635253906, 141.97537231445312, 123.15332794189453, 93.09600830078125, 152.8631134033203, 123.5760726928711, 124.02307891845703, 108.4136962890625, 135.671630859375, 133.4311981201172, 114.44281005859375, 99.0785140991211, 93.31814575195312, 4.829189300537109, 4.695777893066406, 4.65944242477417, 17.362781524658203, 11.544343948364258, 5.926811695098877, 5.236289024353027, 6.657960414886475, 4.311665058135986, 8.535832405090332, 8.311753273010254, 6.948869228363037, 4.751423358917236, 14.90734577178955, 16.15970230102539, 4.7299299240112305, 12.880010604858398, 9.20533275604248, 4.660858631134033, 3.9586575031280518, 3.9473183155059814, 4.476083755493164, 3.8222882747650146, 3.8561742305755615, 7.65587043762207, 3.5134570598602295, 6.864078998565674, 10.694329261779785, 4.849903106689453, 7.229295253753662, 14.615062713623047, 9.753032684326172, 11.299576759338379, 87.61450958251953, 5.885000705718994, 72.34677124023438, 19.87656593322754, 10.017773628234863, 68.32467651367188, 126.40806579589844, 109.1036605834961, 46.80868911743164, 128.1977081298828, 46.801692962646484, 96.60442352294922, 24.899686813354492, 33.530208587646484, 112.44023895263672, 13.911934852600098, 135.12493896484375, 27.877304077148438, 96.52257537841797, 32.12028121948242, 116.2076416015625, 72.48709869384766, 101.2103500366211, 72.87670135498047, 96.22063446044922, 53.67779541015625, 92.57259368896484, 72.2493667602539, 73.4911880493164, 59.485862731933594, 94.7384033203125, 58.286502838134766, 40.10001754760742, 47.472198486328125, 54.42875671386719, 60.002723693847656, 42.7928581237793, 48.50053405761719, 62.02360916137695, 49.1482048034668, 52.4052734375, 59.91880798339844, 55.46886444091797, 49.80253601074219, 18.27446746826172, 3.85136342048645, 15.945427894592285, 14.443766593933105, 3.4840481281280518, 11.438921928405762, 5.034365653991699, 5.5192155838012695, 21.46160125732422, 3.6328420639038086, 4.741562366485596, 5.263649940490723, 5.253281116485596, 5.156217098236084, 15.810768127441406, 3.8756327629089355, 3.351022243499756, 4.308736801147461, 15.371702194213867, 2.654136896133423, 14.964828491210938, 2.6598453521728516, 7.13392972946167, 3.5001587867736816, 2.5606400966644287, 2.674135446548462, 3.496591329574585, 3.527113437652588, 3.0888512134552, 2.627804756164551, 4.401467323303223, 14.78393268585205, 10.254547119140625, 26.271671295166016, 32.776615142822266, 42.773162841796875, 5.998935222625732, 15.45529556274414, 15.191163063049316, 14.207351684570312, 94.20303344726562, 15.154918670654297, 19.470487594604492, 21.347110748291016, 39.35028076171875, 28.861913681030273, 27.431943893432617, 26.13031578063965, 35.629844665527344, 9.527937889099121, 22.380767822265625, 10.564397811889648, 9.308222770690918, 69.66480255126953, 17.528390884399414, 72.95064544677734, 12.603935241699219, 35.41581344604492, 44.01210403442383, 28.227760314941406, 41.921295166015625, 31.302473068237305, 39.58131790161133, 35.83311462402344, 25.25383758544922, 25.399625778198242, 31.071517944335938, 28.662174224853516, 28.56334114074707, 29.76268768310547, 31.799711227416992, 29.410364151000977, 26.843294143676758, 25.77726173400879, 24.51075553894043, 24.454477310180664, 11.950263977050781, 4.193736553192139, 4.5252604484558105, 3.421128034591675, 3.450176954269409, 3.1833856105804443, 56.8625602722168, 3.174907922744751, 2.6315534114837646, 3.2126853466033936, 3.1261093616485596, 4.300111293792725, 2.450700283050537, 4.882700443267822, 2.581897735595703, 3.1556894779205322, 5.81171178817749, 6.1004228591918945, 2.6033263206481934, 3.336857557296753, 2.650178909301758, 2.63580584526062, 2.5994760990142822, 2.6055095195770264, 2.573162794113159, 2.0978543758392334, 3.8212103843688965, 4.56181001663208, 3.449540376663208, 2.393725633621216, 8.58149242401123, 8.527332305908203, 28.452861785888672, 21.186851501464844, 5.033257007598877, 19.33843231201172, 10.35256290435791, 5.459051132202148, 9.628829956054688, 13.638702392578125, 22.595964431762695, 7.768868446350098, 14.919157028198242, 5.7303338050842285, 11.432833671569824, 12.95188045501709, 14.9707670211792, 19.391414642333984, 20.923765182495117, 35.5495719909668, 24.369739532470703, 35.23907470703125, 7.860993385314941, 29.45317840576172, 12.399195671081543, 31.817115783691406, 17.94135284423828, 18.643062591552734, 20.94725227355957, 26.180341720581055, 19.94992446899414, 18.93154525756836, 19.937868118286133, 21.12040901184082, 20.1756649017334, 16.086606979370117, 17.795087814331055, 16.824602127075195, 15.961469650268555, 14.940752983093262, 14.895432472229004, 14.76805591583252, 7.152077674865723, 6.105959892272949, 2.6379334926605225, 2.6506831645965576, 53.97987365722656, 2.646327495574951, 3.5193533897399902, 6.134165287017822, 3.4976022243499756, 2.641437292098999, 3.4779860973358154, 2.581184148788452, 2.038074493408203, 2.593018054962158, 2.358581066131592, 2.6863677501678467, 2.17024827003479, 17.740699768066406, 1.8123064041137695, 1.8055164813995361, 1.7348681688308716, 1.8063708543777466, 1.755229115486145, 1.812653660774231, 1.7564518451690674, 1.8001792430877686, 2.5739712715148926, 2.587573528289795, 4.628401279449463, 1.660800814628601, 1.7304507493972778, 34.91120147705078, 26.25189208984375, 4.016716003417969, 42.141571044921875, 11.496322631835938, 4.380347728729248, 10.96618366241455, 18.570077896118164, 29.83631706237793, 5.001642227172852, 10.23593807220459, 13.706247329711914, 9.93258285522461, 6.152829170227051, 7.942097187042236, 3.9931235313415527, 11.133577346801758, 32.34246063232422, 16.70917510986328, 20.386821746826172, 17.070878982543945, 17.941402435302734, 9.17046070098877, 18.620267868041992, 12.377265930175781, 13.003190040588379, 14.669814109802246, 9.857712745666504, 16.87495231628418, 16.73903465270996, 12.335793495178223, 12.788787841796875, 15.045087814331055, 14.40209674835205, 15.546223640441895, 12.67902660369873, 12.592711448669434, 11.971701622009277, 11.534998893737793, 11.532206535339355, 14.444559097290039, 6.777735233306885, 3.9683611392974854, 3.1934542655944824, 2.9970648288726807, 2.2536239624023438, 2.166459083557129, 3.1069304943084717, 2.373673439025879, 1.6220052242279053, 3.4052507877349854, 2.622498035430908, 1.6235460042953491, 1.5819655656814575, 1.6177152395248413, 3.139899492263794, 1.6130163669586182, 3.490751266479492, 3.7209179401397705, 4.4540934562683105, 2.0324199199676514, 1.7910934686660767, 1.436210036277771, 2.2517189979553223, 2.2068636417388916, 1.3807026147842407, 1.6265710592269897, 1.6238958835601807, 1.648844838142395, 4.088547229766846, 3.0005805492401123, 2.590682029724121, 7.219658374786377, 4.448103427886963, 5.417780876159668, 9.26099681854248, 29.1081485748291, 8.223264694213867, 8.980504989624023, 7.7928032875061035, 31.77107048034668, 40.43111038208008, 36.2186164855957, 19.4845027923584, 34.16301727294922, 21.447311401367188, 11.284120559692383, 35.91682052612305, 25.56141471862793, 12.414329528808594, 31.943086624145508, 9.713462829589844, 12.466994285583496, 22.94792366027832, 23.34332275390625, 6.732648849487305, 15.908663749694824, 15.316960334777832, 14.075616836547852, 11.247228622436523, 13.87734317779541, 18.934329986572266, 10.448603630065918, 12.709705352783203, 14.347887992858887, 14.44306755065918, 13.380705833435059, 11.968701362609863, 12.39338493347168, 11.056181907653809, 11.06985092163086, 4.868788242340088, 2.3738975524902344, 2.3807480335235596, 3.9523403644561768, 3.9587554931640625, 5.079897880554199, 3.1548516750335693, 2.391136646270752, 10.980849266052246, 2.3859589099884033, 2.361525535583496, 2.342317581176758, 2.26360821723938, 2.4654877185821533, 7.710005760192871, 2.0055456161499023, 1.5753631591796875, 2.2207705974578857, 3.857966423034668, 11.00025749206543, 2.3865840435028076, 1.5966821908950806, 1.5698210000991821, 2.097841501235962, 3.7024624347686768, 4.193897724151611, 1.90922212600708, 1.6200648546218872, 1.612084984779358, 1.5745550394058228, 4.366456985473633, 4.629532337188721, 2.9925239086151123, 5.292370796203613, 2.956794500350952, 3.0666391849517822, 11.293083190917969, 18.485353469848633, 11.055312156677246, 11.156352996826172, 30.24587631225586, 10.61223316192627, 13.5722074508667, 21.45704460144043, 13.456741333007812, 22.293901443481445, 14.245674133300781, 11.133430480957031, 7.776609897613525, 22.381202697753906, 12.880354881286621, 11.721714973449707, 18.08780860900879, 12.721677780151367, 14.763137817382812, 17.802886962890625, 12.276914596557617, 16.073095321655273, 13.508785247802734, 12.242857933044434, 13.20389461517334, 13.4864501953125, 12.792019844055176, 9.866876602172852, 10.150542259216309, 11.457645416259766, 10.527409553527832, 11.03287410736084, 5.652214527130127, 2.3093643188476562, 1.5799646377563477, 2.498920440673828, 1.5714308023452759, 1.5384937524795532, 1.4771919250488281, 1.5697916746139526, 1.5685147047042847, 1.5627576112747192, 1.569993495941162, 2.2893030643463135, 1.4961763620376587, 2.32822322845459, 1.5708208084106445, 9.206748008728027, 1.5230538845062256, 0.8111029863357544, 0.8100014925003052, 0.8187600374221802, 1.5997263193130493, 0.809984564781189, 1.5731176137924194, 0.8098101615905762, 0.8147076964378357, 0.8007786273956299, 0.8127914071083069, 0.8098575472831726, 0.8108412623405457, 0.8044938445091248, 2.9317235946655273, 3.702713966369629, 3.1024351119995117, 2.1613011360168457, 10.634847640991211, 1.9171791076660156, 13.252649307250977, 3.859797716140747, 1.517299771308899, 1.4602274894714355, 3.301318407058716, 3.5854880809783936, 32.200904846191406, 4.501345157623291, 9.10139274597168, 10.008918762207031, 15.39139175415039, 3.701458215713501, 9.207905769348145, 3.8105831146240234, 9.865975379943848, 13.51447582244873, 16.693866729736328, 15.562954902648926, 9.597090721130371, 10.365748405456543, 10.635762214660645, 11.999388694763184, 5.852508544921875, 9.34608268737793, 9.784164428710938, 13.623735427856445, 8.672611236572266, 9.625445365905762, 7.781631946563721, 5.499009609222412, 6.056210517883301, 10.627236366271973, 8.412140846252441, 9.337969779968262, 9.842279434204102, 8.2973051071167, 7.7548370361328125, 9.084132194519043, 8.528719902038574, 8.53589916229248, 7.808717250823975, 1.4014687538146973, 2.7915186882019043, 1.3670141696929932, 3.326716423034668, 2.789501190185547, 1.4123210906982422, 1.4178130626678467, 1.402225375175476, 1.4008500576019287, 1.4131535291671753, 1.4107049703598022, 1.4128284454345703, 2.0777437686920166, 1.4171764850616455, 1.4043179750442505, 1.3529688119888306, 1.41837739944458, 3.04158091545105, 1.4145828485488892, 1.3388913869857788, 1.2838246822357178, 1.417620062828064, 1.3164092302322388, 2.2602500915527344, 1.384252667427063, 1.414339303970337, 0.7292693853378296, 0.7338027954101562, 0.7183752655982971, 0.7315413951873779, 1.2885760068893433, 1.4205929040908813, 3.758152484893799, 2.2015953063964844, 5.5354905128479, 2.046928882598877, 2.7988977432250977, 4.183681011199951, 4.1886210441589355, 7.467083930969238, 6.8413825035095215, 5.878396034240723, 3.6196744441986084, 3.136627435684204, 2.7993979454040527, 6.7462382316589355, 2.6745753288269043, 5.077820301055908, 4.760456085205078, 2.0946426391601562, 4.002786636352539, 3.616699457168579, 3.375613212585449, 2.3201677799224854, 4.217123031616211, 4.540350914001465, 3.710683584213257, 3.2012336254119873, 2.856273651123047, 3.6117048263549805, 3.4745452404022217, 3.240466833114624, 3.231555223464966, 3.0100157260894775, 3.0979390144348145, 2.9909510612487793, 2.8940463066101074, 2.9024999141693115, 1.7273666858673096, 1.2156809568405151, 0.9730916023254395, 1.1397860050201416, 0.6274961829185486, 0.6251356601715088, 0.6263655424118042, 0.6065663695335388, 0.5527099370956421, 0.6267735362052917, 0.6285338997840881, 0.6278693079948425, 0.6284183859825134, 1.1761140823364258, 0.6283535361289978, 0.6250370740890503, 0.6273049712181091, 0.6242265105247498, 0.6238484978675842, 1.2179045677185059, 0.48458167910575867, 0.6264448761940002, 0.6271020770072937, 0.6281434893608093, 0.6245146989822388, 0.6280660033226013, 0.6275294423103333, 0.6281663179397583, 0.6249176859855652, 1.0888762474060059, 7.251399040222168, 1.5674623250961304, 2.0288286209106445, 1.6584616899490356, 2.5098273754119873, 3.547672986984253, 4.766424655914307, 2.9879629611968994, 1.2214714288711548, 1.8115047216415405, 3.063309669494629, 1.807796597480774, 2.05823016166687, 2.2828359603881836, 1.2181766033172607, 5.246527671813965, 5.467051029205322, 2.405151605606079, 3.096414804458618, 3.6422762870788574, 3.6484625339508057, 3.525413990020752, 1.1106140613555908, 5.031217575073242, 2.4718575477600098, 3.0508804321289062, 2.4738566875457764, 2.8497254848480225, 2.828843832015991, 2.4259533882141113, 2.326443910598755, 2.447183609008789, 2.771733283996582, 2.567817211151123, 2.479083299636841, 2.1314451694488525, 2.1888365745544434, 2.029026985168457, 1.1683177947998047, 1.009840965270996, 1.1863642930984497, 1.195229411125183, 0.9163878560066223, 0.6137586832046509, 1.7487155199050903, 0.6153209805488586, 0.6024785041809082, 0.6150303483009338, 0.614075243473053, 0.9234294295310974, 0.6146124005317688, 0.6095098257064819, 0.6058562397956848, 0.6130778193473816, 0.6141460537910461, 0.6125433444976807, 0.6139320135116577, 0.6071736812591553, 0.6043672561645508, 0.5895624756813049, 1.0932999849319458, 0.582024097442627, 0.5706626176834106, 0.5518338084220886, 0.6152702569961548, 0.6154460310935974, 0.6132512092590332, 0.5499099493026733, 1.7182385921478271, 0.8640077710151672, 1.9086030721664429, 3.3849802017211914, 3.2876946926116943, 1.165936827659607, 1.7088061571121216, 0.82585608959198, 3.157660722732544, 5.272265434265137, 1.10161292552948, 1.8958185911178589, 1.6165833473205566, 1.1909971237182617, 2.6335906982421875, 1.1940793991088867, 1.775551438331604, 1.1624600887298584, 1.5476685762405396, 2.4440126419067383, 1.6207313537597656, 1.1257233619689941, 2.362271785736084, 2.808140277862549, 2.661508321762085, 2.32018780708313, 2.050825834274292, 2.3301663398742676, 1.9456523656845093, 2.8247344493865967, 2.958214521408081, 2.835805654525757, 2.785796642303467, 2.4652745723724365, 2.3552091121673584, 1.9104505777359009, 1.813322901725769, 1.8537498712539673, 1.94991135597229, 1.8820292949676514, 1.8459616899490356, 1.8341776132583618, 1.8129093647003174], \"Term\": [\"emma\", \"little\", \"jane\", \"miss\", \"like\", \"think\", \"elizabeth\", \"sir\", \"good\", \"thing\", \"know\", \"rochester\", \"mother\", \"thought\", \"shall\", \"harriet\", \"fairfax\", \"darcy\", \"sure\", \"elton\", \"time\", \"elinor\", \"marianne\", \"long\", \"weston\", \"day\", \"dear\", \"night\", \"monsieur\", \"house\", \"eshton\", \"dent\", \"burns\", \"lynn\", \"ingram\", \"scatcherd\", \"missis\", \"brocklehurst\", \"storey\", \"stile\", \"celine\", \"varens\", \"miller\", \"bessie\", \"cheese\", \"amy\", \"reed\", \"eyre\", \"moors\", \"lowood\", \"bark\", \"temple\", \"poole\", \"gateshead\", \"dimly\", \"frock\", \"er\", \"carlo\", \"enveloped\", \"devoured\", \"rochester\", \"seacombe\", \"lloyd\", \"thornfield\", \"hannah\", \"adele\", \"pilot\", \"hall\", \"mason\", \"ve\", \"helen\", \"leah\", \"ll\", \"bread\", \"burnt\", \"black\", \"candle\", \"like\", \"face\", \"hair\", \"sir\", \"dark\", \"room\", \"door\", \"asked\", \"st\", \"stood\", \"master\", \"looked\", \"mary\", \"eyes\", \"near\", \"little\", \"heard\", \"night\", \"come\", \"miss\", \"house\", \"yes\", \"thought\", \"day\", \"shall\", \"time\", \"long\", \"hand\", \"saw\", \"good\", \"came\", \"think\", \"jane\", \"know\", \"head\", \"john\", \"went\", \"estrade\", \"grenier\", \"violets\", \"pile\", \"lid\", \"hole\", \"spectral\", \"sleeve\", \"demonstrative\", \"defendue\", \"remnant\", \"wheel\", \"nest\", \"boarders\", \"belles\", \"fifine\", \"hail\", \"platform\", \"bourne\", \"problem\", \"sternly\", \"trod\", \"naked\", \"allee\", \"fiacre\", \"actress\", \"jar\", \"sleeper\", \"appealing\", \"externes\", \"classe\", \"rosine\", \"fossette\", \"dr\", \"crecy\", \"madame\", \"paul\", \"beck\", \"emanuel\", \"rue\", \"paulina\", \"pensionnat\", \"monsieur\", \"pupils\", \"wont\", \"desk\", \"fanshawe\", \"nun\", \"graham\", \"doctor\", \"villette\", \"reuter\", \"corridor\", \"bassompierre\", \"lesson\", \"bretton\", \"est\", \"english\", \"ginevra\", \"teacher\", \"vous\", \"eye\", \"hand\", \"night\", \"little\", \"lucy\", \"garden\", \"eyes\", \"white\", \"thought\", \"knew\", \"like\", \"door\", \"light\", \"know\", \"day\", \"face\", \"good\", \"took\", \"saw\", \"long\", \"looked\", \"half\", \"think\", \"heart\", \"time\", \"moment\", \"came\", \"john\", \"abbey\", \"churchill\", \"knightley\", \"hawkins\", \"randalls\", \"surprized\", \"weston\", \"surprize\", \"richmond\", \"taylor\", \"ford\", \"larkins\", \"smallridge\", \"emma\", \"enscombe\", \"isabella\", \"cole\", \"patty\", \"longstaple\", \"donwell\", \"harriet\", \"martin\", \"hartfield\", \"cox\", \"goddard\", \"elton\", \"windsor\", \"woodhouse\", \"unceasing\", \"grandmama\", \"bates\", \"frank\", \"perry\", \"highbury\", \"campbell\", \"robert\", \"body\", \"smith\", \"thing\", \"fairfax\", \"ferrars\", \"miss\", \"think\", \"sure\", \"dear\", \"great\", \"know\", \"good\", \"oh\", \"time\", \"friend\", \"little\", \"father\", \"jane\", \"man\", \"soon\", \"thought\", \"shall\", \"better\", \"young\", \"come\", \"day\", \"willoughby\", \"cleveland\", \"allenham\", \"combe\", \"denny\", \"barton\", \"palmers\", \"jennings\", \"marianne\", \"unhappiness\", \"magna\", \"brandon\", \"jenkinson\", \"somersetshire\", \"apologising\", \"palmer\", \"curricle\", \"entreaty\", \"recital\", \"enquire\", \"unwillingly\", \"devonshire\", \"middleton\", \"delaford\", \"middletons\", \"enquiry\", \"margaret\", \"effusions\", \"employments\", \"enumerating\", \"elinor\", \"dashwood\", \"norland\", \"dashwoods\", \"cottage\", \"colonel\", \"sister\", \"behaviour\", \"mother\", \"park\", \"edward\", \"affection\", \"surprise\", \"misery\", \"engagement\", \"civility\", \"town\", \"lady\", \"family\", \"soon\", \"time\", \"letter\", \"house\", \"felt\", \"spirits\", \"marriage\", \"left\", \"day\", \"feelings\", \"good\", \"mind\", \"moment\", \"know\", \"heart\", \"little\", \"away\", \"john\", \"think\", \"long\", \"room\", \"shall\", \"man\", \"great\", \"bingley\", \"netherfield\", \"hurst\", \"lucas\", \"kent\", \"darcy\", \"bennet\", \"fitzwilliam\", \"meryton\", \"lucases\", \"wickham\", \"phillips\", \"nonsensical\", \"hertfordshire\", \"officers\", \"bennets\", \"judgement\", \"monday\", \"chooses\", \"longbourn\", \"elizabeth\", \"lizzy\", \"gracechurch\", \"intimately\", \"collins\", \"bourgh\", \"acquaintances\", \"handsomer\", \"militia\", \"corps\", \"pemberley\", \"lydia\", \"catherine\", \"gardiner\", \"caroline\", \"regiment\", \"forster\", \"saturday\", \"everybody\", \"jane\", \"charlotte\", \"uncle\", \"sisters\", \"miss\", \"family\", \"sister\", \"aunt\", \"lady\", \"think\", \"know\", \"soon\", \"dear\", \"father\", \"friend\", \"man\", \"young\", \"replied\", \"good\", \"great\", \"shall\", \"sure\", \"time\", \"little\", \"room\", \"day\", \"mother\", \"skies\", \"atom\", \"healthful\", \"vandenhuten\", \"marchmont\", \"professional\", \"honeymoon\", \"deck\", \"philanthropy\", \"handwriting\", \"chestnut\", \"insane\", \"unmarried\", \"india\", \"victor\", \"abide\", \"missionary\", \"yorke\", \"maniac\", \"crack\", \"contains\", \"suns\", \"imbecile\", \"mound\", \"quarrelled\", \"reminiscences\", \"beer\", \"rosamond\", \"assign\", \"ambitious\", \"anguish\", \"bone\", \"indian\", \"god\", \"maker\", \"graham\", \"higher\", \"terrasse\", \"bretton\", \"life\", \"love\", \"papa\", \"jane\", \"live\", \"heart\", \"existence\", \"loved\", \"long\", \"farewell\", \"know\", \"sun\", \"shall\", \"death\", \"like\", \"hand\", \"thought\", \"look\", \"good\", \"letter\", \"time\", \"come\", \"man\", \"mind\", \"little\", \"night\", \"strange\", \"feel\", \"sir\", \"saw\", \"read\", \"old\", \"day\", \"home\", \"away\", \"think\", \"soon\", \"left\", \"walravens\", \"garcon\", \"isidore\", \"justine\", \"betook\", \"alfred\", \"non\", \"soit\", \"les\", \"peut\", \"troop\", \"oratory\", \"quel\", \"soir\", \"marie\", \"felicitations\", \"treats\", \"shrine\", \"pierre\", \"storeroom\", \"qu\", \"magi\", \"ou\", \"leaved\", \"grimaces\", \"numero\", \"mystic\", \"ces\", \"etre\", \"infirm\", \"equivalent\", \"des\", \"cholmondeley\", \"que\", \"et\", \"vous\", \"etes\", \"mon\", \"priest\", \"ne\", \"madame\", \"il\", \"pas\", \"je\", \"beck\", \"ginevra\", \"est\", \"la\", \"paul\", \"elle\", \"emanuel\", \"mais\", \"moi\", \"like\", \"fanshawe\", \"little\", \"le\", \"knew\", \"day\", \"turned\", \"thought\", \"old\", \"know\", \"good\", \"stood\", \"round\", \"long\", \"away\", \"looked\", \"man\", \"time\", \"shall\", \"look\", \"night\", \"far\", \"door\", \"belgian\", \"devoirs\", \"patrician\", \"morals\", \"flamand\", \"dissimulation\", \"pelet\", \"subside\", \"irritating\", \"rests\", \"sarah\", \"growth\", \"mud\", \"sarcastic\", \"gall\", \"assiduous\", \"belgium\", \"director\", \"deformity\", \"parisian\", \"deportment\", \"repugnance\", \"tutor\", \"extorted\", \"bigben\", \"mischievous\", \"external\", \"serenity\", \"punctuality\", \"promptitude\", \"zoraide\", \"intelligent\", \"hunsden\", \"crimsworth\", \"graces\", \"frances\", \"directress\", \"prosperity\", \"mental\", \"establishment\", \"pupils\", \"mien\", \"mdlle\", \"capacity\", \"reuter\", \"pupil\", \"features\", \"english\", \"certain\", \"thought\", \"having\", \"like\", \"boys\", \"man\", \"degree\", \"little\", \"poor\", \"pleasure\", \"eyes\", \"time\", \"young\", \"mind\", \"saw\", \"day\", \"good\", \"face\", \"long\", \"looked\", \"soon\", \"heart\", \"felt\", \"look\", \"mender\", \"switzerland\", \"insight\", \"wider\", \"frances\", \"shelves\", \"franc\", \"swiss\", \"evans\", \"interrupting\", \"rainbow\", \"fee\", \"joys\", \"dishes\", \"boasting\", \"embers\", \"enlarged\", \"henri\", \"swung\", \"administered\", \"lui\", \"maintaining\", \"exchanging\", \"comments\", \"attics\", \"concisely\", \"consists\", \"diffused\", \"scotch\", \"publicity\", \"notre\", \"hunsden\", \"mdlle\", \"august\", \"monsieur\", \"lace\", \"pieces\", \"cup\", \"mademoiselle\", \"english\", \"francs\", \"reuter\", \"england\", \"diana\", \"brussels\", \"rivers\", \"grate\", \"french\", \"little\", \"old\", \"long\", \"yes\", \"shall\", \"mary\", \"time\", \"asked\", \"evening\", \"house\", \"live\", \"think\", \"like\", \"speak\", \"tell\", \"day\", \"room\", \"good\", \"knew\", \"soon\", \"come\", \"night\", \"came\", \"charade\", \"gruel\", \"leg\", \"unwholesome\", \"bathing\", \"colds\", \"hardships\", \"boiled\", \"knightleys\", \"prose\", \"richard\", \"disposal\", \"poet\", \"sacrifices\", \"performances\", \"exploring\", \"winning\", \"headache\", \"riddle\", \"carter\", \"sparkled\", \"anecdote\", \"triumphantly\", \"truths\", \"copied\", \"undone\", \"reckon\", \"lengths\", \"harp\", \"sickly\", \"wives\", \"talker\", \"likeness\", \"eltons\", \"talents\", \"clever\", \"fairfax\", \"parties\", \"perry\", \"sea\", \"dear\", \"jane\", \"emma\", \"woodhouse\", \"thing\", \"elton\", \"bates\", \"little\", \"shall\", \"children\", \"miss\", \"thousand\", \"body\", \"like\", \"know\", \"inquiry\", \"sure\", \"oh\", \"let\", \"air\", \"harriet\", \"good\", \"pretty\", \"evening\", \"soon\", \"time\", \"think\", \"better\", \"great\", \"away\", \"come\", \"selina\", \"cultivated\", \"boarder\", \"surry\", \"barouche\", \"swiss\", \"nation\", \"fathers\", \"maple\", \"devoting\", \"pomp\", \"denote\", \"ninety\", \"kings\", \"bath\", \"comprehending\", \"military\", \"panel\", \"luxury\", \"grove\", \"seas\", \"flown\", \"antagonist\", \"protestants\", \"belgium\", \"alliance\", \"dingy\", \"explore\", \"sneered\", \"pushing\", \"resources\", \"rome\", \"nash\", \"musical\", \"associations\", \"greatness\", \"highbury\", \"elton\", \"society\", \"hartfield\", \"good\", \"country\", \"woodhouse\", \"emma\", \"sort\", \"like\", \"woman\", \"body\", \"church\", \"little\", \"weston\", \"people\", \"thought\", \"father\", \"great\", \"miss\", \"harriet\", \"think\", \"house\", \"love\", \"thing\", \"shall\", \"man\", \"world\", \"place\", \"time\", \"way\", \"know\", \"briggs\", \"portfolio\", \"jump\", \"kisses\", \"adoption\", \"rays\", \"fetters\", \"gall\", \"storms\", \"decease\", \"militia\", \"committed\", \"funeral\", \"captain\", \"experiment\", \"estate\", \"chances\", \"dishevelled\", \"military\", \"scowled\", \"relatives\", \"appreciating\", \"generations\", \"shudder\", \"banker\", \"recurrence\", \"petit\", \"luxuries\", \"aspire\", \"exchanging\", \"janet\", \"cake\", \"lodge\", \"swelled\", \"pounds\", \"surgeon\", \"adele\", \"farewell\", \"including\", \"rumour\", \"henry\", \"rough\", \"sir\", \"property\", \"thousand\", \"fortune\", \"rochester\", \"veil\", \"dashwood\", \"kiss\", \"years\", \"yes\", \"long\", \"jane\", \"family\", \"father\", \"life\", \"come\", \"ll\", \"place\", \"john\", \"little\", \"old\", \"away\", \"fairfax\", \"easy\", \"son\", \"good\", \"night\", \"shall\", \"like\", \"way\", \"half\", \"think\", \"time\", \"miss\", \"felt\", \"amounted\", \"boards\", \"enfin\", \"attic\", \"climax\", \"philanthropist\", \"vicar\", \"assez\", \"collation\", \"chink\", \"vases\", \"complacent\", \"throne\", \"nailed\", \"legitimate\", \"glide\", \"nations\", \"carter\", \"rubber\", \"encore\", \"rats\", \"copying\", \"submissive\", \"demoiselles\", \"enormous\", \"communicative\", \"despotism\", \"belgians\", \"fifth\", \"enlarge\", \"cloaks\", \"messieurs\", \"bien\", \"dawn\", \"est\", \"limited\", \"boys\", \"pelet\", \"hunsden\", \"night\", \"look\", \"old\", \"laugh\", \"et\", \"windows\", \"like\", \"que\", \"looked\", \"sir\", \"superiority\", \"head\", \"began\", \"hands\", \"curtain\", \"house\", \"thought\", \"speak\", \"answer\", \"self\", \"little\", \"time\", \"way\", \"think\", \"door\", \"good\", \"day\", \"people\", \"long\", \"document\", \"bedrooms\", \"agonies\", \"brushed\", \"enlarge\", \"unprepared\", \"aerial\", \"forwarded\", \"resided\", \"chalk\", \"richer\", \"cheap\", \"sixpence\", \"preparations\", \"housekeeping\", \"plebeian\", \"airing\", \"lighting\", \"sickening\", \"expenses\", \"nobleman\", \"tranquilly\", \"xvii\", \"discharging\", \"scrape\", \"unkind\", \"amazing\", \"fulfil\", \"unfrequently\", \"annum\", \"pounds\", \"elderly\", \"millcote\", \"salary\", \"shire\", \"thornfield\", \"year\", \"comfortable\", \"involuntarily\", \"income\", \"thousand\", \"assistance\", \"getting\", \"fortnight\", \"tied\", \"sure\", \"mother\", \"expect\", \"live\", \"certainly\", \"rochester\", \"fairfax\", \"spectacles\", \"think\", \"kept\", \"father\", \"dashwood\", \"half\", \"lady\", \"years\", \"new\", \"kind\", \"little\", \"shall\", \"thing\", \"given\", \"house\", \"hands\", \"peak\", \"lied\", \"portfolio\", \"average\", \"harangue\", \"despotism\", \"drawings\", \"albion\", \"dishevelled\", \"enounced\", \"reluctantly\", \"amour\", \"paramount\", \"slippery\", \"confidential\", \"regularity\", \"scrupled\", \"eyelid\", \"inflicting\", \"reminiscences\", \"conversations\", \"reported\", \"tints\", \"expanse\", \"obeying\", \"mal\", \"paragraph\", \"levity\", \"interior\", \"contour\", \"traced\", \"propre\", \"elle\", \"henri\", \"georgiana\", \"visage\", \"pencil\", \"bracelet\", \"mdlle\", \"monsieur\", \"sketch\", \"directress\", \"secured\", \"capacity\", \"mademoiselle\", \"firmness\", \"accent\", \"hints\", \"pictures\", \"book\", \"eliza\", \"volume\", \"natural\", \"asked\", \"course\", \"wanted\", \"english\", \"word\", \"scarcely\", \"good\", \"little\", \"know\", \"time\", \"saw\", \"day\", \"doubt\", \"power\", \"voice\", \"thought\", \"young\", \"look\", \"face\", \"looked\"], \"Total\": [836.0, 1711.0, 931.0, 1535.0, 1318.0, 1312.0, 657.0, 596.0, 1349.0, 776.0, 1437.0, 357.0, 672.0, 1136.0, 920.0, 510.0, 361.0, 424.0, 614.0, 370.0, 1315.0, 695.0, 576.0, 934.0, 427.0, 1058.0, 587.0, 622.0, 272.0, 753.0, 29.769678115844727, 29.768342971801758, 32.7453498840332, 20.79205322265625, 89.65486907958984, 23.765348434448242, 20.78993034362793, 56.33330154418945, 17.764951705932617, 14.803709983825684, 14.798888206481934, 12.804265975952148, 24.786771774291992, 131.2548065185547, 11.800695419311523, 10.819720268249512, 129.76116943359375, 101.50421905517578, 10.80615234375, 55.07012939453125, 12.724902153015137, 75.52149963378906, 32.59001541137695, 43.490379333496094, 11.798227310180664, 14.716060638427734, 10.79045295715332, 8.819639205932617, 7.823838233947754, 7.819483280181885, 357.6254577636719, 17.81000328063965, 12.80346965789795, 96.67613220214844, 41.163883209228516, 132.3813934326172, 24.08167839050293, 173.19212341308594, 60.76022720336914, 48.33586120605469, 63.40473937988281, 26.796537399291992, 146.99009704589844, 72.96050262451172, 26.528215408325195, 181.7585906982422, 62.30686950683594, 1318.322021484375, 499.7835693359375, 188.7444305419922, 596.8228759765625, 229.2715301513672, 893.5274047851562, 537.1060180664062, 396.8655700683594, 192.40350341796875, 324.0571594238281, 203.36050415039062, 696.6025390625, 149.65667724609375, 639.0067138671875, 363.0433349609375, 1711.303955078125, 625.4179077148438, 622.1301879882812, 829.6066284179688, 1535.201171875, 753.0234985351562, 597.40869140625, 1136.64501953125, 1058.3133544921875, 920.8321533203125, 1315.1287841796875, 934.7659912109375, 617.955322265625, 778.388671875, 1349.9097900390625, 691.6630859375, 1312.843017578125, 931.6487426757812, 1437.9232177734375, 408.0291442871094, 626.8323364257812, 495.0291442871094, 38.79080581665039, 10.847350120544434, 9.85464096069336, 9.848904609680176, 14.846787452697754, 8.842225074768066, 10.824058532714844, 11.806361198425293, 7.850949287414551, 8.838369369506836, 7.837658405303955, 8.847582817077637, 7.829840183258057, 15.727578163146973, 6.852334022521973, 12.742515563964844, 6.850261688232422, 6.851779937744141, 7.804251194000244, 6.830964088439941, 11.823237419128418, 6.825112342834473, 6.831019878387451, 9.834376335144043, 10.836541175842285, 5.846545219421387, 6.821274280548096, 5.83017635345459, 5.850768089294434, 6.848695278167725, 63.9361572265625, 36.180206298828125, 49.973873138427734, 234.76907348632812, 21.578933715820312, 400.6318054199219, 180.87693786621094, 162.0494384765625, 106.37031555175781, 72.66860961914062, 83.62407684326172, 35.618370056152344, 272.3963317871094, 152.60523986816406, 17.592329025268555, 102.84416198730469, 85.21279907226562, 43.60260772705078, 224.62210083007812, 49.4596061706543, 53.469329833984375, 75.3522720336914, 33.92752456665039, 74.15609741210938, 68.99417114257812, 241.54403686523438, 104.93951416015625, 223.40008544921875, 108.48047637939453, 71.98876190185547, 112.77458190917969, 399.3758850097656, 617.955322265625, 622.1301879882812, 1711.303955078125, 379.02166748046875, 174.7835693359375, 639.0067138671875, 236.55477905273438, 1136.64501953125, 547.4459228515625, 1318.322021484375, 537.1060180664062, 309.66827392578125, 1437.9232177734375, 1058.3133544921875, 499.7835693359375, 1349.9097900390625, 497.52386474609375, 778.388671875, 934.7659912109375, 696.6025390625, 589.8003540039062, 1312.843017578125, 655.045166015625, 1315.1287841796875, 582.5032958984375, 691.6630859375, 626.8323364257812, 31.300825119018555, 218.98556518554688, 379.73455810546875, 19.52112579345703, 88.29247283935547, 32.132503509521484, 427.5873107910156, 37.00839614868164, 13.620099067687988, 49.45222854614258, 16.570417404174805, 13.623725891113281, 10.664054870605469, 836.7694091796875, 35.68390655517578, 67.50457763671875, 60.71664047241211, 12.638361930847168, 8.69686222076416, 48.16613006591797, 510.0738525390625, 84.01485443115234, 154.5937042236328, 8.71013069152832, 57.683006286621094, 370.42205810546875, 6.743752479553223, 300.20428466796875, 6.622170448303223, 13.409276008605957, 145.85780334472656, 234.0853271484375, 76.87508392333984, 119.58160400390625, 50.64103698730469, 78.72866821289062, 271.91015625, 112.86752319335938, 776.861572265625, 361.6500244140625, 130.11131286621094, 1535.201171875, 1312.843017578125, 614.3060302734375, 587.644287109375, 824.400634765625, 1437.9232177734375, 1349.9097900390625, 561.019775390625, 1315.1287841796875, 439.7362976074219, 1711.303955078125, 506.703857421875, 931.6487426757812, 906.4302978515625, 928.2269897460938, 1136.64501953125, 920.8321533203125, 616.3026123046875, 664.60986328125, 829.6066284179688, 1058.3133544921875, 221.08457946777344, 28.354761123657227, 19.205665588378906, 17.161479949951172, 13.080284118652344, 91.373046875, 11.046479225158691, 234.89422607421875, 576.5379638671875, 12.051371574401855, 12.059596061706543, 147.20050048828125, 9.982404708862305, 8.999185562133789, 7.978909015655518, 79.12556457519531, 6.9673991203308105, 15.082303047180176, 6.966081619262695, 6.962825775146484, 6.962237358093262, 27.318166732788086, 104.5054931640625, 31.301280975341797, 20.159482955932617, 5.9468159675598145, 37.40046691894531, 5.851457118988037, 13.02039623260498, 5.806338310241699, 695.29541015625, 251.8048858642578, 53.60640335083008, 37.27101135253906, 85.87185668945312, 312.8284912109375, 600.0645141601562, 148.11642456054688, 672.6717529296875, 124.50059509277344, 318.2149353027344, 265.71734619140625, 131.6837615966797, 66.10232543945312, 116.63262939453125, 80.49822235107422, 241.1017303466797, 629.2303466796875, 384.7996826171875, 928.2269897460938, 1315.1287841796875, 431.123291015625, 753.0234985351562, 669.9373168945312, 229.3802490234375, 186.5703125, 539.5075073242188, 1058.3133544921875, 383.83013916015625, 1349.9097900390625, 572.1754760742188, 582.5032958984375, 1437.9232177734375, 655.045166015625, 1711.303955078125, 678.7371215820312, 626.8323364257812, 1312.843017578125, 934.7659912109375, 893.5274047851562, 920.8321533203125, 906.4302978515625, 824.400634765625, 311.9712829589844, 75.07890319824219, 37.456298828125, 71.9843978881836, 15.093209266662598, 424.2189025878906, 328.7286682128906, 37.47894287109375, 58.701419830322266, 15.093069076538086, 198.3105926513672, 32.3942985534668, 5.904942989349365, 42.49775314331055, 33.38615036010742, 11.026554107666016, 12.043425559997559, 16.571176528930664, 9.86921215057373, 89.91706085205078, 657.771240234375, 99.24940490722656, 9.887314796447754, 9.731008529663086, 182.5406036376953, 40.551025390625, 14.956976890563965, 6.781408786773682, 8.467253684997559, 8.917370796203613, 54.708499908447266, 174.6694793701172, 132.86032104492188, 97.29602813720703, 26.032609939575195, 26.942176818847656, 40.47774124145508, 26.727510452270508, 67.10507202148438, 931.6487426757812, 115.73534393310547, 154.67459106445312, 188.2212677001953, 1535.201171875, 384.7996826171875, 600.0645141601562, 182.3897705078125, 629.2303466796875, 1312.843017578125, 1437.9232177734375, 928.2269897460938, 587.644287109375, 506.703857421875, 439.7362976074219, 906.4302978515625, 664.60986328125, 352.7425231933594, 1349.9097900390625, 824.400634765625, 920.8321533203125, 614.3060302734375, 1315.1287841796875, 1711.303955078125, 893.5274047851562, 1058.3133544921875, 672.6717529296875, 5.7576398849487305, 5.740237712860107, 5.736391067504883, 21.428464889526367, 14.61778450012207, 7.533020973205566, 6.6626296043396, 8.583590507507324, 5.755771160125732, 11.47495174407959, 11.432351112365723, 9.574287414550781, 6.555946350097656, 20.83116912841797, 23.097930908203125, 6.767234802246094, 18.47890853881836, 13.214497566223145, 6.756846904754639, 5.773820400238037, 5.788516521453857, 6.574251174926758, 5.639387130737305, 5.776914119720459, 11.588152885437012, 5.360927581787109, 10.657342910766602, 16.63462257385254, 7.74060583114624, 11.57530403137207, 24.608640670776367, 16.499784469604492, 19.472726821899414, 227.45025634765625, 9.470556259155273, 224.62210083007812, 43.800933837890625, 18.672204971313477, 241.54403686523438, 580.682373046875, 569.2644653320312, 171.39402770996094, 931.6487426757812, 210.7229461669922, 655.045166015625, 78.88874053955078, 130.2869110107422, 934.7659912109375, 32.0369873046875, 1437.9232177734375, 103.91436767578125, 920.8321533203125, 136.39418029785156, 1318.322021484375, 617.955322265625, 1136.64501953125, 637.3973999023438, 1349.9097900390625, 431.123291015625, 1315.1287841796875, 829.6066284179688, 906.4302978515625, 572.1754760742188, 1711.303955078125, 622.1301879882812, 252.80751037597656, 401.04583740234375, 596.8228759765625, 778.388671875, 317.510009765625, 473.1364440917969, 1058.3133544921875, 494.7293701171875, 678.7371215820312, 1312.843017578125, 928.2269897460938, 539.5075073242188, 22.174894332885742, 5.274179458618164, 22.496164321899414, 21.751073837280273, 5.338650226593018, 17.92432975769043, 7.984318733215332, 9.049799919128418, 36.327239990234375, 6.172605037689209, 8.142569541931152, 9.0934419631958, 9.087804794311523, 9.092105865478516, 28.373945236206055, 7.175186634063721, 6.313762664794922, 8.185981750488281, 29.632099151611328, 5.125701904296875, 29.250530242919922, 5.257888317108154, 14.196311950683594, 7.047276496887207, 5.165456771850586, 5.41389799118042, 7.123236179351807, 7.209899425506592, 6.395450592041016, 5.4419684410095215, 9.18675422668457, 32.22260284423828, 22.11138916015625, 59.55167770385742, 81.30491638183594, 112.77458190917969, 12.96038818359375, 37.25034713745117, 36.60790252685547, 34.5633544921875, 400.6318054199219, 41.166812896728516, 58.13836669921875, 69.32058715820312, 162.0494384765625, 108.48047637939453, 104.93951416015625, 102.46637725830078, 180.87693786621094, 23.755338668823242, 106.37031555175781, 30.31931495666504, 24.504737854003906, 1318.322021484375, 85.21279907226562, 1711.303955078125, 44.86812973022461, 547.4459228515625, 1058.3133544921875, 337.9656066894531, 1136.64501953125, 473.1364440917969, 1437.9232177734375, 1349.9097900390625, 324.0571594238281, 352.5898132324219, 934.7659912109375, 678.7371215820312, 696.6025390625, 906.4302978515625, 1315.1287841796875, 920.8321533203125, 637.3973999023438, 622.1301879882812, 463.09539794921875, 537.1060180664062, 14.90865707397461, 6.087055206298828, 6.838160037994385, 5.180847644805908, 5.310677528381348, 5.342785358428955, 99.46903228759766, 6.153700828552246, 5.127634525299072, 6.361318588256836, 6.376720428466797, 9.057991981506348, 5.34989595413208, 10.81920337677002, 5.853927135467529, 7.246120929718018, 13.611087799072266, 14.40955924987793, 6.195683479309082, 7.952080726623535, 6.339229106903076, 6.3934245109558105, 6.309933662414551, 6.394271373748779, 6.38965368270874, 5.39025354385376, 9.894487380981445, 11.859428405761719, 9.153077125549316, 6.4279327392578125, 26.616283416748047, 28.134946823120117, 138.29922485351562, 95.93534851074219, 15.503678321838379, 107.11143493652344, 43.99851989746094, 17.987207412719727, 41.35956573486328, 70.12010192871094, 152.60523986816406, 31.045225143432617, 106.47109985351562, 21.04556655883789, 75.3522720336914, 94.93531799316406, 129.08169555664062, 223.40008544921875, 336.67340087890625, 1136.64501953125, 538.3978271484375, 1318.322021484375, 41.769229888916016, 906.4302978515625, 141.6651153564453, 1711.303955078125, 389.216064453125, 448.6188049316406, 639.0067138671875, 1315.1287841796875, 664.60986328125, 572.1754760742188, 778.388671875, 1058.3133544921875, 1349.9097900390625, 499.7835693359375, 934.7659912109375, 696.6025390625, 928.2269897460938, 655.045166015625, 669.9373168945312, 637.3973999023438, 8.880858421325684, 10.387948036193848, 5.043181419372559, 5.258050441741943, 107.11143493652344, 5.42957878112793, 7.2495269775390625, 12.648153305053711, 7.953237533569336, 6.034482955932617, 8.3627290725708, 6.463604927062988, 5.537590503692627, 7.1305928230285645, 6.551836967468262, 7.474024772644043, 6.127118110656738, 50.113162994384766, 5.226661682128906, 5.329023838043213, 5.218753337860107, 5.442558288574219, 5.358584880828857, 5.573280334472656, 5.466521263122559, 5.621156692504883, 8.26562786102295, 8.311975479125977, 15.000877380371094, 5.388843536376953, 5.618088722229004, 138.29922485351562, 106.47109985351562, 13.935810089111328, 272.3963317871094, 55.10393524169922, 16.638469696044922, 54.349998474121094, 114.24453735351562, 223.40008544921875, 22.20827293395996, 75.3522720336914, 124.0102310180664, 73.61128997802734, 35.748878479003906, 58.76238250732422, 16.743793487548828, 156.88279724121094, 1711.303955078125, 473.1364440917969, 934.7659912109375, 597.40869140625, 920.8321533203125, 149.65667724609375, 1315.1287841796875, 396.8655700683594, 484.99676513671875, 753.0234985351562, 210.7229461669922, 1312.843017578125, 1318.322021484375, 446.22381591796875, 544.8726196289062, 1058.3133544921875, 893.5274047851562, 1349.9097900390625, 547.4459228515625, 928.2269897460938, 829.6066284179688, 622.1301879882812, 691.6630859375, 19.413280487060547, 10.028387069702148, 8.729364395141602, 7.62830114364624, 8.042825698852539, 6.196227073669434, 6.195488452911377, 8.991783142089844, 7.153811931610107, 5.0594482421875, 10.766900062561035, 8.325845718383789, 5.295548915863037, 5.185052871704102, 5.383443355560303, 10.50771713256836, 5.411439895629883, 11.761398315429688, 12.60734748840332, 15.17688274383545, 7.1436614990234375, 6.327371120452881, 5.167416095733643, 8.263511657714844, 8.164620399475098, 5.168034076690674, 6.216351509094238, 6.2676520347595215, 6.389286994934082, 15.849233627319336, 11.98853874206543, 10.690346717834473, 37.12485885620117, 21.288288116455078, 29.992637634277344, 61.959571838378906, 361.6500244140625, 61.50328826904297, 76.87508392333984, 62.895809173583984, 587.644287109375, 931.6487426757812, 836.7694091796875, 300.20428466796875, 776.861572265625, 370.42205810546875, 145.85780334472656, 1711.303955078125, 920.8321533203125, 209.53680419921875, 1535.201171875, 133.40170288085938, 271.91015625, 1318.322021484375, 1437.9232177734375, 62.18060302734375, 614.3060302734375, 561.019775390625, 463.2886657714844, 262.66278076171875, 510.0738525390625, 1349.9097900390625, 232.61605834960938, 484.99676513671875, 928.2269897460938, 1315.1287841796875, 1312.843017578125, 616.3026123046875, 824.400634765625, 678.7371215820312, 829.6066284179688, 9.469255447387695, 5.1357340812683105, 5.229375839233398, 8.711687088012695, 9.403914451599121, 12.648153305053711, 7.8579630851745605, 6.034546375274658, 27.96377182006836, 6.084141254425049, 6.176268100738525, 6.192861080169678, 6.104960918426514, 7.125715255737305, 22.538331985473633, 6.299413204193115, 5.069690704345703, 7.229872703552246, 12.642607688903809, 36.859561920166016, 8.018157958984375, 5.386394500732422, 5.412098407745361, 7.291806221008301, 13.611087799072266, 15.585887908935547, 7.190013408660889, 6.3801445960998535, 6.415792465209961, 6.281545162200928, 18.21889877319336, 20.613739013671875, 12.904328346252441, 25.891559600830078, 13.654312133789062, 14.624344825744629, 119.58160400390625, 370.42205810546875, 149.3767852783203, 154.5937042236328, 1349.9097900390625, 169.73756408691406, 300.20428466796875, 836.7694091796875, 358.0980529785156, 1318.322021484375, 469.1194763183594, 271.91015625, 114.92034912109375, 1711.303955078125, 427.5873107910156, 338.3746337890625, 1136.64501953125, 506.703857421875, 824.400634765625, 1535.201171875, 510.0738525390625, 1312.843017578125, 753.0234985351562, 569.2644653320312, 776.861572265625, 920.8321533203125, 906.4302978515625, 414.5849304199219, 506.35369873046875, 1315.1287841796875, 686.8895263671875, 1437.9232177734375, 14.0886869430542, 6.977304458618164, 4.855775356292725, 7.927911281585693, 5.3579936027526855, 5.30322265625, 5.3785400390625, 5.853927135467529, 7.156390190124512, 7.360223770141602, 8.467253684997559, 12.388309478759766, 8.30708122253418, 13.10527515411377, 9.276625633239746, 54.90135192871094, 9.212017059326172, 5.02720308303833, 5.069690704345703, 5.248661994934082, 10.260601043701172, 5.265372276306152, 10.231416702270508, 5.271757125854492, 5.331014633178711, 5.248351097106934, 5.33253288269043, 5.335961818695068, 5.372861862182617, 5.358584880828857, 19.836727142333984, 26.769025802612305, 22.93050765991211, 15.692163467407227, 93.47061157226562, 13.974093437194824, 132.3813934326172, 32.0369873046875, 11.028505325317383, 10.688441276550293, 30.223051071166992, 34.1537971496582, 596.8228759765625, 46.386653900146484, 133.40170288085938, 169.942626953125, 357.6254577636719, 37.5401725769043, 251.8048858642578, 47.84293746948242, 314.5030212402344, 597.40869140625, 934.7659912109375, 931.6487426757812, 384.7996826171875, 506.703857421875, 580.682373046875, 829.6066284179688, 146.99009704589844, 506.35369873046875, 626.8323364257812, 1711.303955078125, 473.1364440917969, 678.7371215820312, 361.6500244140625, 133.25706481933594, 193.09442138671875, 1349.9097900390625, 622.1301879882812, 920.8321533203125, 1318.322021484375, 686.8895263671875, 589.8003540039062, 1312.843017578125, 1315.1287841796875, 1535.201171875, 669.9373168945312, 5.182773590087891, 10.591093063354492, 5.250540733337402, 12.871136665344238, 11.553813934326172, 5.885690689086914, 5.939058303833008, 5.8777360916137695, 5.876871109008789, 5.9679083824157715, 5.959191799163818, 6.013417720794678, 8.901921272277832, 6.194113731384277, 6.2072906494140625, 6.233053684234619, 6.864881992340088, 15.17688274383545, 7.083588600158691, 7.0490899085998535, 7.038091659545898, 8.011760711669922, 8.00645923614502, 14.17432689666748, 8.793272972106934, 9.61223030090332, 4.963425636291504, 5.001089096069336, 4.96854829788208, 5.079658031463623, 9.028875350952148, 11.854812622070312, 45.5371208190918, 22.159881591796875, 104.93951416015625, 22.12799835205078, 41.769229888916016, 99.46903228759766, 138.29922485351562, 622.1301879882812, 637.3973999023438, 473.1364440917969, 123.44445037841797, 81.30491638183594, 60.90632629394531, 1318.322021484375, 59.55167770385742, 696.6025390625, 596.8228759765625, 28.1126708984375, 408.0291442871094, 300.80133056640625, 230.39321899414062, 48.22191619873047, 753.0234985351562, 1136.64501953125, 446.22381591796875, 352.249755859375, 214.77151489257812, 1711.303955078125, 1315.1287841796875, 686.8895263671875, 1312.843017578125, 537.1060180664062, 1349.9097900390625, 1058.3133544921875, 338.3746337890625, 934.7659912109375, 6.656902313232422, 6.472622871398926, 6.195524215698242, 7.548912048339844, 5.079658031463623, 5.373409748077393, 5.3938469886779785, 5.476953506469727, 5.274150848388672, 5.9974775314331055, 6.147019863128662, 6.14651346206665, 6.167229175567627, 11.754515647888184, 6.284148216247559, 6.300134181976318, 6.379610061645508, 6.415035724639893, 6.412320613861084, 12.813955307006836, 5.101587295532227, 7.006753444671631, 7.033056735992432, 7.069523334503174, 7.075738906860352, 7.133153438568115, 7.188662528991699, 7.218353271484375, 7.199536323547363, 12.641430854797363, 93.47061157226562, 19.453847885131836, 27.740253448486328, 22.54188346862793, 41.95613479614258, 96.67613220214844, 179.4836883544922, 88.98955535888672, 22.780113220214844, 48.635746002197266, 133.40170288085938, 51.27073287963867, 69.27852630615234, 88.6482925415039, 25.366748809814453, 614.3060302734375, 672.6717529296875, 119.24202728271484, 210.7229461669922, 333.3816223144531, 357.6254577636719, 361.6500244140625, 21.657989501953125, 1312.843017578125, 209.750732421875, 506.703857421875, 251.8048858642578, 589.8003540039062, 629.2303466796875, 314.5030212402344, 293.46917724609375, 409.45263671875, 1711.303955078125, 920.8321533203125, 776.861572265625, 331.15771484375, 753.0234985351562, 230.39321899414062, 4.646723747253418, 5.004115581512451, 6.977304458618164, 7.577822685241699, 6.1691741943359375, 4.963425636291504, 14.267498016357422, 5.117847919464111, 5.02720308303833, 5.154374122619629, 5.205303192138672, 7.842060565948486, 5.2590203285217285, 5.267606735229492, 5.270883083343506, 5.339868545532227, 5.365571975708008, 5.3671722412109375, 5.401449203491211, 5.360927581787109, 5.414062023162842, 5.317708969116211, 9.92795467376709, 5.301611423492432, 5.454356670379639, 5.387101173400879, 6.013100624084473, 6.073544502258301, 6.082065105438232, 5.4553070068359375, 19.035890579223633, 8.973479270935059, 23.755338668823242, 50.113162994384766, 58.39790344238281, 15.396462440490723, 31.952991485595703, 9.559540748596191, 106.47109985351562, 272.3963317871094, 16.06183624267578, 43.99851989746094, 35.31624221801758, 21.04556655883789, 114.24453735351562, 22.450714111328125, 53.2556266784668, 21.79703712463379, 41.82652282714844, 166.29769897460938, 60.18552017211914, 23.958690643310547, 183.84613037109375, 396.8655700683594, 340.51605224609375, 233.27743530273438, 223.40008544921875, 393.00079345703125, 200.4090576171875, 1349.9097900390625, 1711.303955078125, 1437.9232177734375, 1315.1287841796875, 778.388671875, 1058.3133544921875, 315.4515075683594, 248.78233337402344, 395.43505859375, 1136.64501953125, 664.60986328125, 637.3973999023438, 499.7835693359375, 696.6025390625], \"loglift\": [30.0, 29.0, 28.0, 27.0, 26.0, 25.0, 24.0, 23.0, 22.0, 21.0, 20.0, 19.0, 18.0, 17.0, 16.0, 15.0, 14.0, 13.0, 12.0, 11.0, 10.0, 9.0, 8.0, 7.0, 6.0, 5.0, 4.0, 3.0, 2.0, 1.0, 1.510699987411499, 1.5104000568389893, 1.5061999559402466, 1.4983999729156494, 1.4982000589370728, 1.4977999925613403, 1.489799976348877, 1.4846999645233154, 1.4831000566482544, 1.4807000160217285, 1.4774999618530273, 1.469099998474121, 1.466599941253662, 1.4635000228881836, 1.4631999731063843, 1.4620000123977661, 1.4572999477386475, 1.4571000337600708, 1.4479999542236328, 1.4452999830245972, 1.4448000192642212, 1.4420000314712524, 1.4412000179290771, 1.4385000467300415, 1.4354000091552734, 1.4347000122070312, 1.4337999820709229, 1.4319000244140625, 1.4290000200271606, 1.4284000396728516, 1.412500023841858, 1.427299976348877, 1.424399971961975, 1.3759000301361084, 1.3991999626159668, 1.3623000383377075, 1.4107999801635742, 1.2425999641418457, 1.3257999420166016, 1.343999981880188, 1.3179999589920044, 1.3792999982833862, 1.1557999849319458, 1.197100043296814, 1.3767000436782837, 1.0210000276565552, 1.198099970817566, 0.49970000982284546, 0.7080000042915344, 0.9107000231742859, 0.5879999995231628, 0.8409000039100647, 0.4456999897956848, 0.5874999761581421, 0.6733999848365784, 0.8823999762535095, 0.708299994468689, 0.8467000126838684, 0.3944999873638153, 0.9401999711990356, 0.4106000065803528, 0.5968000292778015, -0.021199999377131462, 0.3750999867916107, 0.3725999891757965, 0.23970000445842743, -0.044599998742341995, 0.2612999975681305, 0.3490000069141388, 0.011300000362098217, -0.0003000000142492354, 0.07450000196695328, -0.13109999895095825, 0.02930000051856041, 0.26750001311302185, 0.11789999902248383, -0.2563999891281128, 0.16940000653266907, -0.30329999327659607, -0.08760000020265579, -0.492900013923645, 0.513700008392334, 0.11129999905824661, 0.320499986410141, 1.6863000392913818, 1.6506999731063843, 1.645900011062622, 1.6449999809265137, 1.6306999921798706, 1.6283999681472778, 1.6269999742507935, 1.6202000379562378, 1.6201000213623047, 1.6155999898910522, 1.6153000593185425, 1.6150000095367432, 1.61489999294281, 1.6128000020980835, 1.6075999736785889, 1.6065000295639038, 1.6059000492095947, 1.6057000160217285, 1.605299949645996, 1.6050000190734863, 1.6002999544143677, 1.5924999713897705, 1.5915000438690186, 1.5902999639511108, 1.5865999460220337, 1.5849000215530396, 1.5812000036239624, 1.5805000066757202, 1.5771000385284424, 1.5758999586105347, 1.55840003490448, 1.5549999475479126, 1.5396000146865845, 1.482100009918213, 1.533400058746338, 1.3779000043869019, 1.4194999933242798, 1.4050999879837036, 1.424299955368042, 1.4326000213623047, 1.406999945640564, 1.4634000062942505, 1.2404999732971191, 1.2656999826431274, 1.5240999460220337, 1.3075000047683716, 1.330299973487854, 1.4105000495910645, 1.1893999576568604, 1.3884999752044678, 1.3773000240325928, 1.315000057220459, 1.4352999925613403, 1.301900029182434, 1.3083000183105469, 1.0678999423980713, 1.219599962234497, 1.0436999797821045, 1.1895999908447266, 1.2559000253677368, 1.1440000534057617, 0.7961999773979187, 0.650600016117096, 0.6114000082015991, 0.3046000003814697, 0.7300999760627747, 0.9710999727249146, 0.448199987411499, 0.8324999809265137, 0.17550000548362732, 0.4731999933719635, 0.08959999680519104, 0.4632999897003174, 0.6690000295639038, -0.13860000669956207, 0.017400000244379044, 0.398499995470047, -0.13740000128746033, 0.4002000093460083, 0.13449999690055847, 0.01810000091791153, 0.18320000171661377, 0.24220000207424164, -0.30399999022483826, 0.16060000658035278, -0.3456999957561493, 0.24079999327659607, 0.09260000288486481, 0.1517000049352646, 1.7644000053405762, 1.7624000310897827, 1.7610000371932983, 1.7608000040054321, 1.753600001335144, 1.7510000467300415, 1.75, 1.7476999759674072, 1.742900013923645, 1.7359000444412231, 1.7311999797821045, 1.7299000024795532, 1.728700041770935, 1.7283999919891357, 1.7253999710083008, 1.7253999710083008, 1.7223999500274658, 1.7130999565124512, 1.7122000455856323, 1.7103999853134155, 1.7049000263214111, 1.7028000354766846, 1.7007999420166016, 1.6962000131607056, 1.691100001335144, 1.6878999471664429, 1.6833000183105469, 1.6819000244140625, 1.6770999431610107, 1.6714999675750732, 1.6692999601364136, 1.6538000106811523, 1.6476000547409058, 1.6210999488830566, 1.6013000011444092, 1.5556999444961548, 1.4154000282287598, 1.4895000457763672, 1.1658999919891357, 1.211400032043457, 1.3831000328063965, 0.8697999715805054, 0.6195999979972839, 0.8485000133514404, 0.8353999853134155, 0.66839998960495, 0.43709999322891235, 0.38580000400543213, 0.7422000169754028, 0.2865000069141388, 0.7763000130653381, 0.09679999947547913, 0.7001000046730042, 0.3596000075340271, 0.36730000376701355, 0.34389999508857727, 0.1657000035047531, 0.2816999852657318, 0.5372999906539917, 0.46219998598098755, 0.2754000127315521, 0.05999999865889549, 1.802299976348877, 1.7745000123977661, 1.7694000005722046, 1.7666000127792358, 1.7595000267028809, 1.7522000074386597, 1.7503999471664429, 1.7477999925613403, 1.7409000396728516, 1.739300012588501, 1.736899971961975, 1.7264000177383423, 1.7239999771118164, 1.7207000255584717, 1.7188999652862549, 1.7188999652862549, 1.7064000368118286, 1.6957000494003296, 1.6928999423980713, 1.6912000179290771, 1.6907000541687012, 1.6897000074386597, 1.6892000436782837, 1.680299997329712, 1.6789000034332275, 1.6785000562667847, 1.6782000064849854, 1.676300048828125, 1.6684999465942383, 1.664199948310852, 1.6309000253677368, 1.611299991607666, 1.6193000078201294, 1.5707999467849731, 1.4681999683380127, 1.351099967956543, 1.287500023841858, 1.2460999488830566, 0.9674999713897705, 1.2103999853134155, 1.0027999877929688, 0.9815000295639038, 1.1145000457763672, 1.2934999465942383, 1.1353000402450562, 1.2333999872207642, 0.9107000231742859, 0.5975000262260437, 0.7286999821662903, 0.41749998927116394, 0.262800008058548, 0.6585999727249146, 0.4255000054836273, 0.43540000915527344, 0.8629000186920166, 0.9352999925613403, 0.4496000111103058, 0.11060000211000443, 0.5910999774932861, -0.03370000049471855, 0.38769999146461487, 0.36660000681877136, -0.14890000224113464, 0.28690001368522644, -0.3612000048160553, 0.23330000042915344, 0.2833999991416931, -0.25380000472068787, -0.04089999943971634, -0.006800000090152025, -0.04699999839067459, -0.05270000174641609, 0.021199999377131462, 2.2657999992370605, 2.2558000087738037, 2.2367000579833984, 2.2293999195098877, 2.2279000282287598, 2.2249999046325684, 2.2105000019073486, 2.2028000354766846, 2.1995999813079834, 2.1875, 2.1684000492095947, 2.1547000408172607, 2.1384999752044678, 2.1221001148223877, 2.1208999156951904, 2.1201000213623047, 2.110300064086914, 2.106800079345703, 2.095599889755249, 2.084399938583374, 2.0724000930786133, 2.0615999698638916, 2.0590999126434326, 2.053100109100342, 2.0429999828338623, 2.025700092315674, 1.9967999458312988, 1.986299991607666, 1.9559999704360962, 1.9537999629974365, 1.9401999711990356, 1.9026000499725342, 1.8669999837875366, 1.806399941444397, 1.92739999294281, 1.9199999570846558, 1.8451000452041626, 1.9007999897003174, 1.7138999700546265, 1.1495000123977661, 1.554800033569336, 1.4321000576019287, 1.363700032234192, 0.7307999730110168, 1.1308000087738037, 0.9681000113487244, 1.3438999652862549, 0.8737999796867371, 0.49880000948905945, 0.45339998602867126, 0.5314000248908997, 0.7552000284194946, 0.824400007724762, 0.8752999901771545, 0.44440001249313354, 0.612500011920929, 0.9660999774932861, 0.11999999731779099, 0.40049999952316284, 0.29339998960494995, 0.5637000203132629, 0.026799999177455902, -0.2531999945640564, 0.24320000410079956, -0.07029999792575836, 0.3230000138282776, 2.5114998817443848, 2.4865000247955322, 2.4793999195098877, 2.4769999980926514, 2.4512999057769775, 2.4475998878479004, 2.446500062942505, 2.433300018310547, 2.3984999656677246, 2.3914999961853027, 2.3685998916625977, 2.3668999671936035, 2.365499973297119, 2.352799892425537, 2.330199956893921, 2.329200029373169, 2.3264000415802, 2.3257999420166016, 2.315999984741211, 2.309999942779541, 2.304500102996826, 2.302999973297119, 2.2985000610351562, 2.2832000255584717, 2.272900104522705, 2.2648000717163086, 2.2474000453948975, 2.2455999851226807, 2.219899892807007, 2.216599941253662, 2.166300058364868, 2.161600112915039, 2.1431000232696533, 1.7333999872207642, 2.2116000652313232, 1.5543999671936035, 1.8973000049591064, 2.06469988822937, 1.4246000051498413, 1.1627000570297241, 1.0353000164031982, 1.3895000219345093, 0.7039999961853027, 1.182800054550171, 0.7732999920845032, 1.5341999530792236, 1.3301000595092773, 0.5695000290870667, 1.8531999588012695, 0.32260000705718994, 1.3716000318527222, 0.4318999946117401, 1.2412999868392944, 0.25859999656677246, 0.5443999767303467, 0.2687000036239624, 0.5188000202178955, 0.04619999974966049, 0.6039999723434448, 0.03370000049471855, 0.24660000205039978, 0.17499999701976776, 0.4237000048160553, -0.20649999380111694, 0.319599986076355, 0.8460999727249146, 0.5533999800682068, 0.29269999265670776, 0.12449999898672104, 0.6832000017166138, 0.40959998965263367, -0.14949999749660492, 0.3781999945640564, 0.12620000541210175, -0.39959999918937683, -0.13009999692440033, 0.30480000376701355, 3.1236000061035156, 3.002700090408325, 2.972899913787842, 2.9077000617980957, 2.8903000354766846, 2.868000030517578, 2.8559000492095947, 2.8225998878479004, 2.790800094604492, 2.7869999408721924, 2.776400089263916, 2.770400047302246, 2.7690000534057617, 2.7499001026153564, 2.732300043106079, 2.701200008392334, 2.6835999488830566, 2.675299882888794, 2.660799980163574, 2.6589999198913574, 2.646899938583374, 2.6356000900268555, 2.628999948501587, 2.617300033569336, 2.6154000759124756, 2.611799955368042, 2.6054999828338623, 2.602099895477295, 2.5892999172210693, 2.589099884033203, 2.5813000202178955, 2.5380001068115234, 2.5487000942230225, 2.498699903488159, 2.408600091934204, 2.347599983215332, 2.546799898147583, 2.4374001026153564, 2.4375, 2.428100109100342, 1.8695000410079956, 2.3178000450134277, 2.2232000827789307, 2.1393001079559326, 1.9017000198364258, 1.9931000471115112, 1.9753999710083008, 1.950700044631958, 1.6924999952316284, 2.4035000801086426, 1.7583999633789062, 2.2627999782562256, 2.349100112915039, 0.3767000138759613, 1.73580002784729, 0.16189999878406525, 2.0473999977111816, 0.5789999961853027, 0.1370999962091446, 0.8345000147819519, 0.017100000753998756, 0.6014000177383423, -0.27549999952316284, -0.3118000030517578, 0.7652000188827515, 0.6865000128746033, -0.0869000032544136, 0.15240000188350677, 0.12300000339746475, -0.09920000284910202, -0.4050999879837036, -0.12680000066757202, 0.14970000088214874, 0.13339999318122864, 0.3783000111579895, 0.22769999504089355, 3.5388998985290527, 3.387500047683716, 3.3471999168395996, 3.345099925994873, 3.3287999629974365, 3.242300033569336, 3.200900077819824, 3.098299980163574, 3.0929999351501465, 3.076900005340576, 3.0471999645233154, 3.0151000022888184, 2.9793999195098877, 2.964400053024292, 2.941499948501587, 2.928800106048584, 2.90910005569458, 2.9005000591278076, 2.8929998874664307, 2.891700029373169, 2.8879001140594482, 2.874000072479248, 2.873199939727783, 2.862299919128418, 2.8505001068115234, 2.8164000511169434, 2.8087000846862793, 2.8046998977661133, 2.7841999530792236, 2.7723000049591064, 2.6280999183654785, 2.5662999153137207, 2.1789000034332275, 2.249799966812134, 2.6350998878479004, 2.04830002784729, 2.3131000995635986, 2.567699909210205, 2.302500009536743, 2.12280011177063, 1.850000023841858, 2.3747000694274902, 1.794800043106079, 2.4591000080108643, 1.874400019645691, 1.7681000232696533, 1.6057000160217285, 1.3158999681472778, 0.9818000197410583, 0.295199990272522, 0.6647999882698059, 0.13809999823570251, 2.0897998809814453, 0.33329999446868896, 1.3242000341415405, -0.2249000072479248, 0.6830000281333923, 0.5794000029563904, 0.34220001101493835, -0.1565999984741211, 0.2540999948978424, 0.3513999879360199, 0.09549999982118607, -0.15410000085830688, -0.4433000087738037, 0.3239000141620636, -0.2012999951839447, 0.03669999912381172, -0.30300000309944153, -0.020600000396370888, -0.04610000178217888, -0.004900000058114529, 3.9465999603271484, 3.631700038909912, 3.5151000022888184, 3.4781999588012695, 3.477799892425537, 3.4444000720977783, 3.4403998851776123, 3.439500093460083, 3.341599941253662, 3.336899995803833, 3.285799980163574, 3.2451999187469482, 3.1635000705718994, 3.1514999866485596, 3.141400098800659, 3.139899969100952, 3.125200033187866, 3.1247000694274902, 3.1038999557495117, 3.0808000564575195, 3.061800003051758, 3.0601999759674072, 3.046999931335449, 3.039900064468384, 3.0278000831604004, 3.0244998931884766, 2.9964001178741455, 2.9960999488830566, 2.9872000217437744, 2.9860999584198, 2.9855000972747803, 2.7864999771118164, 2.763000011444092, 2.919100046157837, 2.2969000339508057, 2.595900058746338, 2.8285000324249268, 2.5625, 2.346299886703491, 2.149899959564209, 2.6723999977111816, 2.166800022125244, 1.9606000185012817, 2.160099983215332, 2.4035000801086426, 2.161799907684326, 2.729599952697754, 1.5176000595092773, 0.19449999928474426, 0.8197000026702881, 0.3377000093460083, 0.6079000234603882, 0.2249000072479248, 1.3707000017166138, -0.09430000185966492, 0.6953999996185303, 0.5442000031471252, 0.2248000055551529, 1.1008000373840332, -0.19099999964237213, -0.20329999923706055, 0.5748000144958496, 0.41110000014305115, -0.09030000120401382, 0.03530000150203705, -0.30090001225471497, 0.3977999985218048, -0.1370999962091446, -0.07530000060796738, 0.1753000020980835, 0.06909999996423721, 4.060699939727783, 3.964600086212158, 3.568000078201294, 3.485599994659424, 3.3691999912261963, 3.3450000286102295, 3.3057000637054443, 3.2936999797821045, 3.253200054168701, 3.2188000679016113, 3.205199956893921, 3.201200008392334, 3.174099922180176, 3.169300079345703, 3.154099941253662, 3.1484999656677246, 3.1459999084472656, 3.141700029373169, 3.1361000537872314, 3.1303999423980713, 3.099400043487549, 3.0943000316619873, 3.0759999752044678, 3.0562000274658203, 3.0481998920440674, 3.0364999771118164, 3.015700101852417, 3.0058000087738037, 3.001800060272217, 3.001499891281128, 2.9711999893188477, 2.938999891281128, 2.718899965286255, 2.7906999588012695, 2.6451001167297363, 2.455699920654297, 1.8366999626159668, 2.3443000316619873, 2.2093000411987305, 2.2681000232696533, 1.4387999773025513, 1.218999981880188, 1.2164000272750854, 1.621500015258789, 1.232300043106079, 1.5073000192642212, 1.7971999645233154, 0.4925999939441681, 0.7721999883651733, 1.5303000211715698, 0.4839000105857849, 1.7365000247955322, 1.2740000486373901, 0.30550000071525574, 0.23569999635219574, 2.1333000659942627, 0.7027999758720398, 0.7555999755859375, 0.862500011920929, 1.2056000232696533, 0.7520999908447266, 0.08959999680519104, 1.253499984741211, 0.7146000266075134, 0.1867000013589859, -0.1551000028848648, -0.2296999990940094, 0.414900004863739, 0.15889999270439148, 0.23909999430179596, 0.03970000147819519, 3.7372000217437744, 3.63070011138916, 3.615499973297119, 3.611999988555908, 3.5371999740600586, 3.4902000427246094, 3.489799976348877, 3.476599931716919, 3.467600107192993, 3.4663000106811523, 3.440999984741211, 3.4300999641418457, 3.4102001190185547, 3.341099977493286, 3.329699993133545, 3.2578001022338867, 3.233599901199341, 3.2219998836517334, 3.215399980545044, 3.19320011138916, 3.190500020980835, 3.1863999366760254, 3.1647000312805176, 3.1565001010894775, 3.1005001068115234, 3.089600086212158, 3.0764000415802, 3.0316998958587646, 3.0211000442504883, 3.018699884414673, 2.973900079727173, 2.908900022506714, 2.9409000873565674, 2.81469988822937, 2.8724000453948975, 2.8403000831604004, 2.04259991645813, 1.4047000408172607, 1.798799991607666, 1.7735999822616577, 0.6039000153541565, 1.6301000118255615, 1.305899977684021, 0.7389000058174133, 1.121000051498413, 0.32260000705718994, 0.9079999923706055, 1.2069000005722046, 1.7093000411987305, 0.06560000032186508, 0.8999000191688538, 1.0397000312805176, 0.26179999113082886, 0.7178000211715698, 0.3799000084400177, -0.05469999834895134, 0.6754999756813049, -0.00039999998989515007, 0.3815999925136566, 0.5630000233650208, 0.32760000228881836, 0.17880000174045563, 0.14169999957084656, 0.6643000245094299, 0.4927000105381012, -0.3407000005245209, 0.22419999539852142, -0.4677000045776367, 3.8352999687194824, 3.642899990081787, 3.6259000301361084, 3.594099998474121, 3.5220000743865967, 3.5111000537872314, 3.4563000202178955, 3.432499885559082, 3.2307000160217285, 3.1989998817443848, 3.063499927520752, 3.0601000785827637, 3.03439998626709, 3.020699977874756, 2.9727001190185547, 2.9630000591278076, 2.9488000869750977, 2.9244000911712646, 2.914599895477295, 2.890700101852417, 2.8901000022888184, 2.876699924468994, 2.876199960708618, 2.8752999305725098, 2.8701999187469482, 2.868499994277954, 2.867500066757202, 2.863300085067749, 2.857599973678589, 2.852400064468384, 2.836699962615967, 2.770400047302246, 2.748300075531006, 2.766200065612793, 2.5750999450683594, 2.7623000144958496, 2.4470999240875244, 2.6322999000549316, 2.7651000022888184, 2.7581000328063965, 2.5343000888824463, 2.4946000576019287, 1.8289999961853027, 2.4159998893737793, 2.063699960708618, 1.916599988937378, 1.6029000282287598, 2.4319000244140625, 1.440000057220459, 2.2184998989105225, 1.2867000102996826, 0.9598000049591064, 0.7233999967575073, 0.6565999984741211, 1.0573999881744385, 0.8592000007629395, 0.7486000061035156, 0.512499988079071, 1.5250999927520752, 0.7562999725341797, 0.588699996471405, -0.08460000157356262, 0.7494000196456909, 0.4927999973297119, 0.9096999764442444, 1.5608999729156494, 1.2864999771118164, -0.0957999974489212, 0.44510000944137573, 0.1573999971151352, -0.14880000054836273, 0.33239999413490295, 0.4171999990940094, -0.2248000055551529, -0.2896000146865845, -0.44350001215934753, 0.29670000076293945, 4.076499938964844, 4.050899982452393, 4.038599967956543, 4.031300067901611, 3.963200092315674, 3.9570999145507812, 3.951900005340576, 3.951200008392334, 3.9504001140594482, 3.9437999725341797, 3.94350004196167, 3.9358999729156494, 3.9293999671936035, 3.90939998626709, 3.898200035095215, 3.856800079345703, 3.8073999881744385, 3.7769999504089355, 3.773400068283081, 3.723299980163574, 3.6828999519348145, 3.652400016784668, 3.5789999961853027, 3.5483999252319336, 3.5355000495910645, 3.4679999351501465, 3.4665000438690186, 3.4651999473571777, 3.450500011444092, 3.446500062942505, 3.4375, 3.262700080871582, 2.889699935913086, 3.075200080871582, 2.4421000480651855, 3.0037999153137207, 2.6814000606536865, 2.2156999111175537, 1.8873000144958496, 0.9617000222206116, 0.8499000072479248, 0.9962000250816345, 1.8549000024795532, 2.129300117492676, 2.3043999671936035, 0.10920000076293945, 2.2813000679016113, 0.46299999952316284, 0.5530999898910522, 2.7874999046325684, 0.7599999904632568, 0.9635000228881836, 1.1611000299453735, 2.3501999378204346, 0.19939999282360077, -0.13850000500679016, 0.5946999788284302, 0.6834999918937683, 1.0642999410629272, -0.7764999866485596, -0.5519000291824341, 0.027899999171495438, -0.6226000189781189, 0.20010000467300415, -0.6927000284194946, -0.484499990940094, 0.6227999925613403, -0.3903999924659729, 4.593299865722656, 4.269999980926514, 4.09119987487793, 4.051799774169922, 3.851099967956543, 3.791100025177002, 3.7892000675201416, 3.74180006980896, 3.6865999698638916, 3.683799982070923, 3.6619999408721924, 3.6610000133514404, 3.6584999561309814, 3.6403000354766846, 3.6396000385284424, 3.6317999362945557, 3.6229000091552734, 3.6124000549316406, 3.612299919128418, 3.588900089263916, 3.5882999897003174, 3.5278000831604004, 3.525099992752075, 3.5215001106262207, 3.514899969100952, 3.512500047683716, 3.5039000511169434, 3.500699996948242, 3.498199939727783, 3.490499973297119, 3.3859000205993652, 3.4237000942230225, 3.326900005340576, 3.3327999114990234, 3.1259000301361084, 2.637200117111206, 2.313800096511841, 2.5483999252319336, 3.0164999961853027, 2.652100086212158, 2.1684999465942383, 2.5973000526428223, 2.4260001182556152, 2.283099889755249, 2.9061999320983887, 1.1793999671936035, 1.1297999620437622, 2.038800001144409, 1.722000002861023, 1.4256000518798828, 1.357100009918213, 1.3115999698638916, 2.97189998626709, 0.3779999911785126, 1.5013999938964844, 0.829800009727478, 1.3193999528884888, 0.6097999811172485, 0.5376999974250793, 1.0776000022888184, 1.1049000024795532, 0.8223999738693237, -0.4832000136375427, 0.060100000351667404, 0.19499999284744263, 0.8964999914169312, 0.10159999877214432, 1.2101000547409058, 4.56220006942749, 4.342299938201904, 4.171000003814697, 4.095900058746338, 4.035900115966797, 3.85260009765625, 3.8436999320983887, 3.82450008392334, 3.821199893951416, 3.8169000148773193, 3.805500030517578, 3.8036000728607178, 3.796099901199341, 3.786099910736084, 3.7795000076293945, 3.7783000469207764, 3.7753000259399414, 3.77239990234375, 3.7683000564575195, 3.764699935913086, 3.750200033187866, 3.7434000968933105, 3.7367000579833984, 3.733599901199341, 3.6854000091552734, 3.664299964904785, 3.6631999015808105, 3.6535000801086426, 3.6484999656677246, 3.648200035095215, 3.5378000736236572, 3.602400064468384, 3.4214000701904297, 3.2479000091552734, 3.065700054168701, 3.3622000217437744, 3.0143001079559326, 3.4939000606536865, 2.424799919128418, 1.9980000257492065, 3.2630999088287354, 2.79830002784729, 2.858799934387207, 3.0708999633789062, 2.172800064086914, 3.0088999271392822, 2.541800022125244, 3.0116000175476074, 2.6459999084472656, 1.7226999998092651, 2.3282999992370605, 2.8849000930786133, 1.5882999897003174, 0.9916999936103821, 1.0911999940872192, 1.332200050354004, 1.2520999908447266, 0.8148999810218811, 1.3079999685287476, -0.22660000622272491, -0.41760000586509705, -0.2858000099658966, -0.2143000066280365, 0.18790000677108765, -0.16500000655651093, 0.8360999822616577, 1.021399974822998, 0.5799999833106995, -0.4251999855041504, 0.07599999755620956, 0.09839999675750732, 0.3352000117301941, -0.008500000461935997], \"logprob\": [30.0, 29.0, 28.0, 27.0, 26.0, 25.0, 24.0, 23.0, 22.0, 21.0, 20.0, 19.0, 18.0, 17.0, 16.0, 15.0, 14.0, 13.0, 12.0, 11.0, 10.0, 9.0, 8.0, 7.0, 6.0, 5.0, 4.0, 3.0, 2.0, 1.0, -7.751200199127197, -7.751500129699707, -7.660399913787842, -8.122300148010254, -6.661099910736084, -7.989299774169922, -8.131099700927734, -7.1392998695373535, -8.295000076293945, -8.4798002243042, -8.48330020904541, -8.63640022277832, -7.978400230407715, -6.314799785614014, -8.723999977111816, -8.812000274658203, -6.332399845123291, -6.578100204467773, -8.827300071716309, -7.201399803161621, -8.666999816894531, -6.888899803161621, -7.730100154876709, -7.444300174713135, -8.751999855041504, -8.531700134277344, -8.842900276184082, -9.046500205993652, -9.169099807739258, -9.17039966583252, -5.363399982452393, -8.348199844360352, -8.68120002746582, -6.708099842071533, -7.538599967956543, -6.407400131225586, -8.06309986114502, -6.258299827575684, -7.222599983215332, -7.43310022354126, -7.18779993057251, -7.98769998550415, -6.509200096130371, -7.168300151824951, -8.000399589538574, -6.431600093841553, -7.325200080871582, -4.971499919891357, -5.733099937438965, -6.504300117492676, -5.6757001876831055, -6.379499912261963, -5.4145002365112305, -5.781700134277344, -5.998300075531006, -6.513299942016602, -6.166200160980225, -6.49370002746582, -5.714700222015381, -6.7067999839782715, -5.784800052642822, -6.164100170135498, -5.231500148773193, -5.841899871826172, -5.849599838256836, -5.694699764251709, -5.363500118255615, -5.769899845123291, -5.913700103759766, -5.6082000732421875, -5.691299915313721, -5.7555999755859375, -5.604700088500977, -5.785699844360352, -5.96150016784668, -5.880300045013428, -5.703999996185303, -5.946800231933594, -5.77869987487793, -5.906000137329102, -5.877299785614014, -6.130300045013428, -6.103400230407715, -6.130199909210205, -7.3109002113342285, -8.620699882507324, -8.721500396728516, -8.722900390625, -8.326899528503418, -8.84749984741211, -8.646599769592285, -8.566499710083008, -8.974599838256836, -8.860699653625488, -8.981100082397461, -8.860199928283691, -8.982500076293945, -8.287099838256836, -9.123200416564941, -8.503899574279785, -9.125200271606445, -9.125200271606445, -8.99530029296875, -9.128899574279785, -8.585000038146973, -9.14229965209961, -9.142399787902832, -8.779199600219727, -8.685799598693848, -9.30459976196289, -9.15410041809082, -9.311800003051758, -9.311699867248535, -9.155400276184082, -6.939000129699707, -7.5117998123168945, -7.2042999267578125, -5.714600086212158, -8.050200462341309, -5.28439998626709, -6.038099765777588, -6.162300109863281, -6.5640997886657715, -6.936800003051758, -6.822000026702881, -7.619100093841553, -5.807600021362305, -6.361800193786621, -8.263799667358398, -6.714700222015381, -6.879899978637695, -7.469699859619141, -6.051499843597412, -7.365699768066406, -7.298999786376953, -7.018199920654297, -7.695899963378906, -7.047299861907959, -7.113100051879883, -6.100399971008301, -6.782400131225586, -6.202700138092041, -6.779200077056885, -7.122900009155273, -6.785900115966797, -5.86929988861084, -5.5782999992370605, -5.610799789428711, -4.905700206756592, -5.98769998550415, -6.520699977874756, -5.747200012207031, -6.356599807739258, -5.443999767303467, -5.8769001960754395, -5.3815999031066895, -5.905799865722656, -6.250899791717529, -5.5229997634887695, -5.673500061035156, -6.042699813842773, -5.585000038146973, -6.045499801635742, -5.863699913024902, -5.796999931335449, -5.925899982452393, -6.033400058746338, -5.779399871826172, -6.010000228881836, -5.819399833679199, -6.0472002029418945, -6.02370023727417, -6.062900066375732, -7.447299957275391, -5.504000186920166, -4.954899787902832, -7.923099994659424, -6.42110013961792, -7.434500217437744, -4.8471999168396, -7.296500205993652, -8.30090045928955, -7.018400192260742, -8.116499900817871, -8.313599586486816, -8.559800148010254, -4.197400093078613, -7.355299949645996, -6.717800140380859, -6.826700210571289, -8.405500411987305, -8.780200004577637, -7.070300102233887, -4.71589994430542, -6.521500110626221, -5.913700103759766, -8.794699668884277, -6.909299850463867, -5.052800178527832, -9.06350040435791, -5.269000053405762, -9.087800025939941, -8.387900352478027, -6.003399848937988, -5.54580020904541, -6.665599822998047, -6.250199794769287, -7.129300117492676, -6.733699798583984, -5.634500026702881, -6.439700126647949, -4.834199905395508, -5.553299903869629, -6.403900146484375, -4.449100017547607, -4.855800151824951, -5.38640022277832, -5.443900108337402, -5.272299766540527, -4.947299957275391, -5.061699867248535, -5.583399772644043, -5.18720006942749, -5.792900085449219, -5.113500118255615, -5.727399826049805, -5.458799839019775, -5.478499889373779, -5.4781999588012695, -5.45389986038208, -5.548399925231934, -5.694300174713135, -5.693900108337402, -5.658999919891357, -5.630899906158447, -5.454500198364258, -7.535999774932861, -7.930799961090088, -8.046099662780762, -8.324700355529785, -6.388199806213379, -8.502799987792969, -5.448400020599365, -4.557400226593018, -8.426899909973145, -8.428600311279297, -5.93720006942749, -8.630499839782715, -8.737500190734863, -8.859600067138672, -6.565400123596191, -9.007699966430664, -8.246100425720215, -9.021400451660156, -9.023599624633789, -9.024200439453125, -7.658100128173828, -6.31689977645874, -7.531400203704834, -7.972799777984619, -9.194000244140625, -7.355500221252441, -9.212400436401367, -8.42039966583252, -9.232199668884277, -4.480199813842773, -5.515399932861328, -7.0543999671936035, -7.466400146484375, -6.734300136566162, -5.558599948883057, -4.970799922943115, -6.411200046539307, -5.176599979400635, -6.62060022354126, -5.889900207519531, -6.091400146484375, -6.660399913787842, -7.170599937438965, -6.761000156402588, -7.033699989318848, -6.259399890899658, -5.61329984664917, -5.973899841308594, -5.4045000076293945, -5.2108001708984375, -5.9303998947143555, -5.605800151824951, -5.712699890136719, -6.35699987411499, -6.491300106048584, -5.91510009765625, -5.580399990081787, -6.114099979400635, -5.481200218200684, -5.9182000160217285, -5.92140007019043, -5.533299922943115, -5.883800029754639, -5.571599960327148, -5.901899814605713, -5.931300163269043, -5.7291998863220215, -5.855899810791016, -5.867000102996826, -5.877099990844727, -5.898600101470947, -5.91949987411499, -4.646699905395508, -6.080999851226807, -6.795499801635742, -6.149499893188477, -7.713200092315674, -4.380099773406982, -4.649600028991699, -6.828800201416016, -6.383299827575684, -7.753600120544434, -5.1971001625061035, -7.02269983291626, -8.741000175476074, -6.78380012512207, -7.026299953460693, -8.135000228881836, -8.056500434875488, -7.740799903869629, -8.270400047302246, -6.0721001625061035, -4.094099998474121, -5.996099948883057, -8.305000305175781, -8.32699966430664, -5.405399799346924, -6.927000045776367, -7.953400135040283, -8.754899978637695, -8.563199996948242, -8.51360034942627, -6.713200092315674, -5.589799880981445, -5.89900016784668, -6.271200180053711, -7.468599796295166, -7.441699981689453, -7.109499931335449, -7.468900203704834, -6.735199928283691, -4.668900012969971, -6.3491997718811035, -6.182000160217285, -6.053999900817871, -4.588099956512451, -5.571800231933594, -5.290299892425537, -6.105299949645996, -5.336999893188477, -4.976600170135498, -4.931000232696533, -5.2906999588012695, -5.524099826812744, -5.603000164031982, -5.693900108337402, -5.401400089263916, -5.543700218200684, -5.823500156402588, -5.327600002288818, -5.540200233459473, -5.536600112915039, -5.67110013961792, -5.446899890899658, -5.463500022888184, -5.617000102996826, -5.761199951171875, -5.821100234985352, -8.39330005645752, -8.421299934387207, -8.429100036621094, -7.11359977722168, -7.5218000411987305, -8.18850040435791, -8.312399864196777, -8.072199821472168, -8.506600379943848, -7.823699951171875, -7.850299835205078, -8.029399871826172, -8.409500122070312, -7.26609992980957, -7.185500144958496, -8.41409969329834, -7.412300109863281, -7.748199939727783, -8.428799629211426, -8.592100143432617, -8.594900131225586, -8.469200134277344, -8.627099990844727, -8.618300437927246, -7.932499885559082, -8.711400032043457, -8.04170036315918, -7.598299980163574, -8.388999938964844, -7.989799976348877, -7.285900115966797, -7.690400123596191, -7.5432000160217285, -5.494999885559082, -8.195599555969238, -5.686500072479248, -6.978400230407715, -7.663599967956543, -5.74370002746582, -5.128499984741211, -5.275700092315674, -6.1219000816345215, -5.1143999099731445, -6.122099876403809, -5.397299766540527, -6.7530999183654785, -6.45550012588501, -5.24560022354126, -7.33519983291626, -5.061800003051758, -6.640200138092041, -5.398200035095215, -6.498499870300293, -5.212600231170654, -5.684599876403809, -5.350800037384033, -5.679200172424316, -5.401299953460693, -5.985000133514404, -5.440000057220459, -5.68779993057251, -5.67080020904541, -5.882199764251709, -5.416900157928467, -5.902599811553955, -6.276599884033203, -6.107800006866455, -5.971099853515625, -5.873600006103516, -6.211599826812744, -6.086400032043457, -5.8404998779296875, -6.0731000900268555, -6.008999824523926, -5.875, -5.952199935913086, -6.059899806976318, -6.432700157165527, -7.989799976348877, -6.5690999031066895, -6.668000221252441, -8.090100288391113, -6.901199817657471, -7.7220001220703125, -7.630000114440918, -6.271999835968018, -8.048199653625488, -7.781899929046631, -7.6774001121521, -7.6793999671936035, -7.697999954223633, -6.577600002288818, -7.983500003814697, -8.128999710083008, -7.877600193023682, -6.6057000160217285, -8.362099647521973, -6.632599830627441, -8.359999656677246, -7.3734002113342285, -8.085399627685547, -8.39799976348877, -8.354599952697754, -8.08650016784668, -8.077799797058105, -8.21049976348877, -8.372099876403809, -7.856299877166748, -6.644700050354004, -7.010499954223633, -6.069799900054932, -5.848499774932861, -5.582300186157227, -7.5467000007629395, -6.600299835205078, -6.617499828338623, -6.684500217437744, -4.792799949645996, -6.619900226593018, -6.3694000244140625, -6.277299880981445, -5.6656999588012695, -5.9756999015808105, -6.026500225067139, -6.075200080871582, -5.765100002288818, -7.084000110626221, -6.230100154876709, -6.980800151824951, -7.107399940490723, -5.094600200653076, -6.474400043487549, -5.048500061035156, -6.804200172424316, -5.771100044250488, -5.553800106048584, -5.997900009155273, -5.602499961853027, -5.894599914550781, -5.659900188446045, -5.759399890899658, -6.109300136566162, -6.103499889373779, -5.9019999504089355, -5.982699871063232, -5.986100196838379, -5.945000171661377, -5.878799915313721, -5.956900119781494, -6.0482001304626465, -6.088799953460693, -6.139100074768066, -6.14139986038208, -6.4145002365112305, -7.461699962615967, -7.3856000900268555, -7.665299892425537, -7.656899929046631, -7.737299919128418, -4.854700088500977, -7.739999771118164, -7.927700042724609, -7.7281999588012695, -7.755499839782715, -7.436600208282471, -7.998899936676025, -7.309599876403809, -7.946800231933594, -7.746099948883057, -7.13539981842041, -7.086900234222412, -7.938499927520752, -7.690299987792969, -7.9207000732421875, -7.92609977722168, -7.940000057220459, -7.937699794769287, -7.950200080871582, -8.154399871826172, -7.554699897766113, -7.377600193023682, -7.6570000648498535, -8.02239990234375, -6.745699882507324, -6.751999855041504, -5.546999931335449, -5.841899871826172, -7.279200077056885, -5.933199882507324, -6.55810022354126, -7.197999954223633, -6.630499839782715, -6.282400131225586, -5.777500152587891, -6.845200061798096, -6.192599773406982, -7.149499893188477, -6.458799839019775, -6.334000110626221, -6.189199924468994, -5.930500030517578, -5.854400157928467, -5.324399948120117, -5.701900005340576, -5.333099842071533, -6.833399772644043, -5.512499809265137, -6.377699851989746, -5.435299873352051, -6.008200168609619, -5.969799995422363, -5.853300094604492, -5.630300045013428, -5.902100086212158, -5.954500198364258, -5.902699947357178, -5.845099925994873, -5.8907999992370605, -6.117300033569336, -6.01639986038208, -6.072400093078613, -6.125100135803223, -6.191199779510498, -6.194200038909912, -6.2027997970581055, -6.524799823760986, -6.683000087738037, -7.522299766540527, -7.517399787902832, -4.503600120544434, -7.519100189208984, -7.234000205993652, -6.678400039672852, -7.240200042724609, -7.520899772644043, -7.245800018310547, -7.544000148773193, -7.780200004577637, -7.539400100708008, -7.634200096130371, -7.5040998458862305, -7.717400074005127, -5.616399765014648, -7.897600173950195, -7.901400089263916, -7.941299915313721, -7.900899887084961, -7.929599761962891, -7.897500038146973, -7.928999900817871, -7.904399871826172, -7.546800136566162, -7.541500091552734, -6.960000038146973, -7.985000133514404, -7.943900108337402, -4.9394001960754395, -5.2245001792907715, -7.101799964904785, -4.751200199127197, -6.05019998550415, -7.015100002288818, -6.097400188446045, -5.570700168609619, -5.096499919891357, -6.882500171661377, -6.166299819946289, -5.8744001388549805, -6.196400165557861, -6.675300121307373, -6.420100212097168, -7.107699871063232, -6.082300186157227, -5.015900135040283, -5.676300048828125, -5.477399826049805, -5.654900074005127, -5.605100154876709, -6.276299953460693, -5.567999839782715, -5.976399898529053, -5.92710018157959, -5.80649995803833, -6.203999996185303, -5.666399955749512, -5.674499988555908, -5.979700088500977, -5.943699836730957, -5.781199932098389, -5.824900150299072, -5.7484002113342285, -5.952300071716309, -5.959099769592285, -6.009699821472168, -6.046899795532227, -6.047100067138672, -5.628600120544434, -6.385300159454346, -6.920599937438965, -7.137899875640869, -7.201300144195557, -7.486400127410889, -7.525899887084961, -7.165299892425537, -7.434500217437744, -7.815299987792969, -7.073599815368652, -7.334799766540527, -7.8144001960754395, -7.8403000831604, -7.81790018081665, -7.154799938201904, -7.820899963378906, -7.048799991607666, -6.985000133514404, -6.805099964141846, -7.589700222015381, -7.716100215911865, -7.936999797821045, -7.487299919128418, -7.507400035858154, -7.976399898529053, -7.8125, -7.8140997886657715, -7.798900127410889, -6.8907999992370605, -7.200200080871582, -7.3470001220703125, -6.322199821472168, -6.80649995803833, -6.609300136566162, -6.073200225830078, -4.9278998374938965, -6.191999912261963, -6.103899955749512, -6.245800018310547, -4.840400218963623, -4.599400043487549, -4.709400177001953, -5.3292999267578125, -4.7677998542785645, -5.233399868011475, -5.8755998611450195, -4.717800140380859, -5.0578999519348145, -5.780099868774414, -4.835000038146973, -6.0254998207092285, -5.775899887084961, -5.1656999588012695, -5.14870023727417, -6.392000198364258, -5.532100200653076, -5.570000171661377, -5.6545000076293945, -5.878799915313721, -5.668700218200684, -5.357999801635742, -5.952499866485596, -5.7565999031066895, -5.63539981842041, -5.628699779510498, -5.7052001953125, -5.816699981689453, -5.781799793243408, -5.895999908447266, -5.894700050354004, -6.670100212097168, -7.388400077819824, -7.3856000900268555, -6.878699779510498, -6.876999855041504, -6.627699851989746, -7.104000091552734, -7.381199836730957, -5.856800079345703, -7.383399963378906, -7.393700122833252, -7.401800155639648, -7.435999870300293, -7.350599765777588, -6.2104997634887695, -7.55709981918335, -7.798500061035156, -7.455100059509277, -6.9028000831604, -5.855100154876709, -7.3831000328063965, -7.784999847412109, -7.802000045776367, -7.5121002197265625, -6.943999767303467, -6.819300174713135, -7.606299877166748, -7.770500183105469, -7.775400161743164, -7.798999786376953, -6.7789998054504395, -6.7204999923706055, -7.156899929046631, -6.586699962615967, -7.168900012969971, -7.132400035858154, -5.828800201416016, -5.335999965667725, -5.850100040435791, -5.841000080108643, -4.843599796295166, -5.890999794006348, -5.644999980926514, -5.1869001388549805, -5.653500080108643, -5.14870023727417, -5.596499919891357, -5.8429999351501465, -6.201900005340576, -5.144800186157227, -5.697299957275391, -5.791500091552734, -5.357699871063232, -5.709700107574463, -5.560800075531006, -5.373600006103516, -5.745299816131592, -5.475800037384033, -5.649600028991699, -5.748000144958496, -5.672500133514404, -5.651299953460693, -5.70419979095459, -5.963799953460693, -5.935400009155273, -5.814300060272217, -5.89900016784668, -5.852099895477295, -6.174699783325195, -7.069799900054932, -7.4492998123168945, -6.990900039672852, -7.454699993133545, -7.475900173187256, -7.516600131988525, -7.4558000564575195, -7.456600189208984, -7.460299968719482, -7.455699920654297, -7.078499794006348, -7.503799915313721, -7.061600208282471, -7.455100059509277, -5.686800003051758, -7.486000061035156, -8.116100311279297, -8.117400169372559, -8.10669994354248, -7.4369001388549805, -8.117500305175781, -7.453700065612793, -8.11769962310791, -8.111700057983398, -8.128899574279785, -8.11400032043457, -8.117600440979004, -8.116399765014648, -8.124300003051758, -6.831099987030029, -6.597700119018555, -6.774499893188477, -7.136000156402588, -5.542600154876709, -7.255899906158447, -5.322500228881836, -6.556099891662598, -7.489799976348877, -7.52810001373291, -6.712399959564209, -6.629799842834473, -4.434700012207031, -6.402400016784668, -5.698299884796143, -5.603300094604492, -5.172900199890137, -6.5980000495910645, -5.686699867248535, -6.568900108337402, -5.617599964141846, -5.302999973297119, -5.091700077056885, -5.161799907684326, -5.645299911499023, -5.56820011138916, -5.542500019073486, -5.421899795532227, -6.139900207519531, -5.671800136566162, -5.625999927520752, -5.294899940490723, -5.746600151062012, -5.642300128936768, -5.855000019073486, -6.202199935913086, -6.105599880218506, -5.543300151824951, -5.777100086212158, -5.672599792480469, -5.619999885559082, -5.790800094604492, -5.858399868011475, -5.700200080871582, -5.763299942016602, -5.762400150299072, -5.851500034332275, -6.933499813079834, -6.2444000244140625, -6.958399772644043, -6.068999767303467, -6.245100021362305, -6.92579984664917, -6.921899795532227, -6.9328999519348145, -6.933899879455566, -6.92519998550415, -6.9268999099731445, -6.9253997802734375, -6.539700031280518, -6.922299861907959, -6.93149995803833, -6.968699932098389, -6.921500205993652, -6.158599853515625, -6.924200057983398, -6.9791998863220215, -7.021200180053711, -6.921999931335449, -6.996099948883057, -6.45550012588501, -6.945799827575684, -6.924300193786621, -7.586699962615967, -7.58050012588501, -7.601799964904785, -7.583600044250488, -7.017499923706055, -6.919899940490723, -5.9471001625061035, -6.481800079345703, -5.559800148010254, -6.554699897766113, -6.241799831390381, -5.839799880981445, -5.838600158691406, -5.260499954223633, -5.3480000495910645, -5.49970006942749, -5.984600067138672, -6.127900123596191, -6.241600036621094, -5.361999988555908, -6.287199974060059, -5.646100044250488, -5.710700035095215, -6.531599998474121, -5.883999824523926, -5.985400199890137, -6.0543999671936035, -6.4293999671936035, -5.831900119781494, -5.757999897003174, -5.959799766540527, -6.107500076293945, -6.221499919891357, -5.986800193786621, -6.0254998207092285, -6.095300197601318, -6.0980000495910645, -6.169099807739258, -6.1402997970581055, -6.1753997802734375, -6.2083001136779785, -6.205399990081787, -6.166399955749512, -6.5177001953125, -6.740300178527832, -6.582200050354004, -7.178999900817871, -7.182799816131592, -7.180799961090088, -7.2129998207092285, -7.306000232696533, -7.180200099945068, -7.1774001121521, -7.178500175476074, -7.177599906921387, -6.55079984664917, -7.177700042724609, -7.183000087738037, -7.1793999671936035, -7.184299945831299, -7.184899806976318, -6.515900135040283, -7.4375, -7.180699825286865, -7.179699897766113, -7.177999973297119, -7.183800220489502, -7.178100109100342, -7.178999900817871, -7.177999973297119, -7.183199882507324, -6.627900123596191, -4.731800079345703, -6.263599872589111, -6.0055999755859375, -6.207099914550781, -5.792799949645996, -5.446700096130371, -5.151400089263916, -5.6184000968933105, -6.513000011444092, -6.118899822235107, -5.593500137329102, -6.1209001541137695, -5.991199970245361, -5.887599945068359, -6.515699863433838, -5.055500030517578, -5.0142998695373535, -5.835400104522705, -5.582799911499023, -5.420400142669678, -5.418700218200684, -5.453000068664551, -6.608099937438965, -5.097400188446045, -5.80810022354126, -5.597599983215332, -5.807199954986572, -5.665800094604492, -5.6732001304626465, -5.8267998695373535, -5.86870002746582, -5.8180999755859375, -5.693600177764893, -5.769999980926514, -5.805099964141846, -5.956200122833252, -5.929699897766113, -6.005499839782715, -6.557000160217285, -6.702700138092041, -6.541600227355957, -6.534200191497803, -6.799900054931641, -7.200699806213379, -6.15369987487793, -7.198200225830078, -7.219200134277344, -7.198599815368652, -7.200200080871582, -6.792200088500977, -7.1992998123168945, -7.207600116729736, -7.213699817657471, -7.2017998695373535, -7.200099945068359, -7.202700138092041, -7.200399875640869, -7.21150016784668, -7.216100215911865, -7.240900039672852, -6.623300075531006, -7.253799915313721, -7.273499965667725, -7.307000160217285, -7.198200225830078, -7.19789981842041, -7.201499938964844, -7.310500144958496, -6.171199798583984, -6.858699798583984, -6.066199779510498, -5.493199825286865, -5.52239990234375, -6.559000015258789, -6.176700115203857, -6.903900146484375, -5.562699794769287, -5.050099849700928, -6.615799903869629, -6.07289981842041, -6.2322001457214355, -6.537700176239014, -5.744200229644775, -6.535200119018555, -6.138400077819824, -6.561999797821045, -6.2758002281188965, -5.818900108337402, -6.229700088500977, -6.594099998474121, -5.85290002822876, -5.679999828338623, -5.73360013961792, -5.8709001541137695, -5.99429988861084, -5.866600036621094, -6.046899795532227, -5.674099922180176, -5.627999782562256, -5.670199871063232, -5.688000202178955, -5.810200214385986, -5.855899810791016, -6.065199851989746, -6.117400169372559, -6.095300197601318, -6.0447998046875, -6.0802001953125, -6.0995001792907715, -6.105899810791016, -6.117599964141846]}, \"token.table\": {\"Topic\": [3, 5, 6, 1, 2, 3, 4, 6, 7, 8, 9, 15, 1, 3, 5, 6, 2, 1, 6, 9, 12, 13, 14, 3, 7, 9, 1, 12, 1, 2, 14, 1, 2, 3, 4, 5, 6, 7, 8, 9, 10, 12, 15, 4, 5, 6, 14, 1, 2, 3, 4, 5, 6, 7, 8, 9, 10, 11, 13, 14, 3, 4, 14, 6, 7, 8, 15, 6, 7, 8, 2, 4, 1, 3, 4, 5, 7, 11, 3, 5, 12, 14, 1, 2, 6, 8, 2, 3, 13, 2, 8, 15, 1, 1, 2, 4, 10, 1, 2, 4, 6, 1, 2, 5, 6, 8, 14, 1, 2, 3, 4, 5, 6, 7, 8, 9, 10, 11, 12, 13, 15, 1, 4, 11, 4, 2, 2, 8, 10, 12, 1, 2, 3, 4, 5, 6, 7, 8, 9, 10, 11, 12, 15, 2, 4, 9, 12, 2, 7, 13, 1, 3, 8, 9, 1, 2, 6, 1, 2, 3, 4, 5, 6, 8, 12, 14, 1, 2, 3, 6, 11, 13, 6, 1, 2, 7, 13, 1, 7, 9, 1, 2, 3, 9, 10, 1, 2, 3, 4, 5, 6, 7, 8, 9, 10, 15, 1, 7, 15, 1, 2, 3, 4, 5, 6, 7, 8, 9, 10, 11, 12, 13, 14, 15, 1, 3, 7, 12, 1, 4, 10, 11, 3, 4, 1, 2, 6, 7, 9, 1, 3, 5, 10, 11, 12, 1, 3, 4, 11, 3, 4, 10, 1, 2, 6, 7, 8, 4, 8, 13, 14, 1, 3, 6, 1, 2, 3, 4, 5, 6, 7, 8, 9, 10, 11, 13, 1, 3, 4, 5, 6, 7, 8, 6, 7, 8, 2, 8, 11, 13, 2, 6, 8, 11, 13, 2, 1, 4, 5, 8, 9, 4, 5, 1, 2, 12, 1, 7, 1, 2, 3, 4, 5, 6, 7, 8, 9, 10, 11, 12, 13, 14, 15, 1, 2, 7, 9, 13, 1, 8, 1, 4, 5, 8, 1, 2, 3, 5, 6, 7, 8, 9, 12, 13, 15, 4, 11, 2, 7, 1, 2, 13, 2, 4, 9, 1, 2, 3, 4, 5, 6, 7, 8, 10, 11, 1, 3, 4, 10, 1, 2, 3, 6, 7, 1, 2, 3, 4, 5, 6, 7, 8, 9, 10, 11, 12, 13, 15, 4, 5, 2, 1, 2, 3, 4, 6, 7, 8, 11, 13, 1, 6, 7, 14, 15, 3, 4, 5, 1, 2, 3, 7, 10, 13, 1, 2, 6, 7, 9, 11, 1, 12, 1, 9, 1, 2, 7, 12, 14, 1, 2, 6, 7, 8, 9, 11, 1, 1, 3, 4, 12, 1, 3, 5, 6, 8, 12, 13, 1, 2, 3, 4, 5, 6, 7, 8, 9, 10, 11, 12, 13, 3, 5, 10, 1, 2, 7, 12, 2, 5, 6, 8, 15, 5, 6, 12, 1, 1, 2, 5, 8, 1, 5, 10, 12, 13, 1, 4, 5, 8, 10, 1, 1, 2, 3, 4, 5, 6, 7, 8, 9, 10, 11, 12, 13, 1, 2, 3, 4, 5, 6, 7, 8, 9, 10, 11, 12, 14, 1, 2, 7, 9, 1, 7, 8, 14, 2, 3, 5, 7, 12, 1, 10, 11, 12, 3, 4, 5, 6, 8, 3, 5, 8, 14, 1, 1, 6, 12, 1, 2, 3, 4, 5, 6, 7, 8, 9, 10, 11, 12, 13, 2, 8, 13, 2, 6, 7, 10, 5, 9, 1, 2, 3, 4, 5, 6, 7, 9, 11, 3, 4, 5, 6, 10, 11, 12, 1, 2, 3, 4, 5, 8, 1, 2, 6, 7, 3, 4, 1, 2, 3, 4, 5, 6, 7, 8, 10, 11, 1, 2, 6, 13, 2, 6, 8, 13, 1, 3, 10, 3, 5, 10, 3, 7, 13, 4, 5, 8, 9, 1, 2, 3, 4, 5, 7, 8, 10, 4, 1, 2, 3, 4, 5, 6, 7, 8, 9, 10, 11, 12, 13, 14, 15, 1, 2, 3, 4, 5, 6, 8, 9, 10, 11, 12, 14, 2, 3, 4, 9, 1, 2, 3, 6, 8, 10, 12, 3, 4, 10, 13, 15, 2, 11, 13, 2, 4, 11, 1, 4, 9, 3, 5, 7, 15, 1, 5, 7, 9, 5, 6, 1, 2, 15, 2, 3, 4, 15, 1, 4, 5, 7, 10, 1, 4, 7, 8, 13, 2, 5, 1, 2, 7, 8, 15, 1, 2, 3, 4, 5, 9, 11, 12, 1, 2, 3, 4, 5, 6, 7, 8, 9, 10, 11, 1, 2, 3, 4, 5, 6, 7, 8, 9, 10, 11, 12, 13, 14, 15, 3, 2, 6, 1, 2, 6, 7, 1, 2, 6, 7, 8, 9, 13, 2, 6, 11, 1, 2, 6, 8, 9, 14, 4, 1, 2, 3, 6, 7, 12, 13, 4, 5, 8, 1, 2, 3, 4, 5, 6, 7, 8, 9, 10, 11, 12, 3, 4, 5, 12, 14, 3, 4, 1, 2, 6, 7, 8, 12, 13, 1, 2, 3, 4, 5, 6, 7, 8, 9, 10, 11, 12, 13, 14, 15, 1, 2, 3, 4, 5, 6, 7, 8, 10, 11, 12, 14, 1, 2, 3, 4, 5, 6, 7, 9, 11, 12, 14, 3, 4, 5, 6, 12, 6, 9, 2, 1, 7, 8, 1, 2, 3, 4, 5, 6, 7, 8, 10, 11, 12, 13, 3, 4, 2, 8, 13, 2, 4, 1, 4, 6, 11, 1, 4, 8, 9, 1, 2, 7, 8, 9, 1, 2, 3, 4, 6, 7, 8, 9, 13, 15, 1, 8, 13, 15, 8, 9, 3, 4, 5, 5, 8, 11, 1, 1, 6, 9, 10, 12, 2, 4, 7, 9, 1, 2, 7, 11, 1, 2, 8, 9, 11, 2, 6, 8, 9, 13, 15, 1, 4, 8, 11, 14, 3, 5, 6, 9, 13, 6, 8, 12, 15, 4, 10, 12, 13, 14, 6, 8, 1, 2, 3, 10, 1, 2, 14, 3, 10, 11, 1, 2, 3, 4, 5, 6, 7, 8, 9, 10, 11, 12, 13, 15, 1, 2, 3, 4, 5, 6, 7, 8, 9, 10, 11, 12, 13, 15, 1, 2, 3, 6, 7, 8, 11, 2, 3, 4, 12, 15, 1, 2, 3, 4, 5, 6, 7, 8, 9, 10, 11, 12, 13, 1, 2, 3, 4, 5, 6, 7, 8, 9, 12, 4, 1, 3, 4, 5, 6, 7, 14, 1, 2, 3, 4, 5, 7, 1, 2, 4, 5, 6, 15, 1, 2, 3, 4, 5, 6, 7, 8, 10, 1, 2, 7, 8, 9, 15, 1, 3, 4, 5, 6, 10, 11, 3, 10, 1, 2, 6, 7, 11, 1, 9, 1, 3, 4, 5, 6, 8, 10, 11, 12, 3, 4, 1, 2, 9, 13, 2, 13, 3, 4, 5, 9, 14, 1, 2, 3, 4, 5, 6, 7, 8, 9, 10, 11, 12, 15, 1, 2, 3, 4, 6, 7, 8, 9, 11, 13, 15, 1, 4, 13, 14, 2, 3, 9, 15, 2, 7, 11, 13, 1, 8, 9, 15, 4, 4, 3, 11, 12, 4, 6, 4, 1, 1, 5, 6, 7, 1, 1, 1, 2, 6, 7, 8, 9, 13, 1, 2, 3, 4, 5, 6, 7, 8, 9, 10, 11, 1, 2, 3, 4, 5, 6, 7, 12, 13, 2, 8, 1, 2, 7, 8, 13, 2, 7, 1, 2, 7, 1, 8, 9, 1, 2, 3, 4, 5, 6, 7, 8, 9, 10, 11, 12, 13, 15, 1, 2, 4, 5, 6, 7, 8, 1, 2, 9, 12, 1, 2, 3, 4, 5, 6, 8, 9, 11, 12, 2, 7, 15, 1, 2, 3, 4, 5, 7, 11, 14, 1, 4, 5, 11, 14, 2, 6, 12, 1, 3, 4, 11, 3, 10, 11, 2, 5, 6, 8, 13, 2, 1, 3, 8, 1, 2, 3, 4, 5, 6, 7, 8, 9, 10, 11, 12, 13, 15, 2, 6, 15, 1, 2, 3, 4, 5, 6, 7, 8, 9, 10, 11, 12, 13, 1, 2, 12, 13, 1, 2, 3, 4, 5, 6, 7, 8, 9, 10, 11, 12, 13, 14, 15, 1, 3, 4, 5, 6, 7, 9, 10, 12, 13, 14, 1, 2, 3, 4, 5, 6, 7, 8, 9, 10, 11, 12, 15, 1, 2, 6, 7, 1, 2, 3, 4, 5, 6, 7, 8, 9, 10, 11, 12, 13, 14, 15, 4, 6, 7, 9, 11, 12, 1, 2, 3, 4, 5, 6, 7, 8, 9, 10, 11, 12, 13, 14, 1, 6, 8, 11, 1, 2, 3, 4, 5, 6, 7, 8, 9, 11, 12, 13, 1, 6, 9, 1, 2, 3, 4, 5, 6, 7, 8, 9, 10, 11, 12, 13, 14, 15, 1, 2, 3, 4, 5, 6, 7, 8, 9, 10, 11, 12, 14, 4, 7, 9, 1, 2, 3, 4, 5, 6, 7, 8, 9, 10, 11, 12, 13, 14, 3, 4, 5, 1, 12, 2, 6, 2, 8, 6, 8, 10, 13, 1, 2, 4, 7, 8, 15, 4, 5, 6, 8, 1, 6, 11, 3, 5, 4, 5, 8, 1, 2, 3, 4, 5, 6, 8, 9, 12, 14, 1, 2, 3, 4, 5, 6, 7, 8, 9, 10, 11, 12, 13, 14, 15, 3, 4, 14, 2, 6, 7, 2, 7, 9, 1, 2, 6, 8, 9, 11, 15, 2, 6, 7, 8, 9, 1, 2, 3, 4, 5, 6, 10, 11, 12, 1, 2, 6, 7, 8, 9, 11, 13, 1, 2, 3, 4, 5, 6, 7, 8, 9, 10, 11, 15, 1, 7, 4, 6, 7, 9, 14, 1, 3, 6, 12, 7, 8, 12, 7, 1, 2, 3, 4, 5, 6, 7, 8, 10, 11, 13, 4, 5, 8, 1, 2, 12, 1, 2, 5, 6, 12, 1, 2, 4, 5, 6, 12, 15, 1, 2, 3, 4, 5, 6, 8, 9, 10, 13, 14, 1, 2, 6, 7, 1, 2, 3, 4, 5, 6, 7, 8, 9, 10, 11, 12, 14, 2, 6, 13, 1, 2, 3, 4, 5, 6, 7, 8, 9, 11, 13, 3, 5, 10, 11, 1, 2, 3, 4, 5, 6, 7, 8, 9, 10, 11, 12, 13, 14, 15, 4, 5, 8, 1, 2, 4, 6, 7, 8, 11, 1, 2, 4, 6, 7, 9, 10, 11, 3, 10, 1, 7, 9, 12, 1, 2, 3, 4, 5, 6, 7, 8, 9, 10, 11, 12, 13, 14, 1, 2, 3, 5, 7, 11, 2, 1, 7, 13, 1, 3, 4, 9, 10, 11, 1, 2, 8, 9, 1, 10, 2, 1, 2, 3, 4, 5, 6, 7, 8, 9, 11, 12, 1, 2, 3, 4, 5, 6, 7, 8, 9, 10, 11, 12, 13, 14, 1, 2, 3, 4, 5, 6, 7, 8, 9, 11, 12, 1, 2, 3, 4, 5, 6, 7, 8, 9, 10, 11, 12, 14, 15, 1, 2, 3, 4, 5, 6, 7, 8, 9, 10, 11, 12, 13, 14, 5, 7, 5, 6, 12, 1, 3, 9, 12, 2, 15, 2, 3, 10, 2, 5, 6, 10, 1, 2, 3, 4, 5, 6, 10, 11, 3, 4, 5, 10, 11, 1, 2, 3, 4, 5, 6, 7, 8, 9, 10, 11, 12, 13, 14, 3, 1, 2, 3, 4, 5, 6, 7, 8, 9, 10, 11, 12, 13, 14, 15, 3, 4, 5, 8, 10, 6, 1, 2, 3, 4, 5, 6, 7, 8, 9, 10, 11, 12, 13, 14, 15, 1, 2, 3, 4, 5, 6, 7, 8, 9, 10, 11, 12, 13, 14, 15, 1, 2, 6, 8, 2, 6, 8, 9, 15, 1, 3, 10, 12, 4, 5, 8, 3, 4, 5, 10, 11, 12, 1, 2, 3, 4, 5, 6, 9, 10, 1, 2, 3, 4, 5, 7, 15, 2, 1, 2, 3, 4, 5, 6, 7, 8, 9, 10, 11, 12, 6, 7, 1, 2, 3, 4, 5, 6, 7, 8, 9, 10, 11, 12, 13, 14, 4, 5, 10, 14, 1, 2, 6, 7, 8, 9, 11, 13, 1, 5, 1, 2, 7, 8, 9, 6, 8, 1, 2, 3, 5, 8, 10, 12, 3, 4, 5, 7, 8, 9, 10, 11, 12, 14, 1, 6, 8, 13, 1, 2, 6, 12, 1, 7, 2, 4, 6, 15, 1, 12, 14, 1, 2, 3, 4, 5, 6, 7, 8, 10, 1, 6, 7, 9, 10, 11, 1, 2, 3, 4, 5, 8, 13, 2, 6, 12, 15, 6, 9, 10, 5, 11, 1, 2, 4, 6, 12, 14, 1, 8, 13, 3, 10, 2, 6, 7, 1, 2, 3, 4, 5, 6, 8, 9, 10, 12, 1, 6, 12, 2, 1, 2, 7, 9, 13, 4, 3, 4, 5, 1, 2, 3, 4, 5, 6, 7, 8, 9, 10, 11, 12, 2, 9, 4, 5, 5, 10, 12, 2, 6, 7, 5, 1, 2, 3, 4, 5, 6, 7, 8, 9, 14, 1, 2, 3, 4, 5, 6, 7, 8, 9, 10, 11, 12, 13, 14, 1, 3, 11, 1, 2, 4, 6, 7, 8, 9, 12, 1, 2, 8, 12, 1, 2, 3, 4, 5, 6, 7, 8, 9, 10, 11, 12, 13, 1, 3, 4, 5, 6, 10, 11, 3, 10, 1, 2, 3, 4, 5, 6, 7, 8, 9, 10, 11, 12, 13, 14, 15, 1, 2, 3, 4, 6, 7, 9, 13, 1, 2, 3, 5, 6, 7, 8, 9, 14, 1, 2, 3, 4, 5, 6, 7, 8, 9, 10, 11, 12, 13, 14, 15, 3, 1, 2, 3, 4, 5, 6, 7, 8, 10, 11, 12, 13, 1, 2, 6, 7, 8, 13, 1, 7, 12, 13, 6, 7, 12, 1, 2, 3, 4, 5, 6, 7, 8, 9, 10, 11, 12, 13, 1, 6, 10, 1, 2, 13, 1, 4, 6, 8, 10, 2, 7, 9, 13, 1, 2, 3, 4, 6, 7, 8, 9, 11, 15, 1, 2, 3, 4, 5, 6, 7, 8, 9, 10, 11, 12, 1, 2, 3, 4, 5, 6, 7, 8, 9, 10, 12, 13, 14, 2, 3, 7, 11, 15, 1, 2, 2, 7, 15, 1, 2, 3, 4, 5, 6, 7, 8, 9, 10, 11, 12, 13, 14, 1, 2, 3, 4, 5, 6, 7, 8, 9, 10, 11, 13, 1, 14, 1, 2, 3, 4, 5, 6, 7, 8, 9, 10, 11, 12, 13, 15, 1, 2, 3, 4, 5, 6, 7, 8, 10, 11, 15, 1, 2, 3, 4, 6, 7, 9, 10, 13, 1, 2, 3, 4, 5, 6, 7, 8, 9, 10, 11, 12, 13, 14, 15, 1, 2, 3, 4, 5, 6, 7, 8, 9, 10, 11, 12, 13, 14, 1, 4, 5, 8, 9, 1, 2, 4, 6, 7, 9, 11, 12, 13, 14, 1, 2, 1, 2, 4, 5, 7, 12, 1, 2, 3, 4, 5, 6, 7, 8, 9, 10, 11, 12, 13, 14, 15, 4, 5, 8, 3, 1, 2, 3, 4, 5, 6, 7, 8, 9, 10, 11, 12, 13, 14, 15, 1, 2, 3, 4, 5, 6, 7, 8, 9, 10, 11, 12, 13, 14, 15, 1, 2, 3, 4, 5, 6, 7, 8, 9, 10, 11, 12, 14, 1, 2, 3, 4, 5, 6, 7, 10, 11, 12, 1, 7, 9, 4, 5, 8, 4, 5, 1, 2, 3, 4, 5, 6, 7, 9, 11, 7, 8, 9, 1, 6, 7, 8, 12, 1, 2, 3, 4, 7, 9, 11, 4, 5, 8, 1, 1, 2, 3, 6, 7, 8, 9, 10, 12, 1, 2, 6, 7, 9, 11, 13, 15, 2, 7, 11, 4, 3, 4, 5, 7, 9, 1, 2, 7, 2, 6, 8, 2, 15, 1, 2, 3, 4, 5, 6, 7, 8, 9, 10, 11, 12, 13, 1, 6, 3, 10, 11, 1, 2, 6, 1, 3, 4, 1, 3, 4, 5, 7, 2, 6, 7, 11, 1, 2, 3, 4, 5, 6, 7, 8, 10, 12, 3, 4, 5, 10, 11, 1, 2, 4, 5, 6, 7, 8, 9, 10, 12, 1, 6, 10, 13, 1, 2, 3, 4, 5, 6, 7, 8, 9, 12, 14, 1, 2, 6, 8, 9, 13, 15, 2, 9, 1, 2, 5, 6, 7, 8, 9, 11, 12, 4, 5, 8, 2, 7, 8, 13, 1, 3, 4, 5, 3, 4, 1, 2, 6, 7, 8, 13, 1, 11, 12, 5, 12, 1, 12, 14, 1, 5, 1, 2, 3, 4, 5, 6, 7, 8, 9, 10, 11, 12, 13, 15, 1, 5, 8, 9, 1, 2, 3, 4, 5, 6, 10, 1, 2, 3, 4, 5, 6, 7, 8, 9, 10, 11, 12, 13, 1, 6, 8, 1, 1, 2, 7, 1, 2, 3, 4, 5, 6, 7, 8, 9, 10, 11, 12, 13, 1, 2, 6, 7, 9, 5, 10, 1, 2, 6, 7, 8, 9, 12, 13, 15, 1, 7, 8, 1, 2, 3, 4, 5, 6, 7, 8, 9, 10, 11, 12, 14, 15, 4, 6, 3, 4, 8, 1, 2, 3, 4, 5, 10, 11, 1, 7, 11, 2, 3, 13, 2, 5, 10, 11, 1, 2, 8, 11, 1, 8, 11, 13, 1, 2, 3, 4, 5, 6, 7, 8, 9, 10, 11, 12, 15, 1, 2, 7, 8, 1, 2, 3, 4, 5, 6, 7, 8, 9, 10, 11, 15, 2, 4, 5, 8, 1, 2, 3, 4, 5, 6, 7, 8, 9, 10, 11, 12, 14, 15, 1, 2, 3, 4, 5, 6, 7, 8, 9, 10, 11, 12, 13, 2, 7, 11, 1, 7, 13, 3, 7, 9, 5, 3, 4, 5, 12, 2, 9, 2, 7, 1, 2, 6, 7, 2, 15, 1, 4, 5, 1, 2, 3, 4, 5, 6, 7, 8, 9, 10, 11, 12, 15, 1, 2, 3, 4, 5, 6, 7, 8, 9, 10, 11, 12, 13, 14, 2, 7, 2, 7, 8, 9, 3, 4, 4, 1, 2, 11, 1, 2, 3, 4, 5, 6, 7, 8, 9, 10, 12, 1, 2, 4, 13, 15, 1, 6, 9, 15, 1, 7, 8, 1, 2, 3, 4, 5, 6, 7, 8, 9, 11, 12, 13, 1, 2, 3, 4, 5, 6, 7, 10, 11, 1, 2, 6, 7, 9, 13, 1, 8, 13, 3, 1, 2, 6, 7, 9, 11, 13, 1, 2, 6, 7, 9, 6, 8, 11, 15, 2, 6, 7, 8, 9, 13, 15, 4, 5, 7, 1, 2, 3, 6, 7, 10, 15, 2, 6, 7, 8, 9, 13, 1, 2, 3, 4, 5, 6, 7, 8, 9, 10, 11, 12, 13, 14, 2, 3, 5, 10, 3, 10, 11, 12, 1, 2, 7, 12, 2, 7, 12, 1, 9, 11, 13, 2, 6, 4, 5, 1, 2, 3, 4, 6, 7, 8, 9, 11, 14, 15, 1, 2, 3, 4, 7, 8, 9, 2, 7, 2, 1, 12, 13, 1, 2, 3, 4, 5, 6, 7, 8, 9, 10, 11, 12, 13, 2, 1, 2, 3, 4, 5, 6, 7, 8, 9, 10, 11, 12, 13, 2, 8, 14, 2, 7, 10, 1, 2, 6, 11, 1, 6, 1, 2, 3, 4, 5, 6, 7, 8, 9, 10, 11, 12, 15, 2, 9, 10, 12, 15, 1, 2, 3, 4, 5, 6, 9, 10, 12, 14, 1, 2, 3, 4, 5, 6, 7, 8, 9, 10, 11, 12, 13, 15, 1, 3, 4, 8, 14, 1, 2, 3, 4, 5, 6, 7, 8, 9, 10, 11, 13, 15, 1, 2, 6, 7, 2, 6, 10, 1, 2, 3, 8, 1, 2, 3, 4, 5, 6, 9, 12, 2, 8, 15, 3, 7, 10, 11, 1, 2, 3, 4, 5, 8, 2, 11, 2, 6, 9, 10, 1, 2, 3, 8, 9, 1, 2, 5, 6, 7, 8, 9, 11, 15, 1, 2, 6, 7, 8, 9, 15, 1, 2, 9, 11, 1, 2, 7, 9, 2, 4, 6, 9, 1, 2, 7, 8, 13, 2, 7, 1, 2, 9, 3, 11, 12, 2, 9, 13, 2, 12, 1, 2, 3, 4, 5, 6, 7, 8, 9, 10, 11, 12, 13, 15, 4, 2, 5, 7, 10, 1, 4, 8, 10, 12, 1, 2, 6, 12, 1, 4, 5, 8, 3, 6, 15, 1, 3, 6, 12, 1, 4, 10, 15, 1, 6, 15, 2, 1, 2, 3, 4, 5, 6, 7, 8, 9, 10, 11, 14, 1, 2, 8, 15, 1, 2, 3, 8, 2, 4, 11, 14, 1, 2, 3, 4, 6, 10, 11, 2, 8, 2, 8, 9, 13, 15, 1, 3, 6, 10, 2, 4, 8, 14, 3, 1, 2, 10, 11, 1, 2, 6, 9, 10, 12, 1, 3, 4, 5, 9, 1, 2, 6, 7, 9, 10, 12, 14, 1, 2, 6, 7, 8, 10, 11, 1, 2, 3, 4, 5, 6, 7, 8, 9, 10, 11, 12, 13, 15, 1, 6, 2, 7, 1, 2, 4, 6, 8, 9, 12, 1, 2, 3, 4, 5, 6, 7, 8, 9, 10, 11, 12, 13, 15, 1, 3, 13, 1, 2, 6, 7, 8, 9, 1, 3, 6, 7, 8, 12, 13, 2, 7, 10, 1, 2, 3, 6, 7, 8, 9, 12, 14, 4, 6, 8, 2, 3, 8, 12, 3, 4, 5, 9, 10, 1, 2, 3, 4, 5, 6, 7, 8, 9, 10, 11, 12, 13, 15, 1, 2, 3, 4, 5, 6, 7, 8, 11, 12, 15, 1, 1, 2, 5, 6, 7, 9, 1, 7, 12, 3, 5, 9, 10, 14, 4, 5, 7, 15, 1, 2, 3, 5, 6, 7, 9, 10, 11, 12, 1, 4, 6, 9, 11, 1, 2, 3, 4, 5, 6, 8, 10, 12, 15, 1, 2, 3, 4, 5, 6, 7, 8, 10, 11, 13, 14, 3, 11, 2, 6, 7, 8, 1, 2, 3, 4, 5, 6, 7, 8, 9, 10, 11, 12, 14, 4, 6, 9, 1, 2, 4, 5, 6, 8, 9, 12, 14, 1, 7, 2, 12, 13, 1, 14, 1, 2, 4, 10, 1, 2, 3, 4, 5, 6, 7, 9, 10, 12, 13, 15, 1, 2, 3, 4, 5, 6, 7, 8, 9, 10, 11, 12, 1, 2, 3, 4, 5, 6, 8, 9, 10, 12, 14, 1, 5, 11, 14, 1, 2, 4, 5, 6, 10, 14, 15, 6, 2, 2, 1, 4, 6, 7, 15, 3, 1, 3, 4, 10, 11, 13, 2, 11, 1, 2, 3, 4, 5, 6, 7, 8, 9, 10, 11, 12, 13, 15, 1, 2, 7, 2, 7, 4, 1, 2, 3, 4, 5, 6, 7, 8, 10, 11, 12, 1, 2, 3, 4, 5, 6, 7, 8, 9, 10, 11, 12, 13, 14, 15, 1, 2, 3, 4, 5, 6, 7, 8, 9, 10, 11, 12, 1, 2, 7, 10, 1, 2, 3, 4, 5, 6, 7, 8, 9, 10, 11, 13, 1, 2, 3, 6, 7, 8, 14, 2, 1, 2, 3, 4, 5, 6, 7, 8, 9, 10, 11, 12, 13, 1, 2, 4, 5, 6, 7, 8, 9, 10, 12, 1, 2, 1, 1, 2, 3, 4, 5, 6, 7, 8, 9, 12, 13, 3, 7, 13, 1, 6, 7, 12, 1, 2, 3, 4, 5, 6, 7, 8, 9, 11, 12, 14, 1, 2, 3, 4, 12, 13, 5, 8, 1, 2, 3, 4, 6, 7, 9, 10, 6, 8, 1, 2, 3, 5, 8, 11, 13, 1, 2, 3, 4, 5, 6, 7, 8, 9, 10, 11, 12, 13, 14, 1, 2, 10, 12, 1, 2, 3, 4, 5, 6, 7, 8, 15, 3, 5, 10, 3, 3, 11, 1, 2, 6, 7, 10, 12, 6, 9, 11, 1, 9, 11, 1, 9, 13, 1, 2, 3, 4, 5, 8, 9, 10, 1, 3, 5, 10, 11, 3, 4, 12, 1, 2, 3, 6, 7, 8, 9, 11, 15, 1, 2, 3, 4, 5, 6, 7, 8, 9, 10, 11, 12, 13, 15, 1, 2, 3, 6, 1, 2, 6, 1, 2, 3, 4, 5, 6, 7, 8, 9, 10, 11, 12, 13, 14, 15, 1, 2, 3, 4, 5, 6, 7, 8, 9, 10, 11, 12, 13, 14, 15, 1, 2, 6, 12, 14, 1, 2, 3, 4, 5, 6, 7, 8, 9, 10, 11, 12, 13, 14, 15, 1, 2, 3, 4, 5, 6, 7, 8, 9, 10, 11, 12, 14, 1, 13, 1, 2, 5, 7, 12, 14, 1, 2, 3, 4, 5, 6, 7, 8, 9, 10, 11, 12, 13, 15, 1, 9, 15, 1, 2, 3, 4, 5, 6, 7, 8, 9, 10, 11, 12, 13, 15, 1, 2, 3, 4, 5, 6, 7, 8, 9, 10, 11, 12, 14, 15, 1, 2, 4, 11, 12, 15, 1, 2, 5, 14, 15, 3, 6, 7, 1, 8, 10, 2, 1, 4, 7, 1, 2, 4, 10, 1, 2, 3, 4, 5, 6, 7, 8, 9, 10, 11, 12, 13, 14, 15, 1, 2, 7, 8, 3, 1, 2, 3, 4, 5, 6, 7, 8, 9, 10, 11, 12, 5, 6, 10, 13, 1, 4, 12, 14, 4, 3, 4, 6, 12, 14, 6, 11, 3, 4, 6, 14, 1, 7, 10, 12, 4, 2, 6, 1, 2, 7, 9, 13, 1, 3, 4, 6, 7, 11, 12, 13, 1, 2, 6, 7, 8, 12, 1, 5, 12, 13, 2, 6, 8, 1, 2, 6, 7, 11, 2, 1, 2, 8, 12, 15, 1, 2, 3, 4, 5, 6, 7, 8, 9, 10, 11, 12, 13, 15, 1, 2, 3, 4, 15, 1, 2, 7, 9, 13, 2, 6, 7, 1, 2, 3, 4, 5, 6, 7, 8, 9, 10, 11, 12, 14, 15, 1, 2, 3, 4, 5, 6, 7, 8, 9, 10, 11, 12, 13, 14, 15, 1, 2, 3, 4, 5, 6, 7, 8, 9, 10, 11, 12, 13, 14, 1, 3, 4, 5, 6, 10, 11, 12, 2, 1, 2, 3, 4, 6, 7, 8, 9, 10, 12, 4, 5, 1, 9, 12, 3, 4, 1, 2, 3, 4, 5, 6, 7, 12, 13, 3, 2, 10, 1, 2, 3, 4, 6, 10, 1, 2, 3, 4, 5, 6, 7, 8, 9, 10, 11, 12, 14, 2, 4, 11, 3, 4, 5, 10, 11, 12, 1, 2, 3, 4, 5, 6, 7, 8, 9, 10, 11, 12, 13, 14, 15, 1, 2, 3, 4, 5, 6, 7, 8, 9, 10, 11, 12, 13, 14, 3, 6, 9, 10, 14, 1, 2, 3, 4, 5, 6, 7, 8, 9, 10, 11, 12, 14, 1, 2, 3, 4, 5, 6, 7, 8, 9, 10, 11, 12, 13, 14, 1, 2, 3, 4, 5, 6, 7, 8, 9, 10, 11, 12, 13, 15, 6, 8, 1, 2, 3, 4, 5, 6, 7, 8, 9, 10, 11, 12, 13, 14, 15, 2, 6, 8, 12, 13], \"Freq\": [0.9584411978721619, 0.14777083694934845, 0.7388542294502258, 0.3004377484321594, 0.22532829642295837, 0.07510943710803986, 0.11266414821147919, 0.07510943710803986, 0.07510943710803986, 0.056332074105739594, 0.03755471855401993, 0.03755471855401993, 0.0668584331870079, 0.0668584331870079, 0.7354427576065063, 0.0668584331870079, 0.8552058935165405, 0.8384864330291748, 0.015107863582670689, 0.015107863582670689, 0.09820111095905304, 0.015107863582670689, 0.007553931791335344, 0.1876516342163086, 0.3753032684326172, 0.3753032684326172, 0.5599110722541809, 0.3732740581035614, 0.5561892986297607, 0.18539643287658691, 0.18539643287658691, 0.05645096302032471, 0.07903134822845459, 0.1542993038892746, 0.425263911485672, 0.13924570381641388, 0.09032154083251953, 0.026343783363699913, 0.011290192604064941, 0.0037633974570780993, 0.0075267949141561985, 0.0075267949141561985, 0.0037633974570780993, 0.3228136897087097, 0.16140684485435486, 0.3228136897087097, 0.16140684485435486, 0.2093939632177353, 0.2931515574455261, 0.11040772497653961, 0.08756474405527115, 0.09898623824119568, 0.04568595439195633, 0.04568595439195633, 0.022842977195978165, 0.030457302927970886, 0.04187879338860512, 0.0076143257319927216, 0.0038071628659963608, 0.0038071628659963608, 0.6269975900650024, 0.1567493975162506, 0.1567493975162506, 0.390789270401001, 0.1953946352005005, 0.1953946352005005, 0.1953946352005005, 0.22316037118434906, 0.6136910319328308, 0.055790092796087265, 0.8134730458259583, 0.9372234344482422, 0.19248181581497192, 0.19248181581497192, 0.12832121551036835, 0.12832121551036835, 0.06416060775518417, 0.2566424310207367, 0.4173237979412079, 0.27821585536003113, 0.13910792768001556, 0.13910792768001556, 0.08639081567525864, 0.17278163135051727, 0.6047357320785522, 0.08639081567525864, 0.3858937621116638, 0.1929468810558319, 0.1929468810558319, 0.5100700259208679, 0.25503501296043396, 0.12751750648021698, 0.9242383241653442, 0.1580435186624527, 0.3160870373249054, 0.1580435186624527, 0.3160870373249054, 0.20318067073822021, 0.04063613340258598, 0.16254453361034393, 0.6095420122146606, 0.0791049674153328, 0.23731490969657898, 0.23731490969657898, 0.1582099348306656, 0.23731490969657898, 0.0791049674153328, 0.2469838410615921, 0.1646558940410614, 0.16181699931621552, 0.13058915734291077, 0.16181699931621552, 0.04542231559753418, 0.02271115779876709, 0.008516684174537659, 0.019872263073921204, 0.008516684174537659, 0.0056777894496917725, 0.008516684174537659, 0.008516684174537659, 0.0028388947248458862, 0.3695424199104309, 0.18477120995521545, 0.3695424199104309, 0.8773128986358643, 0.8545886278152466, 0.3798401951789856, 0.1899200975894928, 0.1899200975894928, 0.1899200975894928, 0.4207974076271057, 0.15622419118881226, 0.09071081876754761, 0.06047387793660164, 0.0856713280081749, 0.07811209559440613, 0.04787515476346016, 0.010078979656100273, 0.03023693896830082, 0.007559234742075205, 0.0025197449140250683, 0.007559234742075205, 0.007559234742075205, 0.18612055480480194, 0.18612055480480194, 0.3722411096096039, 0.18612055480480194, 0.1701335310935974, 0.3402670621871948, 0.1701335310935974, 0.276009738445282, 0.138004869222641, 0.414014607667923, 0.138004869222641, 0.12918885052204132, 0.12918885052204132, 0.6459442973136902, 0.0780172199010849, 0.03900860995054245, 0.19504304230213165, 0.4485990107059479, 0.11702582985162735, 0.019504304975271225, 0.03900860995054245, 0.019504304975271225, 0.03900860995054245, 0.5126585364341736, 0.07323693484067917, 0.07323693484067917, 0.07323693484067917, 0.2197108119726181, 0.07323693484067917, 0.8710440397262573, 0.07769321650266647, 0.38846608996391296, 0.23307964205741882, 0.23307964205741882, 0.3658633828163147, 0.18293169140815735, 0.3658633828163147, 0.3587878942489624, 0.07175757735967636, 0.14351515471935272, 0.28703030943870544, 0.07175757735967636, 0.0877242162823677, 0.021931054070591927, 0.257689893245697, 0.16448290646076202, 0.383793443441391, 0.005482763517647982, 0.010965527035295963, 0.005482763517647982, 0.04386210814118385, 0.005482763517647982, 0.005482763517647982, 0.39589208364486694, 0.39589208364486694, 0.13196402788162231, 0.1944788247346878, 0.10460603982210159, 0.1885855346918106, 0.2018454521894455, 0.12228593230247498, 0.07661287486553192, 0.04272640869021416, 0.017679894343018532, 0.008839947171509266, 0.016206568107008934, 0.0058932979591190815, 0.01473324466496706, 0.0029466489795595407, 0.0014733244897797704, 0.0014733244897797704, 0.18758155405521393, 0.18758155405521393, 0.18758155405521393, 0.18758155405521393, 0.9430328011512756, 0.31901609897613525, 0.21267738938331604, 0.4253547787666321, 0.05472073331475258, 0.9193083047866821, 0.10788054019212723, 0.6472832560539246, 0.08091040700674057, 0.14833573997020721, 0.013485067524015903, 0.02056797780096531, 0.8638550639152527, 0.01371198520064354, 0.07541591674089432, 0.01371198520064354, 0.00685599260032177, 0.04436885565519333, 0.39931970834732056, 0.13310657441616058, 0.35495084524154663, 0.2486688196659088, 0.2486688196659088, 0.3730032444000244, 0.006170956417918205, 0.71583092212677, 0.02468382567167282, 0.24066729843616486, 0.006170956417918205, 0.30899375677108765, 0.30899375677108765, 0.15449687838554382, 0.15449687838554382, 0.09383201599121094, 0.18766403198242188, 0.6568241119384766, 0.18284493684768677, 0.1263292282819748, 0.20944055914878845, 0.16954712569713593, 0.15624931454658508, 0.026595627889037132, 0.039893440902233124, 0.039893440902233124, 0.01662226766347885, 0.013297813944518566, 0.006648906972259283, 0.013297813944518566, 0.006751445587724447, 0.18904048204421997, 0.5536185503005981, 0.2160462588071823, 0.006751445587724447, 0.013502891175448895, 0.006751445587724447, 0.06707512587308884, 0.06707512587308884, 0.8049014806747437, 0.19995644688606262, 0.39991289377212524, 0.19995644688606262, 0.19995644688606262, 0.07346951216459274, 0.07346951216459274, 0.44081708788871765, 0.29387804865837097, 0.07346951216459274, 0.8756140470504761, 0.0030420224647969007, 0.06084045022726059, 0.9156487584114075, 0.012168089859187603, 0.0030420224647969007, 0.09069016575813293, 0.816211462020874, 0.9218710064888, 0.0609501488506794, 0.007618768606334925, 0.1873132586479187, 0.5619397759437561, 0.20769017934799194, 0.11682572215795517, 0.2790836691856384, 0.11682572215795517, 0.13629667460918427, 0.07139349728822708, 0.014603215269744396, 0.01784837432205677, 0.004867738578468561, 0.019470954313874245, 0.003245159052312374, 0.004867738578468561, 0.001622579526156187, 0.003245159052312374, 0.001622579526156187, 0.021960105746984482, 0.6148829460144043, 0.21960106492042542, 0.021960105746984482, 0.08784042298793793, 0.4695090055465698, 0.4695090055465698, 0.00320542324334383, 0.01923253946006298, 0.9680378437042236, 0.00641084648668766, 0.594194769859314, 0.2530829608440399, 0.0165054090321064, 0.005501803010702133, 0.0165054090321064, 0.07702524214982986, 0.005501803010702133, 0.005501803010702133, 0.005501803010702133, 0.005501803010702133, 0.005501803010702133, 0.3824548125267029, 0.3824548125267029, 0.8901561498641968, 0.06358257681131363, 0.3776758313179016, 0.2832568883895874, 0.2832568883895874, 0.15262894332408905, 0.3052578866481781, 0.3052578866481781, 0.06252065300941467, 0.011033056303858757, 0.6693387627601624, 0.1066528782248497, 0.014710741117596626, 0.025743797421455383, 0.007355370558798313, 0.014710741117596626, 0.04413222521543503, 0.04045454040169716, 0.33363795280456543, 0.11121264845132828, 0.11121264845132828, 0.33363795280456543, 0.1818205565214157, 0.06060685217380524, 0.06060685217380524, 0.6060685515403748, 0.06060685217380524, 0.4630250334739685, 0.22850586473941803, 0.012026624754071236, 0.054119810461997986, 0.07817306369543076, 0.03607987239956856, 0.012026624754071236, 0.012026624754071236, 0.02405324950814247, 0.030066560953855515, 0.01803993619978428, 0.006013312377035618, 0.006013312377035618, 0.012026624754071236, 0.22194260358810425, 0.7644689679145813, 0.8969470262527466, 0.09576427191495895, 0.11970534175634384, 0.33517494797706604, 0.07182320952415466, 0.07182320952415466, 0.02394106797873974, 0.1915285438299179, 0.02394106797873974, 0.07182320952415466, 0.4184301495552063, 0.20921507477760315, 0.20921507477760315, 0.10460753738880157, 0.10460753738880157, 0.07472800463438034, 0.8967360854148865, 0.006793455220758915, 0.7127143740653992, 0.10964836925268173, 0.027412092313170433, 0.10964836925268173, 0.013706046156585217, 0.013706046156585217, 0.14076107740402222, 0.5133639574050903, 0.28152215480804443, 0.03726028650999069, 0.01242009550333023, 0.008280063979327679, 0.5678314566612244, 0.42587360739707947, 0.9408289194107056, 0.035502977669239044, 0.13246941566467285, 0.2649388313293457, 0.2649388313293457, 0.13246941566467285, 0.13246941566467285, 0.33567485213279724, 0.13986453413963318, 0.13986453413963318, 0.027972904965281487, 0.16783742606639862, 0.16783742606639862, 0.027972904965281487, 0.9772379994392395, 0.8670014142990112, 0.037695713341236115, 0.07539142668247223, 0.037695713341236115, 0.4482792913913727, 0.07471321523189545, 0.07471321523189545, 0.1494264304637909, 0.03735660761594772, 0.1494264304637909, 0.03735660761594772, 0.25301337242126465, 0.19373594224452972, 0.1734948754310608, 0.12722957134246826, 0.10554271191358566, 0.053494252264499664, 0.0346989743411541, 0.018795277923345566, 0.01734948717057705, 0.008674743585288525, 0.008674743585288525, 0.0028915812727063894, 0.0014457906363531947, 0.8096200823783875, 0.11848098784685135, 0.039493661373853683, 0.7061821818351746, 0.19259513914585114, 0.03209919109940529, 0.048148784786462784, 0.38012757897377014, 0.04751594737172127, 0.23757973313331604, 0.2850956618785858, 0.04751594737172127, 0.3052206039428711, 0.45783090591430664, 0.15261030197143555, 0.9070665836334229, 0.038413360714912415, 0.2304801493883133, 0.6914404630661011, 0.038413360714912415, 0.19766904413700104, 0.19766904413700104, 0.2635587453842163, 0.06588968634605408, 0.19766904413700104, 0.007526701781898737, 0.3236481845378876, 0.6472963690757751, 0.007526701781898737, 0.007526701781898737, 0.9460170269012451, 0.133660688996315, 0.29108327627182007, 0.06831546872854233, 0.15148212015628815, 0.10098808258771896, 0.09207736700773239, 0.04158332571387291, 0.062374990433454514, 0.020791662856936455, 0.008910712786018848, 0.014851188287138939, 0.011880950070917606, 0.0029702375177294016, 0.08998696506023407, 0.11098392307758331, 0.31495437026023865, 0.14397914707660675, 0.21596871316432953, 0.02999565377831459, 0.023996524512767792, 0.011998262256383896, 0.017997393384575844, 0.014997826889157295, 0.008998696692287922, 0.005999131128191948, 0.011998262256383896, 0.13869819045066833, 0.13869819045066833, 0.5547927618026733, 0.13869819045066833, 0.3334735333919525, 0.3334735333919525, 0.16673676669597626, 0.16673676669597626, 0.10855385661125183, 0.4342154264450073, 0.10855385661125183, 0.10855385661125183, 0.21710771322250366, 0.1030222550034523, 0.7211558222770691, 0.05151112750172615, 0.05151112750172615, 0.008640402927994728, 0.4838625490665436, 0.4752221703529358, 0.008640402927994728, 0.008640402927994728, 0.32538771629333496, 0.16269385814666748, 0.32538771629333496, 0.16269385814666748, 0.9321484565734863, 0.08747106790542603, 0.6997685432434082, 0.08747106790542603, 0.19089725613594055, 0.1622626632452011, 0.2004421204328537, 0.19089725613594055, 0.07158646732568741, 0.014317293651401997, 0.042951881885528564, 0.03817944973707199, 0.004772431217133999, 0.057269174605607986, 0.004772431217133999, 0.014317293651401997, 0.004772431217133999, 0.33512577414512634, 0.33512577414512634, 0.16756288707256317, 0.40703004598617554, 0.045225560665130615, 0.45225560665130615, 0.045225560665130615, 0.8106017112731934, 0.10132521390914917, 0.4437856376171112, 0.10442014783620834, 0.06091175228357315, 0.06961343437433243, 0.06091175228357315, 0.034806717187166214, 0.1218235045671463, 0.026105036959052086, 0.06961343437433243, 0.9452677965164185, 0.0045665111392736435, 0.0045665111392736435, 0.0045665111392736435, 0.009133022278547287, 0.009133022278547287, 0.018266044557094574, 0.03726790472865105, 0.0745358094573021, 0.12422634661197662, 0.5465959310531616, 0.18633951246738434, 0.024845268577337265, 0.03128120303153992, 0.828951895236969, 0.01564060151576996, 0.09384361654520035, 0.03526744619011879, 0.9522210359573364, 0.25823289155960083, 0.016139555722475052, 0.19367466866970062, 0.08069778233766556, 0.14525601267814636, 0.032279111444950104, 0.032279111444950104, 0.032279111444950104, 0.14525601267814636, 0.048418667167425156, 0.34620603919029236, 0.17310301959514618, 0.17310301959514618, 0.25965452194213867, 0.33226728439331055, 0.22151152789592743, 0.11075576394796371, 0.11075576394796371, 0.16138853132724762, 0.32277706265449524, 0.32277706265449524, 0.9058471918106079, 0.06587979942560196, 0.01646994985640049, 0.34031715989112854, 0.34031715989112854, 0.17015857994556427, 0.19721639156341553, 0.7724308967590332, 0.01095646619796753, 0.005478233098983765, 0.06073615700006485, 0.006393279414623976, 0.12466894835233688, 0.6169514656066895, 0.16942191123962402, 0.012786558829247952, 0.003196639707311988, 0.006393279414623976, 0.9323205351829529, 0.2724182605743408, 0.13861991465091705, 0.21455952525138855, 0.1193336620926857, 0.0759396031498909, 0.0867881178855896, 0.028929373249411583, 0.007232343312352896, 0.014464686624705791, 0.01325929630547762, 0.008437734097242355, 0.014464686624705791, 0.003616171656176448, 0.001205390552058816, 0.001205390552058816, 0.06742364168167114, 0.011237273924052715, 0.39330458641052246, 0.2472200244665146, 0.10113546252250671, 0.03371182084083557, 0.03371182084083557, 0.011237273924052715, 0.02247454784810543, 0.02247454784810543, 0.011237273924052715, 0.03371182084083557, 0.17942754924297333, 0.17942754924297333, 0.17942754924297333, 0.35885509848594666, 0.08072126656770706, 0.16144253313541412, 0.16144253313541412, 0.08072126656770706, 0.16144253313541412, 0.08072126656770706, 0.16144253313541412, 0.20806825160980225, 0.4161365032196045, 0.10403412580490112, 0.10403412580490112, 0.10403412580490112, 0.4988843500614166, 0.16629478335380554, 0.16629478335380554, 0.4762348234653473, 0.1587449461221695, 0.317489892244339, 0.1778993308544159, 0.3557986617088318, 0.3557986617088318, 0.37944304943084717, 0.18972152471542358, 0.18972152471542358, 0.18972152471542358, 0.2419658899307251, 0.12098294496536255, 0.2419658899307251, 0.36294883489608765, 0.17275583744049072, 0.6910233497619629, 0.3666154742240906, 0.3666154742240906, 0.1833077371120453, 0.18470419943332672, 0.18470419943332672, 0.36940839886665344, 0.18470419943332672, 0.12247966974973679, 0.24495933949947357, 0.12247966974973679, 0.12247966974973679, 0.24495933949947357, 0.24963301420211792, 0.24963301420211792, 0.12481650710105896, 0.12481650710105896, 0.12481650710105896, 0.22428135573863983, 0.6728440523147583, 0.1178983747959137, 0.7368648648262024, 0.08842378109693527, 0.029474593698978424, 0.029474593698978424, 0.12809784710407257, 0.011645258404314518, 0.03493577614426613, 0.6987155079841614, 0.058226294815540314, 0.03493577614426613, 0.023290516808629036, 0.011645258404314518, 0.17674343287944794, 0.11782895773649216, 0.06480592489242554, 0.20620067417621613, 0.2238750159740448, 0.017674343660473824, 0.02356579154729843, 0.06480592489242554, 0.02356579154729843, 0.011782895773649216, 0.06480592489242554, 0.17032970488071442, 0.1967601776123047, 0.13508908450603485, 0.11746876686811447, 0.11159532517194748, 0.0939750149846077, 0.06754454225301743, 0.032303910702466965, 0.011746876873075962, 0.011746876873075962, 0.01762031391263008, 0.014683595858514309, 0.005873438436537981, 0.0029367192182689905, 0.00881015695631504, 0.9184707403182983, 0.17319555580615997, 0.6927822232246399, 0.04634149372577667, 0.8341468572616577, 0.04634149372577667, 0.09268298745155334, 0.5628790855407715, 0.010423686355352402, 0.07296580821275711, 0.07296580821275711, 0.21889741718769073, 0.031271059066057205, 0.020847372710704803, 0.19471412897109985, 0.19471412897109985, 0.3894282579421997, 0.3679852783679962, 0.14719411730766296, 0.22079117596149445, 0.03679852932691574, 0.20239190757274628, 0.01839926466345787, 0.8611534833908081, 0.7465485334396362, 0.10368729382753372, 0.020737458020448685, 0.020737458020448685, 0.020737458020448685, 0.020737458020448685, 0.04147491604089737, 0.06128911301493645, 0.9287657737731934, 0.002357273595407605, 0.4972270131111145, 0.3271230459213257, 0.01744656264781952, 0.00872328132390976, 0.00872328132390976, 0.0654246062040329, 0.0436164066195488, 0.00872328132390976, 0.00436164066195488, 0.00436164066195488, 0.00436164066195488, 0.00872328132390976, 0.12708252668380737, 0.802208423614502, 0.01588531583547592, 0.035741958767175674, 0.00794265791773796, 0.18781352043151855, 0.7780845761299133, 0.3610127568244934, 0.045126594603061676, 0.31588616967201233, 0.09025318920612335, 0.045126594603061676, 0.045126594603061676, 0.09025318920612335, 0.21449223160743713, 0.17953094840049744, 0.17291665077209473, 0.17858605086803436, 0.09354507178068161, 0.058583784848451614, 0.041575588285923004, 0.01984289474785328, 0.014173495583236217, 0.006614298094063997, 0.0075591979548335075, 0.006614298094063997, 0.0028346991166472435, 0.0018897994887083769, 0.0018897994887083769, 0.045946162194013596, 0.027227355167269707, 0.3743761479854584, 0.20420517027378082, 0.21441543102264404, 0.04254274442791939, 0.011911967769265175, 0.0034034193959087133, 0.05445471033453941, 0.013613677583634853, 0.0034034193959087133, 0.0017017096979543567, 0.3885796368122101, 0.10264367610216141, 0.051321838051080704, 0.10997536778450012, 0.04399014636874199, 0.23461411893367767, 0.014663382433354855, 0.021995073184370995, 0.007331691216677427, 0.014663382433354855, 0.007331691216677427, 0.13586543500423431, 0.13586543500423431, 0.27173087000846863, 0.13586543500423431, 0.27173087000846863, 0.815509557723999, 0.11650136113166809, 0.9051443338394165, 0.16140268743038177, 0.32280537486076355, 0.4842080771923065, 0.09882461279630661, 0.07058900594711304, 0.3247094452381134, 0.1623547226190567, 0.12000131607055664, 0.049412306398153305, 0.028235603123903275, 0.08470681309700012, 0.02117670327425003, 0.02117670327425003, 0.02117670327425003, 0.007058900780975819, 0.09584272652864456, 0.8625845313072205, 0.49385061860084534, 0.3527504503726959, 0.14110016822814941, 0.8916119337081909, 0.9174112677574158, 0.1614762544631958, 0.1614762544631958, 0.1614762544631958, 0.3229525089263916, 0.974189281463623, 0.3154957890510559, 0.4732436537742615, 0.15774789452552795, 0.031034115701913834, 0.40344351530075073, 0.4655117392539978, 0.06206823140382767, 0.031034115701913834, 0.20419242978096008, 0.6514710783958435, 0.009723449125885963, 0.009723449125885963, 0.02917034737765789, 0.038893796503543854, 0.019446898251771927, 0.019446898251771927, 0.009723449125885963, 0.009723449125885963, 0.4029475152492523, 0.20147375762462616, 0.20147375762462616, 0.20147375762462616, 0.6571322083473206, 0.16428305208683014, 0.036605678498744965, 0.8785362839698792, 0.07321135699748993, 0.3287234604358673, 0.16436173021793365, 0.3287234604358673, 0.8951998353004456, 0.6113192439079285, 0.14943359792232513, 0.135848730802536, 0.040754616260528564, 0.027169745415449142, 0.24061669409275055, 0.12030834704637527, 0.12030834704637527, 0.36092501878738403, 0.9323434829711914, 0.556327223777771, 0.13908180594444275, 0.2781636118888855, 0.13879674673080444, 0.20819512009620667, 0.41639024019241333, 0.06939837336540222, 0.13879674673080444, 0.5227448344230652, 0.04545607417821884, 0.2272803783416748, 0.09091214835643768, 0.02272803708910942, 0.04545607417821884, 0.14145225286483765, 0.42435675859451294, 0.14145225286483765, 0.14145225286483765, 0.14145225286483765, 0.14024078845977783, 0.14024078845977783, 0.14024078845977783, 0.4207223951816559, 0.14024078845977783, 0.39783552289009094, 0.19891776144504547, 0.19891776144504547, 0.19891776144504547, 0.3603237569332123, 0.3603237569332123, 0.12010791897773743, 0.12010791897773743, 0.12010791897773743, 0.18716828525066376, 0.5615048408508301, 0.08087407797574997, 0.7076481580734253, 0.18196667730808258, 0.020218519493937492, 0.15022002160549164, 0.4506600499153137, 0.3004400432109833, 0.8927435278892517, 0.020761476829648018, 0.0622844323515892, 0.3853987753391266, 0.27927446365356445, 0.09309148788452148, 0.07447319477796555, 0.03537476807832718, 0.042822085320949554, 0.04468391463160515, 0.009309149347245693, 0.013032808899879456, 0.0018618297763168812, 0.0055854893289506435, 0.007447319105267525, 0.0055854893289506435, 0.0018618297763168812, 0.15533290803432465, 0.12046225368976593, 0.3170059323310852, 0.14582273364067078, 0.1014418974518776, 0.06974130868911743, 0.0253604743629694, 0.0126802371814847, 0.0126802371814847, 0.009510178118944168, 0.0126802371814847, 0.009510178118944168, 0.003170059295371175, 0.00634011859074235, 0.021297523751854897, 0.7752298712730408, 0.008519009687006474, 0.08944959938526154, 0.05537356436252594, 0.029816534370183945, 0.017038019374012947, 0.14017874002456665, 0.350446879863739, 0.2803574800491333, 0.07008937001228333, 0.14017874002456665, 0.14258155226707458, 0.2026159018278122, 0.21012018620967865, 0.11256438493728638, 0.19511160254478455, 0.015008585527539253, 0.015008585527539253, 0.030017171055078506, 0.007504292763769627, 0.015008585527539253, 0.007504292763769627, 0.03752146288752556, 0.007504292763769627, 0.09427589923143387, 0.0062850601971149445, 0.40224385261535645, 0.4368116855621338, 0.012570120394229889, 0.009427590295672417, 0.0062850601971149445, 0.018855180591344833, 0.0031425300985574722, 0.009427590295672417, 0.8544880151748657, 0.5140371322631836, 0.0514037124812603, 0.1542111337184906, 0.0514037124812603, 0.0514037124812603, 0.1028074249625206, 0.1028074249625206, 0.0014382376102730632, 0.0014382376102730632, 0.16108261048793793, 0.8169189691543579, 0.014382376335561275, 0.0014382376102730632, 0.29907524585723877, 0.06646116822957993, 0.18276821076869965, 0.34892112016677856, 0.04984587803483009, 0.03323058411478996, 0.004560856148600578, 0.0015202853828668594, 0.0015202853828668594, 0.18395453691482544, 0.798149824142456, 0.0015202853828668594, 0.0015202853828668594, 0.006081141531467438, 0.0015202853828668594, 0.04209579899907112, 0.378862202167511, 0.420958012342453, 0.04209579899907112, 0.04209579899907112, 0.08419159799814224, 0.0026996233500540257, 0.8800771832466125, 0.005399246700108051, 0.0026996233500540257, 0.0026996233500540257, 0.05669208988547325, 0.04859321936964989, 0.7515869736671448, 0.1878967434167862, 0.018802238628268242, 0.7332872748374939, 0.018802238628268242, 0.20682461559772491, 0.009401119314134121, 0.5351868867874146, 0.4013901650905609, 0.0011950723128393292, 0.9154254198074341, 0.007170434109866619, 0.0023901446256786585, 0.0011950723128393292, 0.0011950723128393292, 0.043022606521844864, 0.02509651891887188, 0.0011950723128393292, 0.0768025815486908, 0.8448283672332764, 0.14186228811740875, 0.42558684945106506, 0.14186228811740875, 0.14186228811740875, 0.5713697075843811, 0.1904565691947937, 0.42869651317596436, 0.49728792905807495, 0.042869649827480316, 0.008573929779231548, 0.008573929779231548, 0.33868172764778137, 0.1370854675769806, 0.040319252759218216, 0.05644695460796356, 0.040319252759218216, 0.16127701103687286, 0.02419155277311802, 0.016127701848745346, 0.11289390921592712, 0.008063850924372673, 0.06451080739498138, 0.008063850924372673, 0.008063850924372673, 0.1611458659172058, 0.5013427138328552, 0.01790509559214115, 0.004476273898035288, 0.053715288639068604, 0.013428822159767151, 0.08504920452833176, 0.1342882215976715, 0.008952547796070576, 0.004476273898035288, 0.008952547796070576, 0.39372730255126953, 0.19686365127563477, 0.19686365127563477, 0.19686365127563477, 0.3264177441596985, 0.16320887207984924, 0.3264177441596985, 0.16320887207984924, 0.45489320158958435, 0.22744660079479218, 0.11372330039739609, 0.11372330039739609, 0.38801994919776917, 0.19400997459888458, 0.19400997459888458, 0.19400997459888458, 0.8617191314697266, 0.8407860398292542, 0.9247866272926331, 0.028023837134242058, 0.028023837134242058, 0.8619373440742493, 0.06630287319421768, 0.8611279129981995, 0.8947015404701233, 0.21770474314689636, 0.10885237157344818, 0.10885237157344818, 0.4354094862937927, 0.9267451763153076, 0.9741455912590027, 0.038117196410894394, 0.6003458499908447, 0.009529299102723598, 0.2572910785675049, 0.009529299102723598, 0.02858789637684822, 0.05717579275369644, 0.05704498291015625, 0.3422698974609375, 0.07130622863769531, 0.14261245727539062, 0.014261245727539062, 0.028522491455078125, 0.05704498291015625, 0.19965744018554688, 0.05704498291015625, 0.014261245727539062, 0.028522491455078125, 0.05464346334338188, 0.01821448840200901, 0.01821448840200901, 0.30964627861976624, 0.30964627861976624, 0.07285795360803604, 0.03642897680401802, 0.16393038630485535, 0.01821448840200901, 0.9538342952728271, 0.025779305025935173, 0.0860956534743309, 0.41817888617515564, 0.40587952733039856, 0.036898136138916016, 0.036898136138916016, 0.46294909715652466, 0.46294909715652466, 0.1563611477613449, 0.3127222955226898, 0.4690834581851959, 0.12573495507240295, 0.37720486521720886, 0.37720486521720886, 0.19587759673595428, 0.2226818948984146, 0.15257833898067474, 0.14433085918426514, 0.11546468734741211, 0.05360860377550125, 0.016494955867528915, 0.012371216900646687, 0.026804301887750626, 0.026804301887750626, 0.016494955867528915, 0.008247477933764458, 0.006185608450323343, 0.0020618694834411144, 0.13411803543567657, 0.044706009328365326, 0.1490200310945511, 0.5513741374015808, 0.059608012437820435, 0.029804006218910217, 0.014902003109455109, 0.1866164356470108, 0.1866164356470108, 0.3732328712940216, 0.1866164356470108, 0.3169020116329193, 0.0633803978562355, 0.10140863806009293, 0.08873256295919418, 0.02535215951502323, 0.3169020116329193, 0.02535215951502323, 0.02535215951502323, 0.012676079757511616, 0.03802824020385742, 0.565865695476532, 0.1886218935251236, 0.1886218935251236, 0.18449871242046356, 0.050317831337451935, 0.14256718754768372, 0.21804392337799072, 0.3019069731235504, 0.06709043681621552, 0.01677260920405388, 0.01677260920405388, 0.07803991436958313, 0.2341197431087494, 0.39019957184791565, 0.07803991436958313, 0.07803991436958313, 0.21559563279151917, 0.5389890670776367, 0.21559563279151917, 0.15673625469207764, 0.3134725093841553, 0.15673625469207764, 0.3134725093841553, 0.4758407473564148, 0.28550446033477783, 0.19033630192279816, 0.10106638073921204, 0.10106638073921204, 0.3031991422176361, 0.40426552295684814, 0.10106638073921204, 0.876079261302948, 0.31277996301651, 0.156389981508255, 0.469169944524765, 0.32550787925720215, 0.390609472990036, 0.05508594959974289, 0.06009376421570778, 0.017527347430586815, 0.07010938972234726, 0.015023441053926945, 0.032550789415836334, 0.015023441053926945, 0.005007813684642315, 0.007511720526963472, 0.0025039068423211575, 0.005007813684642315, 0.0025039068423211575, 0.37263569235801697, 0.37263569235801697, 0.18631784617900848, 0.3223753273487091, 0.2754274606704712, 0.0688568651676178, 0.10485022515058517, 0.04694786295294762, 0.07198672741651535, 0.03286350518465042, 0.03286350518465042, 0.012519430369138718, 0.007824643515050411, 0.009389572776854038, 0.007824643515050411, 0.0031298575922846794, 0.916218101978302, 0.009851806797087193, 0.03940722718834877, 0.019703613594174385, 0.43418794870376587, 0.26211345195770264, 0.060025982558727264, 0.0700303167104721, 0.020008660852909088, 0.06602858006954193, 0.022009527310729027, 0.03201385587453842, 0.010004330426454544, 0.0020008659921586514, 0.004001731984317303, 0.008003463968634605, 0.0020008659921586514, 0.004001731984317303, 0.004001731984317303, 0.3096916675567627, 0.5447255373001099, 0.0027651041746139526, 0.008295312523841858, 0.005530208349227905, 0.0027651041746139526, 0.005530208349227905, 0.08018802106380463, 0.02212083339691162, 0.0027651041746139526, 0.01106041669845581, 0.07276513427495956, 0.02338879182934761, 0.15332652628421783, 0.3326406180858612, 0.31185057759284973, 0.025987546890974045, 0.015592528507113457, 0.007796264253556728, 0.007796264253556728, 0.015592528507113457, 0.007796264253556728, 0.025987546890974045, 0.0025987548287957907, 0.023470653221011162, 0.6689136028289795, 0.09388261288404465, 0.2112358659505844, 0.28503847122192383, 0.13388170301914215, 0.12308479100465775, 0.18138810992240906, 0.08853467553853989, 0.07773776352405548, 0.05398455634713173, 0.010796911083161831, 0.012956293299794197, 0.008637528866529465, 0.012956293299794197, 0.004318764433264732, 0.004318764433264732, 0.002159382216632366, 0.002159382216632366, 0.31213921308517456, 0.43699491024017334, 0.031213920563459396, 0.031213920563459396, 0.031213920563459396, 0.12485568225383759, 0.09867696464061737, 0.03947078809142113, 0.32760754227638245, 0.11446528136730194, 0.22893056273460388, 0.0690738782286644, 0.02565601095557213, 0.011841235682368279, 0.017761854454874992, 0.011841235682368279, 0.02565601095557213, 0.019735394045710564, 0.0019735393580049276, 0.005920617841184139, 0.16571253538131714, 0.16571253538131714, 0.16571253538131714, 0.3314250707626343, 0.4648219048976898, 0.17043469846248627, 0.03873515874147415, 0.05422922223806381, 0.03873515874147415, 0.03098812699317932, 0.03098812699317932, 0.11620547622442245, 0.01549406349658966, 0.00774703174829483, 0.01549406349658966, 0.00774703174829483, 0.30942484736442566, 0.15471242368221283, 0.4641372859477997, 0.18451756238937378, 0.13464795053005219, 0.23189368844032288, 0.18451756238937378, 0.05735005438327789, 0.11719358712434769, 0.022441325709223747, 0.019947843626141548, 0.009973921813070774, 0.012467402964830399, 0.009973921813070774, 0.004986960906535387, 0.0024934804532676935, 0.0024934804532676935, 0.0024934804532676935, 0.06773829460144043, 0.096396803855896, 0.2370840460062027, 0.289190411567688, 0.14589786529541016, 0.08337020874023438, 0.013026596046984196, 0.023447871208190918, 0.013026596046984196, 0.013026596046984196, 0.007815957069396973, 0.0052106380462646484, 0.0026053190231323242, 0.2787383794784546, 0.5574767589569092, 0.1393691897392273, 0.20598942041397095, 0.16867250204086304, 0.15523840487003326, 0.24778437614440918, 0.06418511271476746, 0.0716484934091568, 0.031346216797828674, 0.022390155121684074, 0.0044780308380723, 0.0029853538144379854, 0.011941415257751942, 0.011941415257751942, 0.0014926769072189927, 0.0014926769072189927, 0.6456010341644287, 0.24594326317310333, 0.0922287181019783, 0.557772159576416, 0.18592405319213867, 0.8305233120918274, 0.09228036552667618, 0.8632518649101257, 0.07847744226455688, 0.20126603543758392, 0.40253207087516785, 0.20126603543758392, 0.20126603543758392, 0.31179410219192505, 0.1336260437965393, 0.2672520875930786, 0.044542014598846436, 0.1336260437965393, 0.044542014598846436, 0.05336329713463783, 0.9071760773658752, 0.18829989433288574, 0.5648996829986572, 0.3713058829307556, 0.1856529414653778, 0.3713058829307556, 0.9052276611328125, 0.0603485107421875, 0.32116416096687317, 0.6423283219337463, 0.024704935029149055, 0.1128053292632103, 0.09024426341056824, 0.24817173182964325, 0.16920799016952515, 0.1917690634727478, 0.05640266463160515, 0.06768319755792618, 0.02256106585264206, 0.02256106585264206, 0.02256106585264206, 0.15299281477928162, 0.03530603274703026, 0.18829883635044098, 0.18241450190544128, 0.23537355661392212, 0.07061206549406052, 0.005884338635951281, 0.005884338635951281, 0.005884338635951281, 0.011768677271902561, 0.023537354543805122, 0.05884338915348053, 0.005884338635951281, 0.005884338635951281, 0.005884338635951281, 0.1825832575559616, 0.5477497577667236, 0.1825832575559616, 0.820428729057312, 0.040020912885665894, 0.12006273865699768, 0.2758800685405731, 0.13794003427028656, 0.5517601370811462, 0.07468856871128082, 0.06535249948501587, 0.13070499897003174, 0.1773853600025177, 0.5041478276252747, 0.02800821326673031, 0.009336071088910103, 0.27016958594322205, 0.1801130622625351, 0.09005653113126755, 0.1801130622625351, 0.22514133155345917, 0.012815839610993862, 0.025631679221987724, 0.8501173853874207, 0.00854389276355505, 0.004271946381777525, 0.05980725213885307, 0.00854389276355505, 0.0170877855271101, 0.004271946381777525, 0.3442060053348541, 0.3505801856517792, 0.06374185532331467, 0.08286440372467041, 0.06374185532331467, 0.07011603564023972, 0.006374184973537922, 0.006374184973537922, 0.05230407416820526, 0.09323769807815552, 0.35248398780822754, 0.15918631851673126, 0.24105356633663177, 0.0477558933198452, 0.004548180382698774, 0.006822270341217518, 0.004548180382698774, 0.020466811954975128, 0.013644540682435036, 0.002274090191349387, 0.8833885788917542, 0.0679529681801796, 0.2770715057849884, 0.2770715057849884, 0.1385357528924942, 0.1385357528924942, 0.1385357528924942, 0.3611376881599426, 0.12037922441959381, 0.24075844883918762, 0.12037922441959381, 0.17082549631595612, 0.5124765038490295, 0.34165099263191223, 0.7584118247032166, 0.1945262998342514, 0.4634302854537964, 0.02288544550538063, 0.12014859169721603, 0.005721361376345158, 0.07437770068645477, 0.06865634024143219, 0.005721361376345158, 0.005721361376345158, 0.02288544550538063, 0.011442722752690315, 0.3597269058227539, 0.6063967943191528, 0.020555824041366577, 0.8967500329017639, 0.04598718136548996, 0.02299359068274498, 0.3909527063369751, 0.09773817658424377, 0.09773817658424377, 0.19547635316848755, 0.19547635316848755, 0.5308409929275513, 0.08561950922012329, 0.10274341702461243, 0.18836292624473572, 0.017123902216553688, 0.017123902216553688, 0.05137170851230621, 0.34642767906188965, 0.14434486627578735, 0.21651731431484222, 0.10104141384363174, 0.07217243313789368, 0.01443448755890131, 0.01443448755890131, 0.01443448755890131, 0.01443448755890131, 0.01443448755890131, 0.02886897511780262, 0.009218248538672924, 0.5807496905326843, 0.12905548512935638, 0.26732921600341797, 0.1600445806980133, 0.13588690757751465, 0.22043877840042114, 0.19628110527992249, 0.12380807846784592, 0.06039418280124664, 0.03925621882081032, 0.012078836560249329, 0.012078836560249329, 0.006039418280124664, 0.018118254840373993, 0.006039418280124664, 0.006039418280124664, 0.48130500316619873, 0.1604350060224533, 0.1604350060224533, 0.28138020634651184, 0.14948323369026184, 0.03517252579331398, 0.05275878682732582, 0.008793131448328495, 0.3868977725505829, 0.02198282815515995, 0.013189696706831455, 0.013189696706831455, 0.03077596053481102, 0.0043965657241642475, 0.8841425180435181, 0.017336128279566765, 0.017336128279566765, 0.052008386701345444, 0.16593702137470245, 0.1533435732126236, 0.2392752468585968, 0.15482516586780548, 0.11334090679883957, 0.07111586630344391, 0.026668448001146317, 0.014815804548561573, 0.011852643452584743, 0.014075014740228653, 0.022223707288503647, 0.008148692548274994, 0.002222370821982622, 0.0007407902157865465, 0.002222370821982622, 0.10113969445228577, 0.8091175556182861, 0.10113969445228577, 0.0645008236169815, 0.129001647233963, 0.129001647233963, 0.129001647233963, 0.0645008236169815, 0.32250410318374634, 0.129001647233963, 0.06232690438628197, 0.5787498354911804, 0.004451921675354242, 0.32053837180137634, 0.01780768670141697, 0.004451921675354242, 0.004451921675354242, 0.004451921675354242, 0.8949028849601746, 0.07457524538040161, 0.5972362160682678, 0.0597236230969429, 0.2388944923877716, 0.0597236230969429, 0.12736526131629944, 0.10067920386791229, 0.3178066313266754, 0.16375532746315002, 0.15041230618953705, 0.054585110396146774, 0.026686053723096848, 0.008491016924381256, 0.0072780149057507515, 0.014556029811501503, 0.01819503679871559, 0.0072780149057507515, 0.002426004968583584, 0.001213002484291792, 0.06837913393974304, 0.13675826787948608, 0.20513740181922913, 0.20513740181922913, 0.13675826787948608, 0.20513740181922913, 0.9218841195106506, 0.19359372556209564, 0.5807811617851257, 0.19359372556209564, 0.13565000891685486, 0.35269004106521606, 0.08139000833034515, 0.0271300021559, 0.08139000833034515, 0.29843002557754517, 0.1103997454047203, 0.2207994908094406, 0.4415989816188812, 0.1103997454047203, 0.19943386316299438, 0.6980185508728027, 0.8758789300918579, 0.5298169851303101, 0.2384176254272461, 0.07947254180908203, 0.04768352583050728, 0.005298169795423746, 0.021192679181694984, 0.021192679181694984, 0.026490848511457443, 0.005298169795423746, 0.010596339590847492, 0.005298169795423746, 0.24584589898586273, 0.2238045483827591, 0.17972183227539062, 0.10512031614780426, 0.0966428741812706, 0.05256015807390213, 0.03390977904200554, 0.011868422850966454, 0.010172934271395206, 0.008477444760501385, 0.010172934271395206, 0.0135639114305377, 0.003390977857634425, 0.005086467135697603, 0.7390636205673218, 0.06928721815347672, 0.011547869071364403, 0.040417540818452835, 0.011547869071364403, 0.02886967360973358, 0.04619147628545761, 0.005773934535682201, 0.005773934535682201, 0.011547869071364403, 0.02886967360973358, 0.27995550632476807, 0.33821216225624084, 0.07443904131650925, 0.08576671779155731, 0.019418880343437195, 0.11651327461004257, 0.03883776068687439, 0.012945919297635555, 0.016182400286197662, 0.006472959648817778, 0.004854720085859299, 0.003236479824408889, 0.0016182399122044444, 0.003236479824408889, 0.3776152729988098, 0.2213606834411621, 0.11285054683685303, 0.04774446040391922, 0.026042433455586433, 0.09114851802587509, 0.05208486691117287, 0.03038283810019493, 0.004340405575931072, 0.004340405575931072, 0.004340405575931072, 0.008680811151862144, 0.013021216727793217, 0.008680811151862144, 0.7373099327087402, 0.14746198058128357, 0.0871463343501091, 0.7843170166015625, 0.0871463343501091, 0.8745530843734741, 0.04858628287911415, 0.024293141439557076, 0.024293141439557076, 0.6483849883079529, 0.16209624707698822, 0.32281553745269775, 0.16140776872634888, 0.32281553745269775, 0.15651199221611023, 0.31302398443222046, 0.15651199221611023, 0.31302398443222046, 0.009802501648664474, 0.0019605003762990236, 0.8939881920814514, 0.03136800602078438, 0.0058815013617277145, 0.0019605003762990236, 0.027447005733847618, 0.023526005446910858, 0.8926624655723572, 0.006468568928539753, 0.006468568928539753, 0.019405705854296684, 0.07115425914525986, 0.15230374038219452, 0.15973319113254547, 0.26560285687446594, 0.12072856724262238, 0.1467316448688507, 0.04829142987728119, 0.022288352251052856, 0.04457670450210571, 0.00928681343793869, 0.005572088062763214, 0.00928681343793869, 0.007429450284689665, 0.0018573625711724162, 0.0037147251423448324, 0.9220779538154602, 0.3578175902366638, 0.22547408938407898, 0.09803221374750137, 0.10538462549448013, 0.053917717188596725, 0.053917717188596725, 0.03676208108663559, 0.022057248279452324, 0.009803221561014652, 0.009803221561014652, 0.004901610780507326, 0.009803221561014652, 0.009803221561014652, 0.002450805390253663, 0.002450805390253663, 0.3400956094264984, 0.0850239023566246, 0.1700478047132492, 0.0850239023566246, 0.2550716996192932, 0.8716281652450562, 0.3117915093898773, 0.1455027163028717, 0.19027277827262878, 0.12631553411483765, 0.10872729867696762, 0.036775410175323486, 0.030379686504602432, 0.011192516423761845, 0.007994654588401318, 0.014390378259122372, 0.006395723670721054, 0.003197861835360527, 0.003197861835360527, 0.0015989309176802635, 0.0015989309176802635, 0.20456604659557343, 0.20609265565872192, 0.1053362488746643, 0.2137257158756256, 0.03663869574666023, 0.14808139204978943, 0.030532246455550194, 0.022899184376001358, 0.0137395104393363, 0.0030532246455550194, 0.004579836968332529, 0.006106449291110039, 0.0015266123227775097, 0.0030532246455550194, 0.0015266123227775097, 0.8043562769889832, 0.015771690756082535, 0.15771691501140594, 0.015771690756082535, 0.3591870665550232, 0.07981935143470764, 0.11972901970148087, 0.3591870665550232, 0.05986450985074043, 0.16543664038181305, 0.6617465615272522, 0.03308732807636261, 0.09926198422908783, 0.11765328049659729, 0.8471035957336426, 0.023530656471848488, 0.8195240497589111, 0.016724981367588043, 0.016724981367588043, 0.008362490683794022, 0.09198739379644394, 0.033449962735176086, 0.06849168986082077, 0.06849168986082077, 0.13698337972164154, 0.13698337972164154, 0.04566112533211708, 0.4566112756729126, 0.06849168986082077, 0.02283056266605854, 0.09175559133291245, 0.13763338327407837, 0.27526676654815674, 0.1835111826658249, 0.13763338327407837, 0.04587779566645622, 0.04587779566645622, 0.9047496318817139, 0.18798156082630157, 0.1273423433303833, 0.2344716191291809, 0.17787502706050873, 0.08287359029054642, 0.09904404729604721, 0.008085228502750397, 0.02223437838256359, 0.02223437838256359, 0.018191764131188393, 0.014149149879813194, 0.004042614251375198, 0.7504544258117676, 0.15009088814258575, 0.27754777669906616, 0.13014201819896698, 0.10358242690563202, 0.24434828758239746, 0.09694252908229828, 0.035855453461408615, 0.030543535947799683, 0.017263736575841904, 0.01991969719529152, 0.006639899220317602, 0.01859171688556671, 0.009295858442783356, 0.005311919376254082, 0.002655959688127041, 0.31826111674308777, 0.31826111674308777, 0.15913055837154388, 0.15913055837154388, 0.3470735251903534, 0.007230698596686125, 0.08676838129758835, 0.007230698596686125, 0.20245955884456635, 0.25307443737983704, 0.057845588773489, 0.0289227943867445, 0.026697779074311256, 0.9344222545623779, 0.09716564416885376, 0.4372453987598419, 0.3643711805343628, 0.02429141104221344, 0.07287423312664032, 0.7092969417572021, 0.17732423543930054, 0.2720223665237427, 0.09067411720752716, 0.09067411720752716, 0.18134823441505432, 0.09067411720752716, 0.09067411720752716, 0.18134823441505432, 0.08224403858184814, 0.4523421823978424, 0.1644880771636963, 0.020561009645462036, 0.06168302521109581, 0.04112201929092407, 0.020561009645462036, 0.08224403858184814, 0.04112201929092407, 0.04112201929092407, 0.14401495456695557, 0.7200748324394226, 0.048004988580942154, 0.048004988580942154, 0.10270775109529495, 0.2567693889141083, 0.5648926496505737, 0.051353875547647476, 0.36751407384872437, 0.5512711405754089, 0.18513549864292145, 0.3702709972858429, 0.18513549864292145, 0.18513549864292145, 0.9592339992523193, 0.02230776846408844, 0.01115388423204422, 0.22515060007572174, 0.03216437250375748, 0.03216437250375748, 0.4503012001514435, 0.0804109275341034, 0.03216437250375748, 0.01608218625187874, 0.03216437250375748, 0.11257530003786087, 0.1044464185833931, 0.7311248779296875, 0.1044464185833931, 0.5948625802993774, 0.19828753173351288, 0.19828753173351288, 0.10662895441055298, 0.24880090355873108, 0.10662895441055298, 0.07108596712350845, 0.10662895441055298, 0.31988686323165894, 0.03554298356175423, 0.328835666179657, 0.328835666179657, 0.1644178330898285, 0.1644178330898285, 0.16571427881717682, 0.49714285135269165, 0.33142855763435364, 0.8221141695976257, 0.10276427119970322, 0.3072855770587921, 0.26338762044906616, 0.17559175193309784, 0.13169381022453308, 0.04389793798327446, 0.04389793798327446, 0.19502170383930206, 0.5850651264190674, 0.19502170383930206, 0.9184562563896179, 0.059255242347717285, 0.17780809104442596, 0.08890404552221298, 0.7112323641777039, 0.19642595946788788, 0.004293463658541441, 0.23292040824890137, 0.03542107343673706, 0.3166429400444031, 0.1373908370733261, 0.011807025410234928, 0.004293463658541441, 0.042934637516736984, 0.017173854634165764, 0.6049385070800781, 0.20164616405963898, 0.15123462677001953, 0.8796010613441467, 0.07212864607572556, 0.5770291686058044, 0.302940309047699, 0.014425728470087051, 0.014425728470087051, 0.9015863537788391, 0.06811576336622238, 0.919562816619873, 0.004257235210388899, 0.23929843306541443, 0.204201340675354, 0.1818668097257614, 0.21217794716358185, 0.0047859689220786095, 0.07817082107067108, 0.014357906766235828, 0.01595322974026203, 0.01754855178296566, 0.009571937844157219, 0.0047859689220786095, 0.01595322974026203, 0.5417518615722656, 0.36116790771484375, 0.08303285390138626, 0.8303285241127014, 0.2059403359889984, 0.2059403359889984, 0.4118806719779968, 0.2758484482765198, 0.045974742621183395, 0.6436463594436646, 0.9275694489479065, 0.2336106300354004, 0.27175113558769226, 0.09535127878189087, 0.18593499064445496, 0.03814050927758217, 0.033372946083545685, 0.04290807247161865, 0.0572107657790184, 0.019070254638791084, 0.009535127319395542, 0.10990282148122787, 0.15630623698234558, 0.20026735961437225, 0.24422849714756012, 0.11478739231824875, 0.07815311849117279, 0.03419198840856552, 0.014653709717094898, 0.01709599420428276, 0.004884569905698299, 0.012211424298584461, 0.0024422849528491497, 0.0024422849528491497, 0.004884569905698299, 0.4210103750228882, 0.1403367966413498, 0.2806735932826996, 0.52254319190979, 0.18811553716659546, 0.06270518153905869, 0.020901726558804512, 0.06270518153905869, 0.020901726558804512, 0.041803453117609024, 0.08360690623521805, 0.2522732615470886, 0.2522732615470886, 0.1261366307735443, 0.2522732615470886, 0.1863197684288025, 0.28313300013542175, 0.15526647865772247, 0.15343981981277466, 0.058453261852264404, 0.04749327525496483, 0.06393325328826904, 0.0036533288657665253, 0.023746637627482414, 0.005479993298649788, 0.009133322164416313, 0.005479993298649788, 0.0018266644328832626, 0.002633418422192335, 0.9453972578048706, 0.00526683684438467, 0.002633418422192335, 0.002633418422192335, 0.026334185153245926, 0.007900255732238293, 0.5591424703598022, 0.2795712351799011, 0.1307441145181656, 0.1529984325170517, 0.25175195932388306, 0.13769859075546265, 0.15786656737327576, 0.0938853994011879, 0.027817897498607635, 0.006954474374651909, 0.0076499218121171, 0.015995290130376816, 0.0076499218121171, 0.0034772371873259544, 0.0013908948749303818, 0.0013908948749303818, 0.0020863423123955727, 0.06831508874893188, 0.4879649579524994, 0.06831508874893188, 0.009759298525750637, 0.05855579301714897, 0.2537417709827423, 0.019518597051501274, 0.019518597051501274, 0.16332772374153137, 0.34480294585227966, 0.10888514667749405, 0.018147524446249008, 0.054442573338747025, 0.054442573338747025, 0.018147524446249008, 0.1996227651834488, 0.018147524446249008, 0.1907091736793518, 0.08581912517547607, 0.10965777188539505, 0.29083147644996643, 0.239975705742836, 0.033374104648828506, 0.015892431139945984, 0.0031784861348569393, 0.0031784861348569393, 0.004767729435116053, 0.006356972269713879, 0.006356972269713879, 0.0031784861348569393, 0.004767729435116053, 0.0015892430674284697, 0.8808163404464722, 0.32403239607810974, 0.16201619803905487, 0.13771376013755798, 0.04860485717654228, 0.14581456780433655, 0.032403238117694855, 0.07290728390216827, 0.008100809529423714, 0.02430242858827114, 0.016201619058847427, 0.008100809529423714, 0.032403238117694855, 0.11143767088651657, 0.4457506835460663, 0.022287534549832344, 0.2897379398345947, 0.13372521102428436, 0.022287534549832344, 0.858319878578186, 0.03731825575232506, 0.07463651150465012, 0.03731825575232506, 0.28379759192466736, 0.5675951838493347, 0.14189879596233368, 0.2391069531440735, 0.17608651518821716, 0.09823774546384811, 0.25022822618484497, 0.05931335315108299, 0.09267711639404297, 0.033363763242959976, 0.009267712011933327, 0.014828338287770748, 0.011121254414319992, 0.007414169143885374, 0.007414169143885374, 0.0018535422859713435, 0.22911176085472107, 0.22911176085472107, 0.45822352170944214, 0.48330265283584595, 0.16110087931156158, 0.16110087931156158, 0.15954938530921936, 0.15954938530921936, 0.15954938530921936, 0.15954938530921936, 0.3190987706184387, 0.33033064007759094, 0.5780786275863647, 0.027527552098035812, 0.027527552098035812, 0.11595182120800018, 0.6522290110588074, 0.014493977651000023, 0.05797591060400009, 0.014493977651000023, 0.028987955302000046, 0.07246989011764526, 0.028987955302000046, 0.014493977651000023, 0.014493977651000023, 0.2633347511291504, 0.164044588804245, 0.15325218439102173, 0.11224103718996048, 0.12087496370077133, 0.07986381649971008, 0.02806025929749012, 0.008633925579488277, 0.019426332786679268, 0.030218740925192833, 0.012950888834893703, 0.004316962789744139, 0.05334900692105293, 0.07422471046447754, 0.23195220530033112, 0.3084964454174042, 0.16468606889247894, 0.12525419890880585, 0.009278088808059692, 0.006958566140383482, 0.009278088808059692, 0.002319522202014923, 0.006958566140383482, 0.002319522202014923, 0.002319522202014923, 0.3292970061302185, 0.16464850306510925, 0.16464850306510925, 0.16464850306510925, 0.16464850306510925, 0.06735464185476303, 0.8756102919578552, 0.3996710181236267, 0.19983550906181335, 0.19983550906181335, 0.20493130385875702, 0.18771019577980042, 0.09643826633691788, 0.11365938186645508, 0.0774950310587883, 0.21698608994483948, 0.02755378931760788, 0.02066534198820591, 0.00688844732940197, 0.00861055962741375, 0.01549900695681572, 0.01894322969019413, 0.0017221118323504925, 0.0017221118323504925, 0.3842821717262268, 0.34230178594589233, 0.03552188351750374, 0.04198040813207626, 0.03875114396214485, 0.08719007670879364, 0.019375571981072426, 0.012917048297822475, 0.016146309673786163, 0.003229262074455619, 0.009687785990536213, 0.003229262074455619, 0.7794188857078552, 0.1558837741613388, 0.35272109508514404, 0.19266916811466217, 0.1297103464603424, 0.047788020223379135, 0.04930509999394417, 0.0879906415939331, 0.05309779942035675, 0.026548899710178375, 0.01289517991244793, 0.017446421086788177, 0.016687879338860512, 0.007585400249809027, 0.00530978012830019, 0.0007585400016978383, 0.16161677241325378, 0.08080838620662689, 0.269361287355423, 0.053872257471084595, 0.053872257471084595, 0.053872257471084595, 0.026936128735542297, 0.026936128735542297, 0.18855290114879608, 0.053872257471084595, 0.026936128735542297, 0.04519161581993103, 0.3163413107395172, 0.04519161581993103, 0.1355748474597931, 0.1355748474597931, 0.1355748474597931, 0.04519161581993103, 0.04519161581993103, 0.09038323163986206, 0.20978155732154846, 0.23899903893470764, 0.17939536273479462, 0.11161080002784729, 0.07771851122379303, 0.05551322549581528, 0.042657531797885895, 0.018699191510677338, 0.018699191510677338, 0.02103658951818943, 0.012855693697929382, 0.008180895820260048, 0.002337398938834667, 0.0017530492041260004, 0.0017530492041260004, 0.246769517660141, 0.08542022109031677, 0.07592908293008804, 0.1091480553150177, 0.09965692460536957, 0.22304168343544006, 0.05220124498009682, 0.009491135366261005, 0.04745567589998245, 0.01898227073252201, 0.01423670258373022, 0.004745567683130503, 0.004745567683130503, 0.01423670258373022, 0.010075626894831657, 0.17128565907478333, 0.7858989238739014, 0.020151253789663315, 0.010075626894831657, 0.6803179383277893, 0.04081907495856285, 0.013606359250843525, 0.12926040589809418, 0.013606359250843525, 0.0544254370033741, 0.0068031796254217625, 0.04081907495856285, 0.013606359250843525, 0.0068031796254217625, 0.8591421246528625, 0.07810382544994354, 0.4361002445220947, 0.04361002519726753, 0.08722005039453506, 0.2616601586341858, 0.04361002519726753, 0.1308300793170929, 0.22037601470947266, 0.17972412705421448, 0.13479308784008026, 0.15404924750328064, 0.07702462375164032, 0.11981607973575592, 0.03316337987780571, 0.01925615593791008, 0.02139572985470295, 0.00855829194188118, 0.00855829194188118, 0.01818636991083622, 0.0032093594782054424, 0.0010697864927351475, 0.0010697864927351475, 0.14457768201828003, 0.8118592500686646, 0.033364079892635345, 0.919871985912323, 0.21493655443191528, 0.19610999524593353, 0.16943903267383575, 0.14433695375919342, 0.04549751803278923, 0.11452823877334595, 0.04235975816845894, 0.023533198982477188, 0.004706639796495438, 0.00784439966082573, 0.014119919389486313, 0.00784439966082573, 0.010982159525156021, 0.0015688799321651459, 0.0031377598643302917, 0.31725409626960754, 0.211024209856987, 0.12345633655786514, 0.10622987151145935, 0.06747032701969147, 0.055986013263463974, 0.04163062572479248, 0.024404160678386688, 0.015790928155183792, 0.01148431096225977, 0.004306616727262735, 0.00861323345452547, 0.007177694234997034, 0.0014355388702824712, 0.0028710777405649424, 0.14580218493938446, 0.09134594351053238, 0.1967451125383377, 0.1317489594221115, 0.14580218493938446, 0.19147515296936035, 0.02986309677362442, 0.017566528171300888, 0.005269958171993494, 0.01405322179198265, 0.021079832687973976, 0.0035133054479956627, 0.0035133054479956627, 0.1611827313899994, 0.09977978467941284, 0.1688580960035324, 0.18420884013175964, 0.023026105016469955, 0.26096251606941223, 0.03837684169411659, 0.030701471492648125, 0.030701471492648125, 0.007675367873162031, 0.907933235168457, 0.01815866492688656, 0.054475992918014526, 0.04167569801211357, 0.9307572245597839, 0.013891899026930332, 0.06625557690858841, 0.9275780916213989, 0.013191858306527138, 0.3640952706336975, 0.33507320284843445, 0.14774881303310394, 0.01055348664522171, 0.1055348664522171, 0.015830229967832565, 0.0026383716613054276, 0.0026383716613054276, 0.38323327898979187, 0.19161663949489594, 0.38323327898979187, 0.37481528520584106, 0.18740764260292053, 0.18740764260292053, 0.18740764260292053, 0.18740764260292053, 0.07909760624170303, 0.2372928112745285, 0.07909760624170303, 0.15819521248340607, 0.07909760624170303, 0.07909760624170303, 0.31639042496681213, 0.3034302294254303, 0.6755616664886475, 0.011450197547674179, 0.9619059562683105, 0.014976345002651215, 0.6988961100578308, 0.0024960574228316545, 0.01747240126132965, 0.23462939262390137, 0.01747240126132965, 0.007488172501325607, 0.0024960574228316545, 0.0024960574228316545, 0.14005045592784882, 0.4989297688007355, 0.008753153495490551, 0.14005045592784882, 0.1663099229335785, 0.017506306990981102, 0.008753153495490551, 0.026259461417794228, 0.1901904195547104, 0.57057124376297, 0.1901904195547104, 0.9121366739273071, 0.1837371289730072, 0.1837371289730072, 0.1837371289730072, 0.1837371289730072, 0.3674742579460144, 0.06596454977989197, 0.5606986880302429, 0.362805038690567, 0.10559041798114777, 0.633542537689209, 0.21118083596229553, 0.7425143718719482, 0.18562859296798706, 0.14672942459583282, 0.1312842220067978, 0.23498773574829102, 0.15224556624889374, 0.15665848553180695, 0.08053570240736008, 0.03309686481952667, 0.03199363499879837, 0.00551614398136735, 0.0033096864353865385, 0.014341974630951881, 0.00551614398136735, 0.0033096864353865385, 0.14799802005290985, 0.7399901151657104, 0.500647783279419, 0.10728166252374649, 0.39336609840393066, 0.06840982288122177, 0.06840982288122177, 0.8209178447723389, 0.02673763409256935, 0.1069505363702774, 0.8556042909622192, 0.001734491204842925, 0.07631760835647583, 0.912342369556427, 0.00346898240968585, 0.001734491204842925, 0.35243600606918335, 0.035243600606918335, 0.5638976097106934, 0.035243600606918335, 0.0911184623837471, 0.016079729422926903, 0.1554373800754547, 0.40735313296318054, 0.19831664860248566, 0.06431891769170761, 0.016079729422926903, 0.016079729422926903, 0.010719818994402885, 0.026799548417329788, 0.8926993012428284, 0.011902657337486744, 0.047610629349946976, 0.011902657337486744, 0.011902657337486744, 0.5479207634925842, 0.02004588209092617, 0.046773724257946014, 0.2271866500377655, 0.046773724257946014, 0.013363921083509922, 0.006681960541754961, 0.06013764441013336, 0.02004588209092617, 0.006681960541754961, 0.8064485788345337, 0.13166508078575134, 0.032916270196437836, 0.016458135098218918, 0.50157231092453, 0.11309964209794998, 0.04425638169050217, 0.01966950297355652, 0.08851276338100433, 0.14260388910770416, 0.024586878716945648, 0.014752127230167389, 0.024586878716945648, 0.01966950297355652, 0.00491737574338913, 0.02817665971815586, 0.5259643197059631, 0.01878444105386734, 0.14088329672813416, 0.24419772624969482, 0.00939222052693367, 0.02817665971815586, 0.11260172724723816, 0.7882121205329895, 0.16924741864204407, 0.14506922662258148, 0.02417820319533348, 0.19342562556266785, 0.07253461331129074, 0.2417820394039154, 0.07253461331129074, 0.04835640639066696, 0.02417820319533348, 0.06814145296812057, 0.902874231338501, 0.017035363242030144, 0.590477466583252, 0.16870784759521484, 0.08435392379760742, 0.08435392379760742, 0.009568874724209309, 0.06698212772607803, 0.8707676529884338, 0.04784437641501427, 0.09920889139175415, 0.8432756066322327, 0.16105535626411438, 0.38653287291526794, 0.09663321822881699, 0.06442214548587799, 0.25768858194351196, 0.032211072742938995, 0.39450138807296753, 0.39450138807296753, 0.19725069403648376, 0.7086122632026672, 0.2362041026353836, 0.8291200399398804, 0.07209739834070206, 0.07209739834070206, 0.9279143214225769, 0.04034410044550896, 0.18875327706336975, 0.10835836827754974, 0.197491854429245, 0.23594160377979279, 0.04718831926584244, 0.10311522334814072, 0.0401974581182003, 0.033206596970558167, 0.017477156594395638, 0.005243146792054176, 0.013981725089251995, 0.005243146792054176, 0.0034954312723129988, 0.0017477156361564994, 0.1855200231075287, 0.1855200231075287, 0.3710400462150574, 0.1855200231075287, 0.07564030587673187, 0.015128061175346375, 0.19666479527950287, 0.5899943709373474, 0.045384183526039124, 0.0605122447013855, 0.015128061175346375, 0.20453345775604248, 0.04624801129102707, 0.38822272419929504, 0.07816565036773682, 0.20844173431396484, 0.024101076647639275, 0.008467945270240307, 0.0013027609093114734, 0.0006513804546557367, 0.020844174548983574, 0.011724847368896008, 0.005862423684448004, 0.0013027609093114734, 0.21646299958229065, 0.703504741191864, 0.05411574989557266, 0.9620041847229004, 0.040808435529470444, 0.5713180899620056, 0.3672759234905243, 0.18197321891784668, 0.22317470610141754, 0.1922735869884491, 0.23175834119319916, 0.061802227050065994, 0.0652356818318367, 0.008583642542362213, 0.012017099186778069, 0.00515018543228507, 0.003433456877246499, 0.006866913754492998, 0.00515018543228507, 0.0017167284386232495, 0.08053616434335709, 0.40268081426620483, 0.026845388114452362, 0.40268081426620483, 0.053690776228904724, 0.844840407371521, 0.12069149315357208, 0.022026728838682175, 0.6094061732292175, 0.09544915705919266, 0.062409061938524246, 0.018355606123805046, 0.15418709814548492, 0.0036711213178932667, 0.011013364419341087, 0.018355606123805046, 0.9253987669944763, 0.1930186152458191, 0.5790558457374573, 0.10257603228092194, 0.09365637600421906, 0.1204153448343277, 0.42071038484573364, 0.13825465738773346, 0.052031319588422775, 0.011892873793840408, 0.017839310690760612, 0.008919655345380306, 0.001486609224230051, 0.007433045655488968, 0.01040626410394907, 0.007433045655488968, 0.002973218448460102, 0.17310279607772827, 0.6924111843109131, 0.18691952526569366, 0.18691952526569366, 0.37383905053138733, 0.11586787551641464, 0.15449050068855286, 0.2703583836555481, 0.07724525034427643, 0.07724525034427643, 0.07724525034427643, 0.19311311841011047, 0.28077125549316406, 0.4211568832397461, 0.14038562774658203, 0.48433080315589905, 0.1614435911178589, 0.1614435911178589, 0.8783461451530457, 0.6199470162391663, 0.07749337702989578, 0.23248013854026794, 0.12725944817066193, 0.3817783296108246, 0.12725944817066193, 0.3817783296108246, 0.43700677156448364, 0.14566892385482788, 0.14566892385482788, 0.14566892385482788, 0.11966528743505478, 0.1686192750930786, 0.2665272355079651, 0.1849372684955597, 0.08702930063009262, 0.038075320422649384, 0.01631799340248108, 0.038075320422649384, 0.021757325157523155, 0.01631799340248108, 0.01631799340248108, 0.010878662578761578, 0.010878662578761578, 0.057864755392074585, 0.4629180431365967, 0.4050532877445221, 0.028932377696037292, 0.3883833885192871, 0.17904198169708252, 0.11844316124916077, 0.06335331499576569, 0.10742519050836563, 0.06335331499576569, 0.022035937756299973, 0.024790428578853607, 0.005508984439074993, 0.013772460632026196, 0.005508984439074993, 0.0027544922195374966, 0.8940156698226929, 0.026638641953468323, 0.9589911103248596, 0.013319320976734161, 0.3168987035751343, 0.1976357400417328, 0.0988178700208664, 0.14311553537845612, 0.03748264163732529, 0.07837279886007309, 0.03407512977719307, 0.04429766908288002, 0.017037564888596535, 0.003407512791454792, 0.013630051165819168, 0.010222538374364376, 0.006815025582909584, 0.003407512791454792, 0.3102244436740875, 0.32469087839126587, 0.061080463230609894, 0.08679855614900589, 0.025718089193105698, 0.09322807192802429, 0.041791897267103195, 0.008036903105676174, 0.019288567826151848, 0.001607380574569106, 0.001607380574569106, 0.012859044596552849, 0.011251664720475674, 0.32760241627693176, 0.16380120813846588, 0.32760241627693176, 0.3920348584651947, 0.19601742923259735, 0.19601742923259735, 0.12524549663066864, 0.6262274980545044, 0.12524549663066864, 0.8467482328414917, 0.07461795210838318, 0.8021429777145386, 0.03730897605419159, 0.055963464081287384, 0.533989429473877, 0.3559929430484772, 0.3694196045398712, 0.5541293621063232, 0.04586881771683693, 0.7109666466712952, 0.022934408858418465, 0.18347527086734772, 0.7333587408065796, 0.1833396852016449, 0.02995253913104534, 0.11981015652418137, 0.838671088218689, 0.1925065815448761, 0.062386393547058105, 0.34223392605781555, 0.10873056948184967, 0.14972734451293945, 0.06951626390218735, 0.017824683338403702, 0.008912341669201851, 0.005347405094653368, 0.026737025007605553, 0.008912341669201851, 0.005347405094653368, 0.0017824684036895633, 0.2832163870334625, 0.1902199685573578, 0.16063019633293152, 0.0612931028008461, 0.02113555185496807, 0.10356420278549194, 0.06552021205425262, 0.023249106481671333, 0.035930439829826355, 0.008454221300780773, 0.014794886112213135, 0.01902199722826481, 0.012681331485509872, 0.0021135553251951933, 0.3299080729484558, 0.5498468279838562, 0.14088165760040283, 0.4930858016014099, 0.14088165760040283, 0.14088165760040283, 0.08846698701381683, 0.8973079919815063, 0.9052658081054688, 0.4149450659751892, 0.2766300439834595, 0.2766300439834595, 0.18670429289340973, 0.2450493723154068, 0.16920076310634613, 0.005834509152919054, 0.01750352792441845, 0.27422192692756653, 0.0700141116976738, 0.005834509152919054, 0.005834509152919054, 0.01750352792441845, 0.005834509152919054, 0.16630356013774872, 0.16630356013774872, 0.33260712027549744, 0.16630356013774872, 0.16630356013774872, 0.3802989721298218, 0.1901494860649109, 0.1901494860649109, 0.1901494860649109, 0.125753253698349, 0.377259761095047, 0.377259761095047, 0.032128360122442245, 0.27309107780456543, 0.016064180061221123, 0.5381500124931335, 0.04819254204630852, 0.008032090030610561, 0.02409627102315426, 0.016064180061221123, 0.008032090030610561, 0.008032090030610561, 0.008032090030610561, 0.008032090030610561, 0.03251858800649643, 0.016259294003248215, 0.2113708108663559, 0.3414451479911804, 0.13007435202598572, 0.016259294003248215, 0.016259294003248215, 0.13007435202598572, 0.06503717601299286, 0.0688013806939125, 0.4988100230693817, 0.017200345173478127, 0.32680657505989075, 0.03440069034695625, 0.017200345173478127, 0.14623816311359406, 0.7311908602714539, 0.14623816311359406, 0.8703659772872925, 0.022114483639597893, 0.7297779321670532, 0.022114483639597893, 0.19903035461902618, 0.011057241819798946, 0.005528620909899473, 0.005528620909899473, 0.03587483614683151, 0.7174966931343079, 0.14349934458732605, 0.05979139357805252, 0.03587483614683151, 0.2152053862810135, 0.2152053862810135, 0.2152053862810135, 0.2152053862810135, 0.2814946472644806, 0.07037366181612015, 0.010053380392491817, 0.5730426907539368, 0.010053380392491817, 0.04021352156996727, 0.010053380392491817, 0.27418044209480286, 0.6945904493331909, 0.01827869564294815, 0.21907182037830353, 0.46943962574005127, 0.03129597380757332, 0.12518389523029327, 0.03129597380757332, 0.06259194761514664, 0.06259194761514664, 0.7580358386039734, 0.02807540073990822, 0.05615080147981644, 0.11230160295963287, 0.02807540073990822, 0.02807540073990822, 0.18618416786193848, 0.1004803478717804, 0.28370919823646545, 0.0886591300368309, 0.16845233738422394, 0.07979321479797363, 0.014776521362364292, 0.008865912444889545, 0.0029553042259067297, 0.008865912444889545, 0.03546364977955818, 0.005910608451813459, 0.008865912444889545, 0.0029553042259067297, 0.1857547163963318, 0.1857547163963318, 0.1857547163963318, 0.3715094327926636, 0.8455275297164917, 0.11707304418087006, 0.0130081158131361, 0.0130081158131361, 0.18752814829349518, 0.18752814829349518, 0.37505629658699036, 0.18752814829349518, 0.16200615465641022, 0.6480246186256409, 0.16200615465641022, 0.3398071825504303, 0.16990359127521515, 0.16990359127521515, 0.16990359127521515, 0.17373865842819214, 0.6949546337127686, 0.09260889142751694, 0.8643496036529541, 0.358624130487442, 0.31080758571624756, 0.047816548496484756, 0.023908274248242378, 0.047816548496484756, 0.047816548496484756, 0.023908274248242378, 0.023908274248242378, 0.047816548496484756, 0.023908274248242378, 0.047816548496484756, 0.12020336091518402, 0.18030504882335663, 0.06010168045759201, 0.12020336091518402, 0.12020336091518402, 0.12020336091518402, 0.24040672183036804, 0.4387134313583374, 0.5062078237533569, 0.913807213306427, 0.8720322251319885, 0.04152534529566765, 0.04152534529566765, 0.23501358926296234, 0.14021819829940796, 0.1461428999900818, 0.2251390665769577, 0.08689577877521515, 0.043447889387607574, 0.031598467379808426, 0.01974904164671898, 0.015799233689904213, 0.00987452082335949, 0.01974904164671898, 0.01777413673698902, 0.003949808422476053, 0.8756848573684692, 0.131514772772789, 0.08916255831718445, 0.24296796321868896, 0.16717979311943054, 0.17163792252540588, 0.06910098344087601, 0.03566502407193184, 0.04235221445560455, 0.011145319789648056, 0.011145319789648056, 0.01783251203596592, 0.00222906400449574, 0.00445812800899148, 0.6349071264266968, 0.1587267816066742, 0.1587267816066742, 0.3776756823062897, 0.18883784115314484, 0.3776756823062897, 0.1619100719690323, 0.1619100719690323, 0.1619100719690323, 0.3238201439380646, 0.8898431062698364, 0.030684243887662888, 0.1695716232061386, 0.07450874149799347, 0.3622666597366333, 0.19012576341629028, 0.04110827296972275, 0.056523874402046204, 0.007707801181823015, 0.046246808022260666, 0.01541560236364603, 0.020554136484861374, 0.012846334837377071, 0.0025692670606076717, 0.0025692670606076717, 0.14332182705402374, 0.14332182705402374, 0.14332182705402374, 0.2866436541080475, 0.14332182705402374, 0.10698550194501877, 0.010698549449443817, 0.08558839559555054, 0.267463743686676, 0.21397100389003754, 0.03209564834833145, 0.021397098898887634, 0.053492750972509384, 0.11768405139446259, 0.07488984614610672, 0.13666565716266632, 0.15676353871822357, 0.13666565716266632, 0.22107678651809692, 0.13264606893062592, 0.09646987169981003, 0.024117467924952507, 0.020097890868782997, 0.012058733962476254, 0.008039155974984169, 0.032156623899936676, 0.012058733962476254, 0.012058733962476254, 0.008039155974984169, 0.340294748544693, 0.1701473742723465, 0.1701473742723465, 0.1701473742723465, 0.08507368713617325, 0.12466894835233688, 0.21064753830432892, 0.27083253860473633, 0.1074732318520546, 0.1074732318520546, 0.02149464748799801, 0.034391433000564575, 0.034391433000564575, 0.017195716500282288, 0.04298929497599602, 0.02149464748799801, 0.008597858250141144, 0.004298929125070572, 0.10926602780818939, 0.3824310898780823, 0.054633013904094696, 0.4097476005554199, 0.8783532977104187, 0.7964932322502136, 0.13274887204170227, 0.15557101368904114, 0.15557101368904114, 0.15557101368904114, 0.3111420273780823, 0.15090547502040863, 0.08623170107603073, 0.0646737739443779, 0.08623170107603073, 0.28025302290916443, 0.17246340215206146, 0.021557925269007683, 0.10778962075710297, 0.5571974515914917, 0.22287899255752563, 0.11143949627876282, 0.1976500153541565, 0.1976500153541565, 0.395300030708313, 0.1976500153541565, 0.16678519546985626, 0.11119013279676437, 0.16678519546985626, 0.16678519546985626, 0.05559506639838219, 0.27797532081604004, 0.5485609173774719, 0.27428045868873596, 0.18556857109069824, 0.18556857109069824, 0.3711371421813965, 0.18556857109069824, 0.10925287753343582, 0.10925287753343582, 0.21850575506687164, 0.32775864005088806, 0.10925287753343582, 0.22120323777198792, 0.36867207288742065, 0.010533487424254417, 0.07373441010713577, 0.07373441010713577, 0.13693533837795258, 0.08426789939403534, 0.010533487424254417, 0.010533487424254417, 0.09829282760620117, 0.6225212216377258, 0.026211420074105263, 0.06552854925394058, 0.1507156640291214, 0.026211420074105263, 0.006552855018526316, 0.3183929920196533, 0.15919649600982666, 0.15919649600982666, 0.3183929920196533, 0.10256224125623703, 0.2734993100166321, 0.5128112435340881, 0.06837482750415802, 0.08629503101110458, 0.08629503101110458, 0.6903602480888367, 0.08629503101110458, 0.05037641525268555, 0.4198034405708313, 0.4365955889225006, 0.03358427807688713, 0.05037641525268555, 0.3301127254962921, 0.550187885761261, 0.3587345778942108, 0.11957819014787674, 0.3587345778942108, 0.9400574564933777, 0.03397798165678978, 0.011325993575155735, 0.42625191807746887, 0.28416794538497925, 0.14208397269248962, 0.5656937956809998, 0.3771291673183441, 0.23306351900100708, 0.2047179490327835, 0.10078422725200653, 0.11023274809122086, 0.11023274809122086, 0.1354288011789322, 0.028345562517642975, 0.02204654924571514, 0.009448520839214325, 0.028345562517642975, 0.012598028406500816, 0.003149507101625204, 0.003149507101625204, 0.003149507101625204, 0.8613163232803345, 0.16086606681346893, 0.16086606681346893, 0.16086606681346893, 0.32173213362693787, 0.1905360370874405, 0.1905360370874405, 0.1905360370874405, 0.1905360370874405, 0.1905360370874405, 0.9170694351196289, 0.038532327860593796, 0.007706465665251017, 0.015412931330502033, 0.03711652755737305, 0.18558262288570404, 0.6680974364280701, 0.0742330551147461, 0.3745410442352295, 0.3745410442352295, 0.18727052211761475, 0.3898407220840454, 0.09746018052101135, 0.29238054156303406, 0.1949203610420227, 0.3842235505580902, 0.1921117752790451, 0.1921117752790451, 0.1921117752790451, 0.18653488159179688, 0.7461395263671875, 0.18653488159179688, 0.8931238651275635, 0.10205744206905365, 0.03118421882390976, 0.2749881148338318, 0.25797852873802185, 0.2636483907699585, 0.02267943136394024, 0.014174644835293293, 0.00566985784098506, 0.008504786528646946, 0.008504786528646946, 0.008504786528646946, 0.00283492892049253, 0.18805091083049774, 0.564152717590332, 0.18805091083049774, 0.18805091083049774, 0.15641069412231445, 0.15641069412231445, 0.15641069412231445, 0.46923211216926575, 0.1896039843559265, 0.379207968711853, 0.1896039843559265, 0.1896039843559265, 0.10977611690759659, 0.21955223381519318, 0.16466417908668518, 0.054888058453798294, 0.10977611690759659, 0.054888058453798294, 0.21955223381519318, 0.31440022587776184, 0.47160032391548157, 0.6502789855003357, 0.14598099887371063, 0.13270999491214752, 0.026542000472545624, 0.013271000236272812, 0.27863171696662903, 0.18575449287891388, 0.09287724643945694, 0.27863171696662903, 0.3253609240055084, 0.1626804620027542, 0.3253609240055084, 0.1626804620027542, 0.9544717669487, 0.1586376577615738, 0.3965941369533539, 0.3172753155231476, 0.0793188288807869, 0.5445660948753357, 0.01701769046485424, 0.23824766278266907, 0.13614152371883392, 0.03403538092970848, 0.01701769046485424, 0.1016148254275322, 0.7748130559921265, 0.0889129713177681, 0.012701853178441525, 0.012701853178441525, 0.878013551235199, 0.008388664573431015, 0.041943322867155075, 0.002796221524477005, 0.00559244304895401, 0.002796221524477005, 0.041943322867155075, 0.01118488609790802, 0.19404533505439758, 0.14553400874137878, 0.14553400874137878, 0.19404533505439758, 0.048511333763599396, 0.048511333763599396, 0.24255667626857758, 0.33462879061698914, 0.14325246214866638, 0.12086926400661469, 0.15892070531845093, 0.12758421897888184, 0.035813115537166595, 0.02574067749083042, 0.012310758233070374, 0.015668237581849098, 0.007834118790924549, 0.007834118790924549, 0.006714959163218737, 0.0033574795816093683, 0.001119159860536456, 0.30057790875434875, 0.6612713932991028, 0.8291826844215393, 0.13819710910320282, 0.4391898214817047, 0.2635138928890228, 0.029279321432113647, 0.029279321432113647, 0.058558642864227295, 0.029279321432113647, 0.11711728572845459, 0.3233218789100647, 0.2694348990917206, 0.07657623291015625, 0.07657623291015625, 0.0340338833630085, 0.0850847065448761, 0.07090391963720322, 0.011344627477228642, 0.014180784113705158, 0.01701694168150425, 0.008508470840752125, 0.008508470840752125, 0.0028361568693071604, 0.0028361568693071604, 0.1411713808774948, 0.5646855235099792, 0.1411713808774948, 0.013761100359261036, 0.7430993914604187, 0.027522200718522072, 0.1376110017299652, 0.041283298283815384, 0.027522200718522072, 0.09355901181697845, 0.1871180236339569, 0.1871180236339569, 0.09355901181697845, 0.09355901181697845, 0.09355901181697845, 0.09355901181697845, 0.38572412729263306, 0.19286206364631653, 0.38572412729263306, 0.3548949360847473, 0.044361867010593414, 0.13308559358119965, 0.08872373402118683, 0.08872373402118683, 0.13308559358119965, 0.044361867010593414, 0.044361867010593414, 0.08872373402118683, 0.313640832901001, 0.1568204164505005, 0.47046127915382385, 0.27728474140167236, 0.09242824465036392, 0.4621412456035614, 0.09242824465036392, 0.18707317113876343, 0.037414632737636566, 0.6734634041786194, 0.037414632737636566, 0.037414632737636566, 0.2415245771408081, 0.20169872045516968, 0.12975522875785828, 0.1695810854434967, 0.09506818652153015, 0.0770823135972023, 0.02312469482421875, 0.02569410391151905, 0.006423525977879763, 0.008992936462163925, 0.008992936462163925, 0.0077082314528524876, 0.0038541157264262438, 0.0025694104842841625, 0.24449992179870605, 0.16466321051120758, 0.0997958853840828, 0.20957136154174805, 0.12973465025424957, 0.0249489713460207, 0.029938766732811928, 0.054887738078832626, 0.004989794455468655, 0.014969383366405964, 0.00997958891093731, 0.9677956104278564, 0.13332553207874298, 0.26665106415748596, 0.13332553207874298, 0.06666276603937149, 0.13332553207874298, 0.33331382274627686, 0.19052474200725555, 0.3810494840145111, 0.19052474200725555, 0.2826559841632843, 0.2826559841632843, 0.14132799208164215, 0.14132799208164215, 0.14132799208164215, 0.18637342751026154, 0.37274685502052307, 0.18637342751026154, 0.18637342751026154, 0.33388552069664, 0.2225903421640396, 0.03179861977696419, 0.015899309888482094, 0.1430937945842743, 0.03179861977696419, 0.03179861977696419, 0.12719447910785675, 0.015899309888482094, 0.04769793152809143, 0.8983715176582336, 0.0561482198536396, 0.4988676905632019, 0.12471692264080048, 0.24943384528160095, 0.08494675159454346, 0.16989350318908691, 0.33978700637817383, 0.14157791435718536, 0.028315583243966103, 0.028315583243966103, 0.028315583243966103, 0.028315583243966103, 0.08494675159454346, 0.056631166487932205, 0.1909005492925644, 0.2607422173023224, 0.102434441447258, 0.1583077758550644, 0.0791538879275322, 0.0744977742433548, 0.0372488871216774, 0.051217220723629, 0.013968332670629025, 0.013968332670629025, 0.013968332670629025, 0.004656110890209675, 0.4224196970462799, 0.5280246138572693, 0.25296327471733093, 0.16864219307899475, 0.08432109653949738, 0.4216054677963257, 0.2302265465259552, 0.04886884242296219, 0.21502290666103363, 0.15312236547470093, 0.13466081023216248, 0.10533950477838516, 0.031493254005908966, 0.005429871380329132, 0.019547536969184875, 0.028235331177711487, 0.014117665588855743, 0.009773768484592438, 0.0032579228281974792, 0.18417635560035706, 0.18417635560035706, 0.5525290369987488, 0.38135066628456116, 0.023834416642785072, 0.023834416642785072, 0.26217857003211975, 0.047668833285570145, 0.09533766657114029, 0.07150325179100037, 0.023834416642785072, 0.07150325179100037, 0.36648017168045044, 0.4886402189731598, 0.5690702199935913, 0.18969006836414337, 0.18969006836414337, 0.7797489166259766, 0.15594978630542755, 0.1892835944890976, 0.06309453397989273, 0.4416617453098297, 0.2523781359195709, 0.3853739798069, 0.018430929630994797, 0.12231434881687164, 0.19603806734085083, 0.10053233802318573, 0.09047910571098328, 0.0016755389515310526, 0.005026617087423801, 0.01340431161224842, 0.05361724644899368, 0.00837769452482462, 0.0016755389515310526, 0.031663261353969574, 0.009998925030231476, 0.07665842771530151, 0.5799376368522644, 0.2649714946746826, 0.013331899419426918, 0.0016664874274283648, 0.006665949709713459, 0.0016664874274283648, 0.0033329748548567295, 0.004999462515115738, 0.0033329748548567295, 0.1487610787153244, 0.005312895867973566, 0.015938688069581985, 0.32939955592155457, 0.3931542932987213, 0.010625791735947132, 0.015938688069581985, 0.0371902696788311, 0.026564478874206543, 0.015938688069581985, 0.005312895867973566, 0.48644211888313293, 0.1621473729610443, 0.1621473729610443, 0.1621473729610443, 0.12451876699924469, 0.31129691004753113, 0.12451876699924469, 0.12451876699924469, 0.062259383499622345, 0.12451876699924469, 0.062259383499622345, 0.062259383499622345, 0.8684113621711731, 0.8576070070266724, 0.931701123714447, 0.18983952701091766, 0.18983952701091766, 0.18983952701091766, 0.18983952701091766, 0.18983952701091766, 0.9377295970916748, 0.06201961264014244, 0.7176555395126343, 0.15061905980110168, 0.00885994452983141, 0.03543977811932564, 0.00885994452983141, 0.6234615445137024, 0.3117307722568512, 0.10041721165180206, 0.06694480776786804, 0.1807509809732437, 0.23430682718753815, 0.19413994252681732, 0.06025032699108124, 0.03347240388393402, 0.006694480776786804, 0.013388961553573608, 0.013388961553573608, 0.07363928854465485, 0.013388961553573608, 0.006694480776786804, 0.006694480776786804, 0.10998552292585373, 0.21997104585170746, 0.5499275922775269, 0.33149904012680054, 0.6629980802536011, 0.888969361782074, 0.09321864694356918, 0.15536440908908844, 0.2692983150482178, 0.11393389850854874, 0.09839745610952377, 0.14500677585601807, 0.04660932347178459, 0.015536440536379814, 0.005178813356906176, 0.02589406818151474, 0.03107288107275963, 0.1454385668039322, 0.0743352621793747, 0.22946973145008087, 0.24347493052482605, 0.17129430174827576, 0.059252746403217316, 0.012927872128784657, 0.017237162217497826, 0.01400519534945488, 0.015082517638802528, 0.007541258819401264, 0.007541258819401264, 0.002154645277187228, 0.001077322638593614, 0.001077322638593614, 0.20664730668067932, 0.21223238110542297, 0.2234025001525879, 0.04188796877861023, 0.0977385938167572, 0.07260581105947495, 0.03630290552973747, 0.02234024927020073, 0.013962656259536743, 0.025132780894637108, 0.03630290552973747, 0.00837759394198656, 0.2799684703350067, 0.13998423516750336, 0.13998423516750336, 0.2799684703350067, 0.18152326345443726, 0.16583606600761414, 0.21737970411777496, 0.1568719446659088, 0.10981036722660065, 0.06498980522155762, 0.02913336269557476, 0.020169250667095184, 0.02689233422279358, 0.006723083555698395, 0.008964111097157001, 0.008964111097157001, 0.18468934297561646, 0.18468934297561646, 0.4155510365962982, 0.09234467148780823, 0.046172335743904114, 0.046172335743904114, 0.046172335743904114, 0.9238678812980652, 0.0784723162651062, 0.056674450635910034, 0.27901268005371094, 0.3792828619480133, 0.08719146251678467, 0.0523148775100708, 0.0130787193775177, 0.017438292503356934, 0.004359573125839233, 0.008719146251678467, 0.0130787193775177, 0.008719146251678467, 0.004359573125839233, 0.5197410583496094, 0.09355338662862778, 0.015592231415212154, 0.02078964188694954, 0.1663171350955963, 0.07276374846696854, 0.0259870532900095, 0.051974106580019, 0.01039482094347477, 0.0259870532900095, 0.08457919955253601, 0.8457920551300049, 0.9457088708877563, 0.4351084232330322, 0.2962440252304077, 0.04937400668859482, 0.027772877365350723, 0.03394462913274765, 0.03394462913274765, 0.07714688032865524, 0.02468700334429741, 0.012343501672148705, 0.006171750836074352, 0.003085875418037176, 0.1950952261686325, 0.5852857232093811, 0.1950952261686325, 0.9569404125213623, 0.5589410066604614, 0.13973525166511536, 0.2794705033302307, 0.34017977118492126, 0.21755683422088623, 0.06328926235437393, 0.0830671489238739, 0.027689050883054733, 0.15822315216064453, 0.06328926235437393, 0.003955578897148371, 0.019777894020080566, 0.019777894020080566, 0.003955578897148371, 0.003955578897148371, 0.12489915639162064, 0.24979831278324127, 0.12489915639162064, 0.12489915639162064, 0.12489915639162064, 0.12489915639162064, 0.32500767707824707, 0.4875115156173706, 0.26945263147354126, 0.3079458773136139, 0.028869925066828728, 0.028869925066828728, 0.26945263147354126, 0.057739850133657455, 0.019246617332100868, 0.009623308666050434, 0.6084343194961548, 0.1521085798740387, 0.1422846019268036, 0.1778557449579239, 0.3557114899158478, 0.0711423009634018, 0.1067134439945221, 0.0355711504817009, 0.0711423009634018, 0.12534469366073608, 0.06674198061227798, 0.37928977608680725, 0.1204611286520958, 0.1758081316947937, 0.056974858045578, 0.014650678262114525, 0.004883559420704842, 0.009767118841409683, 0.026045650243759155, 0.0032557062804698944, 0.004883559420704842, 0.0016278531402349472, 0.008139265701174736, 0.5009269714355469, 0.21468298137187958, 0.07156099379062653, 0.14312198758125305, 0.15187901258468628, 0.14428506791591644, 0.022781852632761, 0.48601284623146057, 0.10631530731916428, 0.022781852632761, 0.022781852632761, 0.030375802889466286, 0.007593950722366571, 0.9457313418388367, 0.02702089585363865, 0.02702089585363865, 0.9336340427398682, 0.45915332436561584, 0.45915332436561584, 0.3186303675174713, 0.25490429997444153, 0.12745214998722076, 0.06372607499361038, 0.06372607499361038, 0.12745214998722076, 0.07906292378902435, 0.4743775427341461, 0.39531463384628296, 0.09626540541648865, 0.5775924324989319, 0.1925308108329773, 0.3826534152030945, 0.3826534152030945, 0.19132670760154724, 0.13336606323719025, 0.10002454370260239, 0.06668303161859512, 0.333415150642395, 0.03334151580929756, 0.06668303161859512, 0.06668303161859512, 0.1667075753211975, 0.2806270122528076, 0.18708467483520508, 0.09354233741760254, 0.2806270122528076, 0.18708467483520508, 0.9301906228065491, 0.020221535116434097, 0.040443070232868195, 0.15280163288116455, 0.6250975728034973, 0.01389105711132288, 0.01389105711132288, 0.08334634453058243, 0.041673172265291214, 0.05556422844529152, 0.01389105711132288, 0.01389105711132288, 0.24776433408260345, 0.15599976480007172, 0.15049389004707336, 0.18903501331806183, 0.08625869452953339, 0.08442340046167374, 0.02385878749191761, 0.0036705827806144953, 0.02385878749191761, 0.016517622396349907, 0.0055058738216757774, 0.0055058738216757774, 0.0036705827806144953, 0.0018352913903072476, 0.9004058241844177, 0.05296504870057106, 0.013241262175142765, 0.013241262175142765, 0.05355554074048996, 0.3748887777328491, 0.535555362701416, 0.10555291175842285, 0.030893534421920776, 0.5213283896446228, 0.15832936763763428, 0.046340301632881165, 0.03346799686551094, 0.01415953692048788, 0.009010613895952702, 0.002574461279436946, 0.043765839189291, 0.01673399843275547, 0.009010613895952702, 0.002574461279436946, 0.002574461279436946, 0.001287230639718473, 0.15843477845191956, 0.1302516758441925, 0.3023971617221832, 0.12415802478790283, 0.16529013216495514, 0.04570234194397926, 0.014472408220171928, 0.010663880035281181, 0.012948996387422085, 0.009902173653244972, 0.01218729093670845, 0.006855351384729147, 0.0022851170506328344, 0.0038085284177213907, 0.0007617056835442781, 0.8481928110122681, 0.010343814268708229, 0.041375257074832916, 0.051719073206186295, 0.041375257074832916, 0.21642640233039856, 0.21026793122291565, 0.19179250299930573, 0.10909298807382584, 0.06950279325246811, 0.08885800093412399, 0.03695084899663925, 0.0316721573472023, 0.008797821588814259, 0.008797821588814259, 0.01583607867360115, 0.005278693046420813, 0.004398910794407129, 0.001759564271196723, 0.001759564271196723, 0.044976938515901566, 0.044976938515901566, 0.17241159081459045, 0.23238083720207214, 0.23238083720207214, 0.044976938515901566, 0.0074961562640964985, 0.037480782717466354, 0.022488469257950783, 0.07496156543493271, 0.014992312528192997, 0.0674654021859169, 0.022488469257950783, 0.6740118265151978, 0.22467060387134552, 0.5124819278717041, 0.2759518027305603, 0.0394216850399971, 0.0394216850399971, 0.0788433700799942, 0.0394216850399971, 0.18781431019306183, 0.12470261752605438, 0.21670880913734436, 0.20834460854530334, 0.10341192781925201, 0.0707155093550682, 0.024332217872142792, 0.019769927486777306, 0.014447254128754139, 0.010645344853401184, 0.008364199660718441, 0.0068434360437095165, 0.0022811454255133867, 0.0022811454255133867, 0.7050797939300537, 0.1007256805896759, 0.1007256805896759, 0.2693338096141815, 0.2633039653301239, 0.09044792503118515, 0.13466690480709076, 0.06632847338914871, 0.07034838199615479, 0.04421898350119591, 0.026129400357604027, 0.014069676399230957, 0.004019907675683498, 0.002009953837841749, 0.008039815351366997, 0.002009953837841749, 0.004019907675683498, 0.08295253664255142, 0.10369066894054413, 0.12857642769813538, 0.39817216992378235, 0.21567659080028534, 0.020738134160637856, 0.012442880310118198, 0.008295253850519657, 0.012442880310118198, 0.008295253850519657, 0.004147626925259829, 0.004147626925259829, 0.004147626925259829, 0.004147626925259829, 0.3151940703392029, 0.26266172528266907, 0.15759703516960144, 0.052532345056533813, 0.052532345056533813, 0.10506469011306763, 0.2854388952255249, 0.2854388952255249, 0.14271944761276245, 0.14271944761276245, 0.14271944761276245, 0.15838415920734406, 0.15838415920734406, 0.47515249252319336, 0.19352032244205475, 0.3870406448841095, 0.19352032244205475, 0.8791064023971558, 0.12281135469675064, 0.12281135469675064, 0.6140567660331726, 0.12101392447948456, 0.24202784895896912, 0.24202784895896912, 0.24202784895896912, 0.3225180208683014, 0.23671047389507294, 0.07101314514875412, 0.10651971399784088, 0.0887664258480072, 0.0443832129240036, 0.08284866809844971, 0.01775328628718853, 0.008876643143594265, 0.0029588809702545404, 0.0029588809702545404, 0.005917761940509081, 0.0029588809702545404, 0.0029588809702545404, 0.005917761940509081, 0.15848027169704437, 0.15848027169704437, 0.15848027169704437, 0.4754408001899719, 0.9060473442077637, 0.1551644653081894, 0.012930371798574924, 0.1293037235736847, 0.1551644653081894, 0.42023709416389465, 0.019395558163523674, 0.03879111632704735, 0.006465185899287462, 0.019395558163523674, 0.019395558163523674, 0.006465185899287462, 0.02586074359714985, 0.1934971809387207, 0.1934971809387207, 0.1934971809387207, 0.1934971809387207, 0.555591344833374, 0.1388978362083435, 0.1388978362083435, 0.1388978362083435, 0.9127591848373413, 0.42057135701179504, 0.14019045233726501, 0.14019045233726501, 0.14019045233726501, 0.14019045233726501, 0.7626664042472839, 0.15253327786922455, 0.37220314145088196, 0.18610157072544098, 0.18610157072544098, 0.18610157072544098, 0.2621815800666809, 0.13109079003334045, 0.39327237010002136, 0.13109079003334045, 0.8617919087409973, 0.14000070095062256, 0.7933372855186462, 0.937187671661377, 0.33561599254608154, 0.16780799627304077, 0.16780799627304077, 0.16780799627304077, 0.8275429010391235, 0.020688572898507118, 0.020688572898507118, 0.041377145797014236, 0.041377145797014236, 0.020688572898507118, 0.041377145797014236, 0.020688572898507118, 0.26638129353523254, 0.29301944375038147, 0.13319064676761627, 0.159828782081604, 0.026638129726052284, 0.10655251890420914, 0.1683768630027771, 0.3367537260055542, 0.1683768630027771, 0.1683768630027771, 0.12988176941871643, 0.6927027106285095, 0.08658783882856369, 0.05610693246126175, 0.6919854879379272, 0.09351155161857605, 0.13091617822647095, 0.01870230957865715, 0.9132753014564514, 0.4546498954296112, 0.25979992747306824, 0.06494998186826706, 0.06494998186826706, 0.06494998186826706, 0.3211652636528015, 0.20230881869792938, 0.12138529121875763, 0.13655845820903778, 0.0328751839697361, 0.09356782585382462, 0.027817463502287865, 0.020230881869792938, 0.02275974303483963, 0.0025288602337241173, 0.0025288602337241173, 0.007586580701172352, 0.0025288602337241173, 0.0050577204674482346, 0.37564656138420105, 0.2504310607910156, 0.2086925357580185, 0.08347701281309128, 0.04173850640654564, 0.01773449219763279, 0.5497692823410034, 0.38129159808158875, 0.02660173922777176, 0.008867246098816395, 0.09019208699464798, 0.04509604349732399, 0.8117287755012512, 0.2100503146648407, 0.1028817892074585, 0.29578515887260437, 0.13717572391033173, 0.06858786195516586, 0.05572763457894325, 0.030007189139723778, 0.008573482744395733, 0.008573482744395733, 0.025720447301864624, 0.02143370546400547, 0.02143370546400547, 0.0042867413721978664, 0.008573482744395733, 0.20964069664478302, 0.1674213856458664, 0.1921706348657608, 0.13102543354034424, 0.1281137615442276, 0.059689365327358246, 0.03057260252535343, 0.020381733775138855, 0.01164670567959547, 0.014558381401002407, 0.01601422019302845, 0.01164670567959547, 0.00436751451343298, 0.0014558382099494338, 0.0029116764198988676, 0.29493212699890137, 0.21614888310432434, 0.09090373665094376, 0.14948615431785583, 0.07878324389457703, 0.05656232684850693, 0.04848199337720871, 0.02626108005642891, 0.012120498344302177, 0.002020083134993911, 0.004040166269987822, 0.008080332539975643, 0.006060249172151089, 0.004040166269987822, 0.0023387037217617035, 0.9354814291000366, 0.0023387037217617035, 0.0023387037217617035, 0.0023387037217617035, 0.018709629774093628, 0.030403146520256996, 0.004677407443523407, 0.9042017459869385, 0.4438718259334564, 0.405825674533844, 0.02536410465836525, 0.0169094018638134, 0.029591454192996025, 0.0507282093167305, 0.0169094018638134, 0.00422735046595335, 0.00422735046595335, 0.00422735046595335, 0.11093708872795105, 0.8774115443229675, 0.1901845633983612, 0.5705536603927612, 0.1901845633983612, 0.018092622980475426, 0.9724785089492798, 0.2955358028411865, 0.2791171371936798, 0.13134925067424774, 0.11493059247732162, 0.016418656334280968, 0.06567462533712387, 0.032837312668561935, 0.016418656334280968, 0.049255967140197754, 0.889712393283844, 0.5543810725212097, 0.36958739161491394, 0.0834130048751831, 0.2502390146255493, 0.1668260097503662, 0.0834130048751831, 0.0834130048751831, 0.2502390146255493, 0.2110336571931839, 0.1278991848230362, 0.23874515295028687, 0.13216249644756317, 0.12150422483682632, 0.04689636826515198, 0.03836975619196892, 0.02557983808219433, 0.002131653018295765, 0.012789919041097164, 0.029843144118785858, 0.014921572059392929, 0.002131653018295765, 0.7958014011383057, 0.05684295669198036, 0.05684295669198036, 0.8727390170097351, 0.003331064945086837, 0.003331064945086837, 0.06329023838043213, 0.04663491249084473, 0.003331064945086837, 0.19592836499214172, 0.17048311233520508, 0.2519078850746155, 0.10941454023122787, 0.09414739161729813, 0.053435005247592926, 0.033078812062740326, 0.027989765629172325, 0.0101780965924263, 0.012722620740532875, 0.01526714488863945, 0.012722620740532875, 0.002544524148106575, 0.002544524148106575, 0.00508904829621315, 0.15195921063423157, 0.11819049715995789, 0.2146725356578827, 0.22432073950767517, 0.12542665004730225, 0.07718563079833984, 0.02653256058692932, 0.01447230577468872, 0.00482410192489624, 0.00964820384979248, 0.0241205096244812, 0.00482410192489624, 0.00241205096244812, 0.00241205096244812, 0.28437137603759766, 0.28437137603759766, 0.14218568801879883, 0.14218568801879883, 0.14218568801879883, 0.10028766840696335, 0.10028766840696335, 0.17828917503356934, 0.1727176457643509, 0.19500379264354706, 0.133716881275177, 0.027857685461640358, 0.005571536719799042, 0.016714610159397125, 0.011143073439598083, 0.011143073439598083, 0.016714610159397125, 0.027857685461640358, 0.26708805561065674, 0.09856820851564407, 0.16534022986888885, 0.1462625116109848, 0.08267011493444443, 0.11446630954742432, 0.038155436515808105, 0.02543695829808712, 0.009538859128952026, 0.00635923957452178, 0.00635923957452178, 0.03179619833827019, 0.00317961978726089, 0.00635923957452178, 0.3029751777648926, 0.12721610069274902, 0.195845827460289, 0.09875985980033875, 0.12386830151081085, 0.050216879695653915, 0.01673896051943302, 0.003347791964188218, 0.028456231579184532, 0.013391167856752872, 0.010043376125395298, 0.02343454398214817, 0.003347791964188218, 0.001673895982094109, 0.6810701489448547, 0.2270233929157257, 0.13541778922080994, 0.12488529831171036, 0.2587984502315521, 0.16250135004520416, 0.1850709766149521, 0.04212997853755951, 0.018055705353617668, 0.030092842876911163, 0.004513926338404417, 0.010532494634389877, 0.01203713659197092, 0.00601856829598546, 0.00300928414799273, 0.001504642073996365, 0.00300928414799273, 0.525993824005127, 0.03757098689675331, 0.3381388783454895, 0.03757098689675331, 0.03757098689675331], \"Term\": [\"abbey\", \"abide\", \"abide\", \"accent\", \"accent\", \"accent\", \"accent\", \"accent\", \"accent\", \"accent\", \"accent\", \"accent\", \"acquaintances\", \"acquaintances\", \"acquaintances\", \"acquaintances\", \"actress\", \"adele\", \"adele\", \"adele\", \"adele\", \"adele\", \"adele\", \"administered\", \"administered\", \"administered\", \"adoption\", \"adoption\", \"aerial\", \"aerial\", \"aerial\", \"affection\", \"affection\", \"affection\", \"affection\", \"affection\", \"affection\", \"affection\", \"affection\", \"affection\", \"affection\", \"affection\", \"affection\", \"agonies\", \"agonies\", \"agonies\", \"agonies\", \"air\", \"air\", \"air\", \"air\", \"air\", \"air\", \"air\", \"air\", \"air\", \"air\", \"air\", \"air\", \"air\", \"airing\", \"airing\", \"airing\", \"albion\", \"albion\", \"albion\", \"albion\", \"alfred\", \"alfred\", \"alfred\", \"allee\", \"allenham\", \"alliance\", \"alliance\", \"alliance\", \"alliance\", \"alliance\", \"alliance\", \"amazing\", \"amazing\", \"amazing\", \"amazing\", \"ambitious\", \"ambitious\", \"ambitious\", \"ambitious\", \"amounted\", \"amounted\", \"amounted\", \"amour\", \"amour\", \"amour\", \"amy\", \"anecdote\", \"anecdote\", \"anecdote\", \"anecdote\", \"anguish\", \"anguish\", \"anguish\", \"anguish\", \"annum\", \"annum\", \"annum\", \"annum\", \"annum\", \"annum\", \"answer\", \"answer\", \"answer\", \"answer\", \"answer\", \"answer\", \"answer\", \"answer\", \"answer\", \"answer\", \"answer\", \"answer\", \"answer\", \"answer\", \"antagonist\", \"antagonist\", \"antagonist\", \"apologising\", \"appealing\", \"appreciating\", \"appreciating\", \"appreciating\", \"appreciating\", \"asked\", \"asked\", \"asked\", \"asked\", \"asked\", \"asked\", \"asked\", \"asked\", \"asked\", \"asked\", \"asked\", \"asked\", \"asked\", \"aspire\", \"aspire\", \"aspire\", \"aspire\", \"assez\", \"assez\", \"assez\", \"assiduous\", \"assiduous\", \"assiduous\", \"assiduous\", \"assign\", \"assign\", \"assign\", \"assistance\", \"assistance\", \"assistance\", \"assistance\", \"assistance\", \"assistance\", \"assistance\", \"assistance\", \"assistance\", \"associations\", \"associations\", \"associations\", \"associations\", \"associations\", \"associations\", \"atom\", \"attic\", \"attic\", \"attic\", \"attic\", \"attics\", \"attics\", \"attics\", \"august\", \"august\", \"august\", \"august\", \"august\", \"aunt\", \"aunt\", \"aunt\", \"aunt\", \"aunt\", \"aunt\", \"aunt\", \"aunt\", \"aunt\", \"aunt\", \"aunt\", \"average\", \"average\", \"average\", \"away\", \"away\", \"away\", \"away\", \"away\", \"away\", \"away\", \"away\", \"away\", \"away\", \"away\", \"away\", \"away\", \"away\", \"away\", \"banker\", \"banker\", \"banker\", \"banker\", \"bark\", \"barouche\", \"barouche\", \"barouche\", \"barton\", \"barton\", \"bassompierre\", \"bassompierre\", \"bassompierre\", \"bassompierre\", \"bassompierre\", \"bates\", \"bates\", \"bates\", \"bates\", \"bates\", \"bates\", \"bath\", \"bath\", \"bath\", \"bath\", \"bathing\", \"bathing\", \"bathing\", \"beck\", \"beck\", \"beck\", \"beck\", \"beck\", \"bedrooms\", \"bedrooms\", \"bedrooms\", \"bedrooms\", \"beer\", \"beer\", \"beer\", \"began\", \"began\", \"began\", \"began\", \"began\", \"began\", \"began\", \"began\", \"began\", \"began\", \"began\", \"began\", \"behaviour\", \"behaviour\", \"behaviour\", \"behaviour\", \"behaviour\", \"behaviour\", \"behaviour\", \"belgian\", \"belgian\", \"belgian\", \"belgians\", \"belgians\", \"belgians\", \"belgians\", \"belgium\", \"belgium\", \"belgium\", \"belgium\", \"belgium\", \"belles\", \"bennet\", \"bennet\", \"bennet\", \"bennet\", \"bennet\", \"bennets\", \"bennets\", \"bessie\", \"bessie\", \"bessie\", \"betook\", \"betook\", \"better\", \"better\", \"better\", \"better\", \"better\", \"better\", \"better\", \"better\", \"better\", \"better\", \"better\", \"better\", \"better\", \"better\", \"better\", \"bien\", \"bien\", \"bien\", \"bien\", \"bien\", \"bigben\", \"bigben\", \"bingley\", \"bingley\", \"bingley\", \"bingley\", \"black\", \"black\", \"black\", \"black\", \"black\", \"black\", \"black\", \"black\", \"black\", \"black\", \"black\", \"boarder\", \"boarder\", \"boarders\", \"boarders\", \"boards\", \"boards\", \"boards\", \"boasting\", \"boasting\", \"boasting\", \"body\", \"body\", \"body\", \"body\", \"body\", \"body\", \"body\", \"body\", \"body\", \"body\", \"boiled\", \"boiled\", \"boiled\", \"boiled\", \"bone\", \"bone\", \"bone\", \"bone\", \"bone\", \"book\", \"book\", \"book\", \"book\", \"book\", \"book\", \"book\", \"book\", \"book\", \"book\", \"book\", \"book\", \"book\", \"book\", \"bourgh\", \"bourgh\", \"bourne\", \"boys\", \"boys\", \"boys\", \"boys\", \"boys\", \"boys\", \"boys\", \"boys\", \"boys\", \"bracelet\", \"bracelet\", \"bracelet\", \"bracelet\", \"bracelet\", \"brandon\", \"brandon\", \"brandon\", \"bread\", \"bread\", \"bread\", \"bread\", \"bread\", \"bread\", \"bretton\", \"bretton\", \"bretton\", \"bretton\", \"bretton\", \"bretton\", \"briggs\", \"briggs\", \"brocklehurst\", \"brocklehurst\", \"brushed\", \"brushed\", \"brushed\", \"brushed\", \"brushed\", \"brussels\", \"brussels\", \"brussels\", \"brussels\", \"brussels\", \"brussels\", \"brussels\", \"burns\", \"burnt\", \"burnt\", \"burnt\", \"burnt\", \"cake\", \"cake\", \"cake\", \"cake\", \"cake\", \"cake\", \"cake\", \"came\", \"came\", \"came\", \"came\", \"came\", \"came\", \"came\", \"came\", \"came\", \"came\", \"came\", \"came\", \"came\", \"campbell\", \"campbell\", \"campbell\", \"candle\", \"candle\", \"candle\", \"candle\", \"capacity\", \"capacity\", \"capacity\", \"capacity\", \"capacity\", \"captain\", \"captain\", \"captain\", \"carlo\", \"caroline\", \"caroline\", \"caroline\", \"caroline\", \"carter\", \"carter\", \"carter\", \"carter\", \"carter\", \"catherine\", \"catherine\", \"catherine\", \"catherine\", \"catherine\", \"celine\", \"certain\", \"certain\", \"certain\", \"certain\", \"certain\", \"certain\", \"certain\", \"certain\", \"certain\", \"certain\", \"certain\", \"certain\", \"certain\", \"certainly\", \"certainly\", \"certainly\", \"certainly\", \"certainly\", \"certainly\", \"certainly\", \"certainly\", \"certainly\", \"certainly\", \"certainly\", \"certainly\", \"certainly\", \"ces\", \"ces\", \"ces\", \"ces\", \"chalk\", \"chalk\", \"chalk\", \"chalk\", \"chances\", \"chances\", \"chances\", \"chances\", \"chances\", \"charade\", \"charade\", \"charade\", \"charade\", \"charlotte\", \"charlotte\", \"charlotte\", \"charlotte\", \"charlotte\", \"cheap\", \"cheap\", \"cheap\", \"cheap\", \"cheese\", \"chestnut\", \"chestnut\", \"chestnut\", \"children\", \"children\", \"children\", \"children\", \"children\", \"children\", \"children\", \"children\", \"children\", \"children\", \"children\", \"children\", \"children\", \"chink\", \"chink\", \"chink\", \"cholmondeley\", \"cholmondeley\", \"cholmondeley\", \"cholmondeley\", \"chooses\", \"chooses\", \"church\", \"church\", \"church\", \"church\", \"church\", \"church\", \"church\", \"church\", \"church\", \"churchill\", \"churchill\", \"churchill\", \"churchill\", \"churchill\", \"churchill\", \"churchill\", \"civility\", \"civility\", \"civility\", \"civility\", \"civility\", \"civility\", \"classe\", \"classe\", \"classe\", \"classe\", \"cleveland\", \"cleveland\", \"clever\", \"clever\", \"clever\", \"clever\", \"clever\", \"clever\", \"clever\", \"clever\", \"clever\", \"clever\", \"climax\", \"climax\", \"climax\", \"climax\", \"cloaks\", \"cloaks\", \"cloaks\", \"cloaks\", \"colds\", \"colds\", \"colds\", \"cole\", \"cole\", \"cole\", \"collation\", \"collation\", \"collation\", \"collins\", \"collins\", \"collins\", \"collins\", \"colonel\", \"colonel\", \"colonel\", \"colonel\", \"colonel\", \"colonel\", \"colonel\", \"colonel\", \"combe\", \"come\", \"come\", \"come\", \"come\", \"come\", \"come\", \"come\", \"come\", \"come\", \"come\", \"come\", \"come\", \"come\", \"come\", \"come\", \"comfortable\", \"comfortable\", \"comfortable\", \"comfortable\", \"comfortable\", \"comfortable\", \"comfortable\", \"comfortable\", \"comfortable\", \"comfortable\", \"comfortable\", \"comfortable\", \"comments\", \"comments\", \"comments\", \"comments\", \"committed\", \"committed\", \"committed\", \"committed\", \"committed\", \"committed\", \"committed\", \"communicative\", \"communicative\", \"communicative\", \"communicative\", \"communicative\", \"complacent\", \"complacent\", \"complacent\", \"comprehending\", \"comprehending\", \"comprehending\", \"concisely\", \"concisely\", \"concisely\", \"confidential\", \"confidential\", \"confidential\", \"confidential\", \"consists\", \"consists\", \"consists\", \"consists\", \"contains\", \"contains\", \"contour\", \"contour\", \"contour\", \"conversations\", \"conversations\", \"conversations\", \"conversations\", \"copied\", \"copied\", \"copied\", \"copied\", \"copied\", \"copying\", \"copying\", \"copying\", \"copying\", \"copying\", \"corps\", \"corps\", \"corridor\", \"corridor\", \"corridor\", \"corridor\", \"corridor\", \"cottage\", \"cottage\", \"cottage\", \"cottage\", \"cottage\", \"cottage\", \"cottage\", \"cottage\", \"country\", \"country\", \"country\", \"country\", \"country\", \"country\", \"country\", \"country\", \"country\", \"country\", \"country\", \"course\", \"course\", \"course\", \"course\", \"course\", \"course\", \"course\", \"course\", \"course\", \"course\", \"course\", \"course\", \"course\", \"course\", \"course\", \"cox\", \"crack\", \"crack\", \"crecy\", \"crecy\", \"crecy\", \"crecy\", \"crimsworth\", \"crimsworth\", \"crimsworth\", \"crimsworth\", \"crimsworth\", \"crimsworth\", \"crimsworth\", \"cultivated\", \"cultivated\", \"cultivated\", \"cup\", \"cup\", \"cup\", \"cup\", \"cup\", \"cup\", \"curricle\", \"curtain\", \"curtain\", \"curtain\", \"curtain\", \"curtain\", \"curtain\", \"curtain\", \"darcy\", \"darcy\", \"darcy\", \"dark\", \"dark\", \"dark\", \"dark\", \"dark\", \"dark\", \"dark\", \"dark\", \"dark\", \"dark\", \"dark\", \"dark\", \"dashwood\", \"dashwood\", \"dashwood\", \"dashwood\", \"dashwood\", \"dashwoods\", \"dashwoods\", \"dawn\", \"dawn\", \"dawn\", \"dawn\", \"dawn\", \"dawn\", \"dawn\", \"day\", \"day\", \"day\", \"day\", \"day\", \"day\", \"day\", \"day\", \"day\", \"day\", \"day\", \"day\", \"day\", \"day\", \"day\", \"dear\", \"dear\", \"dear\", \"dear\", \"dear\", \"dear\", \"dear\", \"dear\", \"dear\", \"dear\", \"dear\", \"dear\", \"death\", \"death\", \"death\", \"death\", \"death\", \"death\", \"death\", \"death\", \"death\", \"death\", \"death\", \"decease\", \"decease\", \"decease\", \"decease\", \"decease\", \"deck\", \"deck\", \"defendue\", \"deformity\", \"deformity\", \"deformity\", \"degree\", \"degree\", \"degree\", \"degree\", \"degree\", \"degree\", \"degree\", \"degree\", \"degree\", \"degree\", \"degree\", \"degree\", \"delaford\", \"delaford\", \"demoiselles\", \"demoiselles\", \"demoiselles\", \"demonstrative\", \"denny\", \"denote\", \"denote\", \"denote\", \"denote\", \"dent\", \"deportment\", \"deportment\", \"deportment\", \"des\", \"des\", \"des\", \"des\", \"des\", \"desk\", \"desk\", \"desk\", \"desk\", \"desk\", \"desk\", \"desk\", \"desk\", \"desk\", \"desk\", \"despotism\", \"despotism\", \"despotism\", \"despotism\", \"devoirs\", \"devoirs\", \"devonshire\", \"devonshire\", \"devonshire\", \"devoting\", \"devoting\", \"devoting\", \"devoured\", \"diana\", \"diana\", \"diana\", \"diana\", \"diana\", \"diffused\", \"diffused\", \"diffused\", \"diffused\", \"dimly\", \"dingy\", \"dingy\", \"dingy\", \"director\", \"director\", \"director\", \"director\", \"director\", \"directress\", \"directress\", \"directress\", \"directress\", \"directress\", \"directress\", \"discharging\", \"discharging\", \"discharging\", \"discharging\", \"discharging\", \"dishes\", \"dishes\", \"dishes\", \"dishes\", \"dishes\", \"dishevelled\", \"dishevelled\", \"dishevelled\", \"dishevelled\", \"disposal\", \"disposal\", \"disposal\", \"disposal\", \"disposal\", \"dissimulation\", \"dissimulation\", \"doctor\", \"doctor\", \"doctor\", \"doctor\", \"document\", \"document\", \"document\", \"donwell\", \"donwell\", \"donwell\", \"door\", \"door\", \"door\", \"door\", \"door\", \"door\", \"door\", \"door\", \"door\", \"door\", \"door\", \"door\", \"door\", \"door\", \"doubt\", \"doubt\", \"doubt\", \"doubt\", \"doubt\", \"doubt\", \"doubt\", \"doubt\", \"doubt\", \"doubt\", \"doubt\", \"doubt\", \"doubt\", \"doubt\", \"dr\", \"dr\", \"dr\", \"dr\", \"dr\", \"dr\", \"dr\", \"drawings\", \"drawings\", \"drawings\", \"drawings\", \"drawings\", \"easy\", \"easy\", \"easy\", \"easy\", \"easy\", \"easy\", \"easy\", \"easy\", \"easy\", \"easy\", \"easy\", \"easy\", \"easy\", \"edward\", \"edward\", \"edward\", \"edward\", \"edward\", \"edward\", \"edward\", \"edward\", \"edward\", \"edward\", \"effusions\", \"elderly\", \"elderly\", \"elderly\", \"elderly\", \"elderly\", \"elderly\", \"elderly\", \"elinor\", \"elinor\", \"elinor\", \"elinor\", \"elinor\", \"elinor\", \"eliza\", \"eliza\", \"eliza\", \"eliza\", \"eliza\", \"eliza\", \"elizabeth\", \"elizabeth\", \"elizabeth\", \"elizabeth\", \"elizabeth\", \"elizabeth\", \"elizabeth\", \"elizabeth\", \"elizabeth\", \"elle\", \"elle\", \"elle\", \"elle\", \"elle\", \"elle\", \"elton\", \"elton\", \"elton\", \"elton\", \"elton\", \"elton\", \"elton\", \"eltons\", \"eltons\", \"emanuel\", \"emanuel\", \"emanuel\", \"emanuel\", \"emanuel\", \"embers\", \"embers\", \"emma\", \"emma\", \"emma\", \"emma\", \"emma\", \"emma\", \"emma\", \"emma\", \"emma\", \"employments\", \"employments\", \"encore\", \"encore\", \"encore\", \"encore\", \"enfin\", \"enfin\", \"engagement\", \"engagement\", \"engagement\", \"engagement\", \"engagement\", \"england\", \"england\", \"england\", \"england\", \"england\", \"england\", \"england\", \"england\", \"england\", \"england\", \"england\", \"england\", \"england\", \"english\", \"english\", \"english\", \"english\", \"english\", \"english\", \"english\", \"english\", \"english\", \"english\", \"english\", \"enlarge\", \"enlarge\", \"enlarge\", \"enlarge\", \"enlarged\", \"enlarged\", \"enlarged\", \"enlarged\", \"enormous\", \"enormous\", \"enormous\", \"enormous\", \"enounced\", \"enounced\", \"enounced\", \"enounced\", \"enquire\", \"enquiry\", \"enscombe\", \"enscombe\", \"enscombe\", \"entreaty\", \"entreaty\", \"enumerating\", \"enveloped\", \"equivalent\", \"equivalent\", \"equivalent\", \"equivalent\", \"er\", \"eshton\", \"est\", \"est\", \"est\", \"est\", \"est\", \"est\", \"est\", \"establishment\", \"establishment\", \"establishment\", \"establishment\", \"establishment\", \"establishment\", \"establishment\", \"establishment\", \"establishment\", \"establishment\", \"establishment\", \"estate\", \"estate\", \"estate\", \"estate\", \"estate\", \"estate\", \"estate\", \"estate\", \"estate\", \"estrade\", \"estrade\", \"et\", \"et\", \"et\", \"et\", \"et\", \"etes\", \"etes\", \"etre\", \"etre\", \"etre\", \"evans\", \"evans\", \"evans\", \"evening\", \"evening\", \"evening\", \"evening\", \"evening\", \"evening\", \"evening\", \"evening\", \"evening\", \"evening\", \"evening\", \"evening\", \"evening\", \"evening\", \"everybody\", \"everybody\", \"everybody\", \"everybody\", \"everybody\", \"everybody\", \"everybody\", \"exchanging\", \"exchanging\", \"exchanging\", \"exchanging\", \"existence\", \"existence\", \"existence\", \"existence\", \"existence\", \"existence\", \"existence\", \"existence\", \"existence\", \"existence\", \"expanse\", \"expanse\", \"expanse\", \"expect\", \"expect\", \"expect\", \"expect\", \"expect\", \"expect\", \"expect\", \"expect\", \"expenses\", \"expenses\", \"expenses\", \"expenses\", \"expenses\", \"experiment\", \"experiment\", \"experiment\", \"explore\", \"explore\", \"explore\", \"explore\", \"exploring\", \"exploring\", \"exploring\", \"external\", \"external\", \"external\", \"external\", \"external\", \"externes\", \"extorted\", \"extorted\", \"extorted\", \"eye\", \"eye\", \"eye\", \"eye\", \"eye\", \"eye\", \"eye\", \"eye\", \"eye\", \"eye\", \"eye\", \"eye\", \"eye\", \"eye\", \"eyelid\", \"eyelid\", \"eyelid\", \"eyes\", \"eyes\", \"eyes\", \"eyes\", \"eyes\", \"eyes\", \"eyes\", \"eyes\", \"eyes\", \"eyes\", \"eyes\", \"eyes\", \"eyes\", \"eyre\", \"eyre\", \"eyre\", \"eyre\", \"face\", \"face\", \"face\", \"face\", \"face\", \"face\", \"face\", \"face\", \"face\", \"face\", \"face\", \"face\", \"face\", \"face\", \"face\", \"fairfax\", \"fairfax\", \"fairfax\", \"fairfax\", \"fairfax\", \"fairfax\", \"fairfax\", \"fairfax\", \"fairfax\", \"fairfax\", \"fairfax\", \"family\", \"family\", \"family\", \"family\", \"family\", \"family\", \"family\", \"family\", \"family\", \"family\", \"family\", \"family\", \"family\", \"fanshawe\", \"fanshawe\", \"fanshawe\", \"fanshawe\", \"far\", \"far\", \"far\", \"far\", \"far\", \"far\", \"far\", \"far\", \"far\", \"far\", \"far\", \"far\", \"far\", \"far\", \"far\", \"farewell\", \"farewell\", \"farewell\", \"farewell\", \"farewell\", \"farewell\", \"father\", \"father\", \"father\", \"father\", \"father\", \"father\", \"father\", \"father\", \"father\", \"father\", \"father\", \"father\", \"father\", \"father\", \"fathers\", \"fathers\", \"fathers\", \"fathers\", \"features\", \"features\", \"features\", \"features\", \"features\", \"features\", \"features\", \"features\", \"features\", \"features\", \"features\", \"features\", \"fee\", \"fee\", \"fee\", \"feel\", \"feel\", \"feel\", \"feel\", \"feel\", \"feel\", \"feel\", \"feel\", \"feel\", \"feel\", \"feel\", \"feel\", \"feel\", \"feel\", \"feel\", \"feelings\", \"feelings\", \"feelings\", \"feelings\", \"feelings\", \"feelings\", \"feelings\", \"feelings\", \"feelings\", \"feelings\", \"feelings\", \"feelings\", \"feelings\", \"felicitations\", \"felicitations\", \"felicitations\", \"felt\", \"felt\", \"felt\", \"felt\", \"felt\", \"felt\", \"felt\", \"felt\", \"felt\", \"felt\", \"felt\", \"felt\", \"felt\", \"felt\", \"ferrars\", \"ferrars\", \"ferrars\", \"fetters\", \"fetters\", \"fiacre\", \"fiacre\", \"fifine\", \"fifine\", \"fifth\", \"fifth\", \"fifth\", \"fifth\", \"firmness\", \"firmness\", \"firmness\", \"firmness\", \"firmness\", \"firmness\", \"fitzwilliam\", \"fitzwilliam\", \"flamand\", \"flamand\", \"flown\", \"flown\", \"flown\", \"ford\", \"ford\", \"forster\", \"forster\", \"forster\", \"fortnight\", \"fortnight\", \"fortnight\", \"fortnight\", \"fortnight\", \"fortnight\", \"fortnight\", \"fortnight\", \"fortnight\", \"fortnight\", \"fortune\", \"fortune\", \"fortune\", \"fortune\", \"fortune\", \"fortune\", \"fortune\", \"fortune\", \"fortune\", \"fortune\", \"fortune\", \"fortune\", \"fortune\", \"fortune\", \"fortune\", \"forwarded\", \"forwarded\", \"forwarded\", \"fossette\", \"fossette\", \"fossette\", \"franc\", \"franc\", \"franc\", \"frances\", \"frances\", \"frances\", \"frances\", \"frances\", \"frances\", \"frances\", \"francs\", \"francs\", \"francs\", \"francs\", \"francs\", \"frank\", \"frank\", \"frank\", \"frank\", \"frank\", \"frank\", \"frank\", \"frank\", \"frank\", \"french\", \"french\", \"french\", \"french\", \"french\", \"french\", \"french\", \"french\", \"friend\", \"friend\", \"friend\", \"friend\", \"friend\", \"friend\", \"friend\", \"friend\", \"friend\", \"friend\", \"friend\", \"friend\", \"frock\", \"frock\", \"fulfil\", \"fulfil\", \"fulfil\", \"fulfil\", \"fulfil\", \"funeral\", \"funeral\", \"funeral\", \"funeral\", \"gall\", \"gall\", \"gall\", \"garcon\", \"garden\", \"garden\", \"garden\", \"garden\", \"garden\", \"garden\", \"garden\", \"garden\", \"garden\", \"garden\", \"garden\", \"gardiner\", \"gardiner\", \"gardiner\", \"gateshead\", \"gateshead\", \"gateshead\", \"generations\", \"generations\", \"generations\", \"generations\", \"generations\", \"georgiana\", \"georgiana\", \"georgiana\", \"georgiana\", \"georgiana\", \"georgiana\", \"georgiana\", \"getting\", \"getting\", \"getting\", \"getting\", \"getting\", \"getting\", \"getting\", \"getting\", \"getting\", \"getting\", \"getting\", \"ginevra\", \"ginevra\", \"ginevra\", \"ginevra\", \"given\", \"given\", \"given\", \"given\", \"given\", \"given\", \"given\", \"given\", \"given\", \"given\", \"given\", \"given\", \"given\", \"glide\", \"glide\", \"glide\", \"god\", \"god\", \"god\", \"god\", \"god\", \"god\", \"god\", \"god\", \"god\", \"god\", \"god\", \"goddard\", \"goddard\", \"goddard\", \"goddard\", \"good\", \"good\", \"good\", \"good\", \"good\", \"good\", \"good\", \"good\", \"good\", \"good\", \"good\", \"good\", \"good\", \"good\", \"good\", \"gracechurch\", \"gracechurch\", \"gracechurch\", \"graces\", \"graces\", \"graces\", \"graces\", \"graces\", \"graces\", \"graces\", \"graham\", \"graham\", \"graham\", \"graham\", \"graham\", \"graham\", \"graham\", \"graham\", \"grandmama\", \"grandmama\", \"grate\", \"grate\", \"grate\", \"grate\", \"great\", \"great\", \"great\", \"great\", \"great\", \"great\", \"great\", \"great\", \"great\", \"great\", \"great\", \"great\", \"great\", \"great\", \"greatness\", \"greatness\", \"greatness\", \"greatness\", \"greatness\", \"greatness\", \"grenier\", \"grimaces\", \"grimaces\", \"grimaces\", \"grove\", \"grove\", \"grove\", \"grove\", \"grove\", \"grove\", \"growth\", \"growth\", \"growth\", \"growth\", \"gruel\", \"gruel\", \"hail\", \"hair\", \"hair\", \"hair\", \"hair\", \"hair\", \"hair\", \"hair\", \"hair\", \"hair\", \"hair\", \"hair\", \"half\", \"half\", \"half\", \"half\", \"half\", \"half\", \"half\", \"half\", \"half\", \"half\", \"half\", \"half\", \"half\", \"half\", \"hall\", \"hall\", \"hall\", \"hall\", \"hall\", \"hall\", \"hall\", \"hall\", \"hall\", \"hall\", \"hall\", \"hand\", \"hand\", \"hand\", \"hand\", \"hand\", \"hand\", \"hand\", \"hand\", \"hand\", \"hand\", \"hand\", \"hand\", \"hand\", \"hand\", \"hands\", \"hands\", \"hands\", \"hands\", \"hands\", \"hands\", \"hands\", \"hands\", \"hands\", \"hands\", \"hands\", \"hands\", \"hands\", \"hands\", \"handsomer\", \"handsomer\", \"handwriting\", \"handwriting\", \"handwriting\", \"hannah\", \"hannah\", \"hannah\", \"hannah\", \"harangue\", \"harangue\", \"hardships\", \"hardships\", \"hardships\", \"harp\", \"harp\", \"harp\", \"harp\", \"harriet\", \"harriet\", \"harriet\", \"harriet\", \"harriet\", \"harriet\", \"harriet\", \"harriet\", \"hartfield\", \"hartfield\", \"hartfield\", \"hartfield\", \"hartfield\", \"having\", \"having\", \"having\", \"having\", \"having\", \"having\", \"having\", \"having\", \"having\", \"having\", \"having\", \"having\", \"having\", \"having\", \"hawkins\", \"head\", \"head\", \"head\", \"head\", \"head\", \"head\", \"head\", \"head\", \"head\", \"head\", \"head\", \"head\", \"head\", \"head\", \"head\", \"headache\", \"headache\", \"headache\", \"headache\", \"headache\", \"healthful\", \"heard\", \"heard\", \"heard\", \"heard\", \"heard\", \"heard\", \"heard\", \"heard\", \"heard\", \"heard\", \"heard\", \"heard\", \"heard\", \"heard\", \"heard\", \"heart\", \"heart\", \"heart\", \"heart\", \"heart\", \"heart\", \"heart\", \"heart\", \"heart\", \"heart\", \"heart\", \"heart\", \"heart\", \"heart\", \"heart\", \"helen\", \"helen\", \"helen\", \"helen\", \"henri\", \"henri\", \"henri\", \"henri\", \"henri\", \"henry\", \"henry\", \"henry\", \"henry\", \"hertfordshire\", \"hertfordshire\", \"hertfordshire\", \"highbury\", \"highbury\", \"highbury\", \"highbury\", \"highbury\", \"highbury\", \"higher\", \"higher\", \"higher\", \"higher\", \"higher\", \"higher\", \"higher\", \"higher\", \"hints\", \"hints\", \"hints\", \"hints\", \"hints\", \"hints\", \"hints\", \"hole\", \"home\", \"home\", \"home\", \"home\", \"home\", \"home\", \"home\", \"home\", \"home\", \"home\", \"home\", \"home\", \"honeymoon\", \"honeymoon\", \"house\", \"house\", \"house\", \"house\", \"house\", \"house\", \"house\", \"house\", \"house\", \"house\", \"house\", \"house\", \"house\", \"house\", \"housekeeping\", \"housekeeping\", \"housekeeping\", \"housekeeping\", \"hunsden\", \"hunsden\", \"hunsden\", \"hunsden\", \"hunsden\", \"hunsden\", \"hunsden\", \"hunsden\", \"hurst\", \"hurst\", \"il\", \"il\", \"il\", \"il\", \"il\", \"imbecile\", \"imbecile\", \"including\", \"including\", \"including\", \"including\", \"including\", \"including\", \"including\", \"income\", \"income\", \"income\", \"income\", \"income\", \"income\", \"income\", \"income\", \"income\", \"income\", \"india\", \"india\", \"india\", \"india\", \"indian\", \"indian\", \"indian\", \"indian\", \"infirm\", \"infirm\", \"inflicting\", \"inflicting\", \"inflicting\", \"inflicting\", \"ingram\", \"ingram\", \"ingram\", \"inquiry\", \"inquiry\", \"inquiry\", \"inquiry\", \"inquiry\", \"inquiry\", \"inquiry\", \"inquiry\", \"inquiry\", \"insane\", \"insane\", \"insane\", \"insight\", \"insight\", \"insight\", \"intelligent\", \"intelligent\", \"intelligent\", \"intelligent\", \"intelligent\", \"intelligent\", \"intelligent\", \"interior\", \"interior\", \"interior\", \"interior\", \"interrupting\", \"interrupting\", \"interrupting\", \"intimately\", \"intimately\", \"involuntarily\", \"involuntarily\", \"involuntarily\", \"involuntarily\", \"involuntarily\", \"involuntarily\", \"irritating\", \"irritating\", \"irritating\", \"isabella\", \"isabella\", \"isidore\", \"isidore\", \"isidore\", \"jane\", \"jane\", \"jane\", \"jane\", \"jane\", \"jane\", \"jane\", \"jane\", \"jane\", \"jane\", \"janet\", \"janet\", \"janet\", \"jar\", \"je\", \"je\", \"je\", \"je\", \"je\", \"jenkinson\", \"jennings\", \"jennings\", \"jennings\", \"john\", \"john\", \"john\", \"john\", \"john\", \"john\", \"john\", \"john\", \"john\", \"john\", \"john\", \"john\", \"joys\", \"joys\", \"judgement\", \"judgement\", \"jump\", \"jump\", \"jump\", \"justine\", \"justine\", \"justine\", \"kent\", \"kept\", \"kept\", \"kept\", \"kept\", \"kept\", \"kept\", \"kept\", \"kept\", \"kept\", \"kept\", \"kind\", \"kind\", \"kind\", \"kind\", \"kind\", \"kind\", \"kind\", \"kind\", \"kind\", \"kind\", \"kind\", \"kind\", \"kind\", \"kind\", \"kings\", \"kings\", \"kings\", \"kiss\", \"kiss\", \"kiss\", \"kiss\", \"kiss\", \"kiss\", \"kiss\", \"kiss\", \"kisses\", \"kisses\", \"kisses\", \"kisses\", \"knew\", \"knew\", \"knew\", \"knew\", \"knew\", \"knew\", \"knew\", \"knew\", \"knew\", \"knew\", \"knew\", \"knew\", \"knew\", \"knightley\", \"knightley\", \"knightley\", \"knightley\", \"knightley\", \"knightley\", \"knightley\", \"knightleys\", \"knightleys\", \"know\", \"know\", \"know\", \"know\", \"know\", \"know\", \"know\", \"know\", \"know\", \"know\", \"know\", \"know\", \"know\", \"know\", \"know\", \"la\", \"la\", \"la\", \"la\", \"la\", \"la\", \"la\", \"la\", \"lace\", \"lace\", \"lace\", \"lace\", \"lace\", \"lace\", \"lace\", \"lace\", \"lace\", \"lady\", \"lady\", \"lady\", \"lady\", \"lady\", \"lady\", \"lady\", \"lady\", \"lady\", \"lady\", \"lady\", \"lady\", \"lady\", \"lady\", \"lady\", \"larkins\", \"laugh\", \"laugh\", \"laugh\", \"laugh\", \"laugh\", \"laugh\", \"laugh\", \"laugh\", \"laugh\", \"laugh\", \"laugh\", \"laugh\", \"le\", \"le\", \"le\", \"le\", \"le\", \"le\", \"leah\", \"leah\", \"leah\", \"leah\", \"leaved\", \"leaved\", \"leaved\", \"left\", \"left\", \"left\", \"left\", \"left\", \"left\", \"left\", \"left\", \"left\", \"left\", \"left\", \"left\", \"left\", \"leg\", \"leg\", \"leg\", \"legitimate\", \"legitimate\", \"legitimate\", \"lengths\", \"lengths\", \"lengths\", \"lengths\", \"lengths\", \"les\", \"les\", \"les\", \"les\", \"lesson\", \"lesson\", \"lesson\", \"lesson\", \"lesson\", \"lesson\", \"lesson\", \"lesson\", \"lesson\", \"lesson\", \"let\", \"let\", \"let\", \"let\", \"let\", \"let\", \"let\", \"let\", \"let\", \"let\", \"let\", \"let\", \"letter\", \"letter\", \"letter\", \"letter\", \"letter\", \"letter\", \"letter\", \"letter\", \"letter\", \"letter\", \"letter\", \"letter\", \"letter\", \"levity\", \"levity\", \"levity\", \"levity\", \"levity\", \"lid\", \"lid\", \"lied\", \"lied\", \"lied\", \"life\", \"life\", \"life\", \"life\", \"life\", \"life\", \"life\", \"life\", \"life\", \"life\", \"life\", \"life\", \"life\", \"life\", \"light\", \"light\", \"light\", \"light\", \"light\", \"light\", \"light\", \"light\", \"light\", \"light\", \"light\", \"light\", \"lighting\", \"lighting\", \"like\", \"like\", \"like\", \"like\", \"like\", \"like\", \"like\", \"like\", \"like\", \"like\", \"like\", \"like\", \"like\", \"like\", \"likeness\", \"likeness\", \"likeness\", \"likeness\", \"likeness\", \"likeness\", \"likeness\", \"likeness\", \"likeness\", \"likeness\", \"likeness\", \"limited\", \"limited\", \"limited\", \"limited\", \"limited\", \"limited\", \"limited\", \"limited\", \"limited\", \"little\", \"little\", \"little\", \"little\", \"little\", \"little\", \"little\", \"little\", \"little\", \"little\", \"little\", \"little\", \"little\", \"little\", \"little\", \"live\", \"live\", \"live\", \"live\", \"live\", \"live\", \"live\", \"live\", \"live\", \"live\", \"live\", \"live\", \"live\", \"live\", \"lizzy\", \"lizzy\", \"lizzy\", \"lizzy\", \"lizzy\", \"ll\", \"ll\", \"ll\", \"ll\", \"ll\", \"ll\", \"ll\", \"ll\", \"ll\", \"ll\", \"lloyd\", \"lloyd\", \"lodge\", \"lodge\", \"lodge\", \"lodge\", \"lodge\", \"lodge\", \"long\", \"long\", \"long\", \"long\", \"long\", \"long\", \"long\", \"long\", \"long\", \"long\", \"long\", \"long\", \"long\", \"long\", \"long\", \"longbourn\", \"longbourn\", \"longbourn\", \"longstaple\", \"look\", \"look\", \"look\", \"look\", \"look\", \"look\", \"look\", \"look\", \"look\", \"look\", \"look\", \"look\", \"look\", \"look\", \"look\", \"looked\", \"looked\", \"looked\", \"looked\", \"looked\", \"looked\", \"looked\", \"looked\", \"looked\", \"looked\", \"looked\", \"looked\", \"looked\", \"looked\", \"looked\", \"love\", \"love\", \"love\", \"love\", \"love\", \"love\", \"love\", \"love\", \"love\", \"love\", \"love\", \"love\", \"love\", \"loved\", \"loved\", \"loved\", \"loved\", \"loved\", \"loved\", \"loved\", \"loved\", \"loved\", \"loved\", \"lowood\", \"lowood\", \"lowood\", \"lucas\", \"lucas\", \"lucas\", \"lucases\", \"lucases\", \"lucy\", \"lucy\", \"lucy\", \"lucy\", \"lucy\", \"lucy\", \"lucy\", \"lucy\", \"lucy\", \"lui\", \"lui\", \"lui\", \"luxuries\", \"luxuries\", \"luxuries\", \"luxuries\", \"luxuries\", \"luxury\", \"luxury\", \"luxury\", \"luxury\", \"luxury\", \"luxury\", \"luxury\", \"lydia\", \"lydia\", \"lydia\", \"lynn\", \"madame\", \"madame\", \"madame\", \"madame\", \"madame\", \"madame\", \"madame\", \"madame\", \"madame\", \"mademoiselle\", \"mademoiselle\", \"mademoiselle\", \"mademoiselle\", \"mademoiselle\", \"mademoiselle\", \"mademoiselle\", \"mademoiselle\", \"magi\", \"magi\", \"magi\", \"magna\", \"maintaining\", \"maintaining\", \"maintaining\", \"maintaining\", \"maintaining\", \"mais\", \"mais\", \"mais\", \"maker\", \"maker\", \"maker\", \"mal\", \"mal\", \"man\", \"man\", \"man\", \"man\", \"man\", \"man\", \"man\", \"man\", \"man\", \"man\", \"man\", \"man\", \"man\", \"maniac\", \"maniac\", \"maple\", \"maple\", \"maple\", \"marchmont\", \"marchmont\", \"marchmont\", \"margaret\", \"margaret\", \"margaret\", \"marianne\", \"marianne\", \"marianne\", \"marianne\", \"marianne\", \"marie\", \"marie\", \"marie\", \"marie\", \"marriage\", \"marriage\", \"marriage\", \"marriage\", \"marriage\", \"marriage\", \"marriage\", \"marriage\", \"marriage\", \"marriage\", \"martin\", \"martin\", \"martin\", \"martin\", \"martin\", \"mary\", \"mary\", \"mary\", \"mary\", \"mary\", \"mary\", \"mary\", \"mary\", \"mary\", \"mary\", \"mason\", \"mason\", \"mason\", \"mason\", \"master\", \"master\", \"master\", \"master\", \"master\", \"master\", \"master\", \"master\", \"master\", \"master\", \"master\", \"mdlle\", \"mdlle\", \"mdlle\", \"mdlle\", \"mdlle\", \"mdlle\", \"mdlle\", \"mender\", \"mender\", \"mental\", \"mental\", \"mental\", \"mental\", \"mental\", \"mental\", \"mental\", \"mental\", \"mental\", \"meryton\", \"meryton\", \"meryton\", \"messieurs\", \"messieurs\", \"messieurs\", \"messieurs\", \"middleton\", \"middleton\", \"middleton\", \"middleton\", \"middletons\", \"middletons\", \"mien\", \"mien\", \"mien\", \"mien\", \"mien\", \"mien\", \"military\", \"military\", \"military\", \"militia\", \"militia\", \"millcote\", \"millcote\", \"millcote\", \"miller\", \"miller\", \"mind\", \"mind\", \"mind\", \"mind\", \"mind\", \"mind\", \"mind\", \"mind\", \"mind\", \"mind\", \"mind\", \"mind\", \"mind\", \"mind\", \"mischievous\", \"mischievous\", \"mischievous\", \"mischievous\", \"misery\", \"misery\", \"misery\", \"misery\", \"misery\", \"misery\", \"misery\", \"miss\", \"miss\", \"miss\", \"miss\", \"miss\", \"miss\", \"miss\", \"miss\", \"miss\", \"miss\", \"miss\", \"miss\", \"miss\", \"missionary\", \"missionary\", \"missionary\", \"missis\", \"moi\", \"moi\", \"moi\", \"moment\", \"moment\", \"moment\", \"moment\", \"moment\", \"moment\", \"moment\", \"moment\", \"moment\", \"moment\", \"moment\", \"moment\", \"moment\", \"mon\", \"mon\", \"mon\", \"mon\", \"mon\", \"monday\", \"monday\", \"monsieur\", \"monsieur\", \"monsieur\", \"monsieur\", \"monsieur\", \"monsieur\", \"monsieur\", \"monsieur\", \"monsieur\", \"moors\", \"morals\", \"morals\", \"mother\", \"mother\", \"mother\", \"mother\", \"mother\", \"mother\", \"mother\", \"mother\", \"mother\", \"mother\", \"mother\", \"mother\", \"mother\", \"mother\", \"mound\", \"mound\", \"mud\", \"mud\", \"mud\", \"musical\", \"musical\", \"musical\", \"musical\", \"musical\", \"musical\", \"musical\", \"mystic\", \"mystic\", \"mystic\", \"nailed\", \"nailed\", \"nailed\", \"naked\", \"nash\", \"nash\", \"nash\", \"nation\", \"nation\", \"nation\", \"nation\", \"nations\", \"nations\", \"nations\", \"nations\", \"natural\", \"natural\", \"natural\", \"natural\", \"natural\", \"natural\", \"natural\", \"natural\", \"natural\", \"natural\", \"natural\", \"natural\", \"natural\", \"ne\", \"ne\", \"ne\", \"ne\", \"near\", \"near\", \"near\", \"near\", \"near\", \"near\", \"near\", \"near\", \"near\", \"near\", \"near\", \"near\", \"nest\", \"netherfield\", \"netherfield\", \"netherfield\", \"new\", \"new\", \"new\", \"new\", \"new\", \"new\", \"new\", \"new\", \"new\", \"new\", \"new\", \"new\", \"new\", \"new\", \"night\", \"night\", \"night\", \"night\", \"night\", \"night\", \"night\", \"night\", \"night\", \"night\", \"night\", \"night\", \"night\", \"ninety\", \"ninety\", \"ninety\", \"nobleman\", \"nobleman\", \"nobleman\", \"non\", \"non\", \"non\", \"nonsensical\", \"norland\", \"norland\", \"norland\", \"norland\", \"notre\", \"notre\", \"numero\", \"numero\", \"nun\", \"nun\", \"nun\", \"nun\", \"obeying\", \"obeying\", \"officers\", \"officers\", \"officers\", \"oh\", \"oh\", \"oh\", \"oh\", \"oh\", \"oh\", \"oh\", \"oh\", \"oh\", \"oh\", \"oh\", \"oh\", \"oh\", \"old\", \"old\", \"old\", \"old\", \"old\", \"old\", \"old\", \"old\", \"old\", \"old\", \"old\", \"old\", \"old\", \"old\", \"oratory\", \"oratory\", \"ou\", \"ou\", \"ou\", \"ou\", \"palmer\", \"palmer\", \"palmers\", \"panel\", \"panel\", \"panel\", \"papa\", \"papa\", \"papa\", \"papa\", \"papa\", \"papa\", \"papa\", \"papa\", \"papa\", \"papa\", \"papa\", \"paragraph\", \"paragraph\", \"paragraph\", \"paragraph\", \"paragraph\", \"paramount\", \"paramount\", \"paramount\", \"paramount\", \"parisian\", \"parisian\", \"parisian\", \"park\", \"park\", \"park\", \"park\", \"park\", \"park\", \"park\", \"park\", \"park\", \"park\", \"park\", \"park\", \"parties\", \"parties\", \"parties\", \"parties\", \"parties\", \"parties\", \"parties\", \"parties\", \"parties\", \"pas\", \"pas\", \"pas\", \"pas\", \"pas\", \"pas\", \"patrician\", \"patrician\", \"patrician\", \"patty\", \"paul\", \"paul\", \"paul\", \"paul\", \"paul\", \"paul\", \"paul\", \"paulina\", \"paulina\", \"paulina\", \"paulina\", \"paulina\", \"peak\", \"peak\", \"peak\", \"peak\", \"pelet\", \"pelet\", \"pelet\", \"pelet\", \"pelet\", \"pelet\", \"pelet\", \"pemberley\", \"pemberley\", \"pemberley\", \"pencil\", \"pencil\", \"pencil\", \"pencil\", \"pencil\", \"pencil\", \"pencil\", \"pensionnat\", \"pensionnat\", \"pensionnat\", \"pensionnat\", \"pensionnat\", \"pensionnat\", \"people\", \"people\", \"people\", \"people\", \"people\", \"people\", \"people\", \"people\", \"people\", \"people\", \"people\", \"people\", \"people\", \"people\", \"performances\", \"performances\", \"performances\", \"performances\", \"perry\", \"perry\", \"perry\", \"perry\", \"petit\", \"petit\", \"petit\", \"petit\", \"peut\", \"peut\", \"peut\", \"philanthropist\", \"philanthropist\", \"philanthropist\", \"philanthropist\", \"philanthropy\", \"philanthropy\", \"phillips\", \"phillips\", \"pictures\", \"pictures\", \"pictures\", \"pictures\", \"pictures\", \"pictures\", \"pictures\", \"pictures\", \"pictures\", \"pictures\", \"pictures\", \"pieces\", \"pieces\", \"pieces\", \"pieces\", \"pieces\", \"pieces\", \"pieces\", \"pierre\", \"pierre\", \"pile\", \"pilot\", \"pilot\", \"pilot\", \"place\", \"place\", \"place\", \"place\", \"place\", \"place\", \"place\", \"place\", \"place\", \"place\", \"place\", \"place\", \"place\", \"platform\", \"pleasure\", \"pleasure\", \"pleasure\", \"pleasure\", \"pleasure\", \"pleasure\", \"pleasure\", \"pleasure\", \"pleasure\", \"pleasure\", \"pleasure\", \"pleasure\", \"pleasure\", \"plebeian\", \"plebeian\", \"plebeian\", \"poet\", \"poet\", \"poet\", \"pomp\", \"pomp\", \"pomp\", \"pomp\", \"poole\", \"poole\", \"poor\", \"poor\", \"poor\", \"poor\", \"poor\", \"poor\", \"poor\", \"poor\", \"poor\", \"poor\", \"poor\", \"poor\", \"poor\", \"portfolio\", \"portfolio\", \"portfolio\", \"portfolio\", \"portfolio\", \"pounds\", \"pounds\", \"pounds\", \"pounds\", \"pounds\", \"pounds\", \"pounds\", \"pounds\", \"pounds\", \"pounds\", \"power\", \"power\", \"power\", \"power\", \"power\", \"power\", \"power\", \"power\", \"power\", \"power\", \"power\", \"power\", \"power\", \"power\", \"preparations\", \"preparations\", \"preparations\", \"preparations\", \"preparations\", \"pretty\", \"pretty\", \"pretty\", \"pretty\", \"pretty\", \"pretty\", \"pretty\", \"pretty\", \"pretty\", \"pretty\", \"pretty\", \"pretty\", \"pretty\", \"priest\", \"priest\", \"priest\", \"priest\", \"problem\", \"professional\", \"professional\", \"promptitude\", \"promptitude\", \"promptitude\", \"promptitude\", \"property\", \"property\", \"property\", \"property\", \"property\", \"property\", \"property\", \"property\", \"propre\", \"propre\", \"propre\", \"prose\", \"prose\", \"prose\", \"prose\", \"prosperity\", \"prosperity\", \"prosperity\", \"prosperity\", \"prosperity\", \"prosperity\", \"protestants\", \"protestants\", \"publicity\", \"publicity\", \"publicity\", \"publicity\", \"punctuality\", \"punctuality\", \"punctuality\", \"punctuality\", \"punctuality\", \"pupil\", \"pupil\", \"pupil\", \"pupil\", \"pupil\", \"pupil\", \"pupil\", \"pupil\", \"pupil\", \"pupils\", \"pupils\", \"pupils\", \"pupils\", \"pupils\", \"pupils\", \"pupils\", \"pushing\", \"pushing\", \"pushing\", \"pushing\", \"qu\", \"qu\", \"qu\", \"qu\", \"quarrelled\", \"quarrelled\", \"quarrelled\", \"quarrelled\", \"que\", \"que\", \"que\", \"que\", \"que\", \"quel\", \"quel\", \"rainbow\", \"rainbow\", \"rainbow\", \"randalls\", \"randalls\", \"randalls\", \"rats\", \"rats\", \"rats\", \"rays\", \"rays\", \"read\", \"read\", \"read\", \"read\", \"read\", \"read\", \"read\", \"read\", \"read\", \"read\", \"read\", \"read\", \"read\", \"read\", \"recital\", \"reckon\", \"reckon\", \"reckon\", \"reckon\", \"recurrence\", \"recurrence\", \"recurrence\", \"recurrence\", \"recurrence\", \"reed\", \"reed\", \"reed\", \"reed\", \"regiment\", \"regiment\", \"regiment\", \"regiment\", \"regularity\", \"regularity\", \"regularity\", \"relatives\", \"relatives\", \"relatives\", \"relatives\", \"reluctantly\", \"reluctantly\", \"reluctantly\", \"reluctantly\", \"reminiscences\", \"reminiscences\", \"reminiscences\", \"remnant\", \"replied\", \"replied\", \"replied\", \"replied\", \"replied\", \"replied\", \"replied\", \"replied\", \"replied\", \"replied\", \"replied\", \"replied\", \"reported\", \"reported\", \"reported\", \"reported\", \"repugnance\", \"repugnance\", \"repugnance\", \"repugnance\", \"resided\", \"resided\", \"resided\", \"resided\", \"resources\", \"resources\", \"resources\", \"resources\", \"resources\", \"resources\", \"resources\", \"rests\", \"rests\", \"reuter\", \"reuter\", \"reuter\", \"reuter\", \"reuter\", \"richard\", \"richard\", \"richard\", \"richard\", \"richer\", \"richer\", \"richer\", \"richer\", \"richmond\", \"riddle\", \"riddle\", \"riddle\", \"riddle\", \"rivers\", \"rivers\", \"rivers\", \"rivers\", \"rivers\", \"rivers\", \"robert\", \"robert\", \"robert\", \"robert\", \"robert\", \"rochester\", \"rochester\", \"rochester\", \"rochester\", \"rochester\", \"rochester\", \"rochester\", \"rochester\", \"rome\", \"rome\", \"rome\", \"rome\", \"rome\", \"rome\", \"rome\", \"room\", \"room\", \"room\", \"room\", \"room\", \"room\", \"room\", \"room\", \"room\", \"room\", \"room\", \"room\", \"room\", \"room\", \"rosamond\", \"rosamond\", \"rosine\", \"rosine\", \"rough\", \"rough\", \"rough\", \"rough\", \"rough\", \"rough\", \"rough\", \"round\", \"round\", \"round\", \"round\", \"round\", \"round\", \"round\", \"round\", \"round\", \"round\", \"round\", \"round\", \"round\", \"round\", \"rubber\", \"rubber\", \"rubber\", \"rue\", \"rue\", \"rue\", \"rue\", \"rue\", \"rue\", \"rumour\", \"rumour\", \"rumour\", \"rumour\", \"rumour\", \"rumour\", \"rumour\", \"sacrifices\", \"sacrifices\", \"sacrifices\", \"salary\", \"salary\", \"salary\", \"salary\", \"salary\", \"salary\", \"salary\", \"salary\", \"salary\", \"sarah\", \"sarah\", \"sarah\", \"sarcastic\", \"sarcastic\", \"sarcastic\", \"sarcastic\", \"saturday\", \"saturday\", \"saturday\", \"saturday\", \"saturday\", \"saw\", \"saw\", \"saw\", \"saw\", \"saw\", \"saw\", \"saw\", \"saw\", \"saw\", \"saw\", \"saw\", \"saw\", \"saw\", \"saw\", \"scarcely\", \"scarcely\", \"scarcely\", \"scarcely\", \"scarcely\", \"scarcely\", \"scarcely\", \"scarcely\", \"scarcely\", \"scarcely\", \"scarcely\", \"scatcherd\", \"scotch\", \"scotch\", \"scotch\", \"scotch\", \"scotch\", \"scotch\", \"scowled\", \"scowled\", \"scowled\", \"scrape\", \"scrape\", \"scrape\", \"scrape\", \"scrape\", \"scrupled\", \"scrupled\", \"scrupled\", \"scrupled\", \"sea\", \"sea\", \"sea\", \"sea\", \"sea\", \"sea\", \"sea\", \"sea\", \"sea\", \"sea\", \"seacombe\", \"seacombe\", \"seas\", \"seas\", \"seas\", \"secured\", \"secured\", \"secured\", \"secured\", \"secured\", \"secured\", \"secured\", \"secured\", \"secured\", \"secured\", \"self\", \"self\", \"self\", \"self\", \"self\", \"self\", \"self\", \"self\", \"self\", \"self\", \"self\", \"self\", \"selina\", \"selina\", \"serenity\", \"serenity\", \"serenity\", \"serenity\", \"shall\", \"shall\", \"shall\", \"shall\", \"shall\", \"shall\", \"shall\", \"shall\", \"shall\", \"shall\", \"shall\", \"shall\", \"shall\", \"shelves\", \"shelves\", \"shelves\", \"shire\", \"shire\", \"shire\", \"shire\", \"shire\", \"shire\", \"shire\", \"shire\", \"shire\", \"shrine\", \"shrine\", \"shudder\", \"shudder\", \"shudder\", \"sickening\", \"sickening\", \"sickly\", \"sickly\", \"sickly\", \"sickly\", \"sir\", \"sir\", \"sir\", \"sir\", \"sir\", \"sir\", \"sir\", \"sir\", \"sir\", \"sir\", \"sir\", \"sir\", \"sister\", \"sister\", \"sister\", \"sister\", \"sister\", \"sister\", \"sister\", \"sister\", \"sister\", \"sister\", \"sister\", \"sister\", \"sisters\", \"sisters\", \"sisters\", \"sisters\", \"sisters\", \"sisters\", \"sisters\", \"sisters\", \"sisters\", \"sisters\", \"sisters\", \"sixpence\", \"sixpence\", \"sixpence\", \"sixpence\", \"sketch\", \"sketch\", \"sketch\", \"sketch\", \"sketch\", \"sketch\", \"sketch\", \"sketch\", \"skies\", \"sleeper\", \"sleeve\", \"slippery\", \"slippery\", \"slippery\", \"slippery\", \"slippery\", \"smallridge\", \"smith\", \"smith\", \"smith\", \"smith\", \"smith\", \"smith\", \"sneered\", \"sneered\", \"society\", \"society\", \"society\", \"society\", \"society\", \"society\", \"society\", \"society\", \"society\", \"society\", \"society\", \"society\", \"society\", \"society\", \"soir\", \"soir\", \"soir\", \"soit\", \"soit\", \"somersetshire\", \"son\", \"son\", \"son\", \"son\", \"son\", \"son\", \"son\", \"son\", \"son\", \"son\", \"son\", \"soon\", \"soon\", \"soon\", \"soon\", \"soon\", \"soon\", \"soon\", \"soon\", \"soon\", \"soon\", \"soon\", \"soon\", \"soon\", \"soon\", \"soon\", \"sort\", \"sort\", \"sort\", \"sort\", \"sort\", \"sort\", \"sort\", \"sort\", \"sort\", \"sort\", \"sort\", \"sort\", \"sparkled\", \"sparkled\", \"sparkled\", \"sparkled\", \"speak\", \"speak\", \"speak\", \"speak\", \"speak\", \"speak\", \"speak\", \"speak\", \"speak\", \"speak\", \"speak\", \"speak\", \"spectacles\", \"spectacles\", \"spectacles\", \"spectacles\", \"spectacles\", \"spectacles\", \"spectacles\", \"spectral\", \"spirits\", \"spirits\", \"spirits\", \"spirits\", \"spirits\", \"spirits\", \"spirits\", \"spirits\", \"spirits\", \"spirits\", \"spirits\", \"spirits\", \"spirits\", \"st\", \"st\", \"st\", \"st\", \"st\", \"st\", \"st\", \"st\", \"st\", \"st\", \"sternly\", \"sternly\", \"stile\", \"stood\", \"stood\", \"stood\", \"stood\", \"stood\", \"stood\", \"stood\", \"stood\", \"stood\", \"stood\", \"stood\", \"storeroom\", \"storeroom\", \"storeroom\", \"storey\", \"storms\", \"storms\", \"storms\", \"strange\", \"strange\", \"strange\", \"strange\", \"strange\", \"strange\", \"strange\", \"strange\", \"strange\", \"strange\", \"strange\", \"strange\", \"submissive\", \"submissive\", \"submissive\", \"submissive\", \"submissive\", \"submissive\", \"subside\", \"subside\", \"sun\", \"sun\", \"sun\", \"sun\", \"sun\", \"sun\", \"sun\", \"sun\", \"suns\", \"suns\", \"superiority\", \"superiority\", \"superiority\", \"superiority\", \"superiority\", \"superiority\", \"superiority\", \"sure\", \"sure\", \"sure\", \"sure\", \"sure\", \"sure\", \"sure\", \"sure\", \"sure\", \"sure\", \"sure\", \"sure\", \"sure\", \"sure\", \"surgeon\", \"surgeon\", \"surgeon\", \"surgeon\", \"surprise\", \"surprise\", \"surprise\", \"surprise\", \"surprise\", \"surprise\", \"surprise\", \"surprise\", \"surprise\", \"surprize\", \"surprize\", \"surprize\", \"surprized\", \"surry\", \"surry\", \"swelled\", \"swelled\", \"swelled\", \"swelled\", \"swelled\", \"swelled\", \"swiss\", \"swiss\", \"swiss\", \"switzerland\", \"switzerland\", \"switzerland\", \"swung\", \"swung\", \"swung\", \"talents\", \"talents\", \"talents\", \"talents\", \"talents\", \"talents\", \"talents\", \"talents\", \"talker\", \"talker\", \"talker\", \"talker\", \"talker\", \"taylor\", \"taylor\", \"taylor\", \"teacher\", \"teacher\", \"teacher\", \"teacher\", \"teacher\", \"teacher\", \"teacher\", \"teacher\", \"teacher\", \"tell\", \"tell\", \"tell\", \"tell\", \"tell\", \"tell\", \"tell\", \"tell\", \"tell\", \"tell\", \"tell\", \"tell\", \"tell\", \"tell\", \"temple\", \"temple\", \"temple\", \"temple\", \"terrasse\", \"terrasse\", \"terrasse\", \"thing\", \"thing\", \"thing\", \"thing\", \"thing\", \"thing\", \"thing\", \"thing\", \"thing\", \"thing\", \"thing\", \"thing\", \"thing\", \"thing\", \"thing\", \"think\", \"think\", \"think\", \"think\", \"think\", \"think\", \"think\", \"think\", \"think\", \"think\", \"think\", \"think\", \"think\", \"think\", \"think\", \"thornfield\", \"thornfield\", \"thornfield\", \"thornfield\", \"thornfield\", \"thought\", \"thought\", \"thought\", \"thought\", \"thought\", \"thought\", \"thought\", \"thought\", \"thought\", \"thought\", \"thought\", \"thought\", \"thought\", \"thought\", \"thought\", \"thousand\", \"thousand\", \"thousand\", \"thousand\", \"thousand\", \"thousand\", \"thousand\", \"thousand\", \"thousand\", \"thousand\", \"thousand\", \"thousand\", \"thousand\", \"throne\", \"throne\", \"tied\", \"tied\", \"tied\", \"tied\", \"tied\", \"tied\", \"time\", \"time\", \"time\", \"time\", \"time\", \"time\", \"time\", \"time\", \"time\", \"time\", \"time\", \"time\", \"time\", \"time\", \"tints\", \"tints\", \"tints\", \"took\", \"took\", \"took\", \"took\", \"took\", \"took\", \"took\", \"took\", \"took\", \"took\", \"took\", \"took\", \"took\", \"took\", \"town\", \"town\", \"town\", \"town\", \"town\", \"town\", \"town\", \"town\", \"town\", \"town\", \"town\", \"town\", \"town\", \"town\", \"traced\", \"traced\", \"traced\", \"traced\", \"traced\", \"traced\", \"tranquilly\", \"tranquilly\", \"tranquilly\", \"tranquilly\", \"tranquilly\", \"treats\", \"treats\", \"treats\", \"triumphantly\", \"triumphantly\", \"triumphantly\", \"trod\", \"troop\", \"troop\", \"troop\", \"truths\", \"truths\", \"truths\", \"truths\", \"turned\", \"turned\", \"turned\", \"turned\", \"turned\", \"turned\", \"turned\", \"turned\", \"turned\", \"turned\", \"turned\", \"turned\", \"turned\", \"turned\", \"turned\", \"tutor\", \"tutor\", \"tutor\", \"tutor\", \"unceasing\", \"uncle\", \"uncle\", \"uncle\", \"uncle\", \"uncle\", \"uncle\", \"uncle\", \"uncle\", \"uncle\", \"uncle\", \"uncle\", \"uncle\", \"undone\", \"undone\", \"undone\", \"undone\", \"unfrequently\", \"unfrequently\", \"unfrequently\", \"unfrequently\", \"unhappiness\", \"unkind\", \"unkind\", \"unkind\", \"unkind\", \"unkind\", \"unmarried\", \"unmarried\", \"unprepared\", \"unprepared\", \"unprepared\", \"unprepared\", \"unwholesome\", \"unwholesome\", \"unwholesome\", \"unwholesome\", \"unwillingly\", \"vandenhuten\", \"vandenhuten\", \"varens\", \"vases\", \"vases\", \"vases\", \"vases\", \"ve\", \"ve\", \"ve\", \"ve\", \"ve\", \"ve\", \"ve\", \"ve\", \"veil\", \"veil\", \"veil\", \"veil\", \"veil\", \"veil\", \"vicar\", \"vicar\", \"vicar\", \"vicar\", \"victor\", \"victor\", \"victor\", \"villette\", \"villette\", \"villette\", \"villette\", \"villette\", \"violets\", \"visage\", \"visage\", \"visage\", \"visage\", \"visage\", \"voice\", \"voice\", \"voice\", \"voice\", \"voice\", \"voice\", \"voice\", \"voice\", \"voice\", \"voice\", \"voice\", \"voice\", \"voice\", \"voice\", \"volume\", \"volume\", \"volume\", \"volume\", \"volume\", \"vous\", \"vous\", \"vous\", \"vous\", \"vous\", \"walravens\", \"walravens\", \"walravens\", \"wanted\", \"wanted\", \"wanted\", \"wanted\", \"wanted\", \"wanted\", \"wanted\", \"wanted\", \"wanted\", \"wanted\", \"wanted\", \"wanted\", \"wanted\", \"wanted\", \"way\", \"way\", \"way\", \"way\", \"way\", \"way\", \"way\", \"way\", \"way\", \"way\", \"way\", \"way\", \"way\", \"way\", \"way\", \"went\", \"went\", \"went\", \"went\", \"went\", \"went\", \"went\", \"went\", \"went\", \"went\", \"went\", \"went\", \"went\", \"went\", \"weston\", \"weston\", \"weston\", \"weston\", \"weston\", \"weston\", \"weston\", \"weston\", \"wheel\", \"white\", \"white\", \"white\", \"white\", \"white\", \"white\", \"white\", \"white\", \"white\", \"white\", \"wickham\", \"wickham\", \"wider\", \"wider\", \"wider\", \"willoughby\", \"willoughby\", \"windows\", \"windows\", \"windows\", \"windows\", \"windows\", \"windows\", \"windows\", \"windows\", \"windows\", \"windsor\", \"winning\", \"winning\", \"wives\", \"wives\", \"wives\", \"wives\", \"wives\", \"wives\", \"woman\", \"woman\", \"woman\", \"woman\", \"woman\", \"woman\", \"woman\", \"woman\", \"woman\", \"woman\", \"woman\", \"woman\", \"woman\", \"wont\", \"wont\", \"wont\", \"woodhouse\", \"woodhouse\", \"woodhouse\", \"woodhouse\", \"woodhouse\", \"woodhouse\", \"word\", \"word\", \"word\", \"word\", \"word\", \"word\", \"word\", \"word\", \"word\", \"word\", \"word\", \"word\", \"word\", \"word\", \"word\", \"world\", \"world\", \"world\", \"world\", \"world\", \"world\", \"world\", \"world\", \"world\", \"world\", \"world\", \"world\", \"world\", \"world\", \"xvii\", \"xvii\", \"xvii\", \"xvii\", \"xvii\", \"year\", \"year\", \"year\", \"year\", \"year\", \"year\", \"year\", \"year\", \"year\", \"year\", \"year\", \"year\", \"year\", \"years\", \"years\", \"years\", \"years\", \"years\", \"years\", \"years\", \"years\", \"years\", \"years\", \"years\", \"years\", \"years\", \"years\", \"yes\", \"yes\", \"yes\", \"yes\", \"yes\", \"yes\", \"yes\", \"yes\", \"yes\", \"yes\", \"yes\", \"yes\", \"yes\", \"yes\", \"yorke\", \"yorke\", \"young\", \"young\", \"young\", \"young\", \"young\", \"young\", \"young\", \"young\", \"young\", \"young\", \"young\", \"young\", \"young\", \"young\", \"young\", \"zoraide\", \"zoraide\", \"zoraide\", \"zoraide\", \"zoraide\"]}, \"R\": 30, \"lambda.step\": 0.01, \"plot.opts\": {\"xlab\": \"PC1\", \"ylab\": \"PC2\"}, \"topic.order\": [11, 5, 12, 14, 6, 7, 3, 2, 8, 13, 9, 10, 4, 1, 15]};\n",
       "\n",
       "function LDAvis_load_lib(url, callback){\n",
       "  var s = document.createElement('script');\n",
       "  s.src = url;\n",
       "  s.async = true;\n",
       "  s.onreadystatechange = s.onload = callback;\n",
       "  s.onerror = function(){console.warn(\"failed to load library \" + url);};\n",
       "  document.getElementsByTagName(\"head\")[0].appendChild(s);\n",
       "}\n",
       "\n",
       "if(typeof(LDAvis) !== \"undefined\"){\n",
       "   // already loaded: just create the visualization\n",
       "   !function(LDAvis){\n",
       "       new LDAvis(\"#\" + \"ldavis_el24251406905405593604412797033\", ldavis_el24251406905405593604412797033_data);\n",
       "   }(LDAvis);\n",
       "}else if(typeof define === \"function\" && define.amd){\n",
       "   // require.js is available: use it to load d3/LDAvis\n",
       "   require.config({paths: {d3: \"https://cdnjs.cloudflare.com/ajax/libs/d3/3.5.5/d3.min\"}});\n",
       "   require([\"d3\"], function(d3){\n",
       "      window.d3 = d3;\n",
       "      LDAvis_load_lib(\"https://cdn.rawgit.com/bmabey/pyLDAvis/files/ldavis.v1.0.0.js\", function(){\n",
       "        new LDAvis(\"#\" + \"ldavis_el24251406905405593604412797033\", ldavis_el24251406905405593604412797033_data);\n",
       "      });\n",
       "    });\n",
       "}else{\n",
       "    // require.js not available: dynamically load d3 & LDAvis\n",
       "    LDAvis_load_lib(\"https://cdnjs.cloudflare.com/ajax/libs/d3/3.5.5/d3.min.js\", function(){\n",
       "         LDAvis_load_lib(\"https://cdn.rawgit.com/bmabey/pyLDAvis/files/ldavis.v1.0.0.js\", function(){\n",
       "                 new LDAvis(\"#\" + \"ldavis_el24251406905405593604412797033\", ldavis_el24251406905405593604412797033_data);\n",
       "            })\n",
       "         });\n",
       "}\n",
       "</script>"
      ],
      "text/plain": [
       "PreparedData(topic_coordinates=              x         y  topics  cluster       Freq\n",
       "topic                                                \n",
       "10    -0.045594 -0.020555       1        1  21.411949\n",
       "4     -0.077666 -0.055242       2        1  17.607441\n",
       "11     0.141288 -0.008635       3        1  16.260614\n",
       "13     0.104042 -0.014424       4        1  16.003267\n",
       "5      0.152210 -0.012565       5        1  10.043391\n",
       "6     -0.013861 -0.051117       6        1   6.805909\n",
       "2     -0.077657 -0.072669       7        1   3.625784\n",
       "1     -0.033810 -0.047089       8        1   2.328232\n",
       "7     -0.071731 -0.053929       9        1   1.555922\n",
       "12     0.095366  0.031604      10        1   1.282463\n",
       "8      0.052507  0.003884      11        1   1.224821\n",
       "9      0.006462  0.050561      12        1   0.866362\n",
       "3     -0.099428  0.027440      13        1   0.458783\n",
       "0     -0.046036  0.148620      14        1   0.262592\n",
       "14    -0.086093  0.074117      15        1   0.262464, topic_info=     Category         Freq          Term        Total  loglift  logprob\n",
       "90    Default   836.000000          emma   836.000000  30.0000  30.0000\n",
       "177   Default  1711.000000        little  1711.000000  29.0000  29.0000\n",
       "848   Default   931.000000          jane   931.000000  28.0000  28.0000\n",
       "1131  Default  1535.000000          miss  1535.000000  27.0000  27.0000\n",
       "414   Default  1318.000000          like  1318.000000  26.0000  26.0000\n",
       "495   Default  1312.000000         think  1312.000000  25.0000  25.0000\n",
       "1641  Default   657.000000     elizabeth   657.000000  24.0000  24.0000\n",
       "1197  Default   596.000000           sir   596.000000  23.0000  23.0000\n",
       "387   Default  1349.000000          good  1349.000000  22.0000  22.0000\n",
       "271   Default   776.000000         thing   776.000000  21.0000  21.0000\n",
       "169   Default  1437.000000          know  1437.000000  20.0000  20.0000\n",
       "913   Default   357.000000     rochester   357.000000  19.0000  19.0000\n",
       "195   Default   672.000000        mother   672.000000  18.0000  18.0000\n",
       "272   Default  1136.000000       thought  1136.000000  17.0000  17.0000\n",
       "681   Default   920.000000         shall   920.000000  16.0000  16.0000\n",
       "134   Default   510.000000       harriet   510.000000  15.0000  15.0000\n",
       "1297  Default   361.000000       fairfax   361.000000  14.0000  14.0000\n",
       "2119  Default   424.000000         darcy   424.000000  13.0000  13.0000\n",
       "702   Default   614.000000          sure   614.000000  12.0000  12.0000\n",
       "89    Default   370.000000         elton   370.000000  11.0000  11.0000\n",
       "496   Default  1315.000000          time  1315.000000  10.0000  10.0000\n",
       "2721  Default   695.000000        elinor   695.000000   9.0000   9.0000\n",
       "2745  Default   576.000000      marianne   576.000000   8.0000   8.0000\n",
       "179   Default   934.000000          long   934.000000   7.0000   7.0000\n",
       "509   Default   427.000000        weston   427.000000   6.0000   6.0000\n",
       "351   Default  1058.000000           day  1058.000000   5.0000   5.0000\n",
       "562   Default   587.000000          dear   587.000000   4.0000   4.0000\n",
       "434   Default   622.000000         night   622.000000   3.0000   3.0000\n",
       "2485  Default   272.000000      monsieur   272.000000   2.0000   2.0000\n",
       "148   Default   753.000000         house   753.000000   1.0000   1.0000\n",
       "...       ...          ...           ...          ...      ...      ...\n",
       "2198  Topic15     1.190997      capacity    21.045567   3.0709  -6.5377\n",
       "1831  Topic15     2.633591  mademoiselle   114.244537   2.1728  -5.7442\n",
       "1653  Topic15     1.194079      firmness    22.450714   3.0089  -6.5352\n",
       "1906  Topic15     1.775551        accent    53.255627   2.5418  -6.1384\n",
       "5422  Topic15     1.162460         hints    21.797037   3.0116  -6.5620\n",
       "6008  Topic15     1.547669      pictures    41.826523   2.6460  -6.2758\n",
       "1251  Topic15     2.444013          book   166.297699   1.7227  -5.8189\n",
       "1640  Topic15     1.620731         eliza    60.185520   2.3283  -6.2297\n",
       "2087  Topic15     1.125723        volume    23.958691   2.8849  -6.5941\n",
       "1138  Topic15     2.362272       natural   183.846130   1.5883  -5.8529\n",
       "318   Topic15     2.808140         asked   396.865570   0.9917  -5.6800\n",
       "70    Topic15     2.661508        course   340.516052   1.0912  -5.7336\n",
       "2788  Topic15     2.320188        wanted   233.277435   1.3322  -5.8709\n",
       "1061  Topic15     2.050826       english   223.400085   1.2521  -5.9943\n",
       "513   Topic15     2.330166          word   393.000793   0.8149  -5.8666\n",
       "678   Topic15     1.945652      scarcely   200.409058   1.3080  -6.0469\n",
       "387   Topic15     2.824734          good  1349.909790  -0.2266  -5.6741\n",
       "177   Topic15     2.958215        little  1711.303955  -0.4176  -5.6280\n",
       "169   Topic15     2.835806          know  1437.923218  -0.2858  -5.6702\n",
       "496   Topic15     2.785797          time  1315.128784  -0.2143  -5.6880\n",
       "472   Topic15     2.465275           saw   778.388672   0.1879  -5.8102\n",
       "351   Topic15     2.355209           day  1058.313354  -0.1650  -5.8559\n",
       "570   Topic15     1.910451         doubt   315.451508   0.8361  -6.0652\n",
       "217   Topic15     1.813323         power   248.782333   1.0214  -6.1174\n",
       "506   Topic15     1.853750         voice   395.435059   0.5800  -6.0953\n",
       "272   Topic15     1.949911       thought  1136.645020  -0.4252  -6.0448\n",
       "518   Topic15     1.882029         young   664.609863   0.0760  -6.0802\n",
       "416   Topic15     1.845962          look   637.397400   0.0984  -6.0995\n",
       "374   Topic15     1.834178          face   499.783569   0.3352  -6.1059\n",
       "181   Topic15     1.812909        looked   696.602539  -0.0085  -6.1176\n",
       "\n",
       "[1125 rows x 6 columns], token_table=      Topic      Freq           Term\n",
       "term                                \n",
       "0         3  0.958441          abbey\n",
       "6075      5  0.147771          abide\n",
       "6075      6  0.738854          abide\n",
       "1906      1  0.300438         accent\n",
       "1906      2  0.225328         accent\n",
       "1906      3  0.075109         accent\n",
       "1906      4  0.112664         accent\n",
       "1906      6  0.075109         accent\n",
       "1906      7  0.075109         accent\n",
       "1906      8  0.056332         accent\n",
       "1906      9  0.037555         accent\n",
       "1906     15  0.037555         accent\n",
       "2092      1  0.066858  acquaintances\n",
       "2092      3  0.066858  acquaintances\n",
       "2092      5  0.735443  acquaintances\n",
       "2092      6  0.066858  acquaintances\n",
       "4844      2  0.855206        actress\n",
       "734       1  0.838486          adele\n",
       "734       6  0.015108          adele\n",
       "734       9  0.015108          adele\n",
       "734      12  0.098201          adele\n",
       "734      13  0.015108          adele\n",
       "734      14  0.007554          adele\n",
       "4048      3  0.187652   administered\n",
       "4048      7  0.375303   administered\n",
       "4048      9  0.375303   administered\n",
       "6431      1  0.559911       adoption\n",
       "6431     12  0.373274       adoption\n",
       "6051      1  0.556189         aerial\n",
       "6051      2  0.185396         aerial\n",
       "...     ...       ...            ...\n",
       "517       7  0.016739            yes\n",
       "517       8  0.003348            yes\n",
       "517       9  0.028456            yes\n",
       "517      10  0.013391            yes\n",
       "517      11  0.010043            yes\n",
       "517      12  0.023435            yes\n",
       "517      13  0.003348            yes\n",
       "517      15  0.001674            yes\n",
       "7303      6  0.681070          yorke\n",
       "7303      8  0.227023          yorke\n",
       "518       1  0.135418          young\n",
       "518       2  0.124885          young\n",
       "518       3  0.258798          young\n",
       "518       4  0.162501          young\n",
       "518       5  0.185071          young\n",
       "518       6  0.042130          young\n",
       "518       7  0.018056          young\n",
       "518       8  0.030093          young\n",
       "518       9  0.004514          young\n",
       "518      10  0.010532          young\n",
       "518      11  0.012037          young\n",
       "518      12  0.006019          young\n",
       "518      13  0.003009          young\n",
       "518      14  0.001505          young\n",
       "518      15  0.003009          young\n",
       "5389      2  0.525994        zoraide\n",
       "5389      6  0.037571        zoraide\n",
       "5389      8  0.338139        zoraide\n",
       "5389     12  0.037571        zoraide\n",
       "5389     13  0.037571        zoraide\n",
       "\n",
       "[4380 rows x 3 columns], R=30, lambda_step=0.01, plot_opts={'xlab': 'PC1', 'ylab': 'PC2'}, topic_order=[11, 5, 12, 14, 6, 7, 3, 2, 8, 13, 9, 10, 4, 1, 15])"
      ]
     },
     "execution_count": 47,
     "metadata": {},
     "output_type": "execute_result"
    }
   ],
   "source": [
    "pyLDAvis.gensim.prepare(lda, corpus, id2word)"
   ]
  },
  {
   "cell_type": "markdown",
   "metadata": {},
   "source": [
    "### Overall Model / Documents"
   ]
  },
  {
   "cell_type": "code",
   "execution_count": 71,
   "metadata": {},
   "outputs": [
    {
     "data": {
      "text/plain": [
       "[(10, 0.1378439), (11, 0.77550125), (13, 0.084552065)]"
      ]
     },
     "execution_count": 71,
     "metadata": {},
     "output_type": "execute_result"
    }
   ],
   "source": [
    "lda[corpus[0]]"
   ]
  },
  {
   "cell_type": "code",
   "execution_count": 72,
   "metadata": {},
   "outputs": [],
   "source": [
    "distro = [lda[d] for d in corpus]"
   ]
  },
  {
   "cell_type": "code",
   "execution_count": 73,
   "metadata": {},
   "outputs": [
    {
     "data": {
      "text/plain": [
       "[(10, 0.13785224), (11, 0.7755348), (13, 0.08451018)]"
      ]
     },
     "execution_count": 73,
     "metadata": {},
     "output_type": "execute_result"
    }
   ],
   "source": [
    "distro[0]"
   ]
  },
  {
   "cell_type": "code",
   "execution_count": 74,
   "metadata": {},
   "outputs": [],
   "source": [
    "distro = [lda[d] for d in corpus]\n",
    "\n",
    "def update(doc):\n",
    "        d_dist = {k:0 for k in range(0,15)}\n",
    "        for t in doc:\n",
    "            d_dist[t[0]] = t[1]\n",
    "        return d_dist\n",
    "    \n",
    "new_distro = [update(d) for d in distro]"
   ]
  },
  {
   "cell_type": "code",
   "execution_count": 75,
   "metadata": {},
   "outputs": [
    {
     "data": {
      "text/plain": [
       "813"
      ]
     },
     "execution_count": 75,
     "metadata": {},
     "output_type": "execute_result"
    }
   ],
   "source": [
    "len(new_distro)"
   ]
  },
  {
   "cell_type": "code",
   "execution_count": 83,
   "metadata": {},
   "outputs": [
    {
     "data": {
      "text/html": [
       "<div>\n",
       "<style scoped>\n",
       "    .dataframe tbody tr th:only-of-type {\n",
       "        vertical-align: middle;\n",
       "    }\n",
       "\n",
       "    .dataframe tbody tr th {\n",
       "        vertical-align: top;\n",
       "    }\n",
       "\n",
       "    .dataframe thead th {\n",
       "        text-align: right;\n",
       "    }\n",
       "</style>\n",
       "<table border=\"1\" class=\"dataframe\">\n",
       "  <thead>\n",
       "    <tr style=\"text-align: right;\">\n",
       "      <th></th>\n",
       "      <th>tokens</th>\n",
       "      <th>author</th>\n",
       "      <th>book</th>\n",
       "      <th>section</th>\n",
       "    </tr>\n",
       "  </thead>\n",
       "  <tbody>\n",
       "    <tr>\n",
       "      <th>Austen_Emma0026</th>\n",
       "      <td>[she, found, that, he, was, only, his, an, of,...</td>\n",
       "      <td>1</td>\n",
       "      <td>Emma</td>\n",
       "      <td>26</td>\n",
       "    </tr>\n",
       "    <tr>\n",
       "      <th>Austen_Emma0032</th>\n",
       "      <td>[so, very, much, that, if, it, were, to, any, ...</td>\n",
       "      <td>1</td>\n",
       "      <td>Emma</td>\n",
       "      <td>32</td>\n",
       "    </tr>\n",
       "    <tr>\n",
       "      <th>CBronte_Villette0086</th>\n",
       "      <td>[the, there, the, on, the, but, where, was, th...</td>\n",
       "      <td>0</td>\n",
       "      <td>Villette</td>\n",
       "      <td>86</td>\n",
       "    </tr>\n",
       "    <tr>\n",
       "      <th>CBronte_Jane0099</th>\n",
       "      <td>[by, and, one, of, his, and, she, could, not, ...</td>\n",
       "      <td>0</td>\n",
       "      <td>Jane</td>\n",
       "      <td>99</td>\n",
       "    </tr>\n",
       "    <tr>\n",
       "      <th>CBronte_Villette0092</th>\n",
       "      <td>[on, the, the, first, the, of, not, what, as, ...</td>\n",
       "      <td>0</td>\n",
       "      <td>Villette</td>\n",
       "      <td>92</td>\n",
       "    </tr>\n",
       "  </tbody>\n",
       "</table>\n",
       "</div>"
      ],
      "text/plain": [
       "                                                                 tokens  \\\n",
       "Austen_Emma0026       [she, found, that, he, was, only, his, an, of,...   \n",
       "Austen_Emma0032       [so, very, much, that, if, it, were, to, any, ...   \n",
       "CBronte_Villette0086  [the, there, the, on, the, but, where, was, th...   \n",
       "CBronte_Jane0099      [by, and, one, of, his, and, she, could, not, ...   \n",
       "CBronte_Villette0092  [on, the, the, first, the, of, not, what, as, ...   \n",
       "\n",
       "                      author      book  section  \n",
       "Austen_Emma0026            1      Emma       26  \n",
       "Austen_Emma0032            1      Emma       32  \n",
       "CBronte_Villette0086       0  Villette       86  \n",
       "CBronte_Jane0099           0      Jane       99  \n",
       "CBronte_Villette0092       0  Villette       92  "
      ]
     },
     "execution_count": 83,
     "metadata": {},
     "output_type": "execute_result"
    }
   ],
   "source": [
    "df.head()"
   ]
  },
  {
   "cell_type": "code",
   "execution_count": 84,
   "metadata": {},
   "outputs": [],
   "source": [
    "df = pd.DataFrame.from_records(new_distro, index=titles)\n",
    "df.columns = topics\n",
    "df['author'] = df.reset_index()['index'].apply(lambda x: x.split('_')[0]).tolist()"
   ]
  },
  {
   "cell_type": "code",
   "execution_count": 85,
   "metadata": {},
   "outputs": [
    {
     "data": {
      "text/html": [
       "<div>\n",
       "<style scoped>\n",
       "    .dataframe tbody tr th:only-of-type {\n",
       "        vertical-align: middle;\n",
       "    }\n",
       "\n",
       "    .dataframe tbody tr th {\n",
       "        vertical-align: top;\n",
       "    }\n",
       "\n",
       "    .dataframe thead th {\n",
       "        text-align: right;\n",
       "    }\n",
       "</style>\n",
       "<table border=\"1\" class=\"dataframe\">\n",
       "  <thead>\n",
       "    <tr style=\"text-align: right;\">\n",
       "      <th></th>\n",
       "      <th>pounds mother sure think year</th>\n",
       "      <th>pelet thought like little man</th>\n",
       "      <th>madame little like day vous</th>\n",
       "      <th>night look like old est</th>\n",
       "      <th>little madame like thought know</th>\n",
       "      <th>elizabeth darcy miss bingley bennet</th>\n",
       "      <th>know jane life like long</th>\n",
       "      <th>frances monsieur hunsden little english</th>\n",
       "      <th>good little like emma elton</th>\n",
       "      <th>sir long jane rochester little</th>\n",
       "      <th>like little rochester miss room</th>\n",
       "      <th>emma miss harriet thing weston</th>\n",
       "      <th>jane emma little thing miss</th>\n",
       "      <th>elinor marianne sister mother time</th>\n",
       "      <th>monsieur henri georgiana mdlle little</th>\n",
       "      <th>author</th>\n",
       "    </tr>\n",
       "  </thead>\n",
       "  <tbody>\n",
       "    <tr>\n",
       "      <th>Austen_Emma0026</th>\n",
       "      <td>0.0</td>\n",
       "      <td>0.0</td>\n",
       "      <td>0.0</td>\n",
       "      <td>0.0</td>\n",
       "      <td>0.000000</td>\n",
       "      <td>0.000000</td>\n",
       "      <td>0.000000</td>\n",
       "      <td>0.0</td>\n",
       "      <td>0.0</td>\n",
       "      <td>0.0</td>\n",
       "      <td>0.137811</td>\n",
       "      <td>0.775370</td>\n",
       "      <td>0.0</td>\n",
       "      <td>0.084716</td>\n",
       "      <td>0.0</td>\n",
       "      <td>Austen</td>\n",
       "    </tr>\n",
       "    <tr>\n",
       "      <th>Austen_Emma0032</th>\n",
       "      <td>0.0</td>\n",
       "      <td>0.0</td>\n",
       "      <td>0.0</td>\n",
       "      <td>0.0</td>\n",
       "      <td>0.000000</td>\n",
       "      <td>0.000000</td>\n",
       "      <td>0.000000</td>\n",
       "      <td>0.0</td>\n",
       "      <td>0.0</td>\n",
       "      <td>0.0</td>\n",
       "      <td>0.000000</td>\n",
       "      <td>0.997455</td>\n",
       "      <td>0.0</td>\n",
       "      <td>0.000000</td>\n",
       "      <td>0.0</td>\n",
       "      <td>Austen</td>\n",
       "    </tr>\n",
       "    <tr>\n",
       "      <th>CBronte_Villette0086</th>\n",
       "      <td>0.0</td>\n",
       "      <td>0.0</td>\n",
       "      <td>0.0</td>\n",
       "      <td>0.0</td>\n",
       "      <td>0.215021</td>\n",
       "      <td>0.000000</td>\n",
       "      <td>0.782767</td>\n",
       "      <td>0.0</td>\n",
       "      <td>0.0</td>\n",
       "      <td>0.0</td>\n",
       "      <td>0.000000</td>\n",
       "      <td>0.000000</td>\n",
       "      <td>0.0</td>\n",
       "      <td>0.000000</td>\n",
       "      <td>0.0</td>\n",
       "      <td>CBronte</td>\n",
       "    </tr>\n",
       "    <tr>\n",
       "      <th>CBronte_Jane0099</th>\n",
       "      <td>0.0</td>\n",
       "      <td>0.0</td>\n",
       "      <td>0.0</td>\n",
       "      <td>0.0</td>\n",
       "      <td>0.000000</td>\n",
       "      <td>0.000000</td>\n",
       "      <td>0.522731</td>\n",
       "      <td>0.0</td>\n",
       "      <td>0.0</td>\n",
       "      <td>0.0</td>\n",
       "      <td>0.473158</td>\n",
       "      <td>0.000000</td>\n",
       "      <td>0.0</td>\n",
       "      <td>0.000000</td>\n",
       "      <td>0.0</td>\n",
       "      <td>CBronte</td>\n",
       "    </tr>\n",
       "    <tr>\n",
       "      <th>CBronte_Villette0092</th>\n",
       "      <td>0.0</td>\n",
       "      <td>0.0</td>\n",
       "      <td>0.0</td>\n",
       "      <td>0.0</td>\n",
       "      <td>0.561907</td>\n",
       "      <td>0.027239</td>\n",
       "      <td>0.000000</td>\n",
       "      <td>0.0</td>\n",
       "      <td>0.0</td>\n",
       "      <td>0.0</td>\n",
       "      <td>0.370954</td>\n",
       "      <td>0.038246</td>\n",
       "      <td>0.0</td>\n",
       "      <td>0.000000</td>\n",
       "      <td>0.0</td>\n",
       "      <td>CBronte</td>\n",
       "    </tr>\n",
       "  </tbody>\n",
       "</table>\n",
       "</div>"
      ],
      "text/plain": [
       "                      pounds mother sure think year  \\\n",
       "Austen_Emma0026                                 0.0   \n",
       "Austen_Emma0032                                 0.0   \n",
       "CBronte_Villette0086                            0.0   \n",
       "CBronte_Jane0099                                0.0   \n",
       "CBronte_Villette0092                            0.0   \n",
       "\n",
       "                      pelet thought like little man  \\\n",
       "Austen_Emma0026                                 0.0   \n",
       "Austen_Emma0032                                 0.0   \n",
       "CBronte_Villette0086                            0.0   \n",
       "CBronte_Jane0099                                0.0   \n",
       "CBronte_Villette0092                            0.0   \n",
       "\n",
       "                      madame little like day vous  night look like old est  \\\n",
       "Austen_Emma0026                               0.0                      0.0   \n",
       "Austen_Emma0032                               0.0                      0.0   \n",
       "CBronte_Villette0086                          0.0                      0.0   \n",
       "CBronte_Jane0099                              0.0                      0.0   \n",
       "CBronte_Villette0092                          0.0                      0.0   \n",
       "\n",
       "                      little madame like thought know  \\\n",
       "Austen_Emma0026                              0.000000   \n",
       "Austen_Emma0032                              0.000000   \n",
       "CBronte_Villette0086                         0.215021   \n",
       "CBronte_Jane0099                             0.000000   \n",
       "CBronte_Villette0092                         0.561907   \n",
       "\n",
       "                      elizabeth darcy miss bingley bennet  \\\n",
       "Austen_Emma0026                                  0.000000   \n",
       "Austen_Emma0032                                  0.000000   \n",
       "CBronte_Villette0086                             0.000000   \n",
       "CBronte_Jane0099                                 0.000000   \n",
       "CBronte_Villette0092                             0.027239   \n",
       "\n",
       "                      know jane life like long  \\\n",
       "Austen_Emma0026                       0.000000   \n",
       "Austen_Emma0032                       0.000000   \n",
       "CBronte_Villette0086                  0.782767   \n",
       "CBronte_Jane0099                      0.522731   \n",
       "CBronte_Villette0092                  0.000000   \n",
       "\n",
       "                      frances monsieur hunsden little english  \\\n",
       "Austen_Emma0026                                           0.0   \n",
       "Austen_Emma0032                                           0.0   \n",
       "CBronte_Villette0086                                      0.0   \n",
       "CBronte_Jane0099                                          0.0   \n",
       "CBronte_Villette0092                                      0.0   \n",
       "\n",
       "                      good little like emma elton  \\\n",
       "Austen_Emma0026                               0.0   \n",
       "Austen_Emma0032                               0.0   \n",
       "CBronte_Villette0086                          0.0   \n",
       "CBronte_Jane0099                              0.0   \n",
       "CBronte_Villette0092                          0.0   \n",
       "\n",
       "                      sir long jane rochester little  \\\n",
       "Austen_Emma0026                                  0.0   \n",
       "Austen_Emma0032                                  0.0   \n",
       "CBronte_Villette0086                             0.0   \n",
       "CBronte_Jane0099                                 0.0   \n",
       "CBronte_Villette0092                             0.0   \n",
       "\n",
       "                      like little rochester miss room  \\\n",
       "Austen_Emma0026                              0.137811   \n",
       "Austen_Emma0032                              0.000000   \n",
       "CBronte_Villette0086                         0.000000   \n",
       "CBronte_Jane0099                             0.473158   \n",
       "CBronte_Villette0092                         0.370954   \n",
       "\n",
       "                      emma miss harriet thing weston  \\\n",
       "Austen_Emma0026                             0.775370   \n",
       "Austen_Emma0032                             0.997455   \n",
       "CBronte_Villette0086                        0.000000   \n",
       "CBronte_Jane0099                            0.000000   \n",
       "CBronte_Villette0092                        0.038246   \n",
       "\n",
       "                      jane emma little thing miss  \\\n",
       "Austen_Emma0026                               0.0   \n",
       "Austen_Emma0032                               0.0   \n",
       "CBronte_Villette0086                          0.0   \n",
       "CBronte_Jane0099                              0.0   \n",
       "CBronte_Villette0092                          0.0   \n",
       "\n",
       "                      elinor marianne sister mother time  \\\n",
       "Austen_Emma0026                                 0.084716   \n",
       "Austen_Emma0032                                 0.000000   \n",
       "CBronte_Villette0086                            0.000000   \n",
       "CBronte_Jane0099                                0.000000   \n",
       "CBronte_Villette0092                            0.000000   \n",
       "\n",
       "                      monsieur henri georgiana mdlle little   author  \n",
       "Austen_Emma0026                                         0.0   Austen  \n",
       "Austen_Emma0032                                         0.0   Austen  \n",
       "CBronte_Villette0086                                    0.0  CBronte  \n",
       "CBronte_Jane0099                                        0.0  CBronte  \n",
       "CBronte_Villette0092                                    0.0  CBronte  "
      ]
     },
     "execution_count": 85,
     "metadata": {},
     "output_type": "execute_result"
    }
   ],
   "source": [
    "df.head()"
   ]
  },
  {
   "cell_type": "code",
   "execution_count": 86,
   "metadata": {},
   "outputs": [
    {
     "data": {
      "text/html": [
       "<div>\n",
       "<style scoped>\n",
       "    .dataframe tbody tr th:only-of-type {\n",
       "        vertical-align: middle;\n",
       "    }\n",
       "\n",
       "    .dataframe tbody tr th {\n",
       "        vertical-align: top;\n",
       "    }\n",
       "\n",
       "    .dataframe thead th {\n",
       "        text-align: right;\n",
       "    }\n",
       "</style>\n",
       "<table border=\"1\" class=\"dataframe\">\n",
       "  <thead>\n",
       "    <tr style=\"text-align: right;\">\n",
       "      <th></th>\n",
       "      <th>pounds mother sure think year</th>\n",
       "      <th>pelet thought like little man</th>\n",
       "      <th>madame little like day vous</th>\n",
       "      <th>night look like old est</th>\n",
       "      <th>little madame like thought know</th>\n",
       "      <th>elizabeth darcy miss bingley bennet</th>\n",
       "      <th>know jane life like long</th>\n",
       "      <th>frances monsieur hunsden little english</th>\n",
       "      <th>good little like emma elton</th>\n",
       "      <th>sir long jane rochester little</th>\n",
       "      <th>like little rochester miss room</th>\n",
       "      <th>emma miss harriet thing weston</th>\n",
       "      <th>jane emma little thing miss</th>\n",
       "      <th>elinor marianne sister mother time</th>\n",
       "      <th>monsieur henri georgiana mdlle little</th>\n",
       "    </tr>\n",
       "    <tr>\n",
       "      <th>author</th>\n",
       "      <th></th>\n",
       "      <th></th>\n",
       "      <th></th>\n",
       "      <th></th>\n",
       "      <th></th>\n",
       "      <th></th>\n",
       "      <th></th>\n",
       "      <th></th>\n",
       "      <th></th>\n",
       "      <th></th>\n",
       "      <th></th>\n",
       "      <th></th>\n",
       "      <th></th>\n",
       "      <th></th>\n",
       "      <th></th>\n",
       "    </tr>\n",
       "  </thead>\n",
       "  <tbody>\n",
       "    <tr>\n",
       "      <th>Austen</th>\n",
       "      <td>0.002680</td>\n",
       "      <td>0.005264</td>\n",
       "      <td>0.000558</td>\n",
       "      <td>0.000027</td>\n",
       "      <td>0.002224</td>\n",
       "      <td>0.229066</td>\n",
       "      <td>0.005129</td>\n",
       "      <td>0.000833</td>\n",
       "      <td>0.016319</td>\n",
       "      <td>0.005213</td>\n",
       "      <td>0.014229</td>\n",
       "      <td>0.352142</td>\n",
       "      <td>0.023068</td>\n",
       "      <td>0.340478</td>\n",
       "      <td>0.000000</td>\n",
       "    </tr>\n",
       "    <tr>\n",
       "      <th>CBronte</th>\n",
       "      <td>0.002808</td>\n",
       "      <td>0.035885</td>\n",
       "      <td>0.061155</td>\n",
       "      <td>0.008203</td>\n",
       "      <td>0.298077</td>\n",
       "      <td>0.005798</td>\n",
       "      <td>0.123299</td>\n",
       "      <td>0.026866</td>\n",
       "      <td>0.007873</td>\n",
       "      <td>0.012273</td>\n",
       "      <td>0.385654</td>\n",
       "      <td>0.005757</td>\n",
       "      <td>0.004656</td>\n",
       "      <td>0.014485</td>\n",
       "      <td>0.004485</td>\n",
       "    </tr>\n",
       "  </tbody>\n",
       "</table>\n",
       "</div>"
      ],
      "text/plain": [
       "         pounds mother sure think year  pelet thought like little man  \\\n",
       "author                                                                  \n",
       "Austen                        0.002680                       0.005264   \n",
       "CBronte                       0.002808                       0.035885   \n",
       "\n",
       "         madame little like day vous  night look like old est  \\\n",
       "author                                                          \n",
       "Austen                      0.000558                 0.000027   \n",
       "CBronte                     0.061155                 0.008203   \n",
       "\n",
       "         little madame like thought know  elizabeth darcy miss bingley bennet  \\\n",
       "author                                                                          \n",
       "Austen                          0.002224                             0.229066   \n",
       "CBronte                         0.298077                             0.005798   \n",
       "\n",
       "         know jane life like long  frances monsieur hunsden little english  \\\n",
       "author                                                                       \n",
       "Austen                   0.005129                                 0.000833   \n",
       "CBronte                  0.123299                                 0.026866   \n",
       "\n",
       "         good little like emma elton  sir long jane rochester little  \\\n",
       "author                                                                 \n",
       "Austen                      0.016319                        0.005213   \n",
       "CBronte                     0.007873                        0.012273   \n",
       "\n",
       "         like little rochester miss room  emma miss harriet thing weston  \\\n",
       "author                                                                     \n",
       "Austen                          0.014229                        0.352142   \n",
       "CBronte                         0.385654                        0.005757   \n",
       "\n",
       "         jane emma little thing miss  elinor marianne sister mother time  \\\n",
       "author                                                                     \n",
       "Austen                      0.023068                            0.340478   \n",
       "CBronte                     0.004656                            0.014485   \n",
       "\n",
       "         monsieur henri georgiana mdlle little  \n",
       "author                                          \n",
       "Austen                                0.000000  \n",
       "CBronte                               0.004485  "
      ]
     },
     "execution_count": 86,
     "metadata": {},
     "output_type": "execute_result"
    }
   ],
   "source": [
    "df.groupby('author').mean()"
   ]
  },
  {
   "cell_type": "markdown",
   "metadata": {},
   "source": [
    "## Challenge\n",
    "### *Can we see if one of the authors focus more on men than women?*\n",
    "\n",
    "*  Use Spacy for text preprocessing\n",
    "*  Extract the Named Entities from the documents using Spacy (command is fairly straight forward)\n",
    "*  Create unique list of names from the authors (you'll find that there are different types of named entities not all people)\n",
    "*  Label the names with genders (can you this by hand or you use the US census name lists)\n",
    "*  Customize your processing to replace the proper name with your gender from the previous step's lookup table\n",
    "*  Then follow the rest of the LDA flow\n"
   ]
  },
  {
   "cell_type": "markdown",
   "metadata": {},
   "source": [
    "# Selecting the Number of Topics (Learn)\n",
    "<a id=\"#p4\"></a>"
   ]
  },
  {
   "cell_type": "markdown",
   "metadata": {},
   "source": [
    "## Overview"
   ]
  },
  {
   "cell_type": "markdown",
   "metadata": {},
   "source": [
    "## Follow Along"
   ]
  },
  {
   "cell_type": "code",
   "execution_count": 87,
   "metadata": {},
   "outputs": [],
   "source": [
    "from gensim.models.coherencemodel import CoherenceModel\n",
    "\n",
    "def compute_coherence_values(dictionary, corpus, limit, start=2, step=3, passes=5):\n",
    "    \"\"\"\n",
    "    Compute c_v coherence for various number of topics\n",
    "\n",
    "    Parameters:\n",
    "    ----------\n",
    "    dictionary : Gensim dictionary\n",
    "    corpus : Gensim corpus\n",
    "    limit : Max num of topics\n",
    "    passes: the number of times the entire lda model & coherence values are calculated\n",
    "\n",
    "    Returns:\n",
    "    -------\n",
    "    coherence_values : Coherence values corresponding to the LDA model with respective number of topics\n",
    "    \"\"\"\n",
    "    \n",
    "    coherence_values = []\n",
    "    \n",
    "    for iter_ in range(passes):\n",
    "        for num_topics in range(start, limit, step):\n",
    "            model = LdaMulticore(corpus=corpus, num_topics=num_topics, id2word=dictionary, workers=4)\n",
    "            coherencemodel = CoherenceModel(model=model,dictionary=dictionary,corpus=corpus, coherence='u_mass')\n",
    "            coherence_values.append({'pass': iter_, \n",
    "                                     'num_topics': num_topics, \n",
    "                                     'coherence_score': coherencemodel.get_coherence()\n",
    "                                    })\n",
    "\n",
    "    return coherence_values"
   ]
  },
  {
   "cell_type": "code",
   "execution_count": null,
   "metadata": {},
   "outputs": [],
   "source": [
    "# Can take a long time to run.\n",
    "coherence_values = compute_coherence_values(dictionary=id2word, \n",
    "                                                        corpus=corpus,\n",
    "                                                        start=2, \n",
    "                                                        limit=40, \n",
    "                                                        step=2,\n",
    "                                                        passes=100)"
   ]
  },
  {
   "cell_type": "code",
   "execution_count": 89,
   "metadata": {},
   "outputs": [],
   "source": [
    "topic_coherence = pd.DataFrame.from_records(coherence_values)"
   ]
  },
  {
   "cell_type": "code",
   "execution_count": null,
   "metadata": {},
   "outputs": [],
   "source": []
  },
  {
   "cell_type": "code",
   "execution_count": null,
   "metadata": {},
   "outputs": [],
   "source": [
    "topic_coherence.head()"
   ]
  },
  {
   "cell_type": "code",
   "execution_count": null,
   "metadata": {},
   "outputs": [],
   "source": [
    "import seaborn as sns\n",
    "\n",
    "ax = sns.lineplot(x=\"num_topics\", y=\"coherence_score\", data=topic_coherence)"
   ]
  },
  {
   "cell_type": "code",
   "execution_count": null,
   "metadata": {},
   "outputs": [],
   "source": [
    "# Print the coherence scores\n",
    "for m, cv in zip(x, coherence_values):\n",
    "    print(\"Num Topics =\", m, \" has Coherence Value of\", round(cv, 4))"
   ]
  },
  {
   "cell_type": "code",
   "execution_count": null,
   "metadata": {},
   "outputs": [],
   "source": [
    "lda[id2word.doc2bow(tokenize(\"This is a sample document to score with a topic distribution.\"))]"
   ]
  },
  {
   "cell_type": "markdown",
   "metadata": {},
   "source": [
    "# Sources\n",
    "\n",
    "### *References*\n",
    "* [Andrew Ng et al paper on LDA](https://ai.stanford.edu/~ang/papers/jair03-lda.pdf)\n",
    "* On [Coherence](https://pdfs.semanticscholar.org/1521/8d9c029cbb903ae7c729b2c644c24994c201.pdf)\n",
    "\n",
    "### *Resources*\n",
    "\n",
    "* [Gensim](https://radimrehurek.com/gensim/): Python package for topic modeling, nlp, word vectorization, and few other things. Well maintained and well documented.\n",
    "* [Topic Modeling with Gensim](http://www.machinelearningplus.com/nlp/topic-modeling-gensim-python/#11createthedictionaryandcorpusneededfortopicmodeling): A kind of cookbook for LDA with gensim. Excellent overview, but the you need to be aware of missing import statements and assumed prior knowledge.\n",
    "* [Chinese Restuarant Process](https://en.wikipedia.org/wiki/Chinese_restaurant_process): That really obscure stats thing I mentioned... \n",
    "* [PyLDAvis](https://github.com/bmabey/pyLDAvis): Library for visualizing the topic model and performing some exploratory work. Works well. Has a direct parrell implementation in R as well. \n",
    "* [Rare Technologies](https://rare-technologies.com/): The people that made & maintain gensim and a few other libraries.\n",
    "* [Jane Austen v. Charlotte Bronte](https://www.literaryladiesguide.com/literary-musings/jane-austen-charlotte-bronte-different-alike/)"
   ]
  }
 ],
 "metadata": {
  "kernelspec": {
   "display_name": "U4-S1-NLP (Python3)",
   "language": "python",
   "name": "u4-s1-nlp"
  },
  "language_info": {
   "codemirror_mode": {
    "name": "ipython",
    "version": 3
   },
   "file_extension": ".py",
   "mimetype": "text/x-python",
   "name": "python",
   "nbconvert_exporter": "python",
   "pygments_lexer": "ipython3",
   "version": "3.7.0"
  }
 },
 "nbformat": 4,
 "nbformat_minor": 4
}
